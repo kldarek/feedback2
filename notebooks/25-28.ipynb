{
 "cells": [
  {
   "cell_type": "code",
   "execution_count": null,
   "id": "de6b7a9b-e32c-465f-81fc-0b1c20bc9cf7",
   "metadata": {},
   "outputs": [],
   "source": [
    "# !python hfexp.py --name HF-25 --lr 8e-6 --dropout 0.0 --seed 42 --randaug 0.05"
   ]
  },
  {
   "cell_type": "code",
   "execution_count": 7,
   "id": "cb3a8d79-0612-4dd1-9ff9-732e17194f2a",
   "metadata": {},
   "outputs": [
    {
     "name": "stdout",
     "output_type": "stream",
     "text": [
      "[0.58909010887146, 0.5951902270317078, 0.6009925603866577, 0.5971225500106812, 0.5918774008750916]\n"
     ]
    },
    {
     "data": {
      "text/plain": [
       "0.5948545694351196"
      ]
     },
     "execution_count": 7,
     "metadata": {},
     "output_type": "execute_result"
    }
   ],
   "source": [
    "exp_name = 'HF-25'\n",
    "import json\n",
    "from pathlib import Path\n",
    "best_metrics = []\n",
    "best_checkpoints = []\n",
    "\n",
    "for fold in range(5):\n",
    "    folder = Path(f\"../output/{exp_name}-fold{fold}\")\n",
    "    checkpoint = sorted(list(folder.glob(\"checkpoint*\")))[-1]\n",
    "    with open(checkpoint/\"trainer_state.json\", \"r\") as fp:\n",
    "        data = json.load(fp)\n",
    "        best_metrics.append(data[\"best_metric\"])\n",
    "        best_checkpoints.append(data[\"best_model_checkpoint\"])\n",
    "        \n",
    "print(best_metrics)\n",
    "average = sum(best_metrics)/len(best_metrics)\n",
    "average"
   ]
  },
  {
   "cell_type": "code",
   "execution_count": 8,
   "id": "6cafe297-6d6e-4056-b3b0-e9e2e5d882f1",
   "metadata": {},
   "outputs": [
    {
     "name": "stdout",
     "output_type": "stream",
     "text": [
      "Uploading ../output/HF-25-fold0/checkpoint-875/pytorch_model.bin\n",
      "Uploaded 1x1K3sDOEqhvIvsgZbD-HBg3wfJv9ukKB at 24.8 MB/s, total 1.7 GB\n",
      "Uploading ../output/HF-25-fold1/checkpoint-825/pytorch_model.bin\n",
      "Uploaded 1vTbp_5gzkrgmn27ojb5g6Xv5Eq7HnBWY at 25.8 MB/s, total 1.7 GB\n",
      "Uploading ../output/HF-25-fold2/checkpoint-850/pytorch_model.bin\n",
      "Uploaded 1y_BKocrkry3YxduZvkmmUaAWIKN4THHJ at 25.6 MB/s, total 1.7 GB\n",
      "Uploading ../output/HF-25-fold3/checkpoint-925/pytorch_model.bin\n",
      "Uploaded 1SDhfMf-xir-d72VQE5L7eQ2w2ei_1mvg at 26.1 MB/s, total 1.7 GB\n",
      "Uploading ../output/HF-25-fold4/checkpoint-650/pytorch_model.bin\n",
      "Uploaded 1VKoslB4Zb9Gx7FRn6l8bNlD-xlZu2t3X at 25.4 MB/s, total 1.7 GB\n"
     ]
    }
   ],
   "source": [
    "for fold in range(5):\n",
    "    folder = best_checkpoints[fold]\n",
    "    !~/gdrive upload {folder}/pytorch_model.bin --name pytorch_model_{fold}.bin"
   ]
  },
  {
   "cell_type": "code",
   "execution_count": null,
   "id": "a618b7c7-3ebf-46c3-81b5-4c4728b1532e",
   "metadata": {},
   "outputs": [],
   "source": [
    "# !python hfexp.py --name HF-26 --lr 1.5e-5 --dropout 0.0 --seed 42 --randaug 0.05"
   ]
  },
  {
   "cell_type": "code",
   "execution_count": 2,
   "id": "b3d0b342-cb37-461a-af60-65ce1e5eb746",
   "metadata": {},
   "outputs": [
    {
     "name": "stdout",
     "output_type": "stream",
     "text": [
      "[0.602255642414093, 0.6018357872962952, 0.5984587669372559, 0.5997081398963928, 0.5919443368911743]\n"
     ]
    },
    {
     "data": {
      "text/plain": [
       "0.5988405346870422"
      ]
     },
     "execution_count": 2,
     "metadata": {},
     "output_type": "execute_result"
    }
   ],
   "source": [
    "exp_name = 'HF-26'\n",
    "best_metrics = []\n",
    "best_checkpoints = []\n",
    "\n",
    "for fold in range(5):\n",
    "    folder = Path(f\"../output/{exp_name}-fold{fold}\")\n",
    "    checkpoint = sorted(list(folder.glob(\"checkpoint*\")))[-1]\n",
    "    with open(checkpoint/\"trainer_state.json\", \"r\") as fp:\n",
    "        data = json.load(fp)\n",
    "        best_metrics.append(data[\"best_metric\"])\n",
    "        best_checkpoints.append(data[\"best_model_checkpoint\"])\n",
    "        \n",
    "print(best_metrics)\n",
    "average = sum(best_metrics)/len(best_metrics)\n",
    "average"
   ]
  },
  {
   "cell_type": "code",
   "execution_count": null,
   "id": "f908956d-eb2d-4778-8991-68d33a0e2f4a",
   "metadata": {},
   "outputs": [],
   "source": [
    "# !python hfexp.py --name HF-27 --lr 2.5e-5 --dropout 0.0 --seed 42 --randaug 0.05"
   ]
  },
  {
   "cell_type": "code",
   "execution_count": 4,
   "id": "a171c3a8-6523-4ec2-ab45-4135a7d66ab0",
   "metadata": {},
   "outputs": [
    {
     "name": "stdout",
     "output_type": "stream",
     "text": [
      "[0.6089021563529968, 0.6039630770683289, 0.6167948842048645, 0.6061576008796692, 0.5963878631591797]\n"
     ]
    },
    {
     "data": {
      "text/plain": [
       "0.6064411163330078"
      ]
     },
     "execution_count": 4,
     "metadata": {},
     "output_type": "execute_result"
    }
   ],
   "source": [
    "exp_name = 'HF-27'\n",
    "best_metrics = []\n",
    "best_checkpoints = []\n",
    "\n",
    "for fold in range(5):\n",
    "    folder = Path(f\"../output/{exp_name}-fold{fold}\")\n",
    "    checkpoint = sorted(list(folder.glob(\"checkpoint*\")))[-1]\n",
    "    with open(checkpoint/\"trainer_state.json\", \"r\") as fp:\n",
    "        data = json.load(fp)\n",
    "        best_metrics.append(data[\"best_metric\"])\n",
    "        best_checkpoints.append(data[\"best_model_checkpoint\"])\n",
    "        \n",
    "print(best_metrics)\n",
    "average = sum(best_metrics)/len(best_metrics)\n",
    "average"
   ]
  },
  {
   "cell_type": "code",
   "execution_count": null,
   "id": "f3a33fe0-1cf6-4ac3-9453-44d6ba608472",
   "metadata": {},
   "outputs": [],
   "source": [
    "# !python hfexp.py --name HF-28 --lr 8e-6 --dropout 0.1 --seed 42 --randaug 0.05"
   ]
  },
  {
   "cell_type": "code",
   "execution_count": 10,
   "id": "8a75d72e-5d3c-4514-9389-192581205a18",
   "metadata": {},
   "outputs": [],
   "source": [
    "exp_name = 'HF-28'\n",
    "best_metrics = []\n",
    "best_checkpoints = []\n",
    "\n",
    "# for fold in range(4):\n",
    "#     folder = Path(f\"../output/{exp_name}-fold{fold}\")\n",
    "#     checkpoint = sorted(list(folder.glob(\"checkpoint*\")))[-1]\n",
    "#     with open(checkpoint/\"trainer_state.json\", \"r\") as fp:\n",
    "#         data = json.load(fp)\n",
    "#         best_metrics.append(data[\"best_metric\"])\n",
    "#         best_checkpoints.append(data[\"best_model_checkpoint\"])\n",
    "        \n",
    "# print(best_metrics)\n",
    "# average = sum(best_metrics)/len(best_metrics)\n",
    "# average"
   ]
  },
  {
   "cell_type": "code",
   "execution_count": null,
   "id": "4e3fa3e8-d57a-46c2-a0b8-f244c9e4ed55",
   "metadata": {},
   "outputs": [],
   "source": [
    "# !python hfexp.py --name HF-29 --lr 8e-6 --dropout 0.0 --seed 42 --randaug 0.0"
   ]
  },
  {
   "cell_type": "code",
   "execution_count": 11,
   "id": "dd70e0a1-48ef-4c85-99be-bfa07386c95d",
   "metadata": {},
   "outputs": [
    {
     "name": "stdout",
     "output_type": "stream",
     "text": [
      "[0.592540979385376, 0.5957620143890381, 0.6025588512420654, 0.6003382802009583]\n"
     ]
    },
    {
     "data": {
      "text/plain": [
       "0.5978000313043594"
      ]
     },
     "execution_count": 11,
     "metadata": {},
     "output_type": "execute_result"
    }
   ],
   "source": [
    "exp_name = 'HF-29'\n",
    "best_metrics = []\n",
    "best_checkpoints = []\n",
    "\n",
    "for fold in range(4):\n",
    "    folder = Path(f\"../output/{exp_name}-fold{fold}\")\n",
    "    checkpoint = sorted(list(folder.glob(\"checkpoint*\")))[-1]\n",
    "    with open(checkpoint/\"trainer_state.json\", \"r\") as fp:\n",
    "        data = json.load(fp)\n",
    "        best_metrics.append(data[\"best_metric\"])\n",
    "        best_checkpoints.append(data[\"best_model_checkpoint\"])\n",
    "        \n",
    "print(best_metrics)\n",
    "average = sum(best_metrics)/len(best_metrics)\n",
    "average"
   ]
  },
  {
   "cell_type": "code",
   "execution_count": null,
   "id": "bc692150-ac37-478c-a547-04bea20324fd",
   "metadata": {},
   "outputs": [],
   "source": [
    "# !python hfexp.py --name HF-30 --lr 8e-6 --dropout 0.0 --seed 42 --randaug 0.1"
   ]
  },
  {
   "cell_type": "code",
   "execution_count": 17,
   "id": "a3ce5f34-68fb-4346-9cac-ab6e63768605",
   "metadata": {},
   "outputs": [
    {
     "name": "stdout",
     "output_type": "stream",
     "text": [
      "[0.58482825756073, 0.5915773510932922, 0.6031050086021423, 0.59380704164505, 0.5924463272094727]\n"
     ]
    },
    {
     "data": {
      "text/plain": [
       "0.5931527972221374"
      ]
     },
     "execution_count": 17,
     "metadata": {},
     "output_type": "execute_result"
    }
   ],
   "source": [
    "exp_name = 'HF-30'\n",
    "best_metrics = []\n",
    "best_checkpoints = []\n",
    "\n",
    "for fold in range(5):\n",
    "    folder = Path(f\"../output/{exp_name}-fold{fold}\")\n",
    "    checkpoint = sorted(list(folder.glob(\"checkpoint*\")))[-1]\n",
    "    with open(checkpoint/\"trainer_state.json\", \"r\") as fp:\n",
    "        data = json.load(fp)\n",
    "        best_metrics.append(data[\"best_metric\"])\n",
    "        best_checkpoints.append(data[\"best_model_checkpoint\"])\n",
    "        \n",
    "print(best_metrics)\n",
    "average = sum(best_metrics)/len(best_metrics)\n",
    "average"
   ]
  },
  {
   "cell_type": "code",
   "execution_count": 18,
   "id": "c2694c57-4b60-4151-ab6d-f9b0c84c4838",
   "metadata": {},
   "outputs": [
    {
     "name": "stdout",
     "output_type": "stream",
     "text": [
      "Uploading ../output/HF-30-fold0/checkpoint-875/pytorch_model.bin\n",
      "Uploaded 1sdFAFhjKN0-PAO0gQI1fAbXh2V5KgvrH at 23.5 MB/s, total 1.7 GB\n",
      "Uploading ../output/HF-30-fold1/checkpoint-825/pytorch_model.bin\n",
      "Uploaded 199Sw0yd0tTT9y0VVLMtQZTwwsO6zuIFf at 25.2 MB/s, total 1.7 GB\n",
      "Uploading ../output/HF-30-fold2/checkpoint-775/pytorch_model.bin\n",
      "Uploaded 1BhMRo7I0X_YMvXiXOTiikJ_XPf5S85UC at 23.4 MB/s, total 1.7 GB\n",
      "Uploading ../output/HF-30-fold3/checkpoint-875/pytorch_model.bin\n",
      "Uploaded 1B37MNpBaMft32jS6QjAgAo-p0YkNFgyB at 24.7 MB/s, total 1.7 GB\n",
      "Uploading ../output/HF-30-fold4/checkpoint-650/pytorch_model.bin\n",
      "Uploaded 1Y0W1aj4WA65F-JtkgDQcLDlgZoTrOlja at 26.7 MB/s, total 1.7 GB\n"
     ]
    }
   ],
   "source": [
    "for fold in range(5):\n",
    "    folder = best_checkpoints[fold]\n",
    "    !~/gdrive upload {folder}/pytorch_model.bin --name pytorch_model_{fold}.bin"
   ]
  },
  {
   "cell_type": "code",
   "execution_count": null,
   "id": "921d9efc-ac4b-477b-9c09-6f2d271437ad",
   "metadata": {},
   "outputs": [],
   "source": [
    "# python hfexp.py --name HF-31 --lr 6e-6 --dropout 0.0 --seed 42 --randaug 0.05"
   ]
  },
  {
   "cell_type": "code",
   "execution_count": 16,
   "id": "e6ff35b9-50a5-4de6-9410-3b14934bb33b",
   "metadata": {},
   "outputs": [
    {
     "name": "stdout",
     "output_type": "stream",
     "text": [
      "[0.5892783403396606, 0.5951241254806519, 0.5994636416435242, 0.5958333015441895, 0.5952593684196472]\n"
     ]
    },
    {
     "data": {
      "text/plain": [
       "0.5949917554855346"
      ]
     },
     "execution_count": 16,
     "metadata": {},
     "output_type": "execute_result"
    }
   ],
   "source": [
    "exp_name = 'HF-31'\n",
    "best_metrics = []\n",
    "best_checkpoints = []\n",
    "\n",
    "for fold in range(5):\n",
    "    folder = Path(f\"../output/{exp_name}-fold{fold}\")\n",
    "    checkpoint = sorted(list(folder.glob(\"checkpoint*\")))[-1]\n",
    "    with open(checkpoint/\"trainer_state.json\", \"r\") as fp:\n",
    "        data = json.load(fp)\n",
    "        best_metrics.append(data[\"best_metric\"])\n",
    "        best_checkpoints.append(data[\"best_model_checkpoint\"])\n",
    "        \n",
    "print(best_metrics)\n",
    "average = sum(best_metrics)/len(best_metrics)\n",
    "average"
   ]
  },
  {
   "cell_type": "code",
   "execution_count": null,
   "id": "f06574bb-8653-471a-ab84-7b2f1fecab67",
   "metadata": {},
   "outputs": [],
   "source": [
    "# python hfexp.py --name HF-32 --lr 8e-6 --dropout 0.0 --seed 42 --randaug 0.15"
   ]
  },
  {
   "cell_type": "code",
   "execution_count": 19,
   "id": "ea03730c-87b8-4c64-bf5e-25abe1dd9882",
   "metadata": {},
   "outputs": [
    {
     "name": "stdout",
     "output_type": "stream",
     "text": [
      "[0.5838008522987366, 0.5951241850852966, 0.5989794135093689, 0.5918550491333008, 0.5922881364822388]\n"
     ]
    },
    {
     "data": {
      "text/plain": [
       "0.5924095273017883"
      ]
     },
     "execution_count": 19,
     "metadata": {},
     "output_type": "execute_result"
    }
   ],
   "source": [
    "exp_name = 'HF-32'\n",
    "best_metrics = []\n",
    "best_checkpoints = []\n",
    "\n",
    "for fold in range(5):\n",
    "    folder = Path(f\"../output/{exp_name}-fold{fold}\")\n",
    "    checkpoint = sorted(list(folder.glob(\"checkpoint*\")))[-1]\n",
    "    with open(checkpoint/\"trainer_state.json\", \"r\") as fp:\n",
    "        data = json.load(fp)\n",
    "        best_metrics.append(data[\"best_metric\"])\n",
    "        best_checkpoints.append(data[\"best_model_checkpoint\"])\n",
    "        \n",
    "print(best_metrics)\n",
    "average = sum(best_metrics)/len(best_metrics)\n",
    "average"
   ]
  },
  {
   "cell_type": "code",
   "execution_count": 20,
   "id": "bd4608de-8b45-4f7c-bc76-54390ca62070",
   "metadata": {},
   "outputs": [
    {
     "name": "stdout",
     "output_type": "stream",
     "text": [
      "Uploading ../output/HF-32-fold0/checkpoint-875/pytorch_model.bin\n",
      "Uploaded 1diMncrnp9aKFmlP-_WBizJ89bX23AVaL at 28.5 MB/s, total 1.7 GB\n",
      "Uploading ../output/HF-32-fold1/checkpoint-825/pytorch_model.bin\n",
      "Uploaded 1qINwiEjTr914NiCzZq0Yfh3tI7E4qYqS at 28.9 MB/s, total 1.7 GB\n",
      "Uploading ../output/HF-32-fold2/checkpoint-775/pytorch_model.bin\n",
      "Uploaded 1YDQacTSAOvDOGihZUyq1R99GELT_BsKz at 28.7 MB/s, total 1.7 GB\n",
      "Uploading ../output/HF-32-fold3/checkpoint-875/pytorch_model.bin\n",
      "Uploaded 1bY4WtHhEYWHe7mflnXZBOqRD6c0VGxiz at 28.1 MB/s, total 1.7 GB\n",
      "Uploading ../output/HF-32-fold4/checkpoint-650/pytorch_model.bin\n",
      "Uploaded 1L4-lB0ZgVTVC4TlU0FurI06XIARTmt3N at 27.2 MB/s, total 1.7 GB\n"
     ]
    }
   ],
   "source": [
    "for fold in range(5):\n",
    "    folder = best_checkpoints[fold]\n",
    "    !~/gdrive upload {folder}/pytorch_model.bin --name pytorch_model_{fold}.bin"
   ]
  },
  {
   "cell_type": "code",
   "execution_count": null,
   "id": "ea25028c-3c5b-4722-9e4f-cfeb68040789",
   "metadata": {},
   "outputs": [],
   "source": []
  }
 ],
 "metadata": {
  "kernelspec": {
   "display_name": "Python 3 (ipykernel)",
   "language": "python",
   "name": "python3"
  },
  "language_info": {
   "codemirror_mode": {
    "name": "ipython",
    "version": 3
   },
   "file_extension": ".py",
   "mimetype": "text/x-python",
   "name": "python",
   "nbconvert_exporter": "python",
   "pygments_lexer": "ipython3",
   "version": "3.8.13"
  }
 },
 "nbformat": 4,
 "nbformat_minor": 5
}
