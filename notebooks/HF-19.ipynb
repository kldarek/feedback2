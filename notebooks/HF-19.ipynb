{
 "cells": [
  {
   "cell_type": "code",
   "execution_count": 1,
   "id": "3313401c",
   "metadata": {},
   "outputs": [],
   "source": [
    "# HF-18 diff lr\n",
    "exp_name = \"HF-19\""
   ]
  },
  {
   "cell_type": "code",
   "execution_count": 2,
   "id": "f4d4f5dc-27fc-4f33-901a-5cbb2e6e5255",
   "metadata": {},
   "outputs": [
    {
     "name": "stdout",
     "output_type": "stream",
     "text": [
      "env: WANDB_PROJECT=fbck\n",
      "env: WANDB_SILENT=true\n"
     ]
    }
   ],
   "source": [
    "%env WANDB_PROJECT=fbck\n",
    "%env WANDB_SILENT=true"
   ]
  },
  {
   "cell_type": "code",
   "execution_count": 3,
   "id": "50b9e284-8eba-461a-90aa-850b47769502",
   "metadata": {},
   "outputs": [],
   "source": [
    "DEBUG = False\n",
    "k_folds = 2 if DEBUG else 5\n",
    "n_epochs = 1 if DEBUG else 3"
   ]
  },
  {
   "cell_type": "code",
   "execution_count": 4,
   "id": "9d726ae4",
   "metadata": {},
   "outputs": [],
   "source": [
    "cfg = {\n",
    "    \"num_proc\": 2,\n",
    "    \"k_folds\": k_folds,\n",
    "    \"max_length\": 2048,\n",
    "    \"padding\": False,\n",
    "    \"stride\": 0,\n",
    "    \"data_dir\": \"../input/feedback-prize-effectiveness\",\n",
    "    \"load_from_disk\": None,\n",
    "    \"pad_multiple\": 8,\n",
    "    \"model_name_or_path\": \"../output/HF-pret-1-fold0/checkpoint-9100/\",\n",
    "    \"dropout\": 0.1,\n",
    "    \"trainingargs\": {\n",
    "        \"output_dir\": f\"../output/{exp_name}\",\n",
    "        \"do_train\": True,\n",
    "        \"do_eval\": True,\n",
    "        \"per_device_train_batch_size\": 8,\n",
    "        \"per_device_eval_batch_size\": 1,\n",
    "        \"learning_rate\": 9e-6,\n",
    "        \"weight_decay\": 0.01,\n",
    "        \"num_train_epochs\": n_epochs,\n",
    "        \"warmup_ratio\": 0.1,\n",
    "        \"optim\": 'adamw_torch',\n",
    "        \"logging_steps\": 50,\n",
    "        \"save_strategy\": \"epoch\",\n",
    "        \"evaluation_strategy\": \"epoch\",\n",
    "        \"report_to\": \"wandb\",\n",
    "        \"group_by_length\": True,\n",
    "        \"save_total_limit\": 1,\n",
    "        \"metric_for_best_model\": \"loss\",\n",
    "        \"greater_is_better\": False,\n",
    "        \"seed\": 42,\n",
    "        \"fp16\": True,\n",
    "        \"gradient_checkpointing\": True,\n",
    "        \"gradient_accumulation_steps\": 1,\n",
    "    }\n",
    "}"
   ]
  },
  {
   "cell_type": "code",
   "execution_count": 5,
   "id": "55ff931f-3db3-4450-8fdb-d942ef97e7c5",
   "metadata": {},
   "outputs": [
    {
     "data": {
      "text/plain": [
       "9e-06"
      ]
     },
     "execution_count": 5,
     "metadata": {},
     "output_type": "execute_result"
    }
   ],
   "source": [
    "cfg[\"trainingargs\"][\"learning_rate\"]"
   ]
  },
  {
   "cell_type": "code",
   "execution_count": 6,
   "id": "f0ab1da7",
   "metadata": {},
   "outputs": [
    {
     "name": "stderr",
     "output_type": "stream",
     "text": [
      "/home/darek/mambaforge/envs/ml/lib/python3.8/site-packages/tqdm/auto.py:22: TqdmWarning: IProgress not found. Please update jupyter and ipywidgets. See https://ipywidgets.readthedocs.io/en/stable/user_install.html\n",
      "  from .autonotebook import tqdm as notebook_tqdm\n"
     ]
    }
   ],
   "source": [
    "import re\n",
    "import pickle\n",
    "import codecs\n",
    "import warnings\n",
    "import logging\n",
    "from functools import partial\n",
    "from pathlib import Path\n",
    "from itertools import chain\n",
    "from text_unidecode import unidecode\n",
    "from typing import Any, Optional, Tuple\n",
    "\n",
    "import pandas as pd\n",
    "from sklearn.model_selection import KFold\n",
    "from transformers import AutoTokenizer, set_seed\n",
    "\n",
    "from datasets import Dataset, load_from_disk\n",
    "\n",
    "def replace_encoding_with_utf8(error: UnicodeError) -> Tuple[bytes, int]:\n",
    "    return error.object[error.start : error.end].encode(\"utf-8\"), error.end\n",
    "\n",
    "def replace_decoding_with_cp1252(error: UnicodeError) -> Tuple[str, int]:\n",
    "    return error.object[error.start : error.end].decode(\"cp1252\"), error.end\n",
    "\n",
    "codecs.register_error(\"replace_encoding_with_utf8\", replace_encoding_with_utf8)\n",
    "codecs.register_error(\"replace_decoding_with_cp1252\", replace_decoding_with_cp1252)\n",
    "\n",
    "def resolve_encodings_and_normalize(text: str) -> str:\n",
    "    text = (\n",
    "        text.encode(\"raw_unicode_escape\")\n",
    "        .decode(\"utf-8\", errors=\"replace_decoding_with_cp1252\")\n",
    "        .encode(\"cp1252\", errors=\"replace_encoding_with_utf8\")\n",
    "        .decode(\"utf-8\", errors=\"replace_decoding_with_cp1252\")\n",
    "    )\n",
    "    text = unidecode(text)\n",
    "    return text\n",
    "\n",
    "def read_text_files(example, data_dir):\n",
    "    \n",
    "    id_ = example[\"essay_id\"]\n",
    "    \n",
    "    with open(data_dir / \"train\" / f\"{id_}.txt\", \"r\") as fp:\n",
    "        example[\"text\"] = resolve_encodings_and_normalize(fp.read())\n",
    "    \n",
    "    return example\n",
    "\n",
    "set_seed(cfg[\"trainingargs\"][\"seed\"])\n",
    "\n",
    "warnings.simplefilter('ignore')\n",
    "logging.disable(logging.WARNING)"
   ]
  },
  {
   "cell_type": "code",
   "execution_count": 7,
   "id": "5fed6561-cbbb-413f-9df4-383ce02b3869",
   "metadata": {},
   "outputs": [],
   "source": [
    "essay_folds = pd.read_csv('../input/feedback-effective-folds/essay_scores.csv')\n",
    "essay_folds.head()\n",
    "essay_folds_dict = {x:y for x,y in zip(essay_folds.essay_id.values.tolist(), essay_folds.fold.values.tolist())}"
   ]
  },
  {
   "cell_type": "code",
   "execution_count": 8,
   "id": "e162fb9a",
   "metadata": {},
   "outputs": [
    {
     "name": "stderr",
     "output_type": "stream",
     "text": [
      "Loading text files #0:   0%|                                                | 0/2096 [00:00<?, ?ex/s]\n",
      "Loading text files #0:  10%|███▊                                | 220/2096 [00:00<00:00, 2181.26ex/s]\u001b[A\n",
      "Loading text files #0:  21%|███████▌                            | 439/2096 [00:00<00:00, 2178.98ex/s]\u001b[A\n",
      "Loading text files #0:  32%|███████████▍                        | 663/2096 [00:00<00:00, 2203.86ex/s]\u001b[A\n",
      "Loading text files #1:  32%|███████████▍                        | 667/2095 [00:00<00:00, 2230.29ex/s]\u001b[A\n",
      "Loading text files #0:  42%|███████████████▏                    | 884/2096 [00:00<00:00, 2104.33ex/s]\u001b[A\n",
      "Loading text files #0:  52%|██████████████████▎                | 1096/2096 [00:00<00:00, 2098.69ex/s]\u001b[A\n",
      "Loading text files #0:  75%|██████████████████████████▏        | 1567/2096 [00:00<00:00, 2241.25ex/s]\u001b[A\n",
      "Loading text files #0:  87%|██████████████████████████████▍    | 1821/2096 [00:00<00:00, 2331.65ex/s]\u001b[A\n",
      "Loading text files #0: 100%|███████████████████████████████████| 2096/2096 [00:00<00:00, 2245.58ex/s]\u001b[A\n",
      "\n",
      "Loading text files #1: 100%|███████████████████████████████████| 2095/2095 [00:01<00:00, 2079.11ex/s]\u001b[A\n"
     ]
    }
   ],
   "source": [
    "data_dir = Path(cfg[\"data_dir\"])\n",
    "\n",
    "if cfg[\"load_from_disk\"]:\n",
    "    if not cfg[\"load_from_disk\"].endswith(\".dataset\"):\n",
    "        cfg[\"load_from_disk\"] += \".dataset\"\n",
    "    ds = load_from_disk(cfg[\"load_from_disk\"])\n",
    "    \n",
    "    pkl_file = f\"{cfg['load_from_disk'][:-len('.dataset')]}_pkl\"\n",
    "    with open(pkl_file, \"rb\") as fp: \n",
    "        grouped = pickle.load(fp)\n",
    "        \n",
    "    print(\"loading from saved files\")\n",
    "else:\n",
    "    train_df = pd.read_csv(data_dir / \"train.csv\")\n",
    "    \n",
    "    if DEBUG: train_df = train_df.sample(n=100).reset_index(drop=True)\n",
    "    \n",
    "    text_ds = Dataset.from_dict({\"essay_id\": train_df.essay_id.unique()})\n",
    "    \n",
    "    text_ds = text_ds.map(\n",
    "        partial(read_text_files, data_dir=data_dir),\n",
    "        num_proc=cfg[\"num_proc\"],\n",
    "        batched=False,\n",
    "        desc=\"Loading text files\",\n",
    "    )\n",
    "    \n",
    "    text_df = text_ds.to_pandas()\n",
    "    \n",
    "    train_df[\"discourse_text\"] = [\n",
    "        resolve_encodings_and_normalize(x) for x in train_df[\"discourse_text\"]\n",
    "    ]\n",
    "    \n",
    "    train_df = train_df.merge(text_df, on=\"essay_id\", how=\"left\")\n",
    "    \n",
    "disc_types = [\n",
    "    \"Claim\",\n",
    "    \"Concluding Statement\",\n",
    "    \"Counterclaim\",\n",
    "    \"Evidence\",\n",
    "    \"Lead\",\n",
    "    \"Position\",\n",
    "    \"Rebuttal\",\n",
    "]\n",
    "\n",
    "cls_tokens_map = {label: f\"[CLS_{label.upper()}]\" for label in disc_types}\n",
    "end_tokens_map = {label: f\"[END_{label.upper()}]\" for label in disc_types}\n",
    "\n",
    "label2id = {\n",
    "    \"Adequate\": 0,\n",
    "    \"Effective\": 1,\n",
    "    \"Ineffective\": 2,\n",
    "}\n",
    "\n",
    "tokenizer = AutoTokenizer.from_pretrained(cfg[\"model_name_or_path\"])\n",
    "tokenizer.add_special_tokens(\n",
    "    {\"additional_special_tokens\": list(cls_tokens_map.values())+list(end_tokens_map.values())}\n",
    ")\n",
    "\n",
    "cls_id_map = {\n",
    "    label: tokenizer.encode(tkn)[1]\n",
    "    for label, tkn in cls_tokens_map.items()\n",
    "}\n"
   ]
  },
  {
   "cell_type": "code",
   "execution_count": 9,
   "id": "b7eac95d",
   "metadata": {},
   "outputs": [],
   "source": [
    "def find_positions(example):\n",
    "\n",
    "    text = example[\"text\"][0]\n",
    "    \n",
    "    # keeps track of what has already\n",
    "    # been located\n",
    "    min_idx = 0\n",
    "    \n",
    "    # stores start and end indexes of discourse_texts\n",
    "    idxs = []\n",
    "    \n",
    "    for dt in example[\"discourse_text\"]:\n",
    "        # calling strip is essential\n",
    "        matches = list(re.finditer(re.escape(dt.strip()), text))\n",
    "        \n",
    "        # If there are multiple matches, take the first one\n",
    "        # that is past the previous discourse texts.\n",
    "        if len(matches) > 1:\n",
    "            for m in matches:\n",
    "                if m.start() >= min_idx:\n",
    "                    break\n",
    "        # If no matches are found\n",
    "        elif len(matches) == 0:\n",
    "            idxs.append([-1]) # will filter out later\n",
    "            continue  \n",
    "        # If one match is found\n",
    "        else:\n",
    "            m = matches[0]\n",
    "            \n",
    "        idxs.append([m.start(), m.end()])\n",
    "\n",
    "        min_idx = m.start()\n",
    "\n",
    "    return idxs\n",
    "\n",
    "def tokenize(example):\n",
    "    example[\"idxs\"] = find_positions(example)\n",
    "\n",
    "    text = example[\"text\"][0]\n",
    "    chunks = []\n",
    "    labels = []\n",
    "    prev = 0\n",
    "\n",
    "    zipped = zip(\n",
    "        example[\"idxs\"],\n",
    "        example[\"discourse_type\"],\n",
    "        example[\"discourse_effectiveness\"],\n",
    "    )\n",
    "    for idxs, disc_type, disc_effect in zipped:\n",
    "        # when the discourse_text wasn't found\n",
    "        if idxs == [-1]:\n",
    "            continue\n",
    "\n",
    "        s, e = idxs\n",
    "\n",
    "        # if the start of the current discourse_text is not \n",
    "        # at the end of the previous one.\n",
    "        # (text in between discourse_texts)\n",
    "        if s != prev:\n",
    "            chunks.append(text[prev:s])\n",
    "            prev = s\n",
    "\n",
    "        # if the start of the current discourse_text is \n",
    "        # the same as the end of the previous discourse_text\n",
    "        if s == prev:\n",
    "            chunks.append(cls_tokens_map[disc_type])\n",
    "            chunks.append(text[s:e])\n",
    "            chunks.append(end_tokens_map[disc_type])\n",
    "        \n",
    "        prev = e\n",
    "\n",
    "        labels.append(label2id[disc_effect])\n",
    "\n",
    "    tokenized = tokenizer(\n",
    "        \" \".join(chunks),\n",
    "        padding=False,\n",
    "        truncation=True,\n",
    "        max_length=cfg[\"max_length\"],\n",
    "        add_special_tokens=True,\n",
    "    )\n",
    "    \n",
    "    # at this point, labels is not the same shape as input_ids.\n",
    "    # The following loop will add -100 so that the loss function\n",
    "    # ignores all tokens except CLS tokens\n",
    "\n",
    "    # idx for labels list\n",
    "    idx = 0\n",
    "    final_labels = []\n",
    "    for id_ in tokenized[\"input_ids\"]:\n",
    "        # if this id belongs to a CLS token\n",
    "        if id_ in cls_id_map.values():\n",
    "            final_labels.append(labels[idx])\n",
    "            idx += 1\n",
    "        else:\n",
    "            # -100 will be ignored by loss function\n",
    "            final_labels.append(-100)\n",
    "    \n",
    "    tokenized[\"labels\"] = final_labels\n",
    "\n",
    "    return tokenized"
   ]
  },
  {
   "cell_type": "code",
   "execution_count": 10,
   "id": "aa086e9f-253d-49bf-a277-db3a7d4df72c",
   "metadata": {},
   "outputs": [],
   "source": [
    "def add_fold(example):\n",
    "    example[\"fold\"] = essay_folds_dict[example[\"essay_id\"]]\n",
    "    return example"
   ]
  },
  {
   "cell_type": "code",
   "execution_count": 11,
   "id": "1666ad3e",
   "metadata": {},
   "outputs": [
    {
     "name": "stderr",
     "output_type": "stream",
     "text": [
      "Tokenizing #0:   6%|██▌                                          | 122/2096 [00:00<00:12, 155.04ex/s]\n",
      "Tokenizing #0:   7%|███                                          | 142/2096 [00:00<00:11, 166.20ex/s]\u001b[A\n",
      "Tokenizing #0:   8%|███▌                                         | 164/2096 [00:00<00:10, 180.10ex/s]\u001b[A\n",
      "Tokenizing #0:   9%|███▉                                         | 183/2096 [00:01<00:10, 181.94ex/s]\u001b[A\n",
      "Tokenizing #0:  10%|████▎                                        | 202/2096 [00:01<00:10, 176.94ex/s]\u001b[A\n",
      "Tokenizing #0:  11%|████▊                                        | 224/2096 [00:01<00:09, 187.27ex/s]\u001b[A\n",
      "Tokenizing #0:  12%|█████▏                                       | 244/2096 [00:01<00:09, 190.08ex/s]\u001b[A\n",
      "Tokenizing #0:  13%|█████▋                                       | 264/2096 [00:01<00:10, 182.97ex/s]\u001b[A\n",
      "Tokenizing #0:  14%|██████                                       | 283/2096 [00:01<00:10, 178.73ex/s]\u001b[A\n",
      "Tokenizing #0:  14%|██████▍                                      | 302/2096 [00:01<00:09, 180.81ex/s]\u001b[A\n",
      "Tokenizing #0:  15%|██████▉                                      | 321/2096 [00:01<00:10, 173.30ex/s]\u001b[A\n",
      "Tokenizing #0:  16%|███████▎                                     | 343/2096 [00:01<00:09, 185.22ex/s]\u001b[A\n",
      "Tokenizing #0:  17%|███████▊                                     | 362/2096 [00:02<00:09, 176.11ex/s]\u001b[A\n",
      "Tokenizing #0:  18%|████████▏                                    | 380/2096 [00:02<00:09, 176.92ex/s]\u001b[A\n",
      "Tokenizing #0:  19%|████████▌                                    | 400/2096 [00:02<00:09, 181.41ex/s]\u001b[A\n",
      "Tokenizing #0:  20%|████████▉                                    | 419/2096 [00:02<00:09, 181.29ex/s]\u001b[A\n",
      "Tokenizing #0:  21%|█████████▍                                   | 439/2096 [00:02<00:08, 186.35ex/s]\u001b[A\n",
      "Tokenizing #0:  22%|█████████▊                                   | 458/2096 [00:02<00:09, 180.99ex/s]\u001b[A\n",
      "Tokenizing #0:  23%|██████████▏                                  | 477/2096 [00:02<00:08, 183.48ex/s]\u001b[A\n",
      "Tokenizing #0:  24%|██████████▋                                  | 497/2096 [00:02<00:08, 187.91ex/s]\u001b[A\n",
      "Tokenizing #0:  25%|███████████                                  | 516/2096 [00:02<00:08, 187.04ex/s]\u001b[A\n",
      "Tokenizing #0:  26%|███████████▍                                 | 535/2096 [00:03<00:08, 173.89ex/s]\u001b[A\n",
      "Tokenizing #0:  26%|███████████▉                                 | 554/2096 [00:03<00:08, 177.05ex/s]\u001b[A\n",
      "Tokenizing #0:  27%|████████████▎                                | 572/2096 [00:03<00:08, 174.08ex/s]\u001b[A\n",
      "Tokenizing #0:  28%|████████████▋                                | 590/2096 [00:03<00:08, 172.08ex/s]\u001b[A\n",
      "Tokenizing #0:  29%|█████████████                                | 609/2096 [00:03<00:08, 172.91ex/s]\u001b[A\n",
      "Tokenizing #0:  30%|█████████████▍                               | 627/2096 [00:03<00:08, 168.36ex/s]\u001b[A\n",
      "Tokenizing #0:  31%|█████████████▉                               | 647/2096 [00:03<00:08, 174.17ex/s]\u001b[A\n",
      "Tokenizing #0:  32%|██████████████▎                              | 665/2096 [00:03<00:08, 174.01ex/s]\u001b[A\n",
      "Tokenizing #0:  33%|██████████████▋                              | 683/2096 [00:03<00:08, 174.02ex/s]\u001b[A\n",
      "Tokenizing #0:  33%|███████████████                              | 701/2096 [00:03<00:08, 172.86ex/s]\u001b[A\n",
      "Tokenizing #0:  34%|███████████████▍                             | 721/2096 [00:04<00:07, 178.68ex/s]\u001b[A\n",
      "Tokenizing #0:  35%|███████████████▊                             | 739/2096 [00:04<00:07, 174.42ex/s]\u001b[A\n",
      "Tokenizing #0:  36%|████████████████▎                            | 759/2096 [00:04<00:07, 179.79ex/s]\u001b[A\n",
      "Tokenizing #0:  37%|████████████████▋                            | 779/2096 [00:04<00:07, 182.94ex/s]\u001b[A\n",
      "Tokenizing #0:  38%|█████████████████▏                           | 800/2096 [00:04<00:06, 187.77ex/s]\u001b[A\n",
      "Tokenizing #0:  39%|█████████████████▌                           | 819/2096 [00:04<00:06, 184.74ex/s]\u001b[A\n",
      "Tokenizing #0:  40%|█████████████████▉                           | 838/2096 [00:04<00:06, 181.69ex/s]\u001b[A\n",
      "Tokenizing #0:  41%|██████████████████▍                          | 857/2096 [00:04<00:07, 172.76ex/s]\u001b[A\n",
      "Tokenizing #0:  42%|██████████████████▊                          | 875/2096 [00:04<00:07, 173.73ex/s]\u001b[A\n",
      "Tokenizing #0:  43%|███████████████████▏                         | 893/2096 [00:05<00:06, 172.94ex/s]\u001b[A\n",
      "Tokenizing #0:  43%|███████████████████▌                         | 911/2096 [00:05<00:06, 172.46ex/s]\u001b[A\n",
      "Tokenizing #1:  37%|████████████████▌                            | 771/2095 [00:04<00:07, 176.74ex/s]\u001b[A\n",
      "Tokenizing #0:  44%|███████████████████▉                         | 929/2096 [00:05<00:09, 121.48ex/s]\u001b[A\n",
      "Tokenizing #0:  45%|████████████████████▎                        | 948/2096 [00:05<00:08, 135.96ex/s]\u001b[A\n",
      "Tokenizing #0:  46%|████████████████████▋                        | 964/2096 [00:05<00:08, 140.40ex/s]\u001b[A\n",
      "Tokenizing #0:  47%|█████████████████████▏                       | 984/2096 [00:05<00:07, 155.32ex/s]\u001b[A\n",
      "Tokenizing #1:  41%|██████████████████▍                          | 859/2095 [00:05<00:07, 163.83ex/s]\u001b[A\n",
      "Tokenizing #1:  42%|██████████████████▊                          | 876/2095 [00:05<00:07, 162.70ex/s]\u001b[A\n",
      "Tokenizing #1:  43%|███████████████████▏                         | 893/2095 [00:05<00:07, 162.61ex/s]\u001b[A\n",
      "Tokenizing #0:  49%|█████████████████████▍                      | 1019/2096 [00:06<00:10, 106.84ex/s]\u001b[A\n",
      "Tokenizing #0:  49%|█████████████████████▋                      | 1036/2096 [00:06<00:08, 118.61ex/s]\u001b[A\n",
      "Tokenizing #0:  50%|██████████████████████▏                     | 1054/2096 [00:06<00:07, 131.97ex/s]\u001b[A\n",
      "Tokenizing #0:  52%|██████████████████████▊                     | 1088/2096 [00:06<00:06, 147.09ex/s]\u001b[A\n",
      "Tokenizing #0:  55%|████████████████████████                    | 1146/2096 [00:06<00:05, 171.90ex/s]\u001b[A\n",
      "Tokenizing #0:  56%|████████████████████████▍                   | 1164/2096 [00:07<00:05, 168.46ex/s]\u001b[A\n",
      "Tokenizing #0:  56%|████████████████████████▊                   | 1183/2096 [00:07<00:05, 174.20ex/s]\u001b[A\n",
      "Tokenizing #0:  57%|█████████████████████████▏                  | 1201/2096 [00:07<00:05, 165.38ex/s]\u001b[A\n",
      "Tokenizing #0:  58%|█████████████████████████▌                  | 1219/2096 [00:07<00:05, 168.75ex/s]\u001b[A\n",
      "Tokenizing #0:  59%|█████████████████████████▉                  | 1238/2096 [00:07<00:04, 173.08ex/s]\u001b[A\n",
      "Tokenizing #0:  60%|██████████████████████████▍                 | 1257/2096 [00:07<00:04, 176.42ex/s]\u001b[A\n",
      "Tokenizing #0:  61%|██████████████████████████▊                 | 1277/2096 [00:07<00:04, 180.69ex/s]\u001b[A\n",
      "Tokenizing #0:  62%|███████████████████████████▎                | 1300/2096 [00:07<00:04, 189.46ex/s]\u001b[A\n",
      "Tokenizing #0:  63%|███████████████████████████▋                | 1319/2096 [00:07<00:04, 186.48ex/s]\u001b[A\n",
      "Tokenizing #0:  64%|████████████████████████████                | 1338/2096 [00:07<00:04, 183.65ex/s]\u001b[A\n",
      "Tokenizing #0:  65%|████████████████████████████▍               | 1357/2096 [00:08<00:04, 183.70ex/s]\u001b[A\n",
      "Tokenizing #0:  67%|█████████████████████████████▎              | 1399/2096 [00:08<00:03, 193.63ex/s]\u001b[A\n",
      "Tokenizing #1:  59%|█████████████████████████▋                  | 1226/2095 [00:07<00:05, 169.34ex/s]\u001b[A\n",
      "Tokenizing #0:  68%|█████████████████████████████▊              | 1419/2096 [00:08<00:03, 189.65ex/s]\u001b[A\n",
      "Tokenizing #0:  69%|██████████████████████████████▏             | 1438/2096 [00:08<00:03, 182.32ex/s]\u001b[A\n",
      "Tokenizing #0:  70%|██████████████████████████████▌             | 1457/2096 [00:08<00:03, 172.05ex/s]\u001b[A\n",
      "Tokenizing #0:  70%|██████████████████████████████▉             | 1476/2096 [00:08<00:03, 175.13ex/s]\u001b[A\n",
      "Tokenizing #0:  71%|███████████████████████████████▎            | 1494/2096 [00:08<00:03, 173.10ex/s]\u001b[A\n",
      "Tokenizing #0:  72%|███████████████████████████████▋            | 1512/2096 [00:08<00:03, 174.98ex/s]\u001b[A\n",
      "Tokenizing #0:  73%|████████████████████████████████            | 1530/2096 [00:09<00:03, 168.26ex/s]\u001b[A\n",
      "Tokenizing #0:  74%|████████████████████████████████▍           | 1548/2096 [00:09<00:03, 171.47ex/s]\u001b[A\n",
      "Tokenizing #0:  75%|████████████████████████████████▊           | 1566/2096 [00:09<00:03, 167.05ex/s]\u001b[A\n",
      "Tokenizing #0:  77%|█████████████████████████████████▋          | 1604/2096 [00:09<00:02, 176.88ex/s]\u001b[A\n",
      "Tokenizing #1:  68%|██████████████████████████████              | 1432/2095 [00:08<00:03, 171.57ex/s]\u001b[A\n",
      "Tokenizing #0:  77%|██████████████████████████████████          | 1622/2096 [00:09<00:02, 171.05ex/s]\u001b[A\n",
      "Tokenizing #0:  78%|██████████████████████████████████▍         | 1640/2096 [00:09<00:02, 169.45ex/s]\u001b[A\n",
      "Tokenizing #0:  79%|██████████████████████████████████▊         | 1660/2096 [00:09<00:02, 176.87ex/s]\u001b[A\n",
      "Tokenizing #0:  80%|███████████████████████████████████▎        | 1680/2096 [00:09<00:02, 182.52ex/s]\u001b[A\n",
      "Tokenizing #0:  81%|███████████████████████████████████▋        | 1699/2096 [00:10<00:02, 175.13ex/s]\u001b[A\n",
      "Tokenizing #0:  82%|████████████████████████████████████        | 1717/2096 [00:10<00:02, 174.49ex/s]\u001b[A\n",
      "Tokenizing #0:  83%|████████████████████████████████████▍       | 1735/2096 [00:10<00:02, 165.02ex/s]\u001b[A\n",
      "Tokenizing #0:  84%|████████████████████████████████████▊       | 1753/2096 [00:10<00:02, 168.57ex/s]\u001b[A\n",
      "Tokenizing #0:  84%|█████████████████████████████████████▏      | 1770/2096 [00:10<00:02, 161.57ex/s]\u001b[A\n",
      "Tokenizing #0:  85%|█████████████████████████████████████▌      | 1788/2096 [00:10<00:01, 164.54ex/s]\u001b[A\n",
      "Tokenizing #0:  86%|█████████████████████████████████████▉      | 1807/2096 [00:10<00:01, 169.81ex/s]\u001b[A\n",
      "Tokenizing #0:  87%|██████████████████████████████████████▎     | 1825/2096 [00:10<00:01, 164.11ex/s]\u001b[A\n",
      "Tokenizing #0:  88%|██████████████████████████████████████▋     | 1844/2096 [00:10<00:01, 170.58ex/s]\u001b[A\n",
      "Tokenizing #0:  90%|███████████████████████████████████████▌    | 1884/2096 [00:11<00:01, 183.89ex/s]\u001b[A\n",
      "Tokenizing #0:  91%|███████████████████████████████████████▉    | 1903/2096 [00:11<00:01, 185.56ex/s]\u001b[A\n",
      "Tokenizing #0:  92%|████████████████████████████████████████▎   | 1922/2096 [00:11<00:00, 182.72ex/s]\u001b[A\n",
      "Tokenizing #0:  93%|████████████████████████████████████████▋   | 1941/2096 [00:11<00:00, 176.32ex/s]\u001b[A\n",
      "Tokenizing #0:  93%|█████████████████████████████████████████   | 1959/2096 [00:11<00:00, 173.91ex/s]\u001b[A\n",
      "Tokenizing #0:  94%|█████████████████████████████████████████▌  | 1978/2096 [00:11<00:00, 177.65ex/s]\u001b[A\n",
      "Tokenizing #0:  95%|█████████████████████████████████████████▉  | 1996/2096 [00:11<00:00, 173.80ex/s]\u001b[A\n",
      "Tokenizing #1:  88%|██████████████████████████████████████▌     | 1834/2095 [00:11<00:01, 170.84ex/s]\u001b[A\n",
      "Tokenizing #1:  88%|██████████████████████████████████████▉     | 1852/2095 [00:11<00:01, 168.28ex/s]\u001b[A\n",
      "Tokenizing #1:  89%|███████████████████████████████████████▎    | 1871/2095 [00:11<00:01, 174.09ex/s]\u001b[A\n",
      "Tokenizing #0:  96%|███████████████████████████████████████████▏ | 2014/2096 [00:12<00:00, 96.99ex/s]\u001b[A\n",
      "Tokenizing #0:  97%|██████████████████████████████████████████▋ | 2033/2096 [00:12<00:00, 113.84ex/s]\u001b[A\n",
      "Tokenizing #0:  98%|███████████████████████████████████████████ | 2052/2096 [00:12<00:00, 129.02ex/s]\u001b[A\n",
      "Tokenizing #0:  99%|███████████████████████████████████████████▍| 2069/2096 [00:12<00:00, 134.97ex/s]\u001b[A\n",
      "Tokenizing #0: 100%|████████████████████████████████████████████| 2096/2096 [00:12<00:00, 166.14ex/s]\u001b[A\n",
      "\n",
      "Tokenizing #1:  94%|█████████████████████████████████████████▌  | 1979/2095 [00:11<00:00, 168.15ex/s]\u001b[A\n",
      "Tokenizing #1:  95%|█████████████████████████████████████████▉  | 1999/2095 [00:11<00:00, 176.64ex/s]\u001b[A\n",
      "Tokenizing #1:  96%|███████████████████████████████████████████▎ | 2017/2095 [00:12<00:00, 96.59ex/s]\u001b[A\n",
      "Tokenizing #1:  97%|██████████████████████████████████████████▋ | 2035/2095 [00:12<00:00, 111.84ex/s]\u001b[A\n",
      "Tokenizing #1:  98%|███████████████████████████████████████████▏| 2055/2095 [00:12<00:00, 129.63ex/s]\u001b[A\n",
      "Tokenizing #1: 100%|████████████████████████████████████████████| 2095/2095 [00:12<00:00, 164.16ex/s]\u001b[A\n"
     ]
    },
    {
     "name": "stdout",
     "output_type": "stream",
     "text": [
      "Saving dataset to disk: ../output/HF-19\n"
     ]
    }
   ],
   "source": [
    "# I frequently restart my notebook, so to reduce time\n",
    "# you can set this to just load the tokenized dataset from disk.\n",
    "# It gets loaded in the 3rd code cell, but a check is done here\n",
    "# to skip tokenizing\n",
    "if cfg[\"load_from_disk\"] is None:\n",
    "\n",
    "    # make lists of discourse_text, discourse_effectiveness\n",
    "    # for each essay\n",
    "    grouped = train_df.groupby([\"essay_id\"]).agg(list)\n",
    "\n",
    "    ds = Dataset.from_pandas(grouped)\n",
    "\n",
    "    ds = ds.map(\n",
    "        tokenize,\n",
    "        batched=False,\n",
    "        num_proc=cfg[\"num_proc\"],\n",
    "        desc=\"Tokenizing\",\n",
    "    )\n",
    "\n",
    "    save_dir = f\"{cfg['trainingargs']['output_dir']}\"\n",
    "    ds.save_to_disk(f\"{save_dir}.dataset\")\n",
    "    with open(f\"{save_dir}_pkl\", \"wb\") as fp:\n",
    "        pickle.dump(grouped, fp)\n",
    "    print(\"Saving dataset to disk:\", cfg['trainingargs']['output_dir'])\n",
    "    \n",
    "\n",
    "\n",
    "# # basic kfold \n",
    "# def get_folds(df, k_folds=5):\n",
    "\n",
    "#     kf = KFold(n_splits=k_folds)\n",
    "#     return [\n",
    "#         val_idx\n",
    "#         for _, val_idx in kf.split(df)\n",
    "#     ]\n",
    "\n",
    "# fold_idxs = get_folds(ds[\"labels\"], cfg[\"k_folds\"])"
   ]
  },
  {
   "cell_type": "code",
   "execution_count": 12,
   "id": "17ee608d-08aa-4097-bea6-ff76c5f261c4",
   "metadata": {},
   "outputs": [
    {
     "name": "stderr",
     "output_type": "stream",
     "text": [
      "100%|███████████████████████████████████████████████████████████| 4191/4191 [00:05<00:00, 837.27ex/s]\n"
     ]
    }
   ],
   "source": [
    "ds = ds.map(add_fold)"
   ]
  },
  {
   "cell_type": "code",
   "execution_count": 13,
   "id": "13d2e9bf",
   "metadata": {},
   "outputs": [
    {
     "name": "stdout",
     "output_type": "stream",
     "text": [
      "Num bad matches 1\n"
     ]
    }
   ],
   "source": [
    "bad_matches = []\n",
    "cls_ids = set(list(cls_id_map.values()))\n",
    "for id_, l, ids, dt in zip(ds[\"essay_id\"], ds[\"labels\"], ds[\"input_ids\"], grouped.discourse_text):\n",
    "    \n",
    "    # count number of labels (ignoring -100)\n",
    "    num_cls_label = sum([x!=-100 for x in l])\n",
    "    # count number of cls ids\n",
    "    num_cls_id = sum([x in cls_ids for x in ids])\n",
    "    # true number of discourse_texts\n",
    "    num_dt = len(dt)\n",
    "    \n",
    "    if num_cls_label != num_dt or num_cls_id != num_dt:\n",
    "        bad_matches.append((id_, l, ids, dt))\n",
    "        \n",
    "print(\"Num bad matches\", len(bad_matches))\n",
    "# temp = train_df[train_df[\"essay_id\"]==bad_matches[0][0]]\n",
    "# temp_txt = temp.text.values[0]\n",
    "# print(temp_txt)\n",
    "# print(\"*\"*100)\n",
    "# print([x for x in temp.discourse_text if x.strip() not in temp_txt])"
   ]
  },
  {
   "cell_type": "code",
   "execution_count": 14,
   "id": "b37ecf8c",
   "metadata": {},
   "outputs": [
    {
     "name": "stdout",
     "output_type": "stream",
     "text": [
      "Driverless cars are exaclty what you would expect them to be. Cars that will drive without a person actually behind the wheel controlling the actions of the vehicle. The idea of driverless cars going in to developement shows the amount of technological increase that the wolrd has made. The leader of this idea of driverless cars are the automobiles they call Google cars. The arduous task of creating safe driverless cars has not been fully mastered yet.  \n",
      "\n",
      "The developement of these cars should be stopped immediately because there are too many hazardous and dangerous events that could occur.  \n",
      "\n",
      "the driver will be alerted when they will need to take over the driving responsibilites of the car.  \n",
      "\n",
      "This is such a dangerous thing because we all know that whenever humans get their attention drawn in on something interesting it is hard to draw their focus somewhere else. The article explains that companies are trying to implement vibrations when the car is in trouble. Their are some people out there who do not feel vibrations and therefore would not be able to take control of the car when needed. The article also states that companies are trying to put in-car entertainment into the car while it is being driven. This is just another thing that will distract the person who is supposed to be ready at all times to take over driving when asked to do so.  \n",
      "\n",
      "Another thing that can go wrong with these cars is any type of techological malfucntion.  \n",
      "\n",
      "Every person with any kind of technological device has experienced some sort of error. Now imagine if your car has an error technologically and it takes the life of one your loved ones. The article talks about sensors around the car that read the surroundings of the car and that is what helps he car to drive without a true driver behind the wheel. Those sensors could have a malfunctions and be sensing something that is that even there and make a left turn into a 100 foot deep lake. The vibrations that cause the driver to be notified to drive could malfunction and now the driver has no way of knowing that the car is in trouble and now you, the driver, and the rest of your passengers are being buried in your local cemetery.  \n",
      "\n",
      "who to blame for the wreck if there were possibly some sort of technological malfunciton or even some sort of human error when taking over the driving aspect.  \n",
      "\n",
      "Should the manufacturer of the car be blamed or should it be the driver? No one knows because there is so many different factors that attribute to who to assign the blame to. Some of what will have to be made is a judgement call. When it comes to insurance and having to pay for any damages you do not want someone to have to make some sort of judgement call. What if that judgement call that was made was the wrong call? Now there are going to be even more lawsuits today in our courts than there already are. This problem alone will just lead to many more issues today in the world that should not have to be dealt with.  \n",
      "\n",
      "With all these things that could possibly go wrong with these driverless cars there is no way that the developement of them should continue any further. In today's society if something bad COULD happen or something COULD go wrong, it WILL happen, and it WILL go wrong. There are just way too many safety hazards that come along with these driverless cars. Becuase of all of these problems that arise with the cars it is just a gargantuan risk to implement these cars into our lifestyles.  \n",
      "\n",
      "****************************************************************************************************\n",
      "[CLS][CLS_LEAD] Driverless cars are exaclty what you would expect them to be. Cars that will drive without a person actually behind the wheel controlling the actions of the vehicle. The idea of driverless cars going in to developement shows the amount of technological increase that the wolrd has made. The leader of this idea of driverless cars are the automobiles they call Google cars. The arduous task of creating safe driverless cars has not been fully mastered yet.[END_LEAD][CLS_POSITION] The developement of these cars should be stopped immediately because there are too many hazardous and dangerous events that could occur.[END_POSITION] One thing that the article mentions is that[CLS_CLAIM] the driver will be alerted when they will need to take over the driving responsibilites of the car.[END_CLAIM][CLS_EVIDENCE] This is such a dangerous thing because we all know that whenever humans get their attention drawn in on something interesting it is hard to draw their focus somewhere else. The article explains that companies are trying to implement vibrations when the car is in trouble. Their are some people out there who do not feel vibrations and therefore would not be able to take control of the car when needed. The article also states that companies are trying to put in-car entertainment into the car while it is being driven. This is just another thing that will distract the person who is supposed to be ready at all times to take over driving when asked to do so.[END_EVIDENCE][CLS_CLAIM] Another thing that can go wrong with these cars is any type of techological malfucntion.[END_CLAIM][CLS_EVIDENCE] Every person with any kind of technological device has experienced some sort of error. Now imagine if your car has an error technologically and it takes the life of one your loved ones. The article talks about sensors around the car that read the surroundings of the car and that is what helps he car to drive without a true driver behind the wheel. Those sensors could have a malfunctions and be sensing something that is that even there and make a left turn into a 100 foot deep lake. The vibrations that cause the driver to be notified to drive could malfunction and now the driver has no way of knowing that the car is in trouble and now you, the driver, and the rest of your passengers are being buried in your local cemetery.[END_EVIDENCE] One last thing that the article mentions is negative about the developement of driverless cars is[CLS_CLAIM] who to blame for the wreck if there were possibly some sort of technological malfunciton or even some sort of human error when taking over the driving aspect.[END_CLAIM][CLS_EVIDENCE] Should the manufacturer of the car be blamed or should it be the driver? No one knows because there is so many different factors that attribute to who to assign the blame to. Some of what will have to be made is a judgement call. When it comes to insurance and having to pay for any damages you do not want someone to have to make some sort of judgement call. What if that judgement call that was made was the wrong call? Now there are going to be even more lawsuits today in our courts than there already are. This problem alone will just lead to many more issues today in the world that should not have to be dealt with.[END_EVIDENCE][CLS_CONCLUDING STATEMENT] With all these things that could possibly go wrong with these driverless cars there is no way that the developement of them should continue any further. In today's society if something bad COULD happen or something COULD go wrong, it WILL happen, and it WILL go wrong. There are just way too many safety hazards that come along with these driverless cars. Becuase of all of these problems that arise with the cars it is just a gargantuan risk to implement these cars into our lifestyles.[END_CONCLUDING STATEMENT][SEP]\n",
      "****************************************************************************************************\n",
      "Driverless cars are exaclty what you would expect them to be. Cars that will drive without a person actually behind the wheel controlling the actions of the vehicle. The idea of driverless cars going in to developement shows the amount of technological increase that the wolrd has made. The leader of this idea of driverless cars are the automobiles they call Google cars. The arduous task of creating safe driverless cars has not been fully mastered yet. The developement of these cars should be stopped immediately because there are too many hazardous and dangerous events that could occur.\n",
      "\n",
      "One thing that the article mentions is that the driver will be alerted when they will need to take over the driving responsibilites of the car. This is such a dangerous thing because we all know that whenever humans get their attention drawn in on something interesting it is hard to draw their focus somewhere else. The article explains that companies are trying to implement vibrations when the car is in trouble. Their are some people out there who do not feel vibrations and therefore would not be able to take control of the car when needed. The article also states that companies are trying to put in-car entertainment into the car while it is being driven. This is just another thing that will distract the person who is supposed to be ready at all times to take over driving when asked to do so.\n",
      "\n",
      "Another thing that can go wrong with these cars is any type of techological malfucntion. Every person with any kind of technological device has experienced some sort of error. Now imagine if your car has an error technologically and it takes the life of one your loved ones. The article talks about sensors around the car that read the surroundings of the car and that is what helps he car to drive without a true driver behind the wheel. Those sensors could have a malfunctions and be sensing something that is that even there and make a left turn into a 100 foot deep lake. The vibrations that cause the driver to be notified to drive could malfunction and now the driver has no way of knowing that the car is in trouble and now you, the driver, and the rest of your passengers are being buried in your local cemetery.\n",
      "\n",
      "One last thing that the article mentions is negative about the developement of driverless cars is who to blame for the wreck if there were possibly some sort of technological malfunciton or even some sort of human error when taking over the driving aspect. Should the manufacturer of the car be blamed or should it be the driver? No one knows because there is so many different factors that attribute to who to assign the blame to. Some of what will have to be made is a judgement call. When it comes to insurance and having to pay for any damages you do not want someone to have to make some sort of judgement call. What if that judgement call that was made was the wrong call? Now there are going to be even more lawsuits today in our courts than there already are. This problem alone will just lead to many more issues today in the world that should not have to be dealt with.\n",
      "\n",
      "With all these things that could possibly go wrong with these driverless cars there is no way that the developement of them should continue any further. In today's society if something bad COULD happen or something COULD go wrong, it WILL happen, and it WILL go wrong. There are just way too many safety hazards that come along with these driverless cars. Becuase of all of these problems that arise with the cars it is just a gargantuan risk to implement these cars into our lifestyles. \n"
     ]
    }
   ],
   "source": [
    "for t in ds[0][\"discourse_text\"]:\n",
    "    print(t, \"\\n\")\n",
    "print(\"*\"*100)\n",
    "print(tokenizer.decode(ds[0][\"input_ids\"]))\n",
    "print(\"*\"*100)\n",
    "print(ds[0][\"text\"][0])"
   ]
  },
  {
   "cell_type": "code",
   "execution_count": 15,
   "id": "b614006b-174c-4c48-b59f-4c5272308a70",
   "metadata": {},
   "outputs": [
    {
     "name": "stdout",
     "output_type": "stream",
     "text": [
      "4.20.1\n"
     ]
    }
   ],
   "source": [
    "import transformers\n",
    "print(transformers.__version__)"
   ]
  },
  {
   "cell_type": "code",
   "execution_count": 16,
   "id": "70634e92-34aa-488b-9140-f46477b798f4",
   "metadata": {},
   "outputs": [],
   "source": [
    "from transformers import AdamW\n",
    "from transformers import Trainer, TrainingArguments, AutoConfig, AutoModelForTokenClassification, DataCollatorForTokenClassification\n",
    "from transformers.utils import is_sagemaker_mp_enabled\n",
    "from transformers.trainer_pt_utils import get_parameter_names\n",
    "from transformers.trainer_utils import ShardedDDPOption\n",
    "from torch import nn\n",
    "\n",
    "\n",
    "\n",
    "class MyTrainer(Trainer): \n",
    "\n",
    "    def create_optimizer(self):\n",
    "        \"\"\"\n",
    "        Setup the optimizer.\n",
    "        We provide a reasonable default that works well. If you want to use something else, you can pass a tuple in the\n",
    "        Trainer's init through `optimizers`, or subclass and override this method in a subclass.\n",
    "        \"\"\"\n",
    "        opt_model = self.model_wrapped if is_sagemaker_mp_enabled() else self.model\n",
    "        \n",
    "        if self.optimizer is None:\n",
    "            decay_parameters = get_parameter_names(opt_model, [nn.LayerNorm])\n",
    "            decay_parameters = [name for name in decay_parameters if \"bias\" not in name]\n",
    "            optimizer_grouped_parameters = [\n",
    "                {\n",
    "                    \"params\": [p for n, p in opt_model.named_parameters() if (n in decay_parameters)\\\n",
    "                               and ('deberta' in n)],\n",
    "                    \"weight_decay\": self.args.weight_decay,\n",
    "                },\n",
    "                {\n",
    "                    \"params\": [p for n, p in opt_model.named_parameters() if (n in decay_parameters)\\\n",
    "                               and ('deberta' not in n)],\n",
    "                    \"weight_decay\": self.args.weight_decay,\n",
    "                    \"lr\": self.args.learning_rate * 5,\n",
    "                },\n",
    "                {\n",
    "                    \"params\": [p for n, p in opt_model.named_parameters() if (n not in decay_parameters)\\\n",
    "                              and ('deberta' in n)],\n",
    "                    \"weight_decay\": 0.0,\n",
    "                },\n",
    "                {\n",
    "                    \"params\": [p for n, p in opt_model.named_parameters() if (n not in decay_parameters)\\\n",
    "                              and ('deberta' not in n)],\n",
    "                    \"weight_decay\": 0.0,\n",
    "                    \"lr\": self.args.learning_rate * 5,\n",
    "                },\n",
    "            ]\n",
    "            \n",
    "            optimizer_cls, optimizer_kwargs = Trainer.get_optimizer_cls_and_kwargs(self.args)\n",
    "\n",
    "            if self.sharded_ddp == ShardedDDPOption.SIMPLE:\n",
    "                self.optimizer = OSS(\n",
    "                    params=optimizer_grouped_parameters,\n",
    "                    optim=optimizer_cls,\n",
    "                    **optimizer_kwargs,\n",
    "                )\n",
    "            else:\n",
    "                self.optimizer = optimizer_cls(optimizer_grouped_parameters, **optimizer_kwargs)\n",
    "                if optimizer_cls.__name__ == \"Adam8bit\":\n",
    "                    import bitsandbytes\n",
    "\n",
    "                    manager = bitsandbytes.optim.GlobalOptimManager.get_instance()\n",
    "\n",
    "                    for module in opt_model.modules():\n",
    "                        if isinstance(module, nn.Embedding):\n",
    "                            manager.register_module_override(module, \"weight\", {\"optim_bits\": 32})\n",
    "                            logger.debug(f\"bitsandbytes: will optimize {module} in fp32\")\n",
    "\n",
    "        if is_sagemaker_mp_enabled():\n",
    "            self.optimizer = smp.DistributedOptimizer(self.optimizer)\n",
    "\n",
    "        return self.optimizer"
   ]
  },
  {
   "cell_type": "code",
   "execution_count": 17,
   "id": "1f39a4d1",
   "metadata": {},
   "outputs": [
    {
     "name": "stderr",
     "output_type": "stream",
     "text": [
      "100%|██████████████████████████████████████████████████████████████████| 5/5 [00:03<00:00,  1.52ba/s]\n",
      "100%|██████████████████████████████████████████████████████████████████| 5/5 [00:03<00:00,  1.57ba/s]\n"
     ]
    },
    {
     "data": {
      "text/html": [
       "\n",
       "    <div>\n",
       "      \n",
       "      <progress value='1257' max='1257' style='width:300px; height:20px; vertical-align: middle;'></progress>\n",
       "      [1257/1257 15:29, Epoch 3/3]\n",
       "    </div>\n",
       "    <table border=\"1\" class=\"dataframe\">\n",
       "  <thead>\n",
       " <tr style=\"text-align: left;\">\n",
       "      <th>Epoch</th>\n",
       "      <th>Training Loss</th>\n",
       "      <th>Validation Loss</th>\n",
       "    </tr>\n",
       "  </thead>\n",
       "  <tbody>\n",
       "    <tr>\n",
       "      <td>1</td>\n",
       "      <td>0.717300</td>\n",
       "      <td>0.669873</td>\n",
       "    </tr>\n",
       "    <tr>\n",
       "      <td>2</td>\n",
       "      <td>0.590200</td>\n",
       "      <td>0.626373</td>\n",
       "    </tr>\n",
       "    <tr>\n",
       "      <td>3</td>\n",
       "      <td>0.507200</td>\n",
       "      <td>0.600733</td>\n",
       "    </tr>\n",
       "  </tbody>\n",
       "</table><p>"
      ],
      "text/plain": [
       "<IPython.core.display.HTML object>"
      ]
     },
     "metadata": {},
     "output_type": "display_data"
    },
    {
     "name": "stderr",
     "output_type": "stream",
     "text": [
      "100%|██████████████████████████████████████████████████████████████████| 5/5 [00:03<00:00,  1.58ba/s]\n",
      "100%|██████████████████████████████████████████████████████████████████| 5/5 [00:03<00:00,  1.54ba/s]\n"
     ]
    },
    {
     "data": {
      "text/html": [
       "\n",
       "    <div>\n",
       "      \n",
       "      <progress value='1260' max='1260' style='width:300px; height:20px; vertical-align: middle;'></progress>\n",
       "      [1260/1260 15:26, Epoch 3/3]\n",
       "    </div>\n",
       "    <table border=\"1\" class=\"dataframe\">\n",
       "  <thead>\n",
       " <tr style=\"text-align: left;\">\n",
       "      <th>Epoch</th>\n",
       "      <th>Training Loss</th>\n",
       "      <th>Validation Loss</th>\n",
       "    </tr>\n",
       "  </thead>\n",
       "  <tbody>\n",
       "    <tr>\n",
       "      <td>1</td>\n",
       "      <td>0.779200</td>\n",
       "      <td>0.665380</td>\n",
       "    </tr>\n",
       "    <tr>\n",
       "      <td>2</td>\n",
       "      <td>0.625300</td>\n",
       "      <td>0.593387</td>\n",
       "    </tr>\n",
       "    <tr>\n",
       "      <td>3</td>\n",
       "      <td>0.521500</td>\n",
       "      <td>0.608329</td>\n",
       "    </tr>\n",
       "  </tbody>\n",
       "</table><p>"
      ],
      "text/plain": [
       "<IPython.core.display.HTML object>"
      ]
     },
     "metadata": {},
     "output_type": "display_data"
    },
    {
     "name": "stderr",
     "output_type": "stream",
     "text": [
      "100%|██████████████████████████████████████████████████████████████████| 5/5 [00:03<00:00,  1.56ba/s]\n",
      "100%|██████████████████████████████████████████████████████████████████| 5/5 [00:03<00:00,  1.54ba/s]\n"
     ]
    },
    {
     "data": {
      "text/html": [
       "\n",
       "    <div>\n",
       "      \n",
       "      <progress value='366' max='1260' style='width:300px; height:20px; vertical-align: middle;'></progress>\n",
       "      [ 366/1260 03:32 < 08:41, 1.71 it/s, Epoch 0.87/3]\n",
       "    </div>\n",
       "    <table border=\"1\" class=\"dataframe\">\n",
       "  <thead>\n",
       " <tr style=\"text-align: left;\">\n",
       "      <th>Epoch</th>\n",
       "      <th>Training Loss</th>\n",
       "      <th>Validation Loss</th>\n",
       "    </tr>\n",
       "  </thead>\n",
       "  <tbody>\n",
       "  </tbody>\n",
       "</table><p>"
      ],
      "text/plain": [
       "<IPython.core.display.HTML object>"
      ]
     },
     "metadata": {},
     "output_type": "display_data"
    },
    {
     "name": "stderr",
     "output_type": "stream",
     "text": [
      "IOPub message rate exceeded.\n",
      "The Jupyter server will temporarily stop sending output\n",
      "to the client in order to avoid crashing it.\n",
      "To change this limit, set the config variable\n",
      "`--ServerApp.iopub_msg_rate_limit`.\n",
      "\n",
      "Current values:\n",
      "ServerApp.iopub_msg_rate_limit=1000.0 (msgs/sec)\n",
      "ServerApp.rate_limit_window=3.0 (secs)\n",
      "\n"
     ]
    }
   ],
   "source": [
    "import gc\n",
    "import torch\n",
    "from torch.utils.checkpoint import checkpoint\n",
    "import wandb\n",
    "\n",
    "args = TrainingArguments(**cfg[\"trainingargs\"])\n",
    "\n",
    "# if using longformer pad to multiple of 512\n",
    "# for others pad to multiple of 8\n",
    "\n",
    "collator = DataCollatorForTokenClassification(\n",
    "    tokenizer=tokenizer, pad_to_multiple_of=cfg[\"pad_multiple\"], padding=True\n",
    ")\n",
    "\n",
    "output = args.output_dir\n",
    "for fold in range(cfg[\"k_folds\"]):\n",
    "    \n",
    "    args.output_dir = f\"{output}-fold{fold}\"\n",
    "    \n",
    "    model_config = AutoConfig.from_pretrained(\n",
    "        cfg[\"model_name_or_path\"],\n",
    "    )\n",
    "    model_config.update(\n",
    "        {\n",
    "            \"num_labels\": 3,\n",
    "            \"cls_tokens\": list(cls_id_map.values()),\n",
    "            \"label2id\": label2id,\n",
    "            \"id2label\": {v:k for k, v in label2id.items()},\n",
    "        }\n",
    "    )\n",
    "    \n",
    "    model = AutoModelForTokenClassification.from_pretrained(cfg[\"model_name_or_path\"], config=model_config)\n",
    "    \n",
    "    # need to resize embeddings because of added tokens\n",
    "    model.resize_token_embeddings(len(tokenizer))\n",
    "    \n",
    "    # split dataset to train and eval\n",
    "    keep_cols = {\"input_ids\", \"attention_mask\", \"labels\"}\n",
    "    train_dataset = ds.filter(lambda example: example[\"fold\"] != fold).remove_columns([c for c in ds.column_names if c not in keep_cols])\n",
    "    eval_dataset = ds.filter(lambda example: example[\"fold\"] == fold).remove_columns([c for c in ds.column_names if c not in keep_cols])\n",
    "        \n",
    "    wandb.init(project=\"fbck\", \n",
    "           name=f\"{exp_name}_fold_{fold}\",\n",
    "           tags=[\"HF\", f\"fold_{fold}\"],\n",
    "           group=f\"{exp_name}\")\n",
    "    \n",
    "    trainer = MyTrainer(\n",
    "        model=model,\n",
    "        args=args,\n",
    "        train_dataset=train_dataset,\n",
    "        eval_dataset=eval_dataset,\n",
    "        tokenizer=tokenizer,\n",
    "        data_collator=collator,\n",
    "    )\n",
    "    \n",
    "    trainer.train()\n",
    "    wandb.finish()\n",
    "    \n",
    "    del model\n",
    "    gc.collect()\n",
    "    torch.cuda.empty_cache()"
   ]
  },
  {
   "cell_type": "code",
   "execution_count": 22,
   "id": "196bbcd6",
   "metadata": {},
   "outputs": [
    {
     "name": "stdout",
     "output_type": "stream",
     "text": [
      "[0.6007332801818848, 0.5933871269226074, 0.6175913214683533, 0.6326693892478943, 0.6090855598449707]\n"
     ]
    },
    {
     "data": {
      "text/plain": [
       "0.6106933355331421"
      ]
     },
     "execution_count": 22,
     "metadata": {},
     "output_type": "execute_result"
    }
   ],
   "source": [
    "import json\n",
    "best_metrics = []\n",
    "\n",
    "for fold in range(cfg[\"k_folds\"]):\n",
    "    folder = Path(f\"../output/{exp_name}-fold{fold}\")\n",
    "    checkpoint = sorted(list(folder.glob(\"checkpoint*\")))[-1]\n",
    "    with open(checkpoint/\"trainer_state.json\", \"r\") as fp:\n",
    "        data = json.load(fp)\n",
    "        best_metrics.append(data[\"best_metric\"])\n",
    "        \n",
    "print(best_metrics)\n",
    "average = sum(best_metrics)/len(best_metrics)\n",
    "average"
   ]
  },
  {
   "cell_type": "code",
   "execution_count": 23,
   "id": "15f054df-814b-4103-bc51-e34623a51112",
   "metadata": {},
   "outputs": [
    {
     "name": "stdout",
     "output_type": "stream",
     "text": [
      "[0.6007332801818848, 0.5933871269226074, 0.6175913214683533, 0.6326693892478943, 0.6090855598449707]\n"
     ]
    },
    {
     "data": {
      "text/plain": [
       "0.6106933355331421"
      ]
     },
     "execution_count": 23,
     "metadata": {},
     "output_type": "execute_result"
    }
   ],
   "source": [
    "import json\n",
    "from pathlib import Path\n",
    "best_metrics = []\n",
    "best_checkpoints = []\n",
    "\n",
    "for fold in range(5):\n",
    "    folder = Path(f\"../output/{exp_name}-fold{fold}\")\n",
    "    checkpoint = sorted(list(folder.glob(\"checkpoint*\")))[-1]\n",
    "    with open(checkpoint/\"trainer_state.json\", \"r\") as fp:\n",
    "        data = json.load(fp)\n",
    "        best_metrics.append(data[\"best_metric\"])\n",
    "        best_checkpoints.append(data[\"best_model_checkpoint\"])\n",
    "        \n",
    "print(best_metrics)\n",
    "average = sum(best_metrics)/len(best_metrics)\n",
    "average"
   ]
  },
  {
   "cell_type": "code",
   "execution_count": 20,
   "id": "22edb870-b9e5-4881-8670-3cede525f694",
   "metadata": {},
   "outputs": [
    {
     "data": {
      "text/plain": [
       "['../output/HF-19-fold0/checkpoint-1257',\n",
       " '../output/HF-19-fold1/checkpoint-840',\n",
       " '../output/HF-19-fold2/checkpoint-1260',\n",
       " '../output/HF-19-fold3/checkpoint-1260',\n",
       " '../output/HF-19-fold4/checkpoint-840']"
      ]
     },
     "execution_count": 20,
     "metadata": {},
     "output_type": "execute_result"
    }
   ],
   "source": [
    "best_checkpoints"
   ]
  },
  {
   "cell_type": "code",
   "execution_count": 21,
   "id": "cd6bc8ae-3017-48b2-8c31-d94dc6e3ee7c",
   "metadata": {},
   "outputs": [],
   "source": [
    "# for fold in range(5):\n",
    "#     folder = best_checkpoints[fold]\n",
    "#     !~/gdrive upload {folder}/pytorch_model.bin --name pytorch_model_{fold}.bin"
   ]
  },
  {
   "cell_type": "code",
   "execution_count": null,
   "id": "e70fef14-4fe9-4603-a9ed-e6e26bf7360c",
   "metadata": {},
   "outputs": [],
   "source": []
  }
 ],
 "metadata": {
  "kernelspec": {
   "display_name": "Python 3 (ipykernel)",
   "language": "python",
   "name": "python3"
  },
  "language_info": {
   "codemirror_mode": {
    "name": "ipython",
    "version": 3
   },
   "file_extension": ".py",
   "mimetype": "text/x-python",
   "name": "python",
   "nbconvert_exporter": "python",
   "pygments_lexer": "ipython3",
   "version": "3.8.13"
  }
 },
 "nbformat": 4,
 "nbformat_minor": 5
}
