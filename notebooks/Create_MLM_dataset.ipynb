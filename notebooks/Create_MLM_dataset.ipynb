{
 "cells": [
  {
   "cell_type": "code",
   "execution_count": 42,
   "id": "6201b164-7c41-4dca-aed1-5604ec8a2617",
   "metadata": {},
   "outputs": [],
   "source": [
    "DEBUG = False"
   ]
  },
  {
   "cell_type": "code",
   "execution_count": 43,
   "id": "c3d239cb-22f2-4f01-8ab1-786de7b7ab5b",
   "metadata": {},
   "outputs": [],
   "source": [
    "cfg = {\n",
    "    \"num_proc\": 2,\n",
    "    \"aug_prob\": 0.03,\n",
    "    \"k_folds\": 5,\n",
    "    \"max_length\": 2048,\n",
    "    \"padding\": False,\n",
    "    \"stride\": 0,\n",
    "    \"data_dir\": \"../input/feedback-prize-effectiveness\",\n",
    "    \"load_from_disk\": None,\n",
    "    \"pad_multiple\": 8,\n",
    "    \"model_name_or_path\": \"microsoft/deberta-v3-large\",\n",
    "    \"dropout\": 0.1,\n",
    "    \"trainingargs\": {\n",
    "        \"output_dir\": f\"../output/\",\n",
    "        \"do_train\": True,\n",
    "        \"do_eval\": True,\n",
    "        \"per_device_train_batch_size\": 8,\n",
    "        \"per_device_eval_batch_size\": 4,\n",
    "        \"learning_rate\": 9e-6,\n",
    "        \"weight_decay\": 0.01,\n",
    "        \"num_train_epochs\": 3,\n",
    "        \"warmup_ratio\": 0.1,\n",
    "        \"optim\": 'adamw_torch',\n",
    "        \"logging_steps\": 50,\n",
    "        \"save_strategy\": \"steps\",\n",
    "        \"evaluation_strategy\": \"steps\",\n",
    "        \"eval_steps\": 50,\n",
    "        \"eval_delay\": 600,\n",
    "        \"report_to\": \"wandb\",\n",
    "        \"group_by_length\": True,\n",
    "        \"save_total_limit\": 1,\n",
    "        \"metric_for_best_model\": \"loss\",\n",
    "        \"greater_is_better\": False,\n",
    "        \"seed\": 42,\n",
    "        \"fp16\": True,\n",
    "        \"gradient_checkpointing\": True,\n",
    "        \"gradient_accumulation_steps\": 1,\n",
    "    }\n",
    "}"
   ]
  },
  {
   "cell_type": "code",
   "execution_count": 44,
   "id": "61c8fca0-a82b-483d-989f-960f84b0fe8e",
   "metadata": {},
   "outputs": [],
   "source": [
    "import re\n",
    "import pickle\n",
    "import codecs\n",
    "import warnings\n",
    "import logging\n",
    "from functools import partial\n",
    "from pathlib import Path\n",
    "from itertools import chain\n",
    "from text_unidecode import unidecode\n",
    "from typing import Any, Optional, Tuple\n",
    "\n",
    "import pandas as pd\n",
    "from sklearn.model_selection import KFold\n",
    "from transformers import AutoTokenizer, set_seed\n",
    "\n",
    "from datasets import Dataset, load_from_disk\n",
    "\n",
    "def replace_encoding_with_utf8(error: UnicodeError) -> Tuple[bytes, int]:\n",
    "    return error.object[error.start : error.end].encode(\"utf-8\"), error.end\n",
    "\n",
    "def replace_decoding_with_cp1252(error: UnicodeError) -> Tuple[str, int]:\n",
    "    return error.object[error.start : error.end].decode(\"cp1252\"), error.end\n",
    "\n",
    "codecs.register_error(\"replace_encoding_with_utf8\", replace_encoding_with_utf8)\n",
    "codecs.register_error(\"replace_decoding_with_cp1252\", replace_decoding_with_cp1252)\n",
    "\n",
    "def resolve_encodings_and_normalize(text: str) -> str:\n",
    "    text = (\n",
    "        text.encode(\"raw_unicode_escape\")\n",
    "        .decode(\"utf-8\", errors=\"replace_decoding_with_cp1252\")\n",
    "        .encode(\"cp1252\", errors=\"replace_encoding_with_utf8\")\n",
    "        .decode(\"utf-8\", errors=\"replace_decoding_with_cp1252\")\n",
    "    )\n",
    "    text = unidecode(text)\n",
    "    return text\n",
    "\n",
    "def read_text_files(example, data_dir):\n",
    "    \n",
    "    id_ = example[\"id\"]\n",
    "    \n",
    "    with open(data_dir / \"train\" / f\"{id_}.txt\", \"r\") as fp:\n",
    "        example[\"text\"] = resolve_encodings_and_normalize(fp.read())\n",
    "    \n",
    "    return example\n",
    "\n",
    "set_seed(cfg[\"trainingargs\"][\"seed\"])\n",
    "\n",
    "warnings.simplefilter('ignore')\n",
    "logging.disable(logging.WARNING)"
   ]
  },
  {
   "cell_type": "code",
   "execution_count": 45,
   "id": "d0f1d5d6-fb67-40e3-9959-a72c3325d280",
   "metadata": {},
   "outputs": [
    {
     "name": "stderr",
     "output_type": "stream",
     "text": [
      "Loading text files #0:   0%|                                                | 0/7797 [00:00<?, ?ex/s]\n",
      "Loading text files #0:   3%|▉                                   | 195/7797 [00:00<00:03, 1942.48ex/s]\u001b[A\n",
      "Loading text files #0:   5%|█▊                                  | 390/7797 [00:00<00:03, 1929.01ex/s]\u001b[A\n",
      "Loading text files #0:   8%|██▋                                 | 593/7797 [00:00<00:03, 1972.93ex/s]\u001b[A\n",
      "Loading text files #0:  10%|███▋                                | 791/7797 [00:00<00:03, 1961.41ex/s]\u001b[A\n",
      "Loading text files #0:  13%|████▌                               | 988/7797 [00:00<00:03, 1890.83ex/s]\u001b[A\n",
      "Loading text files #0:  15%|█████▎                             | 1178/7797 [00:00<00:03, 1819.10ex/s]\u001b[A\n",
      "Loading text files #0:  18%|██████▎                            | 1393/7797 [00:00<00:03, 1918.80ex/s]\u001b[A\n",
      "Loading text files #0:  21%|███████▏                           | 1604/7797 [00:00<00:03, 1975.40ex/s]\u001b[A\n",
      "Loading text files #0:  23%|████████                           | 1803/7797 [00:00<00:03, 1885.59ex/s]\u001b[A\n",
      "Loading text files #0:  26%|████████▉                          | 1993/7797 [00:01<00:03, 1795.77ex/s]\u001b[A\n",
      "Loading text files #1:  32%|███████████                        | 2459/7797 [00:01<00:02, 2210.46ex/s]\u001b[A\n",
      "Loading text files #0:  28%|█████████▊                         | 2174/7797 [00:01<00:03, 1687.46ex/s]\u001b[A\n",
      "Loading text files #0:  30%|██████████▌                        | 2345/7797 [00:01<00:03, 1672.60ex/s]\u001b[A\n",
      "Loading text files #0:  32%|███████████▎                       | 2514/7797 [00:01<00:03, 1675.24ex/s]\u001b[A\n",
      "Loading text files #0:  36%|████████████▌                      | 2785/7797 [00:01<00:02, 1969.83ex/s]\u001b[A\n",
      "Loading text files #0:  39%|█████████████▊                     | 3075/7797 [00:01<00:02, 2238.25ex/s]\u001b[A\n",
      "Loading text files #0:  43%|██████████████▉                    | 3336/7797 [00:01<00:01, 2345.59ex/s]\u001b[A\n",
      "Loading text files #0:  46%|████████████████                   | 3573/7797 [00:01<00:01, 2213.46ex/s]\u001b[A\n",
      "Loading text files #0:  49%|█████████████████                  | 3798/7797 [00:01<00:01, 2153.60ex/s]\u001b[A\n",
      "Loading text files #0:  52%|██████████████████                 | 4016/7797 [00:02<00:01, 2059.43ex/s]\u001b[A\n",
      "Loading text files #0:  58%|████████████████████▏              | 4511/7797 [00:02<00:01, 2269.20ex/s]\u001b[A\n",
      "Loading text files #0:  61%|█████████████████████▍             | 4780/7797 [00:02<00:01, 2390.29ex/s]\u001b[A\n",
      "Loading text files #0:  65%|██████████████████████▌            | 5031/7797 [00:02<00:01, 2424.29ex/s]\u001b[A\n",
      "Loading text files #0:  68%|███████████████████████▊           | 5299/7797 [00:02<00:01, 2497.16ex/s]\u001b[A\n",
      "Loading text files #0:  75%|██████████████████████████▏        | 5837/7797 [00:02<00:00, 2592.55ex/s]\u001b[A\n",
      "Loading text files #0:  78%|███████████████████████████▎       | 6097/7797 [00:02<00:00, 2575.58ex/s]\u001b[A\n",
      "Loading text files #0:  82%|████████████████████████████▌      | 6362/7797 [00:02<00:00, 2597.34ex/s]\u001b[A\n",
      "Loading text files #0:  85%|█████████████████████████████▊     | 6640/7797 [00:03<00:00, 2650.61ex/s]\u001b[A\n",
      "Loading text files #0:  89%|███████████████████████████████    | 6926/7797 [00:03<00:00, 2710.99ex/s]\u001b[A\n",
      "Loading text files #0:  92%|████████████████████████████████▎  | 7210/7797 [00:03<00:00, 2747.26ex/s]\u001b[A\n",
      "Loading text files #0:  96%|█████████████████████████████████▊ | 7519/7797 [00:03<00:00, 2849.12ex/s]\u001b[A\n",
      "Loading text files #0: 100%|███████████████████████████████████| 7797/7797 [00:03<00:00, 2269.68ex/s]\u001b[A\n",
      "\n",
      "Loading text files #1:  92%|████████████████████████████████▏  | 7183/7797 [00:03<00:00, 1756.76ex/s]\u001b[A\n",
      "Loading text files #1:  94%|█████████████████████████████████  | 7364/7797 [00:03<00:00, 1771.35ex/s]\u001b[A\n",
      "Loading text files #1:  97%|█████████████████████████████████▉ | 7556/7797 [00:03<00:00, 1812.57ex/s]\u001b[A\n",
      "Loading text files #1: 100%|███████████████████████████████████| 7797/7797 [00:03<00:00, 2042.62ex/s]\u001b[A\n"
     ]
    }
   ],
   "source": [
    "data_dir = Path(\"../input/2021\")\n",
    "\n",
    "train_df = pd.read_csv(data_dir / \"train.csv\")\n",
    "\n",
    "if DEBUG: train_df = train_df.sample(n=100).reset_index(drop=True)\n",
    "\n",
    "text_ds = Dataset.from_dict({\"id\": train_df.id.unique()})\n",
    "\n",
    "text_ds = text_ds.map(\n",
    "    partial(read_text_files, data_dir=data_dir),\n",
    "    num_proc=cfg[\"num_proc\"],\n",
    "    batched=False,\n",
    "    desc=\"Loading text files\",\n",
    ")"
   ]
  },
  {
   "cell_type": "code",
   "execution_count": 46,
   "id": "7542f8de-d442-4813-b49d-baa0bed8f110",
   "metadata": {},
   "outputs": [
    {
     "data": {
      "text/plain": [
       "Dataset({\n",
       "    features: ['id', 'text'],\n",
       "    num_rows: 15594\n",
       "})"
      ]
     },
     "execution_count": 46,
     "metadata": {},
     "output_type": "execute_result"
    }
   ],
   "source": [
    "text_ds"
   ]
  },
  {
   "cell_type": "code",
   "execution_count": 47,
   "id": "b6df4b2c-e845-49ce-a71d-440226d96d4b",
   "metadata": {},
   "outputs": [
    {
     "data": {
      "text/plain": [
       "{'id': '423A1CA112E2',\n",
       " 'text': \"Phones\\n\\nModern humans today are always on their phone. They are always on their phone more than 5 hours a day no stop .All they do is text back and forward and just have group Chats on social media. They even do it while driving. They are some really bad consequences when stuff happens when it comes to a phone. Some certain areas in the United States ban phones from class rooms just because of it.\\n\\nWhen people have phones, they know about certain apps that they have .Apps like Facebook Twitter Instagram and Snapchat. So like if a friend moves away and you want to be in contact you can still be in contact by posting videos or text messages. People always have different ways how to communicate with a phone. Phones have changed due to our generation.\\n\\nDriving is one of the way how to get around. People always be on their phones while doing it. Which can cause serious Problems. That's why there's a thing that's called no texting while driving. That's a really important thing to remember. Some people still do it because they think It's stupid. No matter what they do they still have to obey it because that's the only way how did he save.\\n\\nSometimes on the news there is either an accident or a suicide. It might involve someone not looking where they're going or tweet that someone sent. It either injury or death. If a mysterious number says I'm going to kill you and they know where you live but you don't know the person's contact\\n\\n,It makes you puzzled and make you start to freak out. Which can end up really badly.\\n\\nPhones are fine to use and it's also the best way to come over help. If you go through a problem and you can't find help you ,always have a phone there with you. Even though phones are used almost every day as long as you're safe it would come into use if you get into trouble. Make sure you do not be like this phone while you're in the middle of driving. The news always updated when people do something stupid around that involves their phones. The safest way is the best way to stay safe.    \"}"
      ]
     },
     "execution_count": 47,
     "metadata": {},
     "output_type": "execute_result"
    }
   ],
   "source": [
    "text_ds[0]"
   ]
  },
  {
   "cell_type": "code",
   "execution_count": 48,
   "id": "22ff87a8-e465-469d-bf23-ccaf4c5a1b7b",
   "metadata": {},
   "outputs": [],
   "source": [
    "text_ds.save_to_disk(\"../input/2021mlm\")"
   ]
  },
  {
   "cell_type": "code",
   "execution_count": 49,
   "id": "8048b8f1-f0b1-4bbf-8763-10fc4330935f",
   "metadata": {},
   "outputs": [],
   "source": [
    "split_ds = text_ds.train_test_split(test_size=0.05)"
   ]
  },
  {
   "cell_type": "code",
   "execution_count": 50,
   "id": "987df352-46c9-4cc9-ad88-0374dfa0bf61",
   "metadata": {},
   "outputs": [
    {
     "data": {
      "text/plain": [
       "DatasetDict({\n",
       "    train: Dataset({\n",
       "        features: ['id', 'text'],\n",
       "        num_rows: 14814\n",
       "    })\n",
       "    test: Dataset({\n",
       "        features: ['id', 'text'],\n",
       "        num_rows: 780\n",
       "    })\n",
       "})"
      ]
     },
     "execution_count": 50,
     "metadata": {},
     "output_type": "execute_result"
    }
   ],
   "source": [
    "split_ds"
   ]
  },
  {
   "cell_type": "code",
   "execution_count": 51,
   "id": "515d80f7-d10a-4a8a-9a35-d4bf1f133502",
   "metadata": {},
   "outputs": [],
   "source": [
    "import json\n",
    "\n",
    "with open(\"train.json\", \"w\") as fp:\n",
    "    for t in split_ds[\"train\"][\"text\"]:\n",
    "        fp.write(json.dumps({\"text\":t})+'\\n')\n",
    "\n",
    "with open(\"val.json\", \"w\") as fp:\n",
    "    for t in split_ds[\"test\"][\"text\"]:\n",
    "        fp.write(json.dumps({\"text\":t})+'\\n')"
   ]
  },
  {
   "cell_type": "code",
   "execution_count": null,
   "id": "863c6943-2c27-4944-83e1-5fd7190e79d1",
   "metadata": {},
   "outputs": [],
   "source": []
  },
  {
   "cell_type": "code",
   "execution_count": null,
   "id": "f867a1f9-0558-48df-8015-bd04208ae46b",
   "metadata": {},
   "outputs": [],
   "source": []
  }
 ],
 "metadata": {
  "kernelspec": {
   "display_name": "Python 3 (ipykernel)",
   "language": "python",
   "name": "python3"
  },
  "language_info": {
   "codemirror_mode": {
    "name": "ipython",
    "version": 3
   },
   "file_extension": ".py",
   "mimetype": "text/x-python",
   "name": "python",
   "nbconvert_exporter": "python",
   "pygments_lexer": "ipython3",
   "version": "3.8.13"
  }
 },
 "nbformat": 4,
 "nbformat_minor": 5
}
