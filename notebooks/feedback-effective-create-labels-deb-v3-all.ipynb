{
 "cells": [
  {
   "cell_type": "code",
   "execution_count": 1,
   "id": "ff6d6a3d",
   "metadata": {
    "_cell_guid": "b1076dfc-b9ad-4769-8c92-a6c4dae69d19",
    "_uuid": "8f2839f25d086af736a60e9eeb907d3b93b6e0e5",
    "papermill": {
     "duration": 11.914161,
     "end_time": "2022-07-10T21:35:16.313419",
     "exception": false,
     "start_time": "2022-07-10T21:35:04.399258",
     "status": "completed"
    },
    "tags": []
   },
   "outputs": [
    {
     "name": "stderr",
     "output_type": "stream",
     "text": [
      "/home/darek/mambaforge/envs/ml/lib/python3.8/site-packages/tqdm/auto.py:22: TqdmWarning: IProgress not found. Please update jupyter and ipywidgets. See https://ipywidgets.readthedocs.io/en/stable/user_install.html\n",
      "  from .autonotebook import tqdm as notebook_tqdm\n"
     ]
    }
   ],
   "source": [
    "import os\n",
    "import numpy as np\n",
    "import pandas as pd\n",
    "from transformers import AutoTokenizer"
   ]
  },
  {
   "cell_type": "code",
   "execution_count": 2,
   "id": "71eb3a76",
   "metadata": {
    "papermill": {
     "duration": 0.34025,
     "end_time": "2022-07-10T21:35:16.672000",
     "exception": false,
     "start_time": "2022-07-10T21:35:16.331750",
     "status": "completed"
    },
    "tags": []
   },
   "outputs": [
    {
     "data": {
      "text/html": [
       "<div>\n",
       "<style scoped>\n",
       "    .dataframe tbody tr th:only-of-type {\n",
       "        vertical-align: middle;\n",
       "    }\n",
       "\n",
       "    .dataframe tbody tr th {\n",
       "        vertical-align: top;\n",
       "    }\n",
       "\n",
       "    .dataframe thead th {\n",
       "        text-align: right;\n",
       "    }\n",
       "</style>\n",
       "<table border=\"1\" class=\"dataframe\">\n",
       "  <thead>\n",
       "    <tr style=\"text-align: right;\">\n",
       "      <th></th>\n",
       "      <th>discourse_id</th>\n",
       "      <th>essay_id</th>\n",
       "      <th>discourse_text</th>\n",
       "      <th>discourse_type</th>\n",
       "      <th>discourse_effectiveness</th>\n",
       "      <th>score</th>\n",
       "      <th>fold</th>\n",
       "    </tr>\n",
       "  </thead>\n",
       "  <tbody>\n",
       "    <tr>\n",
       "      <th>0</th>\n",
       "      <td>0013cc385424</td>\n",
       "      <td>007ACE74B050</td>\n",
       "      <td>Hi, i'm Isaac, i'm going to be writing about h...</td>\n",
       "      <td>Lead</td>\n",
       "      <td>Adequate</td>\n",
       "      <td>1</td>\n",
       "      <td>0</td>\n",
       "    </tr>\n",
       "    <tr>\n",
       "      <th>1</th>\n",
       "      <td>9704a709b505</td>\n",
       "      <td>007ACE74B050</td>\n",
       "      <td>On my perspective, I think that the face is a ...</td>\n",
       "      <td>Position</td>\n",
       "      <td>Adequate</td>\n",
       "      <td>1</td>\n",
       "      <td>0</td>\n",
       "    </tr>\n",
       "    <tr>\n",
       "      <th>2</th>\n",
       "      <td>c22adee811b6</td>\n",
       "      <td>007ACE74B050</td>\n",
       "      <td>I think that the face is a natural landform be...</td>\n",
       "      <td>Claim</td>\n",
       "      <td>Adequate</td>\n",
       "      <td>1</td>\n",
       "      <td>0</td>\n",
       "    </tr>\n",
       "    <tr>\n",
       "      <th>3</th>\n",
       "      <td>a10d361e54e4</td>\n",
       "      <td>007ACE74B050</td>\n",
       "      <td>If life was on Mars, we would know by now. The...</td>\n",
       "      <td>Evidence</td>\n",
       "      <td>Adequate</td>\n",
       "      <td>1</td>\n",
       "      <td>0</td>\n",
       "    </tr>\n",
       "    <tr>\n",
       "      <th>4</th>\n",
       "      <td>db3e453ec4e2</td>\n",
       "      <td>007ACE74B050</td>\n",
       "      <td>People thought that the face was formed by ali...</td>\n",
       "      <td>Counterclaim</td>\n",
       "      <td>Adequate</td>\n",
       "      <td>1</td>\n",
       "      <td>0</td>\n",
       "    </tr>\n",
       "  </tbody>\n",
       "</table>\n",
       "</div>"
      ],
      "text/plain": [
       "   discourse_id      essay_id  \\\n",
       "0  0013cc385424  007ACE74B050   \n",
       "1  9704a709b505  007ACE74B050   \n",
       "2  c22adee811b6  007ACE74B050   \n",
       "3  a10d361e54e4  007ACE74B050   \n",
       "4  db3e453ec4e2  007ACE74B050   \n",
       "\n",
       "                                      discourse_text discourse_type  \\\n",
       "0  Hi, i'm Isaac, i'm going to be writing about h...           Lead   \n",
       "1  On my perspective, I think that the face is a ...       Position   \n",
       "2  I think that the face is a natural landform be...          Claim   \n",
       "3  If life was on Mars, we would know by now. The...       Evidence   \n",
       "4  People thought that the face was formed by ali...   Counterclaim   \n",
       "\n",
       "  discourse_effectiveness  score  fold  \n",
       "0                Adequate      1     0  \n",
       "1                Adequate      1     0  \n",
       "2                Adequate      1     0  \n",
       "3                Adequate      1     0  \n",
       "4                Adequate      1     0  "
      ]
     },
     "execution_count": 2,
     "metadata": {},
     "output_type": "execute_result"
    }
   ],
   "source": [
    "train = pd.read_csv('../input/feedback-effective-folds/train_folds.csv')\n",
    "train.head()"
   ]
  },
  {
   "cell_type": "code",
   "execution_count": 3,
   "id": "036058d3",
   "metadata": {
    "papermill": {
     "duration": 0.031448,
     "end_time": "2022-07-10T21:35:16.709258",
     "exception": false,
     "start_time": "2022-07-10T21:35:16.677810",
     "status": "completed"
    },
    "tags": []
   },
   "outputs": [
    {
     "data": {
      "text/html": [
       "<div>\n",
       "<style scoped>\n",
       "    .dataframe tbody tr th:only-of-type {\n",
       "        vertical-align: middle;\n",
       "    }\n",
       "\n",
       "    .dataframe tbody tr th {\n",
       "        vertical-align: top;\n",
       "    }\n",
       "\n",
       "    .dataframe thead th {\n",
       "        text-align: right;\n",
       "    }\n",
       "</style>\n",
       "<table border=\"1\" class=\"dataframe\">\n",
       "  <thead>\n",
       "    <tr style=\"text-align: right;\">\n",
       "      <th></th>\n",
       "      <th>essay_id</th>\n",
       "      <th>score</th>\n",
       "      <th>group</th>\n",
       "      <th>fold</th>\n",
       "    </tr>\n",
       "  </thead>\n",
       "  <tbody>\n",
       "    <tr>\n",
       "      <th>0</th>\n",
       "      <td>F98E8D4EA700</td>\n",
       "      <td>0.777778</td>\n",
       "      <td>2</td>\n",
       "      <td>0</td>\n",
       "    </tr>\n",
       "    <tr>\n",
       "      <th>1</th>\n",
       "      <td>66BB82BD76B2</td>\n",
       "      <td>0.875000</td>\n",
       "      <td>2</td>\n",
       "      <td>0</td>\n",
       "    </tr>\n",
       "    <tr>\n",
       "      <th>2</th>\n",
       "      <td>85F4C57672EA</td>\n",
       "      <td>0.923077</td>\n",
       "      <td>2</td>\n",
       "      <td>0</td>\n",
       "    </tr>\n",
       "    <tr>\n",
       "      <th>3</th>\n",
       "      <td>06936C8AA35D</td>\n",
       "      <td>1.666667</td>\n",
       "      <td>3</td>\n",
       "      <td>0</td>\n",
       "    </tr>\n",
       "    <tr>\n",
       "      <th>4</th>\n",
       "      <td>61C3ADEA1DD5</td>\n",
       "      <td>0.666667</td>\n",
       "      <td>2</td>\n",
       "      <td>0</td>\n",
       "    </tr>\n",
       "  </tbody>\n",
       "</table>\n",
       "</div>"
      ],
      "text/plain": [
       "       essay_id     score  group  fold\n",
       "0  F98E8D4EA700  0.777778      2     0\n",
       "1  66BB82BD76B2  0.875000      2     0\n",
       "2  85F4C57672EA  0.923077      2     0\n",
       "3  06936C8AA35D  1.666667      3     0\n",
       "4  61C3ADEA1DD5  0.666667      2     0"
      ]
     },
     "execution_count": 3,
     "metadata": {},
     "output_type": "execute_result"
    }
   ],
   "source": [
    "essays = pd.read_csv('../input/feedback-effective-folds/essay_scores.csv')\n",
    "essays.head()"
   ]
  },
  {
   "cell_type": "code",
   "execution_count": 4,
   "id": "e6135215",
   "metadata": {
    "papermill": {
     "duration": 13.163183,
     "end_time": "2022-07-10T21:35:29.878377",
     "exception": false,
     "start_time": "2022-07-10T21:35:16.715194",
     "status": "completed"
    },
    "tags": []
   },
   "outputs": [],
   "source": [
    "texts = {x: \"\" for x in train.essay_id.unique().tolist()}\n",
    "for f in os.listdir('../input/feedback-prize-effectiveness/train'):\n",
    "    with open(f'../input/feedback-prize-effectiveness/train/{f}') as file:\n",
    "        text = file.read()\n",
    "        text = text.replace('\\n', '|')\n",
    "        essay_id = f.split('.')[0]\n",
    "        texts[essay_id] = text"
   ]
  },
  {
   "cell_type": "code",
   "execution_count": 5,
   "id": "3168b961",
   "metadata": {
    "papermill": {
     "duration": 0.046229,
     "end_time": "2022-07-10T21:35:29.930598",
     "exception": false,
     "start_time": "2022-07-10T21:35:29.884369",
     "status": "completed"
    },
    "tags": []
   },
   "outputs": [
    {
     "data": {
      "text/plain": [
       "(1, 23)"
      ]
     },
     "execution_count": 5,
     "metadata": {},
     "output_type": "execute_result"
    }
   ],
   "source": [
    "train.groupby('essay_id')['discourse_id'].count().min(), train.groupby('essay_id')['discourse_id'].count().max()"
   ]
  },
  {
   "cell_type": "code",
   "execution_count": 6,
   "id": "03d23c68",
   "metadata": {
    "papermill": {
     "duration": 2.201549,
     "end_time": "2022-07-10T21:35:32.138113",
     "exception": false,
     "start_time": "2022-07-10T21:35:29.936564",
     "status": "completed"
    },
    "tags": []
   },
   "outputs": [
    {
     "name": "stderr",
     "output_type": "stream",
     "text": [
      "Special tokens have been added in the vocabulary, make sure the associated word embeddings are fine-tuned or trained.\n",
      "/home/darek/mambaforge/envs/ml/lib/python3.8/site-packages/transformers/convert_slow_tokenizer.py:434: UserWarning: The sentencepiece tokenizer that you are converting to a fast tokenizer uses the byte fallback option which is not implemented in the fast tokenizers. In practice this means that the fast version of the tokenizer can produce unknown tokens whereas the sentencepiece version would have converted these unknown tokens into a sequence of byte tokens matching the original piece of text.\n",
      "  warnings.warn(\n",
      "Special tokens have been added in the vocabulary, make sure the associated word embeddings are fine-tuned or trained.\n"
     ]
    }
   ],
   "source": [
    "checkpoint = 'microsoft/deberta-v3-large'\n",
    "# checkpoint = 'microsoft/deberta-v3-small'\n",
    "tokenizer = AutoTokenizer.from_pretrained(checkpoint)"
   ]
  },
  {
   "cell_type": "code",
   "execution_count": 7,
   "id": "e986c66d",
   "metadata": {
    "papermill": {
     "duration": 0.02046,
     "end_time": "2022-07-10T21:35:32.165611",
     "exception": false,
     "start_time": "2022-07-10T21:35:32.145151",
     "status": "completed"
    },
    "tags": []
   },
   "outputs": [],
   "source": [
    "def get_start_and_end(essay_id):\n",
    "    discourse_id_2_startend = []\n",
    "    all_discourses = train[train.essay_id == essay_id]['discourse_text'].values.tolist()\n",
    "    all_ids = train[train.essay_id == essay_id]['discourse_id'].values.tolist()\n",
    "    text = texts[essay_id]\n",
    "    start = 0\n",
    "    end = 0\n",
    "    for i in range(len(all_discourses)):\n",
    "        discourse = all_discourses[i]\n",
    "        disc_id = all_ids[i]\n",
    "        start = end + text[end:].find(discourse)\n",
    "        # special case if we can't find exact match\n",
    "        j = -1\n",
    "        while start - end == -1:\n",
    "            start = end + text[end:].find(discourse[:j])\n",
    "            j -= 1\n",
    "        # end of special case\n",
    "        end = start + len(discourse)\n",
    "        discourse_id_2_startend.append((disc_id, start, end))\n",
    "    return discourse_id_2_startend"
   ]
  },
  {
   "cell_type": "code",
   "execution_count": 8,
   "id": "c47292db",
   "metadata": {
    "papermill": {
     "duration": 56.092515,
     "end_time": "2022-07-10T21:36:28.264925",
     "exception": false,
     "start_time": "2022-07-10T21:35:32.172410",
     "status": "completed"
    },
    "tags": []
   },
   "outputs": [
    {
     "name": "stderr",
     "output_type": "stream",
     "text": [
      "100%|███████████████████████████████████████████████████████████| 4191/4191 [00:23<00:00, 181.61it/s]\n"
     ]
    }
   ],
   "source": [
    "from tqdm.auto import tqdm \n",
    "\n",
    "mappings = []\n",
    "for esid in tqdm(essays.essay_id.unique().tolist()):\n",
    "    mappings.extend(get_start_and_end(esid))"
   ]
  },
  {
   "cell_type": "code",
   "execution_count": 9,
   "id": "396290b6",
   "metadata": {
    "papermill": {
     "duration": 0.019014,
     "end_time": "2022-07-10T21:36:28.294460",
     "exception": false,
     "start_time": "2022-07-10T21:36:28.275446",
     "status": "completed"
    },
    "tags": []
   },
   "outputs": [
    {
     "data": {
      "text/plain": [
       "(('3abf8b923b81', 0, 40), 36765)"
      ]
     },
     "execution_count": 9,
     "metadata": {},
     "output_type": "execute_result"
    }
   ],
   "source": [
    "mappings[0], len(mappings)"
   ]
  },
  {
   "cell_type": "code",
   "execution_count": 10,
   "id": "62025463",
   "metadata": {
    "papermill": {
     "duration": 0.03254,
     "end_time": "2022-07-10T21:36:28.334143",
     "exception": false,
     "start_time": "2022-07-10T21:36:28.301603",
     "status": "completed"
    },
    "tags": []
   },
   "outputs": [
    {
     "data": {
      "text/plain": [
       "36765"
      ]
     },
     "execution_count": 10,
     "metadata": {},
     "output_type": "execute_result"
    }
   ],
   "source": [
    "len(train)"
   ]
  },
  {
   "cell_type": "code",
   "execution_count": 11,
   "id": "bc1c9ad7",
   "metadata": {
    "papermill": {
     "duration": 0.042014,
     "end_time": "2022-07-10T21:36:28.385158",
     "exception": false,
     "start_time": "2022-07-10T21:36:28.343144",
     "status": "completed"
    },
    "tags": []
   },
   "outputs": [],
   "source": [
    "map_dict = {m[0]: (m[1],m[2]) for m in mappings}"
   ]
  },
  {
   "cell_type": "code",
   "execution_count": 12,
   "id": "d1c0c918",
   "metadata": {
    "papermill": {
     "duration": 0.041517,
     "end_time": "2022-07-10T21:36:28.435535",
     "exception": false,
     "start_time": "2022-07-10T21:36:28.394018",
     "status": "completed"
    },
    "tags": []
   },
   "outputs": [],
   "source": [
    "train['start_end'] = train['discourse_id'].apply(lambda x: map_dict[x])"
   ]
  },
  {
   "cell_type": "code",
   "execution_count": null,
   "id": "e6a14fa8",
   "metadata": {
    "papermill": {
     "duration": 0.031212,
     "end_time": "2022-07-10T21:36:28.475491",
     "exception": false,
     "start_time": "2022-07-10T21:36:28.444279",
     "status": "completed"
    },
    "tags": []
   },
   "outputs": [
    {
     "data": {
      "text/plain": [
       "{'Lead': 0,\n",
       " 'Position': 1,\n",
       " 'Claim': 2,\n",
       " 'Evidence': 3,\n",
       " 'Counterclaim': 4,\n",
       " 'Rebuttal': 5,\n",
       " 'Concluding Statement': 6,\n",
       " 'Other': 7}"
      ]
     },
     "execution_count": 13,
     "metadata": {},
     "output_type": "execute_result"
    }
   ],
   "source": [
    "type2id = {x: i for i,x in enumerate(train.discourse_type.unique().tolist())}\n",
    "type2id['Other'] = 7\n",
    "type2id"
   ]
  },
  {
   "cell_type": "code",
   "execution_count": null,
   "id": "89570467",
   "metadata": {
    "papermill": {
     "duration": 0.024791,
     "end_time": "2022-07-10T21:36:28.513342",
     "exception": false,
     "start_time": "2022-07-10T21:36:28.488551",
     "status": "completed"
    },
    "tags": []
   },
   "outputs": [
    {
     "data": {
      "text/plain": [
       "{0: 'Lead',\n",
       " 1: 'Position',\n",
       " 2: 'Claim',\n",
       " 3: 'Evidence',\n",
       " 4: 'Counterclaim',\n",
       " 5: 'Rebuttal',\n",
       " 6: 'Concluding Statement',\n",
       " 7: 'Other',\n",
       " -100: 'Mask'}"
      ]
     },
     "execution_count": 14,
     "metadata": {},
     "output_type": "execute_result"
    }
   ],
   "source": [
    "id2type = {i:x for x,i in type2id.items()}\n",
    "id2type[-100] = 'Mask'\n",
    "id2type"
   ]
  },
  {
   "cell_type": "code",
   "execution_count": null,
   "id": "08efb68e",
   "metadata": {},
   "outputs": [],
   "source": [
    "def chck(a):\n",
    "    mx = max(a)\n",
    "    try:\n",
    "        for i in range(mx+1):\n",
    "            assert(i in a)\n",
    "        return True\n",
    "    except:\n",
    "        return False"
   ]
  },
  {
   "cell_type": "code",
   "execution_count": 33,
   "id": "4b3c2a34",
   "metadata": {
    "papermill": {
     "duration": 0.036891,
     "end_time": "2022-07-10T21:36:28.562801",
     "exception": false,
     "start_time": "2022-07-10T21:36:28.525910",
     "status": "completed"
    },
    "tags": []
   },
   "outputs": [],
   "source": [
    "def process_essay(esid, max_length=None):\n",
    "\n",
    "    token_class_labels = []\n",
    "    token_scores_labels = []\n",
    "    token_examples_mapping = []\n",
    "    examples_scores = []\n",
    "    examples_classes = []\n",
    "\n",
    "    text = texts[esid]\n",
    "    essay_score = essays[essays.essay_id == esid]['score'].values[0]\n",
    "    tokens = tokenizer(text, return_offsets_mapping=True)\n",
    "    \n",
    "    start_ends = train[train.essay_id == esid]['start_end'].values.tolist()\n",
    "    discourse_types = train[train.essay_id == esid]['discourse_type'].values.tolist()\n",
    "    scores = train[train.essay_id == esid]['score'].values.tolist()\n",
    "\n",
    "    for ts,te in tokens['offset_mapping']:\n",
    "        match = False\n",
    "        if ts == te: \n",
    "            token_class_labels.append(-100)\n",
    "            token_scores_labels.append(-100)\n",
    "            token_examples_mapping.append(-100)\n",
    "            match = True\n",
    "        else:\n",
    "            for i, ((ds,de), discourse_type, discourse_score) in enumerate(list(zip(\n",
    "                start_ends,\n",
    "                discourse_types,\n",
    "                scores,\n",
    "            ))):\n",
    "                if ts >= ds-1 and te <= de and ts != te:\n",
    "                    token_class_labels.append(type2id[discourse_type])\n",
    "                    token_scores_labels.append(discourse_score)\n",
    "                    token_examples_mapping.append(i)\n",
    "                    match = True\n",
    "                    break\n",
    "        if match == False:\n",
    "            token_class_labels.append(type2id['Other'])\n",
    "            token_scores_labels.append(-100)\n",
    "            token_examples_mapping.append(-100)\n",
    "#         print(ts,te,match)\n",
    "\n",
    "    for i, (discourse_type, discourse_score) in enumerate(list(zip(\n",
    "        discourse_types,\n",
    "        scores,\n",
    "    ))):\n",
    "        examples_scores.append(discourse_score)\n",
    "        examples_classes.append(type2id[discourse_type])\n",
    "        \n",
    "    try: \n",
    "        assert len(token_class_labels) == len(tokens['input_ids'])\n",
    "        assert len(token_scores_labels) == len(tokens['input_ids'])\n",
    "        assert len(token_examples_mapping) == len(tokens['input_ids'])\n",
    "        assert len(examples_scores) == len(examples_classes)\n",
    "        # assert len(token_class_labels) == max_length\n",
    "        assert chck(token_examples_mapping)\n",
    "        assert len(discourse_types) == max(token_examples_mapping) + 1\n",
    "\n",
    "    except: \n",
    "        print('Wrong!!', esid)\n",
    "        \n",
    "    return {\n",
    "        'essay_id': esid,\n",
    "        'fold': essays[essays.essay_id == esid].fold.values[0],\n",
    "        'input_ids': tokens['input_ids'],\n",
    "        'attention_mask': tokens['attention_mask'],\n",
    "        'offset_mapping': tokens['offset_mapping'],\n",
    "        'token_class_labels': token_class_labels,\n",
    "        'token_scores_labels': token_scores_labels,\n",
    "        'token_examples_mapping': token_examples_mapping,\n",
    "        'examples_scores': examples_scores,\n",
    "        'examples_classes': examples_classes,\n",
    "    }\n"
   ]
  },
  {
   "cell_type": "code",
   "execution_count": 34,
   "id": "b5a7af35",
   "metadata": {},
   "outputs": [
    {
     "data": {
      "text/html": [
       "<div>\n",
       "<style scoped>\n",
       "    .dataframe tbody tr th:only-of-type {\n",
       "        vertical-align: middle;\n",
       "    }\n",
       "\n",
       "    .dataframe tbody tr th {\n",
       "        vertical-align: top;\n",
       "    }\n",
       "\n",
       "    .dataframe thead th {\n",
       "        text-align: right;\n",
       "    }\n",
       "</style>\n",
       "<table border=\"1\" class=\"dataframe\">\n",
       "  <thead>\n",
       "    <tr style=\"text-align: right;\">\n",
       "      <th></th>\n",
       "      <th>discourse_id</th>\n",
       "      <th>essay_id</th>\n",
       "      <th>discourse_text</th>\n",
       "      <th>discourse_type</th>\n",
       "      <th>discourse_effectiveness</th>\n",
       "      <th>score</th>\n",
       "      <th>fold</th>\n",
       "      <th>start_end</th>\n",
       "    </tr>\n",
       "  </thead>\n",
       "  <tbody>\n",
       "    <tr>\n",
       "      <th>780</th>\n",
       "      <td>89554ddc22e1</td>\n",
       "      <td>0F2199921C33</td>\n",
       "      <td>Do you remember the summer projects that you h...</td>\n",
       "      <td>Lead</td>\n",
       "      <td>Adequate</td>\n",
       "      <td>1</td>\n",
       "      <td>0</td>\n",
       "      <td>(0, 302)</td>\n",
       "    </tr>\n",
       "    <tr>\n",
       "      <th>781</th>\n",
       "      <td>cec88a31dcf3</td>\n",
       "      <td>0F2199921C33</td>\n",
       "      <td>The summer projects should be teacher designed</td>\n",
       "      <td>Position</td>\n",
       "      <td>Adequate</td>\n",
       "      <td>1</td>\n",
       "      <td>0</td>\n",
       "      <td>(302, 349)</td>\n",
       "    </tr>\n",
       "    <tr>\n",
       "      <th>782</th>\n",
       "      <td>c81b32b22872</td>\n",
       "      <td>0F2199921C33</td>\n",
       "      <td>it gives the teacher a chance to gauge the stu...</td>\n",
       "      <td>Claim</td>\n",
       "      <td>Effective</td>\n",
       "      <td>2</td>\n",
       "      <td>0</td>\n",
       "      <td>(357, 424)</td>\n",
       "    </tr>\n",
       "    <tr>\n",
       "      <th>783</th>\n",
       "      <td>27ca36a0bda2</td>\n",
       "      <td>0F2199921C33</td>\n",
       "      <td>base it on what they will be learning that year</td>\n",
       "      <td>Claim</td>\n",
       "      <td>Effective</td>\n",
       "      <td>2</td>\n",
       "      <td>0</td>\n",
       "      <td>(424, 472)</td>\n",
       "    </tr>\n",
       "    <tr>\n",
       "      <th>784</th>\n",
       "      <td>9a6b9a33d90a</td>\n",
       "      <td>0F2199921C33</td>\n",
       "      <td>and learn the learning style of students. \\n</td>\n",
       "      <td>Claim</td>\n",
       "      <td>Effective</td>\n",
       "      <td>2</td>\n",
       "      <td>0</td>\n",
       "      <td>(472, 515)</td>\n",
       "    </tr>\n",
       "    <tr>\n",
       "      <th>785</th>\n",
       "      <td>614cd99fec55</td>\n",
       "      <td>0F2199921C33</td>\n",
       "      <td>Some say that student designed summer projects...</td>\n",
       "      <td>Counterclaim</td>\n",
       "      <td>Effective</td>\n",
       "      <td>2</td>\n",
       "      <td>0</td>\n",
       "      <td>(515, 675)</td>\n",
       "    </tr>\n",
       "    <tr>\n",
       "      <th>786</th>\n",
       "      <td>a2c4308dd1bf</td>\n",
       "      <td>0F2199921C33</td>\n",
       "      <td>And while it may be good that the student is i...</td>\n",
       "      <td>Rebuttal</td>\n",
       "      <td>Effective</td>\n",
       "      <td>2</td>\n",
       "      <td>0</td>\n",
       "      <td>(675, 939)</td>\n",
       "    </tr>\n",
       "    <tr>\n",
       "      <th>787</th>\n",
       "      <td>655dee8bcbf1</td>\n",
       "      <td>0F2199921C33</td>\n",
       "      <td>A student who is knowable able about history m...</td>\n",
       "      <td>Evidence</td>\n",
       "      <td>Effective</td>\n",
       "      <td>2</td>\n",
       "      <td>0</td>\n",
       "      <td>(940, 1954)</td>\n",
       "    </tr>\n",
       "    <tr>\n",
       "      <th>788</th>\n",
       "      <td>6c1d9b65465f</td>\n",
       "      <td>0F2199921C33</td>\n",
       "      <td>Teacher-designed summer projects allow teacher...</td>\n",
       "      <td>Claim</td>\n",
       "      <td>Effective</td>\n",
       "      <td>2</td>\n",
       "      <td>0</td>\n",
       "      <td>(1955, 2055)</td>\n",
       "    </tr>\n",
       "    <tr>\n",
       "      <th>789</th>\n",
       "      <td>a5d11fe804cd</td>\n",
       "      <td>0F2199921C33</td>\n",
       "      <td>The teacher can create different problems base...</td>\n",
       "      <td>Evidence</td>\n",
       "      <td>Effective</td>\n",
       "      <td>2</td>\n",
       "      <td>0</td>\n",
       "      <td>(2055, 2801)</td>\n",
       "    </tr>\n",
       "    <tr>\n",
       "      <th>790</th>\n",
       "      <td>980414e30e59</td>\n",
       "      <td>0F2199921C33</td>\n",
       "      <td>eacher designed summer projects also allow tea...</td>\n",
       "      <td>Claim</td>\n",
       "      <td>Effective</td>\n",
       "      <td>2</td>\n",
       "      <td>0</td>\n",
       "      <td>(2802, 2900)</td>\n",
       "    </tr>\n",
       "    <tr>\n",
       "      <th>791</th>\n",
       "      <td>c39c887fd182</td>\n",
       "      <td>0F2199921C33</td>\n",
       "      <td>Students can get a glimpse into the curriculum...</td>\n",
       "      <td>Evidence</td>\n",
       "      <td>Effective</td>\n",
       "      <td>2</td>\n",
       "      <td>0</td>\n",
       "      <td>(2900, 3618)</td>\n",
       "    </tr>\n",
       "    <tr>\n",
       "      <th>792</th>\n",
       "      <td>76957413823c</td>\n",
       "      <td>0F2199921C33</td>\n",
       "      <td>Teacher designed summer projects in addition a...</td>\n",
       "      <td>Claim</td>\n",
       "      <td>Effective</td>\n",
       "      <td>2</td>\n",
       "      <td>0</td>\n",
       "      <td>(3618, 3741)</td>\n",
       "    </tr>\n",
       "    <tr>\n",
       "      <th>793</th>\n",
       "      <td>345f01221680</td>\n",
       "      <td>0F2199921C33</td>\n",
       "      <td>Teachers can see the learning style of student...</td>\n",
       "      <td>Evidence</td>\n",
       "      <td>Effective</td>\n",
       "      <td>2</td>\n",
       "      <td>0</td>\n",
       "      <td>(3742, 4714)</td>\n",
       "    </tr>\n",
       "    <tr>\n",
       "      <th>794</th>\n",
       "      <td>0e71caa5c79e</td>\n",
       "      <td>0F2199921C33</td>\n",
       "      <td>Those are some of the reasons schools should h...</td>\n",
       "      <td>Concluding Statement</td>\n",
       "      <td>Adequate</td>\n",
       "      <td>1</td>\n",
       "      <td>0</td>\n",
       "      <td>(4715, 5175)</td>\n",
       "    </tr>\n",
       "  </tbody>\n",
       "</table>\n",
       "</div>"
      ],
      "text/plain": [
       "     discourse_id      essay_id  \\\n",
       "780  89554ddc22e1  0F2199921C33   \n",
       "781  cec88a31dcf3  0F2199921C33   \n",
       "782  c81b32b22872  0F2199921C33   \n",
       "783  27ca36a0bda2  0F2199921C33   \n",
       "784  9a6b9a33d90a  0F2199921C33   \n",
       "785  614cd99fec55  0F2199921C33   \n",
       "786  a2c4308dd1bf  0F2199921C33   \n",
       "787  655dee8bcbf1  0F2199921C33   \n",
       "788  6c1d9b65465f  0F2199921C33   \n",
       "789  a5d11fe804cd  0F2199921C33   \n",
       "790  980414e30e59  0F2199921C33   \n",
       "791  c39c887fd182  0F2199921C33   \n",
       "792  76957413823c  0F2199921C33   \n",
       "793  345f01221680  0F2199921C33   \n",
       "794  0e71caa5c79e  0F2199921C33   \n",
       "\n",
       "                                        discourse_text        discourse_type  \\\n",
       "780  Do you remember the summer projects that you h...                  Lead   \n",
       "781    The summer projects should be teacher designed               Position   \n",
       "782  it gives the teacher a chance to gauge the stu...                 Claim   \n",
       "783   base it on what they will be learning that year                  Claim   \n",
       "784       and learn the learning style of students. \\n                 Claim   \n",
       "785  Some say that student designed summer projects...          Counterclaim   \n",
       "786  And while it may be good that the student is i...              Rebuttal   \n",
       "787  A student who is knowable able about history m...              Evidence   \n",
       "788  Teacher-designed summer projects allow teacher...                 Claim   \n",
       "789  The teacher can create different problems base...              Evidence   \n",
       "790  eacher designed summer projects also allow tea...                 Claim   \n",
       "791  Students can get a glimpse into the curriculum...              Evidence   \n",
       "792  Teacher designed summer projects in addition a...                 Claim   \n",
       "793  Teachers can see the learning style of student...              Evidence   \n",
       "794  Those are some of the reasons schools should h...  Concluding Statement   \n",
       "\n",
       "    discourse_effectiveness  score  fold     start_end  \n",
       "780                Adequate      1     0      (0, 302)  \n",
       "781                Adequate      1     0    (302, 349)  \n",
       "782               Effective      2     0    (357, 424)  \n",
       "783               Effective      2     0    (424, 472)  \n",
       "784               Effective      2     0    (472, 515)  \n",
       "785               Effective      2     0    (515, 675)  \n",
       "786               Effective      2     0    (675, 939)  \n",
       "787               Effective      2     0   (940, 1954)  \n",
       "788               Effective      2     0  (1955, 2055)  \n",
       "789               Effective      2     0  (2055, 2801)  \n",
       "790               Effective      2     0  (2802, 2900)  \n",
       "791               Effective      2     0  (2900, 3618)  \n",
       "792               Effective      2     0  (3618, 3741)  \n",
       "793               Effective      2     0  (3742, 4714)  \n",
       "794                Adequate      1     0  (4715, 5175)  "
      ]
     },
     "execution_count": 34,
     "metadata": {},
     "output_type": "execute_result"
    }
   ],
   "source": [
    "train[train.essay_id == '0F2199921C33']"
   ]
  },
  {
   "cell_type": "code",
   "execution_count": 35,
   "id": "6c98d92d",
   "metadata": {},
   "outputs": [
    {
     "data": {
      "text/plain": [
       "15"
      ]
     },
     "execution_count": 35,
     "metadata": {},
     "output_type": "execute_result"
    }
   ],
   "source": [
    "len(train[train.essay_id == '0F2199921C33'])"
   ]
  },
  {
   "cell_type": "code",
   "execution_count": 36,
   "id": "a92cfda5",
   "metadata": {},
   "outputs": [],
   "source": [
    "ttt = process_essay('0F2199921C33')"
   ]
  },
  {
   "cell_type": "code",
   "execution_count": 37,
   "id": "a6489729",
   "metadata": {},
   "outputs": [
    {
     "data": {
      "text/plain": [
       "dict_keys(['essay_id', 'fold', 'input_ids', 'attention_mask', 'offset_mapping', 'token_class_labels', 'token_scores_labels', 'token_examples_mapping', 'examples_scores', 'examples_classes'])"
      ]
     },
     "execution_count": 37,
     "metadata": {},
     "output_type": "execute_result"
    }
   ],
   "source": [
    "ttt.keys()"
   ]
  },
  {
   "cell_type": "code",
   "execution_count": 38,
   "id": "05f4c4cf",
   "metadata": {},
   "outputs": [
    {
     "name": "stdout",
     "output_type": "stream",
     "text": [
      "0 False\n",
      "Do you remember the summer projects that you had to do during summer break? Even now as fewer places require summer projects for all class,they are still an important thing for both students and teachers. They allow both so see how the other is either by teaching style or how they did on the content.\n",
      "************************************************************\n",
      "Do you remember the summer projects that you had to do during summer break? Even now as fewer places require summer projects for all class,they are still an important thing for both students and teachers. They allow both so see how the other is either by teaching style or how they did on the content. \n",
      "************************************************************\n",
      "1 False\n",
      "The summer projects should be teacher designed\n",
      "************************************************************\n",
      "The summer projects should be teacher designed \n",
      "************************************************************\n",
      "2 False\n",
      "it gives the teacher a chance to gauge the students academic level,\n",
      "************************************************************\n",
      "it gives the teacher a chance to gauge the students academic level \n",
      "************************************************************\n",
      "3 False\n",
      "base it on what they will be learning that year,\n",
      "************************************************************\n",
      "base it on what they will be learning that year \n",
      "************************************************************\n",
      "4 False\n",
      "and learn the learning style of students.||\n",
      "************************************************************\n",
      "and learn the learning style of students. \n",
      "\n",
      "************************************************************\n",
      "5 False\n",
      "Some say that student designed summer projects are better because they allow the student to pick something that they find interesting and that they understand.\n",
      "************************************************************\n",
      "Some say that student designed summer projects are better because they allow the student to pick something that they find interesting and that they understand. \n",
      "************************************************************\n",
      "6 False\n",
      "And while it may be good that the student is interested in the topic they are working on it sort off defeats the purpose of the project. Because the projects are suppose to be a introduction into the next year and a way for the teacher to learn about the students.\n",
      "************************************************************\n",
      "And while it may be good that the student is interested in the topic they are working on it sort off defeats the purpose of the project. Because the projects are suppose to be a introduction into the next year and a way for the teacher to learn about the students \n",
      "************************************************************\n",
      "7 False\n",
      "A student who is knowable able about history may design a project about Ancient Egypt,but if they already know the topic,they aren't learning anything. And while having the students create the projects may allow for more originality in the type and topic of them. That dosen't give the teacher the view of the student that they are meant to give teachers. Most students will design the project if given the chance to be easy so that they can have a good grade to start the year out. But that dosen't let the teacher see their strength and weakness,and the puts them at a disadvantage because the teacher wont know were the need help till it might be to late. If a student knows they have an English timed writing in Ms. Generic_Name class when they get into school,and they get to pic the book they analyze for it. They will pick and book probably that is on the easier side and that they understand. But if they are assigned a book by Ms. Generic_Name, she can see what skills they need when they do the writing.|\n",
      "************************************************************\n",
      "A student who is knowable able about history may design a project about Ancient Egypt,but if they already know the topic,they aren't learning anything. And while having the students create the projects may allow for more originality in the type and topic of them. That dosen't give the teacher the view of the student that they are meant to give teachers. Most students will design the project if given the chance to be easy so that they can have a good grade to start the year out. But that dosen't let the teacher see their strength and weakness,and the puts them at a disadvantage because the teacher wont know were the need help till it might be to late. If a student knows they have an English timed writing in Ms. Generic_Name class when they get into school,and they get to pic the book they analyze for it. They will pick and book probably that is on the easier side and that they understand. But if they are assigned a book by Ms. Generic_Name, she can see what skills they need when they do the writing. \n",
      "************************************************************\n",
      "8 False\n",
      "|Teacher-designed summer projects allow teachers to gauge students academic level on various topics.\n",
      "************************************************************\n",
      "Teacher-designed summer projects allow teachers to gauge students academic level on various topics. \n",
      "************************************************************\n",
      "9 False\n",
      "The teacher can create different problems bases on different levels of understanding to see which students get what level. This allows them a more direct view then viewing grades or passed assignments because the students may have improved since that was done. Once the teacher can see what academic level the students are on it allows them to create curriculum that allows everyone to understand and be successful during their class. If Mr. Generic_Name has a majority of people in his algebra 2 class that dont understand functions,he might spend some more time on the basics since a majority of the year will be using functions of some sort.||It also allows them to see who might need extra help in a subject and who can do it by them selves.\n",
      "************************************************************\n",
      "The teacher can create different problems bases on different levels of understanding to see which students get what level. This allows them a more direct view then viewing grades or passed assignments because the students may have improved since that was done. Once the teacher can see what academic level the students are on it allows them to create curriculum that allows everyone to understand and be successful during their class. If Mr. Generic_Name has a majority of people in his algebra 2 class that dont understand functions,he might spend some more time on the basics since a majority of the year will be using functions of some sort.\n",
      "\n",
      "It also allows them to see who might need extra help in a subject and who can do it by them selves. \n",
      "************************************************************\n",
      "10 False\n",
      "designed summer projects also allow teachers to give a glimpse into the years curriculum.||\n",
      "************************************************************\n",
      "eacher designed summer projects also allow teachers to give a glimpse into the years curriculum. \n",
      "\n",
      "************************************************************\n",
      "11 False\n",
      "Students can get a glimpse into the curriculum of the year from teacher designed summer projects because they can insert preassesment questions to get a handle on prior knowledge or have questions that tie ideas from the previous year into the new one. For example,Mr. Generic_Name could put in a questions about the cold war to see what people know. If a majority of the class has an understanding they can spend less time on that during the year and more on areas they are more shaky on. English and Math teachers can have problems were they have student uses old methods to solve new types of problems. This allows them to see if they need to spend more time on the basics before moving on to more advanced topics.\n",
      "************************************************************\n",
      "Students can get a glimpse into the curriculum of the year from teacher designed summer projects because they can insert preassesment questions to get a handle on prior knowledge or have questions that tie ideas from the previous year into the new one. For example,Mr. Generic_Name could put in a questions about the cold war to see what people know. If a majority of the class has an understanding they can spend less time on that during the year and more on areas they are more shaky on. English and Math teachers can have problems were they have student uses old methods to solve new types of problems. This allows them to see if they need to spend more time on the basics before moving on to more advanced topics. \n",
      "************************************************************\n",
      "12 False\n",
      "Teacher designed summer projects in addition allow teachers the ability to see the students learning style and learn them.|\n",
      "************************************************************\n",
      "Teacher designed summer projects in addition allow teachers the ability to see the students learning style and learn them. \n",
      "************************************************************\n",
      "13 False\n",
      "|Teachers can see the learning style of students by including different types of questions bases on different learning styles. In the projects,they design they could included questions that appeal to visual learners as well as topics that appeal to mental learners. In math and science,they can included different ways of getting to the solution to see which way the student do the best on. This allows the teacher to create assignments that cater to the students. Since every batch of students is different this allows the teacher to change their curriculum to fit the students they have this year so that they can leave successful and ready for what ever next. Not all years are going to be the same, Ms. Generic_Name might have a bunch of auditory learners one year but the next she has a bunch of tactile learners and if she designs her projects to look for that. She can plan accordingly and change her style a little so the students still leave her class successful.|\n",
      "************************************************************\n",
      "Teachers can see the learning style of students by including different types of questions bases on different learning styles. In the projects,they design they could included questions that appeal to visual learners as well as topics that appeal to mental learners. In math and science,they can included different ways of getting to the solution to see which way the student do the best on. This allows the teacher to create assignments that cater to the students. Since every batch of students is different this allows the teacher to change their curriculum to fit the students they have this year so that they can leave successful and ready for what ever next. Not all years are going to be the same, Ms. Generic_Name might have a bunch of auditory learners one year but the next she has a bunch of tactile learners and if she designs her projects to look for that. She can plan accordingly and change her style a little so the students still leave her class successful. \n",
      "************************************************************\n",
      "14 False\n",
      "|Those are some of the reasons schools should have Teacher designed summer projects. Schools should have their summer projects be designed by teachers because it allows the teacher to gauge students understanding of principles and topics,allows introduction of new material,and learn learning styles. All schools that do summer projects should allow Teachers to designed them because that will help the year go better for both the teacher and student.\n",
      "************************************************************\n",
      "Those are some of the reasons schools should have Teacher designed summer projects. Schools should have their summer projects be designed by teachers because it allows the teacher to gauge students understanding of principles and topics,allows introduction of new material,and learn learning styles. All schools that do summer projects should allow Teachers to designed them because that will help the year go better for both the teacher and student.          \n",
      "************************************************************\n"
     ]
    }
   ],
   "source": [
    "token_examples_mapping = ttt['token_examples_mapping']\n",
    "examples_scores = ttt['examples_scores']\n",
    "input_ids = ttt['input_ids']\n",
    "\n",
    "num_ex = max(token_examples_mapping)\n",
    "\n",
    "num_ex, len(examples_scores)\n",
    "\n",
    "import torch\n",
    "# for i in range(num_ex + 1):\n",
    "#     indices = torch.tensor(token_examples_mapping) == i\n",
    "#     tokens = torch.tensor(input_ids)[indices]\n",
    "#     text = tokenizer.decode(tokens)\n",
    "#     print(text)\n",
    "\n",
    "for i, (_, row) in enumerate(train[train.essay_id == '0F2199921C33'].iterrows()):\n",
    "    indices = torch.tensor(token_examples_mapping) == i\n",
    "    tokens = torch.tensor(input_ids)[indices]\n",
    "    text = tokenizer.decode(tokens)\n",
    "    text2 = row['discourse_text']\n",
    "    print(i, text==text2)\n",
    "    print(text)\n",
    "    print('*'*60)\n",
    "    print(text2)\n",
    "    print('*'*60)\n",
    "\n",
    "    "
   ]
  },
  {
   "cell_type": "code",
   "execution_count": 39,
   "id": "0d35b0e9",
   "metadata": {
    "papermill": {
     "duration": 112.051604,
     "end_time": "2022-07-10T21:38:20.626733",
     "exception": false,
     "start_time": "2022-07-10T21:36:28.575129",
     "status": "completed"
    },
    "tags": []
   },
   "outputs": [
    {
     "name": "stderr",
     "output_type": "stream",
     "text": [
      "  1%|▊                                                             | 52/4191 [00:00<00:56, 73.68it/s]"
     ]
    },
    {
     "name": "stdout",
     "output_type": "stream",
     "text": [
      "Wrong!! 077A62D46D30\n",
      "Wrong!! 086603D5B319\n"
     ]
    },
    {
     "name": "stderr",
     "output_type": "stream",
     "text": [
      "  2%|█▍                                                           | 100/4191 [00:01<00:46, 88.51it/s]"
     ]
    },
    {
     "name": "stdout",
     "output_type": "stream",
     "text": [
      "Wrong!! 0DDCAFAEA487\n",
      "Wrong!! 0F23D0A1E0F0\n"
     ]
    },
    {
     "name": "stderr",
     "output_type": "stream",
     "text": [
      "  3%|█▉                                                           | 136/4191 [00:01<00:53, 75.90it/s]"
     ]
    },
    {
     "name": "stdout",
     "output_type": "stream",
     "text": [
      "Wrong!! 12C08C0F6EE1\n",
      "Wrong!! 130F9B6DCCF9\n"
     ]
    },
    {
     "name": "stderr",
     "output_type": "stream",
     "text": [
      "  5%|███                                                          | 212/4191 [00:02<00:44, 89.48it/s]"
     ]
    },
    {
     "name": "stdout",
     "output_type": "stream",
     "text": [
      "Wrong!! 1D6188632F9B\n",
      "Wrong!! 1E235AB03C8A\n"
     ]
    },
    {
     "name": "stderr",
     "output_type": "stream",
     "text": [
      "  5%|███▎                                                         | 230/4191 [00:02<00:45, 87.89it/s]"
     ]
    },
    {
     "name": "stdout",
     "output_type": "stream",
     "text": [
      "Wrong!! 20162733792B\n",
      "Wrong!! 218490FD2E1B\n",
      "Wrong!! 22049B234D6C\n",
      "Wrong!! 22416450E0EF\n"
     ]
    },
    {
     "name": "stderr",
     "output_type": "stream",
     "text": [
      "  6%|███▋                                                         | 257/4191 [00:03<00:46, 85.18it/s]"
     ]
    },
    {
     "name": "stdout",
     "output_type": "stream",
     "text": [
      "Wrong!! 2321FAC1E823\n"
     ]
    },
    {
     "name": "stderr",
     "output_type": "stream",
     "text": [
      "  7%|████                                                         | 275/4191 [00:03<00:45, 85.15it/s]"
     ]
    },
    {
     "name": "stdout",
     "output_type": "stream",
     "text": [
      "Wrong!! 25C41D233D24\n"
     ]
    },
    {
     "name": "stderr",
     "output_type": "stream",
     "text": [
      "  8%|████▊                                                        | 331/4191 [00:04<00:43, 88.20it/s]"
     ]
    },
    {
     "name": "stdout",
     "output_type": "stream",
     "text": [
      "Wrong!! 2DA25C61D18D\n",
      "Wrong!! 2DC33D804E4A\n",
      "Wrong!! 2E67DBD40D46\n"
     ]
    },
    {
     "name": "stderr",
     "output_type": "stream",
     "text": [
      "  9%|█████▍                                                       | 376/4191 [00:04<00:45, 83.97it/s]"
     ]
    },
    {
     "name": "stdout",
     "output_type": "stream",
     "text": [
      "Wrong!! 34C979F3ABAA\n",
      "Wrong!! 35C1EF0AD877\n"
     ]
    },
    {
     "name": "stderr",
     "output_type": "stream",
     "text": [
      " 10%|█████▊                                                       | 403/4191 [00:04<00:44, 85.62it/s]"
     ]
    },
    {
     "name": "stdout",
     "output_type": "stream",
     "text": [
      "Wrong!! 38F506B031E1\n"
     ]
    },
    {
     "name": "stderr",
     "output_type": "stream",
     "text": [
      " 10%|██████▎                                                      | 430/4191 [00:05<00:43, 86.27it/s]"
     ]
    },
    {
     "name": "stdout",
     "output_type": "stream",
     "text": [
      "Wrong!! 3BFD98581812\n"
     ]
    },
    {
     "name": "stderr",
     "output_type": "stream",
     "text": [
      " 11%|██████▌                                                      | 448/4191 [00:05<00:43, 86.37it/s]"
     ]
    },
    {
     "name": "stdout",
     "output_type": "stream",
     "text": [
      "Wrong!! 3EEDE8AD3CB3\n",
      "Wrong!! 3F8C6F9EBDEB\n"
     ]
    },
    {
     "name": "stderr",
     "output_type": "stream",
     "text": [
      " 12%|███████▏                                                     | 493/4191 [00:05<00:42, 86.84it/s]"
     ]
    },
    {
     "name": "stdout",
     "output_type": "stream",
     "text": [
      "Wrong!! 43FDEB1E411C\n"
     ]
    },
    {
     "name": "stderr",
     "output_type": "stream",
     "text": [
      " 12%|███████▌                                                     | 521/4191 [00:06<00:41, 87.84it/s]"
     ]
    },
    {
     "name": "stdout",
     "output_type": "stream",
     "text": [
      "Wrong!! 47953D11C79C\n",
      "Wrong!! 47CAD052900E\n"
     ]
    },
    {
     "name": "stderr",
     "output_type": "stream",
     "text": [
      " 14%|████████▎                                                    | 567/4191 [00:06<00:40, 88.42it/s]"
     ]
    },
    {
     "name": "stdout",
     "output_type": "stream",
     "text": [
      "Wrong!! 4FAC3B29417F\n"
     ]
    },
    {
     "name": "stderr",
     "output_type": "stream",
     "text": [
      " 14%|████████▊                                                    | 604/4191 [00:07<00:43, 83.04it/s]"
     ]
    },
    {
     "name": "stdout",
     "output_type": "stream",
     "text": [
      "Wrong!! 53E064890ABC\n",
      "Wrong!! 54351180CD4F\n"
     ]
    },
    {
     "name": "stderr",
     "output_type": "stream",
     "text": [
      " 15%|█████████                                                    | 622/4191 [00:07<00:42, 84.03it/s]"
     ]
    },
    {
     "name": "stdout",
     "output_type": "stream",
     "text": [
      "Wrong!! 57596DF3AD20\n"
     ]
    },
    {
     "name": "stderr",
     "output_type": "stream",
     "text": [
      " 16%|█████████▊                                                   | 677/4191 [00:08<00:41, 85.55it/s]"
     ]
    },
    {
     "name": "stdout",
     "output_type": "stream",
     "text": [
      "Wrong!! 6198205BB70E\n",
      "Wrong!! 62BC144D48C1\n"
     ]
    },
    {
     "name": "stderr",
     "output_type": "stream",
     "text": [
      " 17%|██████████▋                                                  | 731/4191 [00:08<00:41, 83.24it/s]"
     ]
    },
    {
     "name": "stdout",
     "output_type": "stream",
     "text": [
      "Wrong!! 69A1A0E6B176\n",
      "Wrong!! 6A273D6F0816\n",
      "Wrong!! 6C09B4AA6A77\n"
     ]
    },
    {
     "name": "stderr",
     "output_type": "stream",
     "text": [
      " 18%|███████████▏                                                 | 767/4191 [00:09<00:40, 83.95it/s]"
     ]
    },
    {
     "name": "stdout",
     "output_type": "stream",
     "text": [
      "Wrong!! 6FAA9368824D\n"
     ]
    },
    {
     "name": "stderr",
     "output_type": "stream",
     "text": [
      " 19%|███████████▋                                                 | 803/4191 [00:09<00:40, 83.36it/s]"
     ]
    },
    {
     "name": "stdout",
     "output_type": "stream",
     "text": [
      "Wrong!! 749A62B003A5\n"
     ]
    },
    {
     "name": "stderr",
     "output_type": "stream",
     "text": [
      " 20%|███████████▉                                                 | 821/4191 [00:09<00:39, 84.26it/s]"
     ]
    },
    {
     "name": "stdout",
     "output_type": "stream",
     "text": [
      "Wrong!! 761E554AE3D8\n",
      "Wrong!! 7742D58270C9\n",
      "Wrong!! 7794085FE26D\n"
     ]
    },
    {
     "name": "stderr",
     "output_type": "stream",
     "text": [
      " 20%|████████████▎                                                | 848/4191 [00:10<00:39, 84.17it/s]"
     ]
    },
    {
     "name": "stdout",
     "output_type": "stream",
     "text": [
      "Wrong!! 7A3E4D5F7F6D\n",
      "Wrong!! 7BE3B580C5DB\n",
      "Wrong!! 7D378AEFD0C3\n"
     ]
    },
    {
     "name": "stderr",
     "output_type": "stream",
     "text": [
      " 21%|████████████▌                                                | 866/4191 [00:10<00:40, 81.14it/s]"
     ]
    },
    {
     "name": "stdout",
     "output_type": "stream",
     "text": [
      "Wrong!! 7E2EF53A56BC\n",
      "Wrong!! 7EC34F21069A\n"
     ]
    },
    {
     "name": "stderr",
     "output_type": "stream",
     "text": [
      " 21%|████████████▉                                                | 885/4191 [00:10<00:39, 83.97it/s]"
     ]
    },
    {
     "name": "stdout",
     "output_type": "stream",
     "text": [
      "Wrong!! 80FE1A70F85C\n",
      "Wrong!! 811B878CE2C1\n"
     ]
    },
    {
     "name": "stderr",
     "output_type": "stream",
     "text": [
      " 22%|█████████████▎                                               | 912/4191 [00:10<00:38, 84.16it/s]"
     ]
    },
    {
     "name": "stdout",
     "output_type": "stream",
     "text": [
      "Wrong!! 84305C417C4B\n",
      "Wrong!! 84DA3A4E84CC\n"
     ]
    },
    {
     "name": "stderr",
     "output_type": "stream",
     "text": [
      " 22%|█████████████▋                                               | 940/4191 [00:11<00:37, 85.77it/s]"
     ]
    },
    {
     "name": "stdout",
     "output_type": "stream",
     "text": [
      "Wrong!! 8836AD393A34\n",
      "Wrong!! 8A658A988B96\n"
     ]
    },
    {
     "name": "stderr",
     "output_type": "stream",
     "text": [
      " 23%|██████████████                                               | 968/4191 [00:11<00:37, 86.34it/s]"
     ]
    },
    {
     "name": "stdout",
     "output_type": "stream",
     "text": [
      "Wrong!! 8BFA8777316F\n"
     ]
    },
    {
     "name": "stderr",
     "output_type": "stream",
     "text": [
      " 24%|██████████████▍                                              | 995/4191 [00:11<00:38, 83.96it/s]"
     ]
    },
    {
     "name": "stdout",
     "output_type": "stream",
     "text": [
      "Wrong!! 902A59ECB525\n",
      "Wrong!! 90345B5B064D\n",
      "Wrong!! 90BC4A0EDED0\n",
      "Wrong!! 920DC8B0BC4E\n"
     ]
    },
    {
     "name": "stderr",
     "output_type": "stream",
     "text": [
      " 24%|██████████████▌                                             | 1014/4191 [00:12<00:36, 86.17it/s]"
     ]
    },
    {
     "name": "stdout",
     "output_type": "stream",
     "text": [
      "Wrong!! 939C163906D1\n"
     ]
    },
    {
     "name": "stderr",
     "output_type": "stream",
     "text": [
      " 25%|██████████████▊                                             | 1032/4191 [00:12<00:40, 77.36it/s]"
     ]
    },
    {
     "name": "stdout",
     "output_type": "stream",
     "text": [
      "Wrong!! 95DC8A3C2EFD\n",
      "Wrong!! 9615F113FAA1\n"
     ]
    },
    {
     "name": "stderr",
     "output_type": "stream",
     "text": [
      " 25%|███████████████                                             | 1049/4191 [00:12<00:43, 72.13it/s]"
     ]
    },
    {
     "name": "stdout",
     "output_type": "stream",
     "text": [
      "Wrong!! 9865A4972C51\n",
      "Wrong!! 98B33A9F1D9C\n"
     ]
    },
    {
     "name": "stderr",
     "output_type": "stream",
     "text": [
      " 26%|███████████████▍                                            | 1075/4191 [00:12<00:41, 74.20it/s]"
     ]
    },
    {
     "name": "stdout",
     "output_type": "stream",
     "text": [
      "Wrong!! 9AED08D70C4C\n"
     ]
    },
    {
     "name": "stderr",
     "output_type": "stream",
     "text": [
      " 27%|████████████████▏                                           | 1130/4191 [00:13<00:35, 85.12it/s]"
     ]
    },
    {
     "name": "stdout",
     "output_type": "stream",
     "text": [
      "Wrong!! A3041B0D7D5E\n",
      "Wrong!! A4ADCC04C319\n"
     ]
    },
    {
     "name": "stderr",
     "output_type": "stream",
     "text": [
      " 28%|████████████████▊                                           | 1175/4191 [00:14<00:35, 84.55it/s]"
     ]
    },
    {
     "name": "stdout",
     "output_type": "stream",
     "text": [
      "Wrong!! A954E3B54194\n"
     ]
    },
    {
     "name": "stderr",
     "output_type": "stream",
     "text": [
      " 28%|█████████████████                                           | 1193/4191 [00:14<00:36, 83.10it/s]"
     ]
    },
    {
     "name": "stdout",
     "output_type": "stream",
     "text": [
      "Wrong!! AC5F232F9F99\n"
     ]
    },
    {
     "name": "stderr",
     "output_type": "stream",
     "text": [
      " 30%|██████████████████▏                                         | 1274/4191 [00:15<00:35, 81.43it/s]"
     ]
    },
    {
     "name": "stdout",
     "output_type": "stream",
     "text": [
      "Wrong!! B7E936A82959\n",
      "Wrong!! B8B5B46DA523\n"
     ]
    },
    {
     "name": "stderr",
     "output_type": "stream",
     "text": [
      " 31%|██████████████████▋                                         | 1302/4191 [00:15<00:33, 85.78it/s]"
     ]
    },
    {
     "name": "stdout",
     "output_type": "stream",
     "text": [
      "Wrong!! BAC5264E2DCE\n"
     ]
    },
    {
     "name": "stderr",
     "output_type": "stream",
     "text": [
      " 31%|██████████████████▉                                         | 1320/4191 [00:15<00:33, 84.61it/s]"
     ]
    },
    {
     "name": "stdout",
     "output_type": "stream",
     "text": [
      "Wrong!! BDCD981437BB\n",
      "Wrong!! BE1F20C5B099\n",
      "Wrong!! BE243683124A\n"
     ]
    },
    {
     "name": "stderr",
     "output_type": "stream",
     "text": [
      " 33%|███████████████████▌                                        | 1366/4191 [00:16<00:33, 85.41it/s]"
     ]
    },
    {
     "name": "stdout",
     "output_type": "stream",
     "text": [
      "Wrong!! C5021AF61E5F\n",
      "Wrong!! C51752A9035C\n",
      "Wrong!! C5A3278EB458\n",
      "Wrong!! C7373B980F7E\n",
      "Wrong!! C7FA88E9DF3B\n"
     ]
    },
    {
     "name": "stderr",
     "output_type": "stream",
     "text": [
      " 34%|████████████████████▏                                       | 1411/4191 [00:16<00:33, 83.43it/s]"
     ]
    },
    {
     "name": "stdout",
     "output_type": "stream",
     "text": [
      "Wrong!! CBA185D3B277\n"
     ]
    },
    {
     "name": "stderr",
     "output_type": "stream",
     "text": [
      " 34%|████████████████████▌                                       | 1438/4191 [00:17<00:32, 84.80it/s]"
     ]
    },
    {
     "name": "stdout",
     "output_type": "stream",
     "text": [
      "Wrong!! CFAFADA9A2C3\n"
     ]
    },
    {
     "name": "stderr",
     "output_type": "stream",
     "text": [
      " 35%|████████████████████▊                                       | 1456/4191 [00:17<00:32, 83.73it/s]"
     ]
    },
    {
     "name": "stdout",
     "output_type": "stream",
     "text": [
      "Wrong!! D228AB564BF6\n"
     ]
    },
    {
     "name": "stderr",
     "output_type": "stream",
     "text": [
      " 36%|█████████████████████▍                                      | 1501/4191 [00:18<00:31, 84.18it/s]"
     ]
    },
    {
     "name": "stdout",
     "output_type": "stream",
     "text": [
      "Wrong!! D8FA1F4C6D5C\n",
      "Wrong!! D99A8FDB17D8\n"
     ]
    },
    {
     "name": "stderr",
     "output_type": "stream",
     "text": [
      " 36%|█████████████████████▋                                      | 1519/4191 [00:18<00:31, 85.07it/s]"
     ]
    },
    {
     "name": "stdout",
     "output_type": "stream",
     "text": [
      "Wrong!! DBBF3EF47E93\n",
      "Wrong!! DE01C3FDCA0A\n"
     ]
    },
    {
     "name": "stderr",
     "output_type": "stream",
     "text": [
      " 37%|██████████████████████▏                                     | 1547/4191 [00:18<00:30, 86.94it/s]"
     ]
    },
    {
     "name": "stdout",
     "output_type": "stream",
     "text": [
      "Wrong!! E04E83CEF5DA\n"
     ]
    },
    {
     "name": "stderr",
     "output_type": "stream",
     "text": [
      " 37%|██████████████████████▍                                     | 1565/4191 [00:18<00:30, 86.60it/s]"
     ]
    },
    {
     "name": "stdout",
     "output_type": "stream",
     "text": [
      "Wrong!! E34D011F7B98\n",
      "Wrong!! E595E218D423\n"
     ]
    },
    {
     "name": "stderr",
     "output_type": "stream",
     "text": [
      " 38%|██████████████████████▉                                     | 1601/4191 [00:19<00:29, 87.47it/s]"
     ]
    },
    {
     "name": "stdout",
     "output_type": "stream",
     "text": [
      "Wrong!! E76B78A22B99\n",
      "Wrong!! E8DD7458130E\n",
      "Wrong!! E9E9AEC9100C\n"
     ]
    },
    {
     "name": "stderr",
     "output_type": "stream",
     "text": [
      " 39%|███████████████████████▎                                    | 1628/4191 [00:19<00:30, 84.52it/s]"
     ]
    },
    {
     "name": "stdout",
     "output_type": "stream",
     "text": [
      "Wrong!! EBD36D034DAC\n",
      "Wrong!! EC7C81E59E9E\n",
      "Wrong!! ED7F7B6E4C8E\n"
     ]
    },
    {
     "name": "stderr",
     "output_type": "stream",
     "text": [
      " 40%|████████████████████████                                    | 1682/4191 [00:20<00:30, 83.44it/s]"
     ]
    },
    {
     "name": "stdout",
     "output_type": "stream",
     "text": [
      "Wrong!! F2C57EEEF02C\n"
     ]
    },
    {
     "name": "stderr",
     "output_type": "stream",
     "text": [
      " 41%|████████████████████████▎                                   | 1700/4191 [00:20<00:29, 83.21it/s]"
     ]
    },
    {
     "name": "stdout",
     "output_type": "stream",
     "text": [
      "Wrong!! F50D3D001E67\n"
     ]
    },
    {
     "name": "stderr",
     "output_type": "stream",
     "text": [
      " 42%|█████████████████████████                                   | 1754/4191 [00:21<00:28, 85.44it/s]"
     ]
    },
    {
     "name": "stdout",
     "output_type": "stream",
     "text": [
      "Wrong!! FB6A513EBFC6\n"
     ]
    },
    {
     "name": "stderr",
     "output_type": "stream",
     "text": [
      " 43%|█████████████████████████▋                                  | 1792/4191 [00:21<00:27, 86.93it/s]"
     ]
    },
    {
     "name": "stdout",
     "output_type": "stream",
     "text": [
      "Wrong!! 0056F3D261D5\n"
     ]
    },
    {
     "name": "stderr",
     "output_type": "stream",
     "text": [
      " 43%|██████████████████████████                                  | 1819/4191 [00:21<00:28, 84.17it/s]"
     ]
    },
    {
     "name": "stdout",
     "output_type": "stream",
     "text": [
      "Wrong!! 04ACF5873DE9\n",
      "Wrong!! 0565752FDEEF\n",
      "Wrong!! 05BE83E193CF\n"
     ]
    },
    {
     "name": "stderr",
     "output_type": "stream",
     "text": [
      " 44%|██████████████████████████▋                                 | 1864/4191 [00:22<00:28, 82.80it/s]"
     ]
    },
    {
     "name": "stdout",
     "output_type": "stream",
     "text": [
      "Wrong!! 08FC0154E0EF\n",
      "Wrong!! 091375884D88\n"
     ]
    },
    {
     "name": "stderr",
     "output_type": "stream",
     "text": [
      " 46%|███████████████████████████▍                                | 1918/4191 [00:22<00:26, 85.19it/s]"
     ]
    },
    {
     "name": "stdout",
     "output_type": "stream",
     "text": [
      "Wrong!! 0F6250B6D784\n",
      "Wrong!! 0FADC137B8B7\n",
      "Wrong!! 109DCAEA47FD\n"
     ]
    },
    {
     "name": "stderr",
     "output_type": "stream",
     "text": [
      " 47%|████████████████████████████                                | 1963/4191 [00:23<00:25, 86.35it/s]"
     ]
    },
    {
     "name": "stdout",
     "output_type": "stream",
     "text": [
      "Wrong!! 146550E45D18\n"
     ]
    },
    {
     "name": "stderr",
     "output_type": "stream",
     "text": [
      " 47%|████████████████████████████▍                               | 1982/4191 [00:23<00:25, 87.83it/s]"
     ]
    },
    {
     "name": "stdout",
     "output_type": "stream",
     "text": [
      "Wrong!! 16D1A7B1BC84\n"
     ]
    },
    {
     "name": "stderr",
     "output_type": "stream",
     "text": [
      " 49%|█████████████████████████████▏                              | 2036/4191 [00:24<00:25, 85.12it/s]"
     ]
    },
    {
     "name": "stdout",
     "output_type": "stream",
     "text": [
      "Wrong!! 1DC257172C29\n"
     ]
    },
    {
     "name": "stderr",
     "output_type": "stream",
     "text": [
      " 50%|█████████████████████████████▊                              | 2082/4191 [00:24<00:23, 87.97it/s]"
     ]
    },
    {
     "name": "stdout",
     "output_type": "stream",
     "text": [
      "Wrong!! 237E08ECC729\n",
      "Wrong!! 243ED18B29C0\n"
     ]
    },
    {
     "name": "stderr",
     "output_type": "stream",
     "text": [
      " 53%|███████████████████████████████▋                            | 2217/4191 [00:26<00:23, 84.09it/s]"
     ]
    },
    {
     "name": "stdout",
     "output_type": "stream",
     "text": [
      "Wrong!! 32C41C1CBA06\n"
     ]
    },
    {
     "name": "stderr",
     "output_type": "stream",
     "text": [
      " 54%|████████████████████████████████▏                           | 2244/4191 [00:26<00:23, 81.58it/s]"
     ]
    },
    {
     "name": "stdout",
     "output_type": "stream",
     "text": [
      "Wrong!! 364FBA0A27EA\n"
     ]
    },
    {
     "name": "stderr",
     "output_type": "stream",
     "text": [
      " 54%|████████████████████████████████▋                           | 2280/4191 [00:27<00:23, 81.57it/s]"
     ]
    },
    {
     "name": "stdout",
     "output_type": "stream",
     "text": [
      "Wrong!! 39DCB6EF34D9\n"
     ]
    },
    {
     "name": "stderr",
     "output_type": "stream",
     "text": [
      " 56%|█████████████████████████████████▋                          | 2350/4191 [00:28<00:25, 71.15it/s]"
     ]
    },
    {
     "name": "stdout",
     "output_type": "stream",
     "text": [
      "Wrong!! 42D8CCA3643E\n"
     ]
    },
    {
     "name": "stderr",
     "output_type": "stream",
     "text": [
      " 57%|██████████████████████████████████                          | 2383/4191 [00:28<00:27, 65.22it/s]"
     ]
    },
    {
     "name": "stdout",
     "output_type": "stream",
     "text": [
      "Wrong!! 45F644FB9B80\n",
      "Wrong!! 46E97FDCA469\n"
     ]
    },
    {
     "name": "stderr",
     "output_type": "stream",
     "text": [
      " 58%|██████████████████████████████████▌                         | 2414/4191 [00:29<00:26, 66.75it/s]"
     ]
    },
    {
     "name": "stdout",
     "output_type": "stream",
     "text": [
      "Wrong!! 4933B56F9E7B\n",
      "Wrong!! 4B6343C4BF5B\n"
     ]
    },
    {
     "name": "stderr",
     "output_type": "stream",
     "text": [
      " 58%|██████████████████████████████████▉                         | 2442/4191 [00:29<00:21, 80.37it/s]"
     ]
    },
    {
     "name": "stdout",
     "output_type": "stream",
     "text": [
      "Wrong!! 4BDCA46AC00E\n",
      "Wrong!! 4E48D58E859A\n"
     ]
    },
    {
     "name": "stderr",
     "output_type": "stream",
     "text": [
      " 59%|███████████████████████████████████▌                        | 2484/4191 [00:30<00:22, 74.88it/s]"
     ]
    },
    {
     "name": "stdout",
     "output_type": "stream",
     "text": [
      "Wrong!! 52432D25C86B\n",
      "Wrong!! 530A7F55A2DC\n"
     ]
    },
    {
     "name": "stderr",
     "output_type": "stream",
     "text": [
      " 60%|███████████████████████████████████▉                        | 2510/4191 [00:30<00:21, 79.61it/s]"
     ]
    },
    {
     "name": "stdout",
     "output_type": "stream",
     "text": [
      "Wrong!! 551BD9A8F311\n",
      "Wrong!! 5729D5AE055C\n"
     ]
    },
    {
     "name": "stderr",
     "output_type": "stream",
     "text": [
      " 61%|████████████████████████████████████▌                       | 2555/4191 [00:30<00:20, 81.41it/s]"
     ]
    },
    {
     "name": "stdout",
     "output_type": "stream",
     "text": [
      "Wrong!! 5B1604AE437E\n",
      "Wrong!! 5B43D8B934CC\n",
      "Wrong!! 5B4D05042A6B\n",
      "Wrong!! 5C7AF7C12082\n"
     ]
    },
    {
     "name": "stderr",
     "output_type": "stream",
     "text": [
      " 61%|████████████████████████████████████▊                       | 2574/4191 [00:31<00:19, 83.89it/s]"
     ]
    },
    {
     "name": "stdout",
     "output_type": "stream",
     "text": [
      "Wrong!! 5CE073B74680\n"
     ]
    },
    {
     "name": "stderr",
     "output_type": "stream",
     "text": [
      " 63%|█████████████████████████████████████▉                      | 2647/4191 [00:32<00:18, 84.78it/s]"
     ]
    },
    {
     "name": "stdout",
     "output_type": "stream",
     "text": [
      "Wrong!! 65D771A9D1FD\n"
     ]
    },
    {
     "name": "stderr",
     "output_type": "stream",
     "text": [
      " 64%|██████████████████████████████████████▍                     | 2683/4191 [00:32<00:17, 84.40it/s]"
     ]
    },
    {
     "name": "stdout",
     "output_type": "stream",
     "text": [
      "Wrong!! 69ADC83F4BBE\n",
      "Wrong!! 6B56C630FFC5\n"
     ]
    },
    {
     "name": "stderr",
     "output_type": "stream",
     "text": [
      " 65%|██████████████████████████████████████▉                     | 2719/4191 [00:32<00:19, 75.52it/s]"
     ]
    },
    {
     "name": "stdout",
     "output_type": "stream",
     "text": [
      "Wrong!! 6E919842050C\n"
     ]
    },
    {
     "name": "stderr",
     "output_type": "stream",
     "text": [
      " 66%|███████████████████████████████████████▎                    | 2747/4191 [00:33<00:17, 81.92it/s]"
     ]
    },
    {
     "name": "stdout",
     "output_type": "stream",
     "text": [
      "Wrong!! 718800CC3C50\n"
     ]
    },
    {
     "name": "stderr",
     "output_type": "stream",
     "text": [
      " 66%|███████████████████████████████████████▊                    | 2783/4191 [00:33<00:16, 85.74it/s]"
     ]
    },
    {
     "name": "stdout",
     "output_type": "stream",
     "text": [
      "Wrong!! 74540DF965DE\n",
      "Wrong!! 745F2414FCA9\n",
      "Wrong!! 74F07823BCB9\n"
     ]
    },
    {
     "name": "stderr",
     "output_type": "stream",
     "text": [
      " 67%|████████████████████████████████████████                    | 2801/4191 [00:33<00:16, 86.63it/s]"
     ]
    },
    {
     "name": "stdout",
     "output_type": "stream",
     "text": [
      "Wrong!! 75E9D43EB9E4\n",
      "Wrong!! 76764A83DA39\n",
      "Wrong!! 76A03B929C4B\n"
     ]
    },
    {
     "name": "stderr",
     "output_type": "stream",
     "text": [
      " 67%|████████████████████████████████████████▎                   | 2819/4191 [00:34<00:15, 87.16it/s]"
     ]
    },
    {
     "name": "stdout",
     "output_type": "stream",
     "text": [
      "Wrong!! 780B302C5523\n"
     ]
    },
    {
     "name": "stderr",
     "output_type": "stream",
     "text": [
      " 68%|████████████████████████████████████████▊                   | 2855/4191 [00:34<00:15, 86.84it/s]"
     ]
    },
    {
     "name": "stdout",
     "output_type": "stream",
     "text": [
      "Wrong!! 7D5909D8FBA3\n"
     ]
    },
    {
     "name": "stderr",
     "output_type": "stream",
     "text": [
      " 69%|█████████████████████████████████████████▎                  | 2882/4191 [00:34<00:15, 86.46it/s]"
     ]
    },
    {
     "name": "stdout",
     "output_type": "stream",
     "text": [
      "Wrong!! 801C34D883FD\n"
     ]
    },
    {
     "name": "stderr",
     "output_type": "stream",
     "text": [
      " 69%|█████████████████████████████████████████▋                  | 2909/4191 [00:35<00:14, 86.53it/s]"
     ]
    },
    {
     "name": "stdout",
     "output_type": "stream",
     "text": [
      "Wrong!! 85417E9C78E7\n",
      "Wrong!! 85B74EF4E441\n",
      "Wrong!! 876A650B692E\n"
     ]
    },
    {
     "name": "stderr",
     "output_type": "stream",
     "text": [
      " 70%|██████████████████████████████████████████▏                 | 2945/4191 [00:35<00:14, 85.57it/s]"
     ]
    },
    {
     "name": "stdout",
     "output_type": "stream",
     "text": [
      "Wrong!! 89C55AA2CA12\n",
      "Wrong!! 8B095EB24288\n"
     ]
    },
    {
     "name": "stderr",
     "output_type": "stream",
     "text": [
      " 71%|██████████████████████████████████████████▋                 | 2981/4191 [00:35<00:14, 83.54it/s]"
     ]
    },
    {
     "name": "stdout",
     "output_type": "stream",
     "text": [
      "Wrong!! 8F6F0CD4986A\n"
     ]
    },
    {
     "name": "stderr",
     "output_type": "stream",
     "text": [
      " 72%|███████████████████████████████████████████                 | 3008/4191 [00:36<00:14, 82.95it/s]"
     ]
    },
    {
     "name": "stdout",
     "output_type": "stream",
     "text": [
      "Wrong!! 91B00B44402B\n"
     ]
    },
    {
     "name": "stderr",
     "output_type": "stream",
     "text": [
      " 72%|███████████████████████████████████████████▍                | 3035/4191 [00:36<00:14, 81.90it/s]"
     ]
    },
    {
     "name": "stdout",
     "output_type": "stream",
     "text": [
      "Wrong!! 94B72A7C1E6B\n",
      "Wrong!! 957C84D3B1F0\n"
     ]
    },
    {
     "name": "stderr",
     "output_type": "stream",
     "text": [
      " 74%|████████████████████████████████████████████▍               | 3108/4191 [00:37<00:12, 83.87it/s]"
     ]
    },
    {
     "name": "stdout",
     "output_type": "stream",
     "text": [
      "Wrong!! 9FDB425F1FE9\n"
     ]
    },
    {
     "name": "stderr",
     "output_type": "stream",
     "text": [
      " 75%|█████████████████████████████████████████████               | 3144/4191 [00:37<00:12, 81.25it/s]"
     ]
    },
    {
     "name": "stdout",
     "output_type": "stream",
     "text": [
      "Wrong!! A3D23CFB2043\n",
      "Wrong!! A3D4D71B62F4\n"
     ]
    },
    {
     "name": "stderr",
     "output_type": "stream",
     "text": [
      " 76%|█████████████████████████████████████████████▌              | 3180/4191 [00:38<00:12, 83.14it/s]"
     ]
    },
    {
     "name": "stdout",
     "output_type": "stream",
     "text": [
      "Wrong!! A7EC6F462F8B\n",
      "Wrong!! A9105216AAA3\n"
     ]
    },
    {
     "name": "stderr",
     "output_type": "stream",
     "text": [
      " 76%|█████████████████████████████████████████████▊              | 3198/4191 [00:38<00:12, 82.60it/s]"
     ]
    },
    {
     "name": "stdout",
     "output_type": "stream",
     "text": [
      "Wrong!! AA0FF7AA95C3\n"
     ]
    },
    {
     "name": "stderr",
     "output_type": "stream",
     "text": [
      " 77%|██████████████████████████████████████████████▎             | 3234/4191 [00:39<00:11, 83.72it/s]"
     ]
    },
    {
     "name": "stdout",
     "output_type": "stream",
     "text": [
      "Wrong!! ACE3E472041C\n"
     ]
    },
    {
     "name": "stderr",
     "output_type": "stream",
     "text": [
      " 78%|██████████████████████████████████████████████▌             | 3252/4191 [00:39<00:10, 85.46it/s]"
     ]
    },
    {
     "name": "stdout",
     "output_type": "stream",
     "text": [
      "Wrong!! B02AD8EE0DF0\n",
      "Wrong!! B0D5228E9FBD\n",
      "Wrong!! B133FCABD0AF\n",
      "Wrong!! B242BB046FED\n"
     ]
    },
    {
     "name": "stderr",
     "output_type": "stream",
     "text": [
      " 78%|██████████████████████████████████████████████▉             | 3279/4191 [00:39<00:10, 83.88it/s]"
     ]
    },
    {
     "name": "stdout",
     "output_type": "stream",
     "text": [
      "Wrong!! B29198FD0748\n"
     ]
    },
    {
     "name": "stderr",
     "output_type": "stream",
     "text": [
      " 79%|███████████████████████████████████████████████▎            | 3306/4191 [00:39<00:10, 85.39it/s]"
     ]
    },
    {
     "name": "stdout",
     "output_type": "stream",
     "text": [
      "Wrong!! B5BFAD94E4E7\n"
     ]
    },
    {
     "name": "stderr",
     "output_type": "stream",
     "text": [
      " 80%|███████████████████████████████████████████████▊            | 3342/4191 [00:40<00:09, 85.53it/s]"
     ]
    },
    {
     "name": "stdout",
     "output_type": "stream",
     "text": [
      "Wrong!! B9871E7972A3\n",
      "Wrong!! BB3A6C2D0B65\n"
     ]
    },
    {
     "name": "stderr",
     "output_type": "stream",
     "text": [
      " 81%|████████████████████████████████████████████████▎           | 3378/4191 [00:40<00:09, 85.33it/s]"
     ]
    },
    {
     "name": "stdout",
     "output_type": "stream",
     "text": [
      "Wrong!! C06F7CD8DD21\n",
      "Wrong!! C086B02B3B90\n",
      "Wrong!! C0AC797246EE\n"
     ]
    },
    {
     "name": "stderr",
     "output_type": "stream",
     "text": [
      " 82%|█████████████████████████████████████████████████           | 3423/4191 [00:41<00:09, 81.21it/s]"
     ]
    },
    {
     "name": "stdout",
     "output_type": "stream",
     "text": [
      "Wrong!! C579A4D6151E\n"
     ]
    },
    {
     "name": "stderr",
     "output_type": "stream",
     "text": [
      " 82%|█████████████████████████████████████████████████▍          | 3452/4191 [00:41<00:08, 84.07it/s]"
     ]
    },
    {
     "name": "stdout",
     "output_type": "stream",
     "text": [
      "Wrong!! C9D717A3D912\n"
     ]
    },
    {
     "name": "stderr",
     "output_type": "stream",
     "text": [
      " 84%|██████████████████████████████████████████████████▏         | 3503/4191 [00:42<00:09, 74.19it/s]"
     ]
    },
    {
     "name": "stdout",
     "output_type": "stream",
     "text": [
      "Wrong!! D145F56FADED\n"
     ]
    },
    {
     "name": "stderr",
     "output_type": "stream",
     "text": [
      " 84%|██████████████████████████████████████████████████▌         | 3528/4191 [00:42<00:09, 70.14it/s]"
     ]
    },
    {
     "name": "stdout",
     "output_type": "stream",
     "text": [
      "Wrong!! D69B5E55F39D\n"
     ]
    },
    {
     "name": "stderr",
     "output_type": "stream",
     "text": [
      " 85%|██████████████████████████████████████████████████▉         | 3554/4191 [00:43<00:08, 76.83it/s]"
     ]
    },
    {
     "name": "stdout",
     "output_type": "stream",
     "text": [
      "Wrong!! D8F3209E84CF\n",
      "Wrong!! DA0ADB14BDB5\n"
     ]
    },
    {
     "name": "stderr",
     "output_type": "stream",
     "text": [
      " 86%|███████████████████████████████████████████████████▌        | 3599/4191 [00:43<00:07, 83.16it/s]"
     ]
    },
    {
     "name": "stdout",
     "output_type": "stream",
     "text": [
      "Wrong!! DE78893DB845\n",
      "Wrong!! DECAE402BB38\n"
     ]
    },
    {
     "name": "stderr",
     "output_type": "stream",
     "text": [
      " 87%|███████████████████████████████████████████████████▉        | 3626/4191 [00:43<00:06, 83.16it/s]"
     ]
    },
    {
     "name": "stdout",
     "output_type": "stream",
     "text": [
      "Wrong!! E243F4B2D0FA\n",
      "Wrong!! E39559BF14F2\n"
     ]
    },
    {
     "name": "stderr",
     "output_type": "stream",
     "text": [
      " 88%|████████████████████████████████████████████████████▋       | 3680/4191 [00:44<00:06, 83.59it/s]"
     ]
    },
    {
     "name": "stdout",
     "output_type": "stream",
     "text": [
      "Wrong!! E899EF61626A\n"
     ]
    },
    {
     "name": "stderr",
     "output_type": "stream",
     "text": [
      " 88%|████████████████████████████████████████████████████▉       | 3698/4191 [00:44<00:05, 82.50it/s]"
     ]
    },
    {
     "name": "stdout",
     "output_type": "stream",
     "text": [
      "Wrong!! EB935594E696\n"
     ]
    },
    {
     "name": "stderr",
     "output_type": "stream",
     "text": [
      " 89%|█████████████████████████████████████████████████████▌      | 3743/4191 [00:45<00:05, 82.27it/s]"
     ]
    },
    {
     "name": "stdout",
     "output_type": "stream",
     "text": [
      "Wrong!! F186ACA75002\n"
     ]
    },
    {
     "name": "stderr",
     "output_type": "stream",
     "text": [
      " 90%|██████████████████████████████████████████████████████      | 3780/4191 [00:45<00:04, 83.73it/s]"
     ]
    },
    {
     "name": "stdout",
     "output_type": "stream",
     "text": [
      "Wrong!! F68A995107BE\n",
      "Wrong!! F73ADEA6A74B\n"
     ]
    },
    {
     "name": "stderr",
     "output_type": "stream",
     "text": [
      " 91%|██████████████████████████████████████████████████████▎     | 3798/4191 [00:45<00:04, 83.51it/s]"
     ]
    },
    {
     "name": "stdout",
     "output_type": "stream",
     "text": [
      "Wrong!! F888B0ABFB36\n",
      "Wrong!! FA38B62F80E5\n"
     ]
    },
    {
     "name": "stderr",
     "output_type": "stream",
     "text": [
      " 92%|███████████████████████████████████████████████████████▏    | 3852/4191 [00:46<00:04, 80.58it/s]"
     ]
    },
    {
     "name": "stdout",
     "output_type": "stream",
     "text": [
      "Wrong!! 06936C8AA35D\n"
     ]
    },
    {
     "name": "stderr",
     "output_type": "stream",
     "text": [
      " 93%|███████████████████████████████████████████████████████▊    | 3901/4191 [00:47<00:03, 75.42it/s]"
     ]
    },
    {
     "name": "stdout",
     "output_type": "stream",
     "text": [
      "Wrong!! 24BC9F21DAE0\n",
      "Wrong!! 2648CF0962FC\n",
      "Wrong!! 273D52E9DC95\n",
      "Wrong!! 287F79B6D6F6\n",
      "Wrong!! 294C41270CAB\n",
      "Wrong!! 2B5011D4C860\n"
     ]
    },
    {
     "name": "stderr",
     "output_type": "stream",
     "text": [
      " 94%|████████████████████████████████████████████████████████▏   | 3926/4191 [00:47<00:03, 77.94it/s]"
     ]
    },
    {
     "name": "stdout",
     "output_type": "stream",
     "text": [
      "Wrong!! 331CA007D0AD\n",
      "Wrong!! 35242F4AB789\n",
      "Wrong!! 3DC336733E9F\n"
     ]
    },
    {
     "name": "stderr",
     "output_type": "stream",
     "text": [
      " 94%|████████████████████████████████████████████████████████▍   | 3943/4191 [00:47<00:03, 77.20it/s]"
     ]
    },
    {
     "name": "stdout",
     "output_type": "stream",
     "text": [
      "Wrong!! 3EAC45B15D2C\n"
     ]
    },
    {
     "name": "stderr",
     "output_type": "stream",
     "text": [
      " 95%|█████████████████████████████████████████████████████████   | 3984/4191 [00:48<00:02, 76.89it/s]"
     ]
    },
    {
     "name": "stdout",
     "output_type": "stream",
     "text": [
      "Wrong!! 523EBD9ECA47\n",
      "Wrong!! 58669BF55DF1\n",
      "Wrong!! 5902D762C891\n",
      "Wrong!! 5C3B7683D560\n",
      "Wrong!! 5C69070E1E48\n",
      "Wrong!! 5C9E6CCEAF57\n"
     ]
    },
    {
     "name": "stderr",
     "output_type": "stream",
     "text": [
      " 96%|█████████████████████████████████████████████████████████▍  | 4008/4191 [00:48<00:02, 74.24it/s]"
     ]
    },
    {
     "name": "stdout",
     "output_type": "stream",
     "text": [
      "Wrong!! 5DACADC48565\n",
      "Wrong!! 669954011A4C\n"
     ]
    },
    {
     "name": "stderr",
     "output_type": "stream",
     "text": [
      " 96%|█████████████████████████████████████████████████████████▌  | 4024/4191 [00:48<00:02, 74.00it/s]"
     ]
    },
    {
     "name": "stdout",
     "output_type": "stream",
     "text": [
      "Wrong!! 73D52BB6390A\n",
      "Wrong!! 7450531F9573\n"
     ]
    },
    {
     "name": "stderr",
     "output_type": "stream",
     "text": [
      " 96%|█████████████████████████████████████████████████████████▊  | 4040/4191 [00:49<00:02, 75.24it/s]"
     ]
    },
    {
     "name": "stdout",
     "output_type": "stream",
     "text": [
      "Wrong!! 7E9D8E4921CD\n",
      "Wrong!! 897004C788FB\n"
     ]
    },
    {
     "name": "stderr",
     "output_type": "stream",
     "text": [
      " 97%|██████████████████████████████████████████████████████████  | 4056/4191 [00:49<00:01, 73.56it/s]"
     ]
    },
    {
     "name": "stdout",
     "output_type": "stream",
     "text": [
      "Wrong!! 8BCB7962E7E3\n",
      "Wrong!! 9627B47C10DE\n"
     ]
    },
    {
     "name": "stderr",
     "output_type": "stream",
     "text": [
      " 97%|██████████████████████████████████████████████████████████▎ | 4072/4191 [00:49<00:01, 73.42it/s]"
     ]
    },
    {
     "name": "stdout",
     "output_type": "stream",
     "text": [
      "Wrong!! 9D0934987831\n",
      "Wrong!! 9DCA96730E4B\n",
      "Wrong!! A2A749DEC4BE\n",
      "Wrong!! A66B5A9D1F00\n",
      "Wrong!! A9F45F81526E\n",
      "Wrong!! AB8EFBD82820\n"
     ]
    },
    {
     "name": "stderr",
     "output_type": "stream",
     "text": [
      " 98%|██████████████████████████████████████████████████████████▌ | 4089/4191 [00:49<00:01, 74.33it/s]"
     ]
    },
    {
     "name": "stdout",
     "output_type": "stream",
     "text": [
      "Wrong!! B1687066F985\n"
     ]
    },
    {
     "name": "stderr",
     "output_type": "stream",
     "text": [
      " 98%|██████████████████████████████████████████████████████████▊ | 4106/4191 [00:49<00:01, 75.66it/s]"
     ]
    },
    {
     "name": "stdout",
     "output_type": "stream",
     "text": [
      "Wrong!! B996860E00A4\n",
      "Wrong!! BEE54D4D2B79\n",
      "Wrong!! C2A6C69714EC\n"
     ]
    },
    {
     "name": "stderr",
     "output_type": "stream",
     "text": [
      " 99%|███████████████████████████████████████████████████████████▏| 4132/4191 [00:50<00:00, 76.83it/s]"
     ]
    },
    {
     "name": "stdout",
     "output_type": "stream",
     "text": [
      "Wrong!! C8FB2508978A\n",
      "Wrong!! CA582B3F191F\n",
      "Wrong!! D1400AFDC972\n",
      "Wrong!! D5A0A8C83A60\n"
     ]
    },
    {
     "name": "stderr",
     "output_type": "stream",
     "text": [
      " 99%|███████████████████████████████████████████████████████████▌| 4164/4191 [00:50<00:00, 75.92it/s]"
     ]
    },
    {
     "name": "stdout",
     "output_type": "stream",
     "text": [
      "Wrong!! E157A46F6620\n"
     ]
    },
    {
     "name": "stderr",
     "output_type": "stream",
     "text": [
      "100%|███████████████████████████████████████████████████████████▊| 4180/4191 [00:50<00:00, 74.73it/s]"
     ]
    },
    {
     "name": "stdout",
     "output_type": "stream",
     "text": [
      "Wrong!! ED8C3FA6FC82\n",
      "Wrong!! F3C003AF7423\n",
      "Wrong!! F52B9A0882BB\n"
     ]
    },
    {
     "name": "stderr",
     "output_type": "stream",
     "text": [
      "100%|████████████████████████████████████████████████████████████| 4191/4191 [00:51<00:00, 82.06it/s]\n"
     ]
    }
   ],
   "source": [
    "from tqdm.auto import tqdm\n",
    "processed_data = []\n",
    "for esid in tqdm(train.essay_id.unique().tolist()):\n",
    "    processed_data.append(process_essay(esid))"
   ]
  },
  {
   "cell_type": "code",
   "execution_count": 27,
   "id": "3bf1d7f2",
   "metadata": {
    "papermill": {
     "duration": 0.436975,
     "end_time": "2022-07-10T21:38:21.072483",
     "exception": false,
     "start_time": "2022-07-10T21:38:20.635508",
     "status": "completed"
    },
    "tags": []
   },
   "outputs": [
    {
     "data": {
      "text/html": [
       "<div>\n",
       "<style scoped>\n",
       "    .dataframe tbody tr th:only-of-type {\n",
       "        vertical-align: middle;\n",
       "    }\n",
       "\n",
       "    .dataframe tbody tr th {\n",
       "        vertical-align: top;\n",
       "    }\n",
       "\n",
       "    .dataframe thead th {\n",
       "        text-align: right;\n",
       "    }\n",
       "</style>\n",
       "<table border=\"1\" class=\"dataframe\">\n",
       "  <thead>\n",
       "    <tr style=\"text-align: right;\">\n",
       "      <th></th>\n",
       "      <th>essay_id</th>\n",
       "      <th>fold</th>\n",
       "      <th>input_ids</th>\n",
       "      <th>attention_mask</th>\n",
       "      <th>offset_mapping</th>\n",
       "      <th>token_class_labels</th>\n",
       "      <th>token_scores_labels</th>\n",
       "      <th>token_examples_mapping</th>\n",
       "      <th>examples_scores</th>\n",
       "      <th>examples_classes</th>\n",
       "    </tr>\n",
       "  </thead>\n",
       "  <tbody>\n",
       "    <tr>\n",
       "      <th>0</th>\n",
       "      <td>007ACE74B050</td>\n",
       "      <td>0</td>\n",
       "      <td>[1, 2684, 261, 584, 280, 358, 11759, 261, 584,...</td>\n",
       "      <td>[1, 1, 1, 1, 1, 1, 1, 1, 1, 1, 1, 1, 1, 1, 1, ...</td>\n",
       "      <td>[(0, 0), (0, 2), (2, 3), (3, 5), (5, 6), (6, 7...</td>\n",
       "      <td>[-100, 0, 0, 0, 0, 0, 0, 0, 0, 0, 0, 0, 0, 0, ...</td>\n",
       "      <td>[-100, 1, 1, 1, 1, 1, 1, 1, 1, 1, 1, 1, 1, 1, ...</td>\n",
       "      <td>[-100, 0, 0, 0, 0, 0, 0, 0, 0, 0, 0, 0, 0, 0, ...</td>\n",
       "      <td>[1, 1, 1, 1, 1, 0, 1, 1, 1]</td>\n",
       "      <td>[0, 1, 2, 3, 4, 5, 3, 4, 6]</td>\n",
       "    </tr>\n",
       "    <tr>\n",
       "      <th>1</th>\n",
       "      <td>00944C693682</td>\n",
       "      <td>4</td>\n",
       "      <td>[1, 79853, 262, 4119, 265, 2020, 303, 753, 263...</td>\n",
       "      <td>[1, 1, 1, 1, 1, 1, 1, 1, 1, 1, 1, 1, 1, 1, 1, ...</td>\n",
       "      <td>[(0, 0), (0, 8), (8, 12), (12, 18), (18, 21), ...</td>\n",
       "      <td>[-100, 0, 0, 0, 0, 0, 0, 0, 0, 0, 0, 0, 0, 0, ...</td>\n",
       "      <td>[-100, 2, 2, 2, 2, 2, 2, 2, 2, 2, 2, 2, 2, 2, ...</td>\n",
       "      <td>[-100, 0, 0, 0, 0, 0, 0, 0, 0, 0, 0, 0, 0, 0, ...</td>\n",
       "      <td>[2, 2, 1, 2, 2, 2, 2, 1, 2, 2, 2]</td>\n",
       "      <td>[0, 1, 2, 3, 2, 3, 2, 3, 2, 3, 6]</td>\n",
       "    </tr>\n",
       "    <tr>\n",
       "      <th>2</th>\n",
       "      <td>00BD97EA4041</td>\n",
       "      <td>2</td>\n",
       "      <td>[1, 3432, 4659, 623, 262, 2955, 10172, 265, 59...</td>\n",
       "      <td>[1, 1, 1, 1, 1, 1, 1, 1, 1, 1, 1, 1, 1, 1, 1, ...</td>\n",
       "      <td>[(0, 0), (0, 6), (6, 16), (16, 21), (21, 25), ...</td>\n",
       "      <td>[-100, 0, 0, 0, 0, 0, 0, 0, 0, 0, 0, 0, 0, 1, ...</td>\n",
       "      <td>[-100, 1, 1, 1, 1, 1, 1, 1, 1, 1, 1, 1, 1, 1, ...</td>\n",
       "      <td>[-100, 0, 0, 0, 0, 0, 0, 0, 0, 0, 0, 0, 0, 1, ...</td>\n",
       "      <td>[1, 1, 1, 0, 1, 1, 1]</td>\n",
       "      <td>[0, 1, 2, 3, 3, 2, 6]</td>\n",
       "    </tr>\n",
       "    <tr>\n",
       "      <th>3</th>\n",
       "      <td>00C6E82FE5BA</td>\n",
       "      <td>0</td>\n",
       "      <td>[1, 273, 428, 272, 278, 1804, 280, 297, 282, 7...</td>\n",
       "      <td>[1, 1, 1, 1, 1, 1, 1, 1, 1, 1, 1, 1, 1, 1, 1, ...</td>\n",
       "      <td>[(0, 0), (0, 1), (1, 7), (7, 12), (12, 15), (1...</td>\n",
       "      <td>[-100, 1, 1, 1, 1, 1, 1, 1, 1, 1, 1, 1, 1, 1, ...</td>\n",
       "      <td>[-100, 1, 1, 1, 1, 1, 1, 1, 1, 1, 1, 1, 1, 1, ...</td>\n",
       "      <td>[-100, 0, 0, 0, 0, 0, 0, 0, 0, 0, 0, 0, 0, 0, ...</td>\n",
       "      <td>[1, 1, 1, 1, 0, 1]</td>\n",
       "      <td>[1, 2, 3, 3, 2, 6]</td>\n",
       "    </tr>\n",
       "    <tr>\n",
       "      <th>4</th>\n",
       "      <td>013B9AA6B9DB</td>\n",
       "      <td>0</td>\n",
       "      <td>[1, 458, 269, 272, 576, 277, 7583, 302, 4873, ...</td>\n",
       "      <td>[1, 1, 1, 1, 1, 1, 1, 1, 1, 1, 1, 1, 1, 1, 1, ...</td>\n",
       "      <td>[(0, 0), (0, 4), (4, 7), (7, 12), (12, 18), (1...</td>\n",
       "      <td>[-100, 0, 0, 0, 0, 0, 0, 0, 0, 1, 1, 1, 1, 1, ...</td>\n",
       "      <td>[-100, 1, 1, 1, 1, 1, 1, 1, 1, 1, 1, 1, 1, 1, ...</td>\n",
       "      <td>[-100, 0, 0, 0, 0, 0, 0, 0, 0, 1, 1, 1, 1, 1, ...</td>\n",
       "      <td>[1, 1, 1, 1, 0, 1, 1, 1, 1, 1, 1]</td>\n",
       "      <td>[0, 1, 3, 4, 5, 3, 4, 5, 3, 2, 6]</td>\n",
       "    </tr>\n",
       "    <tr>\n",
       "      <th>...</th>\n",
       "      <td>...</td>\n",
       "      <td>...</td>\n",
       "      <td>...</td>\n",
       "      <td>...</td>\n",
       "      <td>...</td>\n",
       "      <td>...</td>\n",
       "      <td>...</td>\n",
       "      <td>...</td>\n",
       "      <td>...</td>\n",
       "      <td>...</td>\n",
       "    </tr>\n",
       "    <tr>\n",
       "      <th>4186</th>\n",
       "      <td>FDF0AEEB14C3</td>\n",
       "      <td>1</td>\n",
       "      <td>[1, 7896, 264, 563, 3343, 295, 282, 1179, 270,...</td>\n",
       "      <td>[1, 1, 1, 1, 1, 1, 1, 1, 1, 1, 1, 1, 1, 1, 1, ...</td>\n",
       "      <td>[(0, 0), (0, 5), (5, 8), (8, 15), (15, 24), (2...</td>\n",
       "      <td>[-100, 0, 0, 0, 0, 0, 0, 0, 0, 0, 0, 0, 0, 0, ...</td>\n",
       "      <td>[-100, 2, 2, 2, 2, 2, 2, 2, 2, 2, 2, 2, 2, 2, ...</td>\n",
       "      <td>[-100, 0, 0, 0, 0, 0, 0, 0, 0, 0, 0, 0, 0, 0, ...</td>\n",
       "      <td>[2, 1, 2, 2, 2, 2, 2, 2, 1, 2, 1, 2, 2, 2, 2]</td>\n",
       "      <td>[0, 1, 2, 3, 4, 3, 5, 3, 3, 2, 3, 4, 5, 3, 6]</td>\n",
       "    </tr>\n",
       "    <tr>\n",
       "      <th>4187</th>\n",
       "      <td>FE3CA06DDCA1</td>\n",
       "      <td>1</td>\n",
       "      <td>[1, 1167, 269, 278, 335, 760, 5387, 274, 270, ...</td>\n",
       "      <td>[1, 1, 1, 1, 1, 1, 1, 1, 1, 1, 1, 1, 1, 1, 1, ...</td>\n",
       "      <td>[(0, 0), (0, 3), (3, 6), (6, 9), (9, 14), (14,...</td>\n",
       "      <td>[-100, 0, 0, 0, 0, 0, 0, 0, 0, 0, 0, 0, 0, 0, ...</td>\n",
       "      <td>[-100, 0, 0, 0, 0, 0, 0, 0, 0, 0, 0, 0, 0, 0, ...</td>\n",
       "      <td>[-100, 0, 0, 0, 0, 0, 0, 0, 0, 0, 0, 0, 0, 0, ...</td>\n",
       "      <td>[0, 0, 1, 1, 1, 1, 1]</td>\n",
       "      <td>[0, 1, 2, 2, 3, 3, 6]</td>\n",
       "    </tr>\n",
       "    <tr>\n",
       "      <th>4188</th>\n",
       "      <td>FEF42864AE28</td>\n",
       "      <td>0</td>\n",
       "      <td>[1, 1717, 266, 455, 406, 288, 563, 261, 286, 2...</td>\n",
       "      <td>[1, 1, 1, 1, 1, 1, 1, 1, 1, 1, 1, 1, 1, 1, 1, ...</td>\n",
       "      <td>[(0, 0), (0, 6), (6, 8), (8, 13), (13, 17), (1...</td>\n",
       "      <td>[-100, 0, 0, 0, 0, 0, 0, 0, 0, 0, 0, 0, 0, 0, ...</td>\n",
       "      <td>[-100, 2, 2, 2, 2, 2, 2, 2, 2, 2, 2, 2, 2, 2, ...</td>\n",
       "      <td>[-100, 0, 0, 0, 0, 0, 0, 0, 0, 0, 0, 0, 0, 0, ...</td>\n",
       "      <td>[2, 2, 2, 2, 2, 2, 1, 1, 2, 2, 2, 2, 2, 2]</td>\n",
       "      <td>[0, 1, 2, 2, 2, 3, 4, 5, 2, 3, 4, 3, 5, 6]</td>\n",
       "    </tr>\n",
       "    <tr>\n",
       "      <th>4189</th>\n",
       "      <td>FF9E0379CD98</td>\n",
       "      <td>4</td>\n",
       "      <td>[1, 879, 563, 630, 50240, 12025, 1101, 283, 26...</td>\n",
       "      <td>[1, 1, 1, 1, 1, 1, 1, 1, 1, 1, 1, 1, 1, 1, 1, ...</td>\n",
       "      <td>[(0, 0), (0, 4), (4, 11), (11, 17), (17, 22), ...</td>\n",
       "      <td>[-100, 0, 0, 0, 0, 0, 0, 0, 0, 0, 0, 0, 0, 0, ...</td>\n",
       "      <td>[-100, 1, 1, 1, 1, 1, 1, 1, 1, 1, 1, 1, 1, 1, ...</td>\n",
       "      <td>[-100, 0, 0, 0, 0, 0, 0, 0, 0, 0, 0, 0, 0, 0, ...</td>\n",
       "      <td>[1, 1, 1, 1, 1, 0, 1, 1, 1, 1, 1, 1, 1, 1, 0, 1]</td>\n",
       "      <td>[0, 1, 2, 2, 2, 2, 3, 2, 3, 2, 3, 4, 5, 3, 6, 4]</td>\n",
       "    </tr>\n",
       "    <tr>\n",
       "      <th>4190</th>\n",
       "      <td>FFA381E58FC6</td>\n",
       "      <td>4</td>\n",
       "      <td>[1, 879, 355, 372, 1024, 1337, 355, 270, 1678,...</td>\n",
       "      <td>[1, 1, 1, 1, 1, 1, 1, 1, 1, 1, 1, 1, 1, 1, 1, ...</td>\n",
       "      <td>[(0, 0), (0, 4), (4, 11), (11, 15), (15, 19), ...</td>\n",
       "      <td>[-100, 7, 7, 7, 7, 7, 7, 7, 7, 7, 7, 7, 7, 7, ...</td>\n",
       "      <td>[-100, -100, -100, -100, -100, -100, -100, -10...</td>\n",
       "      <td>[-100, -100, -100, -100, -100, -100, -100, -10...</td>\n",
       "      <td>[1, 1, 1, 0, 0]</td>\n",
       "      <td>[2, 2, 1, 3, 6]</td>\n",
       "    </tr>\n",
       "  </tbody>\n",
       "</table>\n",
       "<p>4191 rows × 10 columns</p>\n",
       "</div>"
      ],
      "text/plain": [
       "          essay_id  fold                                          input_ids  \\\n",
       "0     007ACE74B050     0  [1, 2684, 261, 584, 280, 358, 11759, 261, 584,...   \n",
       "1     00944C693682     4  [1, 79853, 262, 4119, 265, 2020, 303, 753, 263...   \n",
       "2     00BD97EA4041     2  [1, 3432, 4659, 623, 262, 2955, 10172, 265, 59...   \n",
       "3     00C6E82FE5BA     0  [1, 273, 428, 272, 278, 1804, 280, 297, 282, 7...   \n",
       "4     013B9AA6B9DB     0  [1, 458, 269, 272, 576, 277, 7583, 302, 4873, ...   \n",
       "...            ...   ...                                                ...   \n",
       "4186  FDF0AEEB14C3     1  [1, 7896, 264, 563, 3343, 295, 282, 1179, 270,...   \n",
       "4187  FE3CA06DDCA1     1  [1, 1167, 269, 278, 335, 760, 5387, 274, 270, ...   \n",
       "4188  FEF42864AE28     0  [1, 1717, 266, 455, 406, 288, 563, 261, 286, 2...   \n",
       "4189  FF9E0379CD98     4  [1, 879, 563, 630, 50240, 12025, 1101, 283, 26...   \n",
       "4190  FFA381E58FC6     4  [1, 879, 355, 372, 1024, 1337, 355, 270, 1678,...   \n",
       "\n",
       "                                         attention_mask  \\\n",
       "0     [1, 1, 1, 1, 1, 1, 1, 1, 1, 1, 1, 1, 1, 1, 1, ...   \n",
       "1     [1, 1, 1, 1, 1, 1, 1, 1, 1, 1, 1, 1, 1, 1, 1, ...   \n",
       "2     [1, 1, 1, 1, 1, 1, 1, 1, 1, 1, 1, 1, 1, 1, 1, ...   \n",
       "3     [1, 1, 1, 1, 1, 1, 1, 1, 1, 1, 1, 1, 1, 1, 1, ...   \n",
       "4     [1, 1, 1, 1, 1, 1, 1, 1, 1, 1, 1, 1, 1, 1, 1, ...   \n",
       "...                                                 ...   \n",
       "4186  [1, 1, 1, 1, 1, 1, 1, 1, 1, 1, 1, 1, 1, 1, 1, ...   \n",
       "4187  [1, 1, 1, 1, 1, 1, 1, 1, 1, 1, 1, 1, 1, 1, 1, ...   \n",
       "4188  [1, 1, 1, 1, 1, 1, 1, 1, 1, 1, 1, 1, 1, 1, 1, ...   \n",
       "4189  [1, 1, 1, 1, 1, 1, 1, 1, 1, 1, 1, 1, 1, 1, 1, ...   \n",
       "4190  [1, 1, 1, 1, 1, 1, 1, 1, 1, 1, 1, 1, 1, 1, 1, ...   \n",
       "\n",
       "                                         offset_mapping  \\\n",
       "0     [(0, 0), (0, 2), (2, 3), (3, 5), (5, 6), (6, 7...   \n",
       "1     [(0, 0), (0, 8), (8, 12), (12, 18), (18, 21), ...   \n",
       "2     [(0, 0), (0, 6), (6, 16), (16, 21), (21, 25), ...   \n",
       "3     [(0, 0), (0, 1), (1, 7), (7, 12), (12, 15), (1...   \n",
       "4     [(0, 0), (0, 4), (4, 7), (7, 12), (12, 18), (1...   \n",
       "...                                                 ...   \n",
       "4186  [(0, 0), (0, 5), (5, 8), (8, 15), (15, 24), (2...   \n",
       "4187  [(0, 0), (0, 3), (3, 6), (6, 9), (9, 14), (14,...   \n",
       "4188  [(0, 0), (0, 6), (6, 8), (8, 13), (13, 17), (1...   \n",
       "4189  [(0, 0), (0, 4), (4, 11), (11, 17), (17, 22), ...   \n",
       "4190  [(0, 0), (0, 4), (4, 11), (11, 15), (15, 19), ...   \n",
       "\n",
       "                                     token_class_labels  \\\n",
       "0     [-100, 0, 0, 0, 0, 0, 0, 0, 0, 0, 0, 0, 0, 0, ...   \n",
       "1     [-100, 0, 0, 0, 0, 0, 0, 0, 0, 0, 0, 0, 0, 0, ...   \n",
       "2     [-100, 0, 0, 0, 0, 0, 0, 0, 0, 0, 0, 0, 0, 1, ...   \n",
       "3     [-100, 1, 1, 1, 1, 1, 1, 1, 1, 1, 1, 1, 1, 1, ...   \n",
       "4     [-100, 0, 0, 0, 0, 0, 0, 0, 0, 1, 1, 1, 1, 1, ...   \n",
       "...                                                 ...   \n",
       "4186  [-100, 0, 0, 0, 0, 0, 0, 0, 0, 0, 0, 0, 0, 0, ...   \n",
       "4187  [-100, 0, 0, 0, 0, 0, 0, 0, 0, 0, 0, 0, 0, 0, ...   \n",
       "4188  [-100, 0, 0, 0, 0, 0, 0, 0, 0, 0, 0, 0, 0, 0, ...   \n",
       "4189  [-100, 0, 0, 0, 0, 0, 0, 0, 0, 0, 0, 0, 0, 0, ...   \n",
       "4190  [-100, 7, 7, 7, 7, 7, 7, 7, 7, 7, 7, 7, 7, 7, ...   \n",
       "\n",
       "                                    token_scores_labels  \\\n",
       "0     [-100, 1, 1, 1, 1, 1, 1, 1, 1, 1, 1, 1, 1, 1, ...   \n",
       "1     [-100, 2, 2, 2, 2, 2, 2, 2, 2, 2, 2, 2, 2, 2, ...   \n",
       "2     [-100, 1, 1, 1, 1, 1, 1, 1, 1, 1, 1, 1, 1, 1, ...   \n",
       "3     [-100, 1, 1, 1, 1, 1, 1, 1, 1, 1, 1, 1, 1, 1, ...   \n",
       "4     [-100, 1, 1, 1, 1, 1, 1, 1, 1, 1, 1, 1, 1, 1, ...   \n",
       "...                                                 ...   \n",
       "4186  [-100, 2, 2, 2, 2, 2, 2, 2, 2, 2, 2, 2, 2, 2, ...   \n",
       "4187  [-100, 0, 0, 0, 0, 0, 0, 0, 0, 0, 0, 0, 0, 0, ...   \n",
       "4188  [-100, 2, 2, 2, 2, 2, 2, 2, 2, 2, 2, 2, 2, 2, ...   \n",
       "4189  [-100, 1, 1, 1, 1, 1, 1, 1, 1, 1, 1, 1, 1, 1, ...   \n",
       "4190  [-100, -100, -100, -100, -100, -100, -100, -10...   \n",
       "\n",
       "                                 token_examples_mapping  \\\n",
       "0     [-100, 0, 0, 0, 0, 0, 0, 0, 0, 0, 0, 0, 0, 0, ...   \n",
       "1     [-100, 0, 0, 0, 0, 0, 0, 0, 0, 0, 0, 0, 0, 0, ...   \n",
       "2     [-100, 0, 0, 0, 0, 0, 0, 0, 0, 0, 0, 0, 0, 1, ...   \n",
       "3     [-100, 0, 0, 0, 0, 0, 0, 0, 0, 0, 0, 0, 0, 0, ...   \n",
       "4     [-100, 0, 0, 0, 0, 0, 0, 0, 0, 1, 1, 1, 1, 1, ...   \n",
       "...                                                 ...   \n",
       "4186  [-100, 0, 0, 0, 0, 0, 0, 0, 0, 0, 0, 0, 0, 0, ...   \n",
       "4187  [-100, 0, 0, 0, 0, 0, 0, 0, 0, 0, 0, 0, 0, 0, ...   \n",
       "4188  [-100, 0, 0, 0, 0, 0, 0, 0, 0, 0, 0, 0, 0, 0, ...   \n",
       "4189  [-100, 0, 0, 0, 0, 0, 0, 0, 0, 0, 0, 0, 0, 0, ...   \n",
       "4190  [-100, -100, -100, -100, -100, -100, -100, -10...   \n",
       "\n",
       "                                       examples_scores  \\\n",
       "0                          [1, 1, 1, 1, 1, 0, 1, 1, 1]   \n",
       "1                    [2, 2, 1, 2, 2, 2, 2, 1, 2, 2, 2]   \n",
       "2                                [1, 1, 1, 0, 1, 1, 1]   \n",
       "3                                   [1, 1, 1, 1, 0, 1]   \n",
       "4                    [1, 1, 1, 1, 0, 1, 1, 1, 1, 1, 1]   \n",
       "...                                                ...   \n",
       "4186     [2, 1, 2, 2, 2, 2, 2, 2, 1, 2, 1, 2, 2, 2, 2]   \n",
       "4187                             [0, 0, 1, 1, 1, 1, 1]   \n",
       "4188        [2, 2, 2, 2, 2, 2, 1, 1, 2, 2, 2, 2, 2, 2]   \n",
       "4189  [1, 1, 1, 1, 1, 0, 1, 1, 1, 1, 1, 1, 1, 1, 0, 1]   \n",
       "4190                                   [1, 1, 1, 0, 0]   \n",
       "\n",
       "                                      examples_classes  \n",
       "0                          [0, 1, 2, 3, 4, 5, 3, 4, 6]  \n",
       "1                    [0, 1, 2, 3, 2, 3, 2, 3, 2, 3, 6]  \n",
       "2                                [0, 1, 2, 3, 3, 2, 6]  \n",
       "3                                   [1, 2, 3, 3, 2, 6]  \n",
       "4                    [0, 1, 3, 4, 5, 3, 4, 5, 3, 2, 6]  \n",
       "...                                                ...  \n",
       "4186     [0, 1, 2, 3, 4, 3, 5, 3, 3, 2, 3, 4, 5, 3, 6]  \n",
       "4187                             [0, 1, 2, 2, 3, 3, 6]  \n",
       "4188        [0, 1, 2, 2, 2, 3, 4, 5, 2, 3, 4, 3, 5, 6]  \n",
       "4189  [0, 1, 2, 2, 2, 2, 3, 2, 3, 2, 3, 4, 5, 3, 6, 4]  \n",
       "4190                                   [2, 2, 1, 3, 6]  \n",
       "\n",
       "[4191 rows x 10 columns]"
      ]
     },
     "execution_count": 27,
     "metadata": {},
     "output_type": "execute_result"
    }
   ],
   "source": [
    "pdf = pd.DataFrame(processed_data)\n",
    "pdf"
   ]
  },
  {
   "cell_type": "code",
   "execution_count": 30,
   "id": "d1aae16e-c95b-4b36-8da6-3e0e33e6ee92",
   "metadata": {},
   "outputs": [
    {
     "data": {
      "image/png": "[encoded data removed]",
      "text/plain": [
       "<Figure size 432x288 with 1 Axes>"
      ]
     },
     "metadata": {
      "needs_background": "light"
     },
     "output_type": "display_data"
    }
   ],
   "source": [
    "lens = pd.DataFrame()\n",
    "lens['ln'] = [len(ids) for ids in pdf.input_ids.values]\n",
    "lens.ln.hist();"
   ]
  },
  {
   "cell_type": "code",
   "execution_count": 31,
   "id": "7863427b",
   "metadata": {
    "papermill": {
     "duration": 1.725403,
     "end_time": "2022-07-10T21:38:22.807041",
     "exception": false,
     "start_time": "2022-07-10T21:38:21.081638",
     "status": "completed"
    },
    "tags": []
   },
   "outputs": [],
   "source": [
    "import pickle\n",
    "with open(f'processed-{checkpoint.split(\"/\")[1]}-all.pickle', 'wb') as handle:\n",
    "    pickle.dump(pdf, handle, protocol=pickle.HIGHEST_PROTOCOL)\n",
    "\n",
    "# with open('filename.pickle', 'rb') as handle:\n",
    "#     b = pickle.load(handle)"
   ]
  },
  {
   "cell_type": "code",
   "execution_count": 32,
   "id": "18436855",
   "metadata": {},
   "outputs": [
    {
     "name": "stdout",
     "output_type": "stream",
     "text": [
      "huggingface/tokenizers: The current process just got forked, after parallelism has already been used. Disabling parallelism to avoid deadlocks...\n",
      "To disable this warning, you can either:\n",
      "\t- Avoid using `tokenizers` before the fork if possible\n",
      "\t- Explicitly set the environment variable TOKENIZERS_PARALLELISM=(true | false)\n",
      "Create_MLM_dataset.ipynb  PL-15.ipynb\n",
      "HF-0.ipynb                PL-16.ipynb\n",
      "HF-1.ipynb                PL-2.ipynb\n",
      "HF-10.ipynb               PL-3.ipynb\n",
      "HF-11.ipynb               PL-4.ipynb\n",
      "HF-12.ipynb               PL-5.ipynb\n",
      "HF-2.ipynb                PL-6.ipynb\n",
      "HF-3.ipynb                PL-7.ipynb\n",
      "HF-4.ipynb                PL-8.ipynb\n",
      "HF-5.ipynb                PL-9.ipynb\n",
      "HF-6.ipynb                deb619.py\n",
      "HF-7.ipynb                feedback-effective-baseline-3.ipynb\n",
      "HF-8.ipynb                feedback-effective-create-labels-deb-v3-1024.ipynb\n",
      "HF-9.ipynb                feedback-effective-create-labels-deb-v3-all.ipynb\n",
      "PL-1.ipynb                feedback-effective-create-labels.ipynb\n",
      "PL-10.ipynb               hf3infer.py\n",
      "PL-11.ipynb               processed-deberta-v3-large-all.pickle\n",
      "PL-12.ipynb               processed-deberta-v3-large.pickle\n",
      "PL-13.ipynb               tokenize_nbroad.ipynb\n",
      "PL-14.ipynb               \u001b[0m\u001b[01;34mwandb\u001b[0m/\n"
     ]
    }
   ],
   "source": [
    "ls"
   ]
  },
  {
   "cell_type": "code",
   "execution_count": null,
   "id": "230bd28a-9360-47bc-b963-d99b6f3eea23",
   "metadata": {},
   "outputs": [],
   "source": []
  }
 ],
 "metadata": {
  "kernelspec": {
   "display_name": "Python 3 (ipykernel)",
   "language": "python",
   "name": "python3"
  },
  "language_info": {
   "codemirror_mode": {
    "name": "ipython",
    "version": 3
   },
   "file_extension": ".py",
   "mimetype": "text/x-python",
   "name": "python",
   "nbconvert_exporter": "python",
   "pygments_lexer": "ipython3",
   "version": "3.8.13"
  },
  "papermill": {
   "default_parameters": {},
   "duration": 211.807395,
   "end_time": "2022-07-10T21:38:25.871718",
   "environment_variables": {},
   "exception": null,
   "input_path": "__notebook__.ipynb",
   "output_path": "__notebook__.ipynb",
   "parameters": {},
   "start_time": "2022-07-10T21:34:54.064323",
   "version": "2.3.4"
  },
  "widgets": {
   "application/vnd.jupyter.widget-state+json": {
    "state": {
     "07662acc714d4c4d82fe69dc9bc8bc68": {
      "model_module": "@jupyter-widgets/base",
      "model_module_version": "1.2.0",
      "model_name": "LayoutModel",
      "state": {
       "_model_module": "@jupyter-widgets/base",
       "_model_module_version": "1.2.0",
       "_model_name": "LayoutModel",
       "_view_count": null,
       "_view_module": "@jupyter-widgets/base",
       "_view_module_version": "1.2.0",
       "_view_name": "LayoutView",
       "align_content": null,
       "align_items": null,
       "align_self": null,
       "border": null,
       "bottom": null,
       "display": null,
       "flex": null,
       "flex_flow": null,
       "grid_area": null,
       "grid_auto_columns": null,
       "grid_auto_flow": null,
       "grid_auto_rows": null,
       "grid_column": null,
       "grid_gap": null,
       "grid_row": null,
       "grid_template_areas": null,
       "grid_template_columns": null,
       "grid_template_rows": null,
       "height": null,
       "justify_content": null,
       "justify_items": null,
       "left": null,
       "margin": null,
       "max_height": null,
       "max_width": null,
       "min_height": null,
       "min_width": null,
       "object_fit": null,
       "object_position": null,
       "order": null,
       "overflow": null,
       "overflow_x": null,
       "overflow_y": null,
       "padding": null,
       "right": null,
       "top": null,
       "visibility": null,
       "width": null
      }
     },
     "0969b89a226f4d5ebf897fbdaa3d4489": {
      "model_module": "@jupyter-widgets/controls",
      "model_module_version": "1.5.0",
      "model_name": "DescriptionStyleModel",
      "state": {
       "_model_module": "@jupyter-widgets/controls",
       "_model_module_version": "1.5.0",
       "_model_name": "DescriptionStyleModel",
       "_view_count": null,
       "_view_module": "@jupyter-widgets/base",
       "_view_module_version": "1.2.0",
       "_view_name": "StyleView",
       "description_width": ""
      }
     },
     "0b4980f80fb64f49832fc337bed199a3": {
      "model_module": "@jupyter-widgets/controls",
      "model_module_version": "1.5.0",
      "model_name": "HTMLModel",
      "state": {
       "_dom_classes": [],
       "_model_module": "@jupyter-widgets/controls",
       "_model_module_version": "1.5.0",
       "_model_name": "HTMLModel",
       "_view_count": null,
       "_view_module": "@jupyter-widgets/controls",
       "_view_module_version": "1.5.0",
       "_view_name": "HTMLView",
       "description": "",
       "description_tooltip": null,
       "layout": "IPY_MODEL_9411bd02ec684c73b889a7b296d09f6e",
       "placeholder": "​",
       "style": "IPY_MODEL_728ab45f6ce34b6ba31cc23a87940457",
       "value": "Downloading: 100%"
      }
     },
     "1180d7242fd246f6b5eee269e40a3de8": {
      "model_module": "@jupyter-widgets/controls",
      "model_module_version": "1.5.0",
      "model_name": "DescriptionStyleModel",
      "state": {
       "_model_module": "@jupyter-widgets/controls",
       "_model_module_version": "1.5.0",
       "_model_name": "DescriptionStyleModel",
       "_view_count": null,
       "_view_module": "@jupyter-widgets/base",
       "_view_module_version": "1.2.0",
       "_view_name": "StyleView",
       "description_width": ""
      }
     },
     "12947dae7ed1424da8b07bb2fdf2322f": {
      "model_module": "@jupyter-widgets/base",
      "model_module_version": "1.2.0",
      "model_name": "LayoutModel",
      "state": {
       "_model_module": "@jupyter-widgets/base",
       "_model_module_version": "1.2.0",
       "_model_name": "LayoutModel",
       "_view_count": null,
       "_view_module": "@jupyter-widgets/base",
       "_view_module_version": "1.2.0",
       "_view_name": "LayoutView",
       "align_content": null,
       "align_items": null,
       "align_self": null,
       "border": null,
       "bottom": null,
       "display": null,
       "flex": null,
       "flex_flow": null,
       "grid_area": null,
       "grid_auto_columns": null,
       "grid_auto_flow": null,
       "grid_auto_rows": null,
       "grid_column": null,
       "grid_gap": null,
       "grid_row": null,
       "grid_template_areas": null,
       "grid_template_columns": null,
       "grid_template_rows": null,
       "height": null,
       "justify_content": null,
       "justify_items": null,
       "left": null,
       "margin": null,
       "max_height": null,
       "max_width": null,
       "min_height": null,
       "min_width": null,
       "object_fit": null,
       "object_position": null,
       "order": null,
       "overflow": null,
       "overflow_x": null,
       "overflow_y": null,
       "padding": null,
       "right": null,
       "top": null,
       "visibility": null,
       "width": null
      }
     },
     "1d42da04dd3d44f7b10519ef83c988aa": {
      "model_module": "@jupyter-widgets/controls",
      "model_module_version": "1.5.0",
      "model_name": "HTMLModel",
      "state": {
       "_dom_classes": [],
       "_model_module": "@jupyter-widgets/controls",
       "_model_module_version": "1.5.0",
       "_model_name": "HTMLModel",
       "_view_count": null,
       "_view_module": "@jupyter-widgets/controls",
       "_view_module_version": "1.5.0",
       "_view_name": "HTMLView",
       "description": "",
       "description_tooltip": null,
       "layout": "IPY_MODEL_6161667842094d5ebdb858eb712eb0c9",
       "placeholder": "​",
       "style": "IPY_MODEL_e13e6127cc9d478ba8944fca47dd06a9",
       "value": "Downloading: 100%"
      }
     },
     "24657daed6994b03a0bc379bae261e29": {
      "model_module": "@jupyter-widgets/controls",
      "model_module_version": "1.5.0",
      "model_name": "ProgressStyleModel",
      "state": {
       "_model_module": "@jupyter-widgets/controls",
       "_model_module_version": "1.5.0",
       "_model_name": "ProgressStyleModel",
       "_view_count": null,
       "_view_module": "@jupyter-widgets/base",
       "_view_module_version": "1.2.0",
       "_view_name": "StyleView",
       "bar_color": null,
       "description_width": ""
      }
     },
     "27082442dde1481ba883cb150a66f297": {
      "model_module": "@jupyter-widgets/base",
      "model_module_version": "1.2.0",
      "model_name": "LayoutModel",
      "state": {
       "_model_module": "@jupyter-widgets/base",
       "_model_module_version": "1.2.0",
       "_model_name": "LayoutModel",
       "_view_count": null,
       "_view_module": "@jupyter-widgets/base",
       "_view_module_version": "1.2.0",
       "_view_name": "LayoutView",
       "align_content": null,
       "align_items": null,
       "align_self": null,
       "border": null,
       "bottom": null,
       "display": null,
       "flex": null,
       "flex_flow": null,
       "grid_area": null,
       "grid_auto_columns": null,
       "grid_auto_flow": null,
       "grid_auto_rows": null,
       "grid_column": null,
       "grid_gap": null,
       "grid_row": null,
       "grid_template_areas": null,
       "grid_template_columns": null,
       "grid_template_rows": null,
       "height": null,
       "justify_content": null,
       "justify_items": null,
       "left": null,
       "margin": null,
       "max_height": null,
       "max_width": null,
       "min_height": null,
       "min_width": null,
       "object_fit": null,
       "object_position": null,
       "order": null,
       "overflow": null,
       "overflow_x": null,
       "overflow_y": null,
       "padding": null,
       "right": null,
       "top": null,
       "visibility": null,
       "width": null
      }
     },
     "30a2fa9d71b242a293818ad0ff630625": {
      "model_module": "@jupyter-widgets/base",
      "model_module_version": "1.2.0",
      "model_name": "LayoutModel",
      "state": {
       "_model_module": "@jupyter-widgets/base",
       "_model_module_version": "1.2.0",
       "_model_name": "LayoutModel",
       "_view_count": null,
       "_view_module": "@jupyter-widgets/base",
       "_view_module_version": "1.2.0",
       "_view_name": "LayoutView",
       "align_content": null,
       "align_items": null,
       "align_self": null,
       "border": null,
       "bottom": null,
       "display": null,
       "flex": null,
       "flex_flow": null,
       "grid_area": null,
       "grid_auto_columns": null,
       "grid_auto_flow": null,
       "grid_auto_rows": null,
       "grid_column": null,
       "grid_gap": null,
       "grid_row": null,
       "grid_template_areas": null,
       "grid_template_columns": null,
       "grid_template_rows": null,
       "height": null,
       "justify_content": null,
       "justify_items": null,
       "left": null,
       "margin": null,
       "max_height": null,
       "max_width": null,
       "min_height": null,
       "min_width": null,
       "object_fit": null,
       "object_position": null,
       "order": null,
       "overflow": null,
       "overflow_x": null,
       "overflow_y": null,
       "padding": null,
       "right": null,
       "top": null,
       "visibility": null,
       "width": null
      }
     },
     "310673aea7b84e8eba30f1e33497fa99": {
      "model_module": "@jupyter-widgets/controls",
      "model_module_version": "1.5.0",
      "model_name": "FloatProgressModel",
      "state": {
       "_dom_classes": [],
       "_model_module": "@jupyter-widgets/controls",
       "_model_module_version": "1.5.0",
       "_model_name": "FloatProgressModel",
       "_view_count": null,
       "_view_module": "@jupyter-widgets/controls",
       "_view_module_version": "1.5.0",
       "_view_name": "ProgressView",
       "bar_style": "success",
       "description": "",
       "description_tooltip": null,
       "layout": "IPY_MODEL_fbca52455b854a38bbd9e284a7f106d4",
       "max": 694,
       "min": 0,
       "orientation": "horizontal",
       "style": "IPY_MODEL_fd6f38a2a0ce4b458790e762b5a6e0b8",
       "value": 694
      }
     },
     "3b8916465333490f97515f8f59d1dcd6": {
      "model_module": "@jupyter-widgets/base",
      "model_module_version": "1.2.0",
      "model_name": "LayoutModel",
      "state": {
       "_model_module": "@jupyter-widgets/base",
       "_model_module_version": "1.2.0",
       "_model_name": "LayoutModel",
       "_view_count": null,
       "_view_module": "@jupyter-widgets/base",
       "_view_module_version": "1.2.0",
       "_view_name": "LayoutView",
       "align_content": null,
       "align_items": null,
       "align_self": null,
       "border": null,
       "bottom": null,
       "display": null,
       "flex": null,
       "flex_flow": null,
       "grid_area": null,
       "grid_auto_columns": null,
       "grid_auto_flow": null,
       "grid_auto_rows": null,
       "grid_column": null,
       "grid_gap": null,
       "grid_row": null,
       "grid_template_areas": null,
       "grid_template_columns": null,
       "grid_template_rows": null,
       "height": null,
       "justify_content": null,
       "justify_items": null,
       "left": null,
       "margin": null,
       "max_height": null,
       "max_width": null,
       "min_height": null,
       "min_width": null,
       "object_fit": null,
       "object_position": null,
       "order": null,
       "overflow": null,
       "overflow_x": null,
       "overflow_y": null,
       "padding": null,
       "right": null,
       "top": null,
       "visibility": null,
       "width": null
      }
     },
     "4e91664b8d3f4c35b3c88b71c9f45e64": {
      "model_module": "@jupyter-widgets/controls",
      "model_module_version": "1.5.0",
      "model_name": "FloatProgressModel",
      "state": {
       "_dom_classes": [],
       "_model_module": "@jupyter-widgets/controls",
       "_model_module_version": "1.5.0",
       "_model_name": "FloatProgressModel",
       "_view_count": null,
       "_view_module": "@jupyter-widgets/controls",
       "_view_module_version": "1.5.0",
       "_view_name": "ProgressView",
       "bar_style": "success",
       "description": "",
       "description_tooltip": null,
       "layout": "IPY_MODEL_c2b7e95da26b41b781e5bd75c25e7b83",
       "max": 456318,
       "min": 0,
       "orientation": "horizontal",
       "style": "IPY_MODEL_24657daed6994b03a0bc379bae261e29",
       "value": 456318
      }
     },
     "51e118322c534942a8f48e99cfda832e": {
      "model_module": "@jupyter-widgets/controls",
      "model_module_version": "1.5.0",
      "model_name": "DescriptionStyleModel",
      "state": {
       "_model_module": "@jupyter-widgets/controls",
       "_model_module_version": "1.5.0",
       "_model_name": "DescriptionStyleModel",
       "_view_count": null,
       "_view_module": "@jupyter-widgets/base",
       "_view_module_version": "1.2.0",
       "_view_name": "StyleView",
       "description_width": ""
      }
     },
     "53a94c2808a44642b66aa6b13434c536": {
      "model_module": "@jupyter-widgets/controls",
      "model_module_version": "1.5.0",
      "model_name": "HTMLModel",
      "state": {
       "_dom_classes": [],
       "_model_module": "@jupyter-widgets/controls",
       "_model_module_version": "1.5.0",
       "_model_name": "HTMLModel",
       "_view_count": null,
       "_view_module": "@jupyter-widgets/controls",
       "_view_module_version": "1.5.0",
       "_view_name": "HTMLView",
       "description": "",
       "description_tooltip": null,
       "layout": "IPY_MODEL_b30d6504f635455aa8a0d0a15b00d5dc",
       "placeholder": "​",
       "style": "IPY_MODEL_9f2ce1a266cc48a1867c0ec8418d196a",
       "value": "Downloading: 100%"
      }
     },
     "557ab1af938c4083b3e0900f2c8874c0": {
      "model_module": "@jupyter-widgets/controls",
      "model_module_version": "1.5.0",
      "model_name": "HBoxModel",
      "state": {
       "_dom_classes": [],
       "_model_module": "@jupyter-widgets/controls",
       "_model_module_version": "1.5.0",
       "_model_name": "HBoxModel",
       "_view_count": null,
       "_view_module": "@jupyter-widgets/controls",
       "_view_module_version": "1.5.0",
       "_view_name": "HBoxView",
       "box_style": "",
       "children": [
        "IPY_MODEL_53a94c2808a44642b66aa6b13434c536",
        "IPY_MODEL_e9effbfb984f4353928f010037ee021a",
        "IPY_MODEL_f605e6dd58764d388929b34e18594267"
       ],
       "layout": "IPY_MODEL_879a6d56e5074f779f87e972876cb8e0"
      }
     },
     "583d81b0e9434cffa0a779f63a4f0ac8": {
      "model_module": "@jupyter-widgets/base",
      "model_module_version": "1.2.0",
      "model_name": "LayoutModel",
      "state": {
       "_model_module": "@jupyter-widgets/base",
       "_model_module_version": "1.2.0",
       "_model_name": "LayoutModel",
       "_view_count": null,
       "_view_module": "@jupyter-widgets/base",
       "_view_module_version": "1.2.0",
       "_view_name": "LayoutView",
       "align_content": null,
       "align_items": null,
       "align_self": null,
       "border": null,
       "bottom": null,
       "display": null,
       "flex": null,
       "flex_flow": null,
       "grid_area": null,
       "grid_auto_columns": null,
       "grid_auto_flow": null,
       "grid_auto_rows": null,
       "grid_column": null,
       "grid_gap": null,
       "grid_row": null,
       "grid_template_areas": null,
       "grid_template_columns": null,
       "grid_template_rows": null,
       "height": null,
       "justify_content": null,
       "justify_items": null,
       "left": null,
       "margin": null,
       "max_height": null,
       "max_width": null,
       "min_height": null,
       "min_width": null,
       "object_fit": null,
       "object_position": null,
       "order": null,
       "overflow": null,
       "overflow_x": null,
       "overflow_y": null,
       "padding": null,
       "right": null,
       "top": null,
       "visibility": null,
       "width": null
      }
     },
     "5b848bb186b74661899d0a9c0808be74": {
      "model_module": "@jupyter-widgets/controls",
      "model_module_version": "1.5.0",
      "model_name": "HBoxModel",
      "state": {
       "_dom_classes": [],
       "_model_module": "@jupyter-widgets/controls",
       "_model_module_version": "1.5.0",
       "_model_name": "HBoxModel",
       "_view_count": null,
       "_view_module": "@jupyter-widgets/controls",
       "_view_module_version": "1.5.0",
       "_view_name": "HBoxView",
       "box_style": "",
       "children": [
        "IPY_MODEL_8cd9f1912b6f4b23b8b72cda053a2907",
        "IPY_MODEL_84651a086c404ead98611c5c869995ea",
        "IPY_MODEL_df82f52ff6bd48e296b06b7aeb65491e"
       ],
       "layout": "IPY_MODEL_9339b77f3dee42fe91f0323d270c7351"
      }
     },
     "6161667842094d5ebdb858eb712eb0c9": {
      "model_module": "@jupyter-widgets/base",
      "model_module_version": "1.2.0",
      "model_name": "LayoutModel",
      "state": {
       "_model_module": "@jupyter-widgets/base",
       "_model_module_version": "1.2.0",
       "_model_name": "LayoutModel",
       "_view_count": null,
       "_view_module": "@jupyter-widgets/base",
       "_view_module_version": "1.2.0",
       "_view_name": "LayoutView",
       "align_content": null,
       "align_items": null,
       "align_self": null,
       "border": null,
       "bottom": null,
       "display": null,
       "flex": null,
       "flex_flow": null,
       "grid_area": null,
       "grid_auto_columns": null,
       "grid_auto_flow": null,
       "grid_auto_rows": null,
       "grid_column": null,
       "grid_gap": null,
       "grid_row": null,
       "grid_template_areas": null,
       "grid_template_columns": null,
       "grid_template_rows": null,
       "height": null,
       "justify_content": null,
       "justify_items": null,
       "left": null,
       "margin": null,
       "max_height": null,
       "max_width": null,
       "min_height": null,
       "min_width": null,
       "object_fit": null,
       "object_position": null,
       "order": null,
       "overflow": null,
       "overflow_x": null,
       "overflow_y": null,
       "padding": null,
       "right": null,
       "top": null,
       "visibility": null,
       "width": null
      }
     },
     "62aa21c3377146c59ff5c1dad5592cdc": {
      "model_module": "@jupyter-widgets/controls",
      "model_module_version": "1.5.0",
      "model_name": "HTMLModel",
      "state": {
       "_dom_classes": [],
       "_model_module": "@jupyter-widgets/controls",
       "_model_module_version": "1.5.0",
       "_model_name": "HTMLModel",
       "_view_count": null,
       "_view_module": "@jupyter-widgets/controls",
       "_view_module_version": "1.5.0",
       "_view_name": "HTMLView",
       "description": "",
       "description_tooltip": null,
       "layout": "IPY_MODEL_c53bfb4933af4001b68c791329029fc6",
       "placeholder": "​",
       "style": "IPY_MODEL_edd0b919fa8b4049aef95b6835348d7e",
       "value": " 694/694 [00:00&lt;00:00, 21.8kB/s]"
      }
     },
     "66fe379a6e2b40ec9c3291fef5ef2233": {
      "model_module": "@jupyter-widgets/controls",
      "model_module_version": "1.5.0",
      "model_name": "DescriptionStyleModel",
      "state": {
       "_model_module": "@jupyter-widgets/controls",
       "_model_module_version": "1.5.0",
       "_model_name": "DescriptionStyleModel",
       "_view_count": null,
       "_view_module": "@jupyter-widgets/base",
       "_view_module_version": "1.2.0",
       "_view_name": "StyleView",
       "description_width": ""
      }
     },
     "6915042cf1384b71bfa9cb07425ef9dd": {
      "model_module": "@jupyter-widgets/base",
      "model_module_version": "1.2.0",
      "model_name": "LayoutModel",
      "state": {
       "_model_module": "@jupyter-widgets/base",
       "_model_module_version": "1.2.0",
       "_model_name": "LayoutModel",
       "_view_count": null,
       "_view_module": "@jupyter-widgets/base",
       "_view_module_version": "1.2.0",
       "_view_name": "LayoutView",
       "align_content": null,
       "align_items": null,
       "align_self": null,
       "border": null,
       "bottom": null,
       "display": null,
       "flex": null,
       "flex_flow": null,
       "grid_area": null,
       "grid_auto_columns": null,
       "grid_auto_flow": null,
       "grid_auto_rows": null,
       "grid_column": null,
       "grid_gap": null,
       "grid_row": null,
       "grid_template_areas": null,
       "grid_template_columns": null,
       "grid_template_rows": null,
       "height": null,
       "justify_content": null,
       "justify_items": null,
       "left": null,
       "margin": null,
       "max_height": null,
       "max_width": null,
       "min_height": null,
       "min_width": null,
       "object_fit": null,
       "object_position": null,
       "order": null,
       "overflow": null,
       "overflow_x": null,
       "overflow_y": null,
       "padding": null,
       "right": null,
       "top": null,
       "visibility": null,
       "width": null
      }
     },
     "69db5036d67041fa8217e5a276e8647f": {
      "model_module": "@jupyter-widgets/controls",
      "model_module_version": "1.5.0",
      "model_name": "ProgressStyleModel",
      "state": {
       "_model_module": "@jupyter-widgets/controls",
       "_model_module_version": "1.5.0",
       "_model_name": "ProgressStyleModel",
       "_view_count": null,
       "_view_module": "@jupyter-widgets/base",
       "_view_module_version": "1.2.0",
       "_view_name": "StyleView",
       "bar_color": null,
       "description_width": ""
      }
     },
     "728ab45f6ce34b6ba31cc23a87940457": {
      "model_module": "@jupyter-widgets/controls",
      "model_module_version": "1.5.0",
      "model_name": "DescriptionStyleModel",
      "state": {
       "_model_module": "@jupyter-widgets/controls",
       "_model_module_version": "1.5.0",
       "_model_name": "DescriptionStyleModel",
       "_view_count": null,
       "_view_module": "@jupyter-widgets/base",
       "_view_module_version": "1.2.0",
       "_view_name": "StyleView",
       "description_width": ""
      }
     },
     "7bdd246d943742829aa41e6909660774": {
      "model_module": "@jupyter-widgets/controls",
      "model_module_version": "1.5.0",
      "model_name": "HBoxModel",
      "state": {
       "_dom_classes": [],
       "_model_module": "@jupyter-widgets/controls",
       "_model_module_version": "1.5.0",
       "_model_name": "HBoxModel",
       "_view_count": null,
       "_view_module": "@jupyter-widgets/controls",
       "_view_module_version": "1.5.0",
       "_view_name": "HBoxView",
       "box_style": "",
       "children": [
        "IPY_MODEL_834a3b34f59340939cbcfaa8ecd462b9",
        "IPY_MODEL_7cb481632b274e509a9fc8b7ecd118c3",
        "IPY_MODEL_9d9836c6b095455ba2dcf2ec1c4a3226"
       ],
       "layout": "IPY_MODEL_12947dae7ed1424da8b07bb2fdf2322f"
      }
     },
     "7cb481632b274e509a9fc8b7ecd118c3": {
      "model_module": "@jupyter-widgets/controls",
      "model_module_version": "1.5.0",
      "model_name": "FloatProgressModel",
      "state": {
       "_dom_classes": [],
       "_model_module": "@jupyter-widgets/controls",
       "_model_module_version": "1.5.0",
       "_model_name": "FloatProgressModel",
       "_view_count": null,
       "_view_module": "@jupyter-widgets/controls",
       "_view_module_version": "1.5.0",
       "_view_name": "ProgressView",
       "bar_style": "success",
       "description": "",
       "description_tooltip": null,
       "layout": "IPY_MODEL_8db48bab7a81464baae6cc6681ef1cf1",
       "max": 4191,
       "min": 0,
       "orientation": "horizontal",
       "style": "IPY_MODEL_9ef0a879ca234965aee890a8884638ba",
       "value": 4191
      }
     },
     "7cb7ffa8240a4457b919a5bdc12c2302": {
      "model_module": "@jupyter-widgets/controls",
      "model_module_version": "1.5.0",
      "model_name": "HBoxModel",
      "state": {
       "_dom_classes": [],
       "_model_module": "@jupyter-widgets/controls",
       "_model_module_version": "1.5.0",
       "_model_name": "HBoxModel",
       "_view_count": null,
       "_view_module": "@jupyter-widgets/controls",
       "_view_module_version": "1.5.0",
       "_view_name": "HBoxView",
       "box_style": "",
       "children": [
        "IPY_MODEL_1d42da04dd3d44f7b10519ef83c988aa",
        "IPY_MODEL_4e91664b8d3f4c35b3c88b71c9f45e64",
        "IPY_MODEL_f972598e38954c5f83157cb9f73f5cff"
       ],
       "layout": "IPY_MODEL_30a2fa9d71b242a293818ad0ff630625"
      }
     },
     "7ce8e32670a34a868dbfe8de3052e4de": {
      "model_module": "@jupyter-widgets/base",
      "model_module_version": "1.2.0",
      "model_name": "LayoutModel",
      "state": {
       "_model_module": "@jupyter-widgets/base",
       "_model_module_version": "1.2.0",
       "_model_name": "LayoutModel",
       "_view_count": null,
       "_view_module": "@jupyter-widgets/base",
       "_view_module_version": "1.2.0",
       "_view_name": "LayoutView",
       "align_content": null,
       "align_items": null,
       "align_self": null,
       "border": null,
       "bottom": null,
       "display": null,
       "flex": null,
       "flex_flow": null,
       "grid_area": null,
       "grid_auto_columns": null,
       "grid_auto_flow": null,
       "grid_auto_rows": null,
       "grid_column": null,
       "grid_gap": null,
       "grid_row": null,
       "grid_template_areas": null,
       "grid_template_columns": null,
       "grid_template_rows": null,
       "height": null,
       "justify_content": null,
       "justify_items": null,
       "left": null,
       "margin": null,
       "max_height": null,
       "max_width": null,
       "min_height": null,
       "min_width": null,
       "object_fit": null,
       "object_position": null,
       "order": null,
       "overflow": null,
       "overflow_x": null,
       "overflow_y": null,
       "padding": null,
       "right": null,
       "top": null,
       "visibility": null,
       "width": null
      }
     },
     "7d82e19a627542d9b4a7f57d97c70b55": {
      "model_module": "@jupyter-widgets/controls",
      "model_module_version": "1.5.0",
      "model_name": "HTMLModel",
      "state": {
       "_dom_classes": [],
       "_model_module": "@jupyter-widgets/controls",
       "_model_module_version": "1.5.0",
       "_model_name": "HTMLModel",
       "_view_count": null,
       "_view_module": "@jupyter-widgets/controls",
       "_view_module_version": "1.5.0",
       "_view_name": "HTMLView",
       "description": "",
       "description_tooltip": null,
       "layout": "IPY_MODEL_a378009c635a4befa1fc9e39f5e5cd88",
       "placeholder": "​",
       "style": "IPY_MODEL_51e118322c534942a8f48e99cfda832e",
       "value": "100%"
      }
     },
     "7edebbe426c24e868ce1907ec2a755a3": {
      "model_module": "@jupyter-widgets/controls",
      "model_module_version": "1.5.0",
      "model_name": "DescriptionStyleModel",
      "state": {
       "_model_module": "@jupyter-widgets/controls",
       "_model_module_version": "1.5.0",
       "_model_name": "DescriptionStyleModel",
       "_view_count": null,
       "_view_module": "@jupyter-widgets/base",
       "_view_module_version": "1.2.0",
       "_view_name": "StyleView",
       "description_width": ""
      }
     },
     "80daf823f9314a3984ac4b12eb8a52ad": {
      "model_module": "@jupyter-widgets/controls",
      "model_module_version": "1.5.0",
      "model_name": "HBoxModel",
      "state": {
       "_dom_classes": [],
       "_model_module": "@jupyter-widgets/controls",
       "_model_module_version": "1.5.0",
       "_model_name": "HBoxModel",
       "_view_count": null,
       "_view_module": "@jupyter-widgets/controls",
       "_view_module_version": "1.5.0",
       "_view_name": "HBoxView",
       "box_style": "",
       "children": [
        "IPY_MODEL_0b4980f80fb64f49832fc337bed199a3",
        "IPY_MODEL_310673aea7b84e8eba30f1e33497fa99",
        "IPY_MODEL_62aa21c3377146c59ff5c1dad5592cdc"
       ],
       "layout": "IPY_MODEL_c1c85a95731945828e347199b1b0b459"
      }
     },
     "81d982307c034a54a1b506effa39ca50": {
      "model_module": "@jupyter-widgets/controls",
      "model_module_version": "1.5.0",
      "model_name": "DescriptionStyleModel",
      "state": {
       "_model_module": "@jupyter-widgets/controls",
       "_model_module_version": "1.5.0",
       "_model_name": "DescriptionStyleModel",
       "_view_count": null,
       "_view_module": "@jupyter-widgets/base",
       "_view_module_version": "1.2.0",
       "_view_name": "StyleView",
       "description_width": ""
      }
     },
     "834a3b34f59340939cbcfaa8ecd462b9": {
      "model_module": "@jupyter-widgets/controls",
      "model_module_version": "1.5.0",
      "model_name": "HTMLModel",
      "state": {
       "_dom_classes": [],
       "_model_module": "@jupyter-widgets/controls",
       "_model_module_version": "1.5.0",
       "_model_name": "HTMLModel",
       "_view_count": null,
       "_view_module": "@jupyter-widgets/controls",
       "_view_module_version": "1.5.0",
       "_view_name": "HTMLView",
       "description": "",
       "description_tooltip": null,
       "layout": "IPY_MODEL_583d81b0e9434cffa0a779f63a4f0ac8",
       "placeholder": "​",
       "style": "IPY_MODEL_7edebbe426c24e868ce1907ec2a755a3",
       "value": "100%"
      }
     },
     "842bcce5b9e24642bdf5a4b322e9ee3b": {
      "model_module": "@jupyter-widgets/controls",
      "model_module_version": "1.5.0",
      "model_name": "HTMLModel",
      "state": {
       "_dom_classes": [],
       "_model_module": "@jupyter-widgets/controls",
       "_model_module_version": "1.5.0",
       "_model_name": "HTMLModel",
       "_view_count": null,
       "_view_module": "@jupyter-widgets/controls",
       "_view_module_version": "1.5.0",
       "_view_name": "HTMLView",
       "description": "",
       "description_tooltip": null,
       "layout": "IPY_MODEL_e0c4e524def34aebb2259949fd02911e",
       "placeholder": "​",
       "style": "IPY_MODEL_ff77075c9d8d438a9ba97f00da8f8b4a",
       "value": " 4191/4191 [00:56&lt;00:00, 69.31it/s]"
      }
     },
     "84651a086c404ead98611c5c869995ea": {
      "model_module": "@jupyter-widgets/controls",
      "model_module_version": "1.5.0",
      "model_name": "FloatProgressModel",
      "state": {
       "_dom_classes": [],
       "_model_module": "@jupyter-widgets/controls",
       "_model_module_version": "1.5.0",
       "_model_name": "FloatProgressModel",
       "_view_count": null,
       "_view_module": "@jupyter-widgets/controls",
       "_view_module_version": "1.5.0",
       "_view_name": "ProgressView",
       "bar_style": "success",
       "description": "",
       "description_tooltip": null,
       "layout": "IPY_MODEL_e634ee1de7e7468aaaac279592145eba",
       "max": 1355863,
       "min": 0,
       "orientation": "horizontal",
       "style": "IPY_MODEL_dbe1566a56cf4eb584e8f74b76b7794d",
       "value": 1355863
      }
     },
     "879a6d56e5074f779f87e972876cb8e0": {
      "model_module": "@jupyter-widgets/base",
      "model_module_version": "1.2.0",
      "model_name": "LayoutModel",
      "state": {
       "_model_module": "@jupyter-widgets/base",
       "_model_module_version": "1.2.0",
       "_model_name": "LayoutModel",
       "_view_count": null,
       "_view_module": "@jupyter-widgets/base",
       "_view_module_version": "1.2.0",
       "_view_name": "LayoutView",
       "align_content": null,
       "align_items": null,
       "align_self": null,
       "border": null,
       "bottom": null,
       "display": null,
       "flex": null,
       "flex_flow": null,
       "grid_area": null,
       "grid_auto_columns": null,
       "grid_auto_flow": null,
       "grid_auto_rows": null,
       "grid_column": null,
       "grid_gap": null,
       "grid_row": null,
       "grid_template_areas": null,
       "grid_template_columns": null,
       "grid_template_rows": null,
       "height": null,
       "justify_content": null,
       "justify_items": null,
       "left": null,
       "margin": null,
       "max_height": null,
       "max_width": null,
       "min_height": null,
       "min_width": null,
       "object_fit": null,
       "object_position": null,
       "order": null,
       "overflow": null,
       "overflow_x": null,
       "overflow_y": null,
       "padding": null,
       "right": null,
       "top": null,
       "visibility": null,
       "width": null
      }
     },
     "8cd9f1912b6f4b23b8b72cda053a2907": {
      "model_module": "@jupyter-widgets/controls",
      "model_module_version": "1.5.0",
      "model_name": "HTMLModel",
      "state": {
       "_dom_classes": [],
       "_model_module": "@jupyter-widgets/controls",
       "_model_module_version": "1.5.0",
       "_model_name": "HTMLModel",
       "_view_count": null,
       "_view_module": "@jupyter-widgets/controls",
       "_view_module_version": "1.5.0",
       "_view_name": "HTMLView",
       "description": "",
       "description_tooltip": null,
       "layout": "IPY_MODEL_27082442dde1481ba883cb150a66f297",
       "placeholder": "​",
       "style": "IPY_MODEL_1180d7242fd246f6b5eee269e40a3de8",
       "value": "Downloading: 100%"
      }
     },
     "8db48bab7a81464baae6cc6681ef1cf1": {
      "model_module": "@jupyter-widgets/base",
      "model_module_version": "1.2.0",
      "model_name": "LayoutModel",
      "state": {
       "_model_module": "@jupyter-widgets/base",
       "_model_module_version": "1.2.0",
       "_model_name": "LayoutModel",
       "_view_count": null,
       "_view_module": "@jupyter-widgets/base",
       "_view_module_version": "1.2.0",
       "_view_name": "LayoutView",
       "align_content": null,
       "align_items": null,
       "align_self": null,
       "border": null,
       "bottom": null,
       "display": null,
       "flex": null,
       "flex_flow": null,
       "grid_area": null,
       "grid_auto_columns": null,
       "grid_auto_flow": null,
       "grid_auto_rows": null,
       "grid_column": null,
       "grid_gap": null,
       "grid_row": null,
       "grid_template_areas": null,
       "grid_template_columns": null,
       "grid_template_rows": null,
       "height": null,
       "justify_content": null,
       "justify_items": null,
       "left": null,
       "margin": null,
       "max_height": null,
       "max_width": null,
       "min_height": null,
       "min_width": null,
       "object_fit": null,
       "object_position": null,
       "order": null,
       "overflow": null,
       "overflow_x": null,
       "overflow_y": null,
       "padding": null,
       "right": null,
       "top": null,
       "visibility": null,
       "width": null
      }
     },
     "928eaf4fd3d64217a042bceab1c0edb9": {
      "model_module": "@jupyter-widgets/base",
      "model_module_version": "1.2.0",
      "model_name": "LayoutModel",
      "state": {
       "_model_module": "@jupyter-widgets/base",
       "_model_module_version": "1.2.0",
       "_model_name": "LayoutModel",
       "_view_count": null,
       "_view_module": "@jupyter-widgets/base",
       "_view_module_version": "1.2.0",
       "_view_name": "LayoutView",
       "align_content": null,
       "align_items": null,
       "align_self": null,
       "border": null,
       "bottom": null,
       "display": null,
       "flex": null,
       "flex_flow": null,
       "grid_area": null,
       "grid_auto_columns": null,
       "grid_auto_flow": null,
       "grid_auto_rows": null,
       "grid_column": null,
       "grid_gap": null,
       "grid_row": null,
       "grid_template_areas": null,
       "grid_template_columns": null,
       "grid_template_rows": null,
       "height": null,
       "justify_content": null,
       "justify_items": null,
       "left": null,
       "margin": null,
       "max_height": null,
       "max_width": null,
       "min_height": null,
       "min_width": null,
       "object_fit": null,
       "object_position": null,
       "order": null,
       "overflow": null,
       "overflow_x": null,
       "overflow_y": null,
       "padding": null,
       "right": null,
       "top": null,
       "visibility": null,
       "width": null
      }
     },
     "92b0ccb43173423cbf31a6d87ec82e56": {
      "model_module": "@jupyter-widgets/controls",
      "model_module_version": "1.5.0",
      "model_name": "ProgressStyleModel",
      "state": {
       "_model_module": "@jupyter-widgets/controls",
       "_model_module_version": "1.5.0",
       "_model_name": "ProgressStyleModel",
       "_view_count": null,
       "_view_module": "@jupyter-widgets/base",
       "_view_module_version": "1.2.0",
       "_view_name": "StyleView",
       "bar_color": null,
       "description_width": ""
      }
     },
     "9339b77f3dee42fe91f0323d270c7351": {
      "model_module": "@jupyter-widgets/base",
      "model_module_version": "1.2.0",
      "model_name": "LayoutModel",
      "state": {
       "_model_module": "@jupyter-widgets/base",
       "_model_module_version": "1.2.0",
       "_model_name": "LayoutModel",
       "_view_count": null,
       "_view_module": "@jupyter-widgets/base",
       "_view_module_version": "1.2.0",
       "_view_name": "LayoutView",
       "align_content": null,
       "align_items": null,
       "align_self": null,
       "border": null,
       "bottom": null,
       "display": null,
       "flex": null,
       "flex_flow": null,
       "grid_area": null,
       "grid_auto_columns": null,
       "grid_auto_flow": null,
       "grid_auto_rows": null,
       "grid_column": null,
       "grid_gap": null,
       "grid_row": null,
       "grid_template_areas": null,
       "grid_template_columns": null,
       "grid_template_rows": null,
       "height": null,
       "justify_content": null,
       "justify_items": null,
       "left": null,
       "margin": null,
       "max_height": null,
       "max_width": null,
       "min_height": null,
       "min_width": null,
       "object_fit": null,
       "object_position": null,
       "order": null,
       "overflow": null,
       "overflow_x": null,
       "overflow_y": null,
       "padding": null,
       "right": null,
       "top": null,
       "visibility": null,
       "width": null
      }
     },
     "9411bd02ec684c73b889a7b296d09f6e": {
      "model_module": "@jupyter-widgets/base",
      "model_module_version": "1.2.0",
      "model_name": "LayoutModel",
      "state": {
       "_model_module": "@jupyter-widgets/base",
       "_model_module_version": "1.2.0",
       "_model_name": "LayoutModel",
       "_view_count": null,
       "_view_module": "@jupyter-widgets/base",
       "_view_module_version": "1.2.0",
       "_view_name": "LayoutView",
       "align_content": null,
       "align_items": null,
       "align_self": null,
       "border": null,
       "bottom": null,
       "display": null,
       "flex": null,
       "flex_flow": null,
       "grid_area": null,
       "grid_auto_columns": null,
       "grid_auto_flow": null,
       "grid_auto_rows": null,
       "grid_column": null,
       "grid_gap": null,
       "grid_row": null,
       "grid_template_areas": null,
       "grid_template_columns": null,
       "grid_template_rows": null,
       "height": null,
       "justify_content": null,
       "justify_items": null,
       "left": null,
       "margin": null,
       "max_height": null,
       "max_width": null,
       "min_height": null,
       "min_width": null,
       "object_fit": null,
       "object_position": null,
       "order": null,
       "overflow": null,
       "overflow_x": null,
       "overflow_y": null,
       "padding": null,
       "right": null,
       "top": null,
       "visibility": null,
       "width": null
      }
     },
     "9d9836c6b095455ba2dcf2ec1c4a3226": {
      "model_module": "@jupyter-widgets/controls",
      "model_module_version": "1.5.0",
      "model_name": "HTMLModel",
      "state": {
       "_dom_classes": [],
       "_model_module": "@jupyter-widgets/controls",
       "_model_module_version": "1.5.0",
       "_model_name": "HTMLModel",
       "_view_count": null,
       "_view_module": "@jupyter-widgets/controls",
       "_view_module_version": "1.5.0",
       "_view_name": "HTMLView",
       "description": "",
       "description_tooltip": null,
       "layout": "IPY_MODEL_928eaf4fd3d64217a042bceab1c0edb9",
       "placeholder": "​",
       "style": "IPY_MODEL_e176834b64174c79a4842e7eb4fa6ab5",
       "value": " 4191/4191 [01:52&lt;00:00, 34.48it/s]"
      }
     },
     "9ef0a879ca234965aee890a8884638ba": {
      "model_module": "@jupyter-widgets/controls",
      "model_module_version": "1.5.0",
      "model_name": "ProgressStyleModel",
      "state": {
       "_model_module": "@jupyter-widgets/controls",
       "_model_module_version": "1.5.0",
       "_model_name": "ProgressStyleModel",
       "_view_count": null,
       "_view_module": "@jupyter-widgets/base",
       "_view_module_version": "1.2.0",
       "_view_name": "StyleView",
       "bar_color": null,
       "description_width": ""
      }
     },
     "9f2ce1a266cc48a1867c0ec8418d196a": {
      "model_module": "@jupyter-widgets/controls",
      "model_module_version": "1.5.0",
      "model_name": "DescriptionStyleModel",
      "state": {
       "_model_module": "@jupyter-widgets/controls",
       "_model_module_version": "1.5.0",
       "_model_name": "DescriptionStyleModel",
       "_view_count": null,
       "_view_module": "@jupyter-widgets/base",
       "_view_module_version": "1.2.0",
       "_view_name": "StyleView",
       "description_width": ""
      }
     },
     "a378009c635a4befa1fc9e39f5e5cd88": {
      "model_module": "@jupyter-widgets/base",
      "model_module_version": "1.2.0",
      "model_name": "LayoutModel",
      "state": {
       "_model_module": "@jupyter-widgets/base",
       "_model_module_version": "1.2.0",
       "_model_name": "LayoutModel",
       "_view_count": null,
       "_view_module": "@jupyter-widgets/base",
       "_view_module_version": "1.2.0",
       "_view_name": "LayoutView",
       "align_content": null,
       "align_items": null,
       "align_self": null,
       "border": null,
       "bottom": null,
       "display": null,
       "flex": null,
       "flex_flow": null,
       "grid_area": null,
       "grid_auto_columns": null,
       "grid_auto_flow": null,
       "grid_auto_rows": null,
       "grid_column": null,
       "grid_gap": null,
       "grid_row": null,
       "grid_template_areas": null,
       "grid_template_columns": null,
       "grid_template_rows": null,
       "height": null,
       "justify_content": null,
       "justify_items": null,
       "left": null,
       "margin": null,
       "max_height": null,
       "max_width": null,
       "min_height": null,
       "min_width": null,
       "object_fit": null,
       "object_position": null,
       "order": null,
       "overflow": null,
       "overflow_x": null,
       "overflow_y": null,
       "padding": null,
       "right": null,
       "top": null,
       "visibility": null,
       "width": null
      }
     },
     "a91f677cef4d4ab6a0712759958d2e86": {
      "model_module": "@jupyter-widgets/controls",
      "model_module_version": "1.5.0",
      "model_name": "FloatProgressModel",
      "state": {
       "_dom_classes": [],
       "_model_module": "@jupyter-widgets/controls",
       "_model_module_version": "1.5.0",
       "_model_name": "FloatProgressModel",
       "_view_count": null,
       "_view_module": "@jupyter-widgets/controls",
       "_view_module_version": "1.5.0",
       "_view_name": "ProgressView",
       "bar_style": "success",
       "description": "",
       "description_tooltip": null,
       "layout": "IPY_MODEL_7ce8e32670a34a868dbfe8de3052e4de",
       "max": 4191,
       "min": 0,
       "orientation": "horizontal",
       "style": "IPY_MODEL_92b0ccb43173423cbf31a6d87ec82e56",
       "value": 4191
      }
     },
     "b30d6504f635455aa8a0d0a15b00d5dc": {
      "model_module": "@jupyter-widgets/base",
      "model_module_version": "1.2.0",
      "model_name": "LayoutModel",
      "state": {
       "_model_module": "@jupyter-widgets/base",
       "_model_module_version": "1.2.0",
       "_model_name": "LayoutModel",
       "_view_count": null,
       "_view_module": "@jupyter-widgets/base",
       "_view_module_version": "1.2.0",
       "_view_name": "LayoutView",
       "align_content": null,
       "align_items": null,
       "align_self": null,
       "border": null,
       "bottom": null,
       "display": null,
       "flex": null,
       "flex_flow": null,
       "grid_area": null,
       "grid_auto_columns": null,
       "grid_auto_flow": null,
       "grid_auto_rows": null,
       "grid_column": null,
       "grid_gap": null,
       "grid_row": null,
       "grid_template_areas": null,
       "grid_template_columns": null,
       "grid_template_rows": null,
       "height": null,
       "justify_content": null,
       "justify_items": null,
       "left": null,
       "margin": null,
       "max_height": null,
       "max_width": null,
       "min_height": null,
       "min_width": null,
       "object_fit": null,
       "object_position": null,
       "order": null,
       "overflow": null,
       "overflow_x": null,
       "overflow_y": null,
       "padding": null,
       "right": null,
       "top": null,
       "visibility": null,
       "width": null
      }
     },
     "ba8a45bbfcc445428f889764f7393cbd": {
      "model_module": "@jupyter-widgets/controls",
      "model_module_version": "1.5.0",
      "model_name": "HBoxModel",
      "state": {
       "_dom_classes": [],
       "_model_module": "@jupyter-widgets/controls",
       "_model_module_version": "1.5.0",
       "_model_name": "HBoxModel",
       "_view_count": null,
       "_view_module": "@jupyter-widgets/controls",
       "_view_module_version": "1.5.0",
       "_view_name": "HBoxView",
       "box_style": "",
       "children": [
        "IPY_MODEL_7d82e19a627542d9b4a7f57d97c70b55",
        "IPY_MODEL_a91f677cef4d4ab6a0712759958d2e86",
        "IPY_MODEL_842bcce5b9e24642bdf5a4b322e9ee3b"
       ],
       "layout": "IPY_MODEL_07662acc714d4c4d82fe69dc9bc8bc68"
      }
     },
     "c1c85a95731945828e347199b1b0b459": {
      "model_module": "@jupyter-widgets/base",
      "model_module_version": "1.2.0",
      "model_name": "LayoutModel",
      "state": {
       "_model_module": "@jupyter-widgets/base",
       "_model_module_version": "1.2.0",
       "_model_name": "LayoutModel",
       "_view_count": null,
       "_view_module": "@jupyter-widgets/base",
       "_view_module_version": "1.2.0",
       "_view_name": "LayoutView",
       "align_content": null,
       "align_items": null,
       "align_self": null,
       "border": null,
       "bottom": null,
       "display": null,
       "flex": null,
       "flex_flow": null,
       "grid_area": null,
       "grid_auto_columns": null,
       "grid_auto_flow": null,
       "grid_auto_rows": null,
       "grid_column": null,
       "grid_gap": null,
       "grid_row": null,
       "grid_template_areas": null,
       "grid_template_columns": null,
       "grid_template_rows": null,
       "height": null,
       "justify_content": null,
       "justify_items": null,
       "left": null,
       "margin": null,
       "max_height": null,
       "max_width": null,
       "min_height": null,
       "min_width": null,
       "object_fit": null,
       "object_position": null,
       "order": null,
       "overflow": null,
       "overflow_x": null,
       "overflow_y": null,
       "padding": null,
       "right": null,
       "top": null,
       "visibility": null,
       "width": null
      }
     },
     "c27c8b6ef47c4fed87dd6595c6554dbc": {
      "model_module": "@jupyter-widgets/base",
      "model_module_version": "1.2.0",
      "model_name": "LayoutModel",
      "state": {
       "_model_module": "@jupyter-widgets/base",
       "_model_module_version": "1.2.0",
       "_model_name": "LayoutModel",
       "_view_count": null,
       "_view_module": "@jupyter-widgets/base",
       "_view_module_version": "1.2.0",
       "_view_name": "LayoutView",
       "align_content": null,
       "align_items": null,
       "align_self": null,
       "border": null,
       "bottom": null,
       "display": null,
       "flex": null,
       "flex_flow": null,
       "grid_area": null,
       "grid_auto_columns": null,
       "grid_auto_flow": null,
       "grid_auto_rows": null,
       "grid_column": null,
       "grid_gap": null,
       "grid_row": null,
       "grid_template_areas": null,
       "grid_template_columns": null,
       "grid_template_rows": null,
       "height": null,
       "justify_content": null,
       "justify_items": null,
       "left": null,
       "margin": null,
       "max_height": null,
       "max_width": null,
       "min_height": null,
       "min_width": null,
       "object_fit": null,
       "object_position": null,
       "order": null,
       "overflow": null,
       "overflow_x": null,
       "overflow_y": null,
       "padding": null,
       "right": null,
       "top": null,
       "visibility": null,
       "width": null
      }
     },
     "c2b7e95da26b41b781e5bd75c25e7b83": {
      "model_module": "@jupyter-widgets/base",
      "model_module_version": "1.2.0",
      "model_name": "LayoutModel",
      "state": {
       "_model_module": "@jupyter-widgets/base",
       "_model_module_version": "1.2.0",
       "_model_name": "LayoutModel",
       "_view_count": null,
       "_view_module": "@jupyter-widgets/base",
       "_view_module_version": "1.2.0",
       "_view_name": "LayoutView",
       "align_content": null,
       "align_items": null,
       "align_self": null,
       "border": null,
       "bottom": null,
       "display": null,
       "flex": null,
       "flex_flow": null,
       "grid_area": null,
       "grid_auto_columns": null,
       "grid_auto_flow": null,
       "grid_auto_rows": null,
       "grid_column": null,
       "grid_gap": null,
       "grid_row": null,
       "grid_template_areas": null,
       "grid_template_columns": null,
       "grid_template_rows": null,
       "height": null,
       "justify_content": null,
       "justify_items": null,
       "left": null,
       "margin": null,
       "max_height": null,
       "max_width": null,
       "min_height": null,
       "min_width": null,
       "object_fit": null,
       "object_position": null,
       "order": null,
       "overflow": null,
       "overflow_x": null,
       "overflow_y": null,
       "padding": null,
       "right": null,
       "top": null,
       "visibility": null,
       "width": null
      }
     },
     "c53bfb4933af4001b68c791329029fc6": {
      "model_module": "@jupyter-widgets/base",
      "model_module_version": "1.2.0",
      "model_name": "LayoutModel",
      "state": {
       "_model_module": "@jupyter-widgets/base",
       "_model_module_version": "1.2.0",
       "_model_name": "LayoutModel",
       "_view_count": null,
       "_view_module": "@jupyter-widgets/base",
       "_view_module_version": "1.2.0",
       "_view_name": "LayoutView",
       "align_content": null,
       "align_items": null,
       "align_self": null,
       "border": null,
       "bottom": null,
       "display": null,
       "flex": null,
       "flex_flow": null,
       "grid_area": null,
       "grid_auto_columns": null,
       "grid_auto_flow": null,
       "grid_auto_rows": null,
       "grid_column": null,
       "grid_gap": null,
       "grid_row": null,
       "grid_template_areas": null,
       "grid_template_columns": null,
       "grid_template_rows": null,
       "height": null,
       "justify_content": null,
       "justify_items": null,
       "left": null,
       "margin": null,
       "max_height": null,
       "max_width": null,
       "min_height": null,
       "min_width": null,
       "object_fit": null,
       "object_position": null,
       "order": null,
       "overflow": null,
       "overflow_x": null,
       "overflow_y": null,
       "padding": null,
       "right": null,
       "top": null,
       "visibility": null,
       "width": null
      }
     },
     "dbe1566a56cf4eb584e8f74b76b7794d": {
      "model_module": "@jupyter-widgets/controls",
      "model_module_version": "1.5.0",
      "model_name": "ProgressStyleModel",
      "state": {
       "_model_module": "@jupyter-widgets/controls",
       "_model_module_version": "1.5.0",
       "_model_name": "ProgressStyleModel",
       "_view_count": null,
       "_view_module": "@jupyter-widgets/base",
       "_view_module_version": "1.2.0",
       "_view_name": "StyleView",
       "bar_color": null,
       "description_width": ""
      }
     },
     "df82f52ff6bd48e296b06b7aeb65491e": {
      "model_module": "@jupyter-widgets/controls",
      "model_module_version": "1.5.0",
      "model_name": "HTMLModel",
      "state": {
       "_dom_classes": [],
       "_model_module": "@jupyter-widgets/controls",
       "_model_module_version": "1.5.0",
       "_model_name": "HTMLModel",
       "_view_count": null,
       "_view_module": "@jupyter-widgets/controls",
       "_view_module_version": "1.5.0",
       "_view_name": "HTMLView",
       "description": "",
       "description_tooltip": null,
       "layout": "IPY_MODEL_f73e47a9e6dd428fa5d47c43d7bc5b42",
       "placeholder": "​",
       "style": "IPY_MODEL_66fe379a6e2b40ec9c3291fef5ef2233",
       "value": " 1.29M/1.29M [00:00&lt;00:00, 2.97MB/s]"
      }
     },
     "e0c4e524def34aebb2259949fd02911e": {
      "model_module": "@jupyter-widgets/base",
      "model_module_version": "1.2.0",
      "model_name": "LayoutModel",
      "state": {
       "_model_module": "@jupyter-widgets/base",
       "_model_module_version": "1.2.0",
       "_model_name": "LayoutModel",
       "_view_count": null,
       "_view_module": "@jupyter-widgets/base",
       "_view_module_version": "1.2.0",
       "_view_name": "LayoutView",
       "align_content": null,
       "align_items": null,
       "align_self": null,
       "border": null,
       "bottom": null,
       "display": null,
       "flex": null,
       "flex_flow": null,
       "grid_area": null,
       "grid_auto_columns": null,
       "grid_auto_flow": null,
       "grid_auto_rows": null,
       "grid_column": null,
       "grid_gap": null,
       "grid_row": null,
       "grid_template_areas": null,
       "grid_template_columns": null,
       "grid_template_rows": null,
       "height": null,
       "justify_content": null,
       "justify_items": null,
       "left": null,
       "margin": null,
       "max_height": null,
       "max_width": null,
       "min_height": null,
       "min_width": null,
       "object_fit": null,
       "object_position": null,
       "order": null,
       "overflow": null,
       "overflow_x": null,
       "overflow_y": null,
       "padding": null,
       "right": null,
       "top": null,
       "visibility": null,
       "width": null
      }
     },
     "e13e6127cc9d478ba8944fca47dd06a9": {
      "model_module": "@jupyter-widgets/controls",
      "model_module_version": "1.5.0",
      "model_name": "DescriptionStyleModel",
      "state": {
       "_model_module": "@jupyter-widgets/controls",
       "_model_module_version": "1.5.0",
       "_model_name": "DescriptionStyleModel",
       "_view_count": null,
       "_view_module": "@jupyter-widgets/base",
       "_view_module_version": "1.2.0",
       "_view_name": "StyleView",
       "description_width": ""
      }
     },
     "e176834b64174c79a4842e7eb4fa6ab5": {
      "model_module": "@jupyter-widgets/controls",
      "model_module_version": "1.5.0",
      "model_name": "DescriptionStyleModel",
      "state": {
       "_model_module": "@jupyter-widgets/controls",
       "_model_module_version": "1.5.0",
       "_model_name": "DescriptionStyleModel",
       "_view_count": null,
       "_view_module": "@jupyter-widgets/base",
       "_view_module_version": "1.2.0",
       "_view_name": "StyleView",
       "description_width": ""
      }
     },
     "e634ee1de7e7468aaaac279592145eba": {
      "model_module": "@jupyter-widgets/base",
      "model_module_version": "1.2.0",
      "model_name": "LayoutModel",
      "state": {
       "_model_module": "@jupyter-widgets/base",
       "_model_module_version": "1.2.0",
       "_model_name": "LayoutModel",
       "_view_count": null,
       "_view_module": "@jupyter-widgets/base",
       "_view_module_version": "1.2.0",
       "_view_name": "LayoutView",
       "align_content": null,
       "align_items": null,
       "align_self": null,
       "border": null,
       "bottom": null,
       "display": null,
       "flex": null,
       "flex_flow": null,
       "grid_area": null,
       "grid_auto_columns": null,
       "grid_auto_flow": null,
       "grid_auto_rows": null,
       "grid_column": null,
       "grid_gap": null,
       "grid_row": null,
       "grid_template_areas": null,
       "grid_template_columns": null,
       "grid_template_rows": null,
       "height": null,
       "justify_content": null,
       "justify_items": null,
       "left": null,
       "margin": null,
       "max_height": null,
       "max_width": null,
       "min_height": null,
       "min_width": null,
       "object_fit": null,
       "object_position": null,
       "order": null,
       "overflow": null,
       "overflow_x": null,
       "overflow_y": null,
       "padding": null,
       "right": null,
       "top": null,
       "visibility": null,
       "width": null
      }
     },
     "e9effbfb984f4353928f010037ee021a": {
      "model_module": "@jupyter-widgets/controls",
      "model_module_version": "1.5.0",
      "model_name": "FloatProgressModel",
      "state": {
       "_dom_classes": [],
       "_model_module": "@jupyter-widgets/controls",
       "_model_module_version": "1.5.0",
       "_model_name": "FloatProgressModel",
       "_view_count": null,
       "_view_module": "@jupyter-widgets/controls",
       "_view_module_version": "1.5.0",
       "_view_name": "ProgressView",
       "bar_style": "success",
       "description": "",
       "description_tooltip": null,
       "layout": "IPY_MODEL_3b8916465333490f97515f8f59d1dcd6",
       "max": 898823,
       "min": 0,
       "orientation": "horizontal",
       "style": "IPY_MODEL_69db5036d67041fa8217e5a276e8647f",
       "value": 898823
      }
     },
     "edd0b919fa8b4049aef95b6835348d7e": {
      "model_module": "@jupyter-widgets/controls",
      "model_module_version": "1.5.0",
      "model_name": "DescriptionStyleModel",
      "state": {
       "_model_module": "@jupyter-widgets/controls",
       "_model_module_version": "1.5.0",
       "_model_name": "DescriptionStyleModel",
       "_view_count": null,
       "_view_module": "@jupyter-widgets/base",
       "_view_module_version": "1.2.0",
       "_view_name": "StyleView",
       "description_width": ""
      }
     },
     "f605e6dd58764d388929b34e18594267": {
      "model_module": "@jupyter-widgets/controls",
      "model_module_version": "1.5.0",
      "model_name": "HTMLModel",
      "state": {
       "_dom_classes": [],
       "_model_module": "@jupyter-widgets/controls",
       "_model_module_version": "1.5.0",
       "_model_name": "HTMLModel",
       "_view_count": null,
       "_view_module": "@jupyter-widgets/controls",
       "_view_module_version": "1.5.0",
       "_view_name": "HTMLView",
       "description": "",
       "description_tooltip": null,
       "layout": "IPY_MODEL_c27c8b6ef47c4fed87dd6595c6554dbc",
       "placeholder": "​",
       "style": "IPY_MODEL_0969b89a226f4d5ebf897fbdaa3d4489",
       "value": " 878k/878k [00:00&lt;00:00, 3.22MB/s]"
      }
     },
     "f73e47a9e6dd428fa5d47c43d7bc5b42": {
      "model_module": "@jupyter-widgets/base",
      "model_module_version": "1.2.0",
      "model_name": "LayoutModel",
      "state": {
       "_model_module": "@jupyter-widgets/base",
       "_model_module_version": "1.2.0",
       "_model_name": "LayoutModel",
       "_view_count": null,
       "_view_module": "@jupyter-widgets/base",
       "_view_module_version": "1.2.0",
       "_view_name": "LayoutView",
       "align_content": null,
       "align_items": null,
       "align_self": null,
       "border": null,
       "bottom": null,
       "display": null,
       "flex": null,
       "flex_flow": null,
       "grid_area": null,
       "grid_auto_columns": null,
       "grid_auto_flow": null,
       "grid_auto_rows": null,
       "grid_column": null,
       "grid_gap": null,
       "grid_row": null,
       "grid_template_areas": null,
       "grid_template_columns": null,
       "grid_template_rows": null,
       "height": null,
       "justify_content": null,
       "justify_items": null,
       "left": null,
       "margin": null,
       "max_height": null,
       "max_width": null,
       "min_height": null,
       "min_width": null,
       "object_fit": null,
       "object_position": null,
       "order": null,
       "overflow": null,
       "overflow_x": null,
       "overflow_y": null,
       "padding": null,
       "right": null,
       "top": null,
       "visibility": null,
       "width": null
      }
     },
     "f972598e38954c5f83157cb9f73f5cff": {
      "model_module": "@jupyter-widgets/controls",
      "model_module_version": "1.5.0",
      "model_name": "HTMLModel",
      "state": {
       "_dom_classes": [],
       "_model_module": "@jupyter-widgets/controls",
       "_model_module_version": "1.5.0",
       "_model_name": "HTMLModel",
       "_view_count": null,
       "_view_module": "@jupyter-widgets/controls",
       "_view_module_version": "1.5.0",
       "_view_name": "HTMLView",
       "description": "",
       "description_tooltip": null,
       "layout": "IPY_MODEL_6915042cf1384b71bfa9cb07425ef9dd",
       "placeholder": "​",
       "style": "IPY_MODEL_81d982307c034a54a1b506effa39ca50",
       "value": " 446k/446k [00:00&lt;00:00, 3.74MB/s]"
      }
     },
     "fbca52455b854a38bbd9e284a7f106d4": {
      "model_module": "@jupyter-widgets/base",
      "model_module_version": "1.2.0",
      "model_name": "LayoutModel",
      "state": {
       "_model_module": "@jupyter-widgets/base",
       "_model_module_version": "1.2.0",
       "_model_name": "LayoutModel",
       "_view_count": null,
       "_view_module": "@jupyter-widgets/base",
       "_view_module_version": "1.2.0",
       "_view_name": "LayoutView",
       "align_content": null,
       "align_items": null,
       "align_self": null,
       "border": null,
       "bottom": null,
       "display": null,
       "flex": null,
       "flex_flow": null,
       "grid_area": null,
       "grid_auto_columns": null,
       "grid_auto_flow": null,
       "grid_auto_rows": null,
       "grid_column": null,
       "grid_gap": null,
       "grid_row": null,
       "grid_template_areas": null,
       "grid_template_columns": null,
       "grid_template_rows": null,
       "height": null,
       "justify_content": null,
       "justify_items": null,
       "left": null,
       "margin": null,
       "max_height": null,
       "max_width": null,
       "min_height": null,
       "min_width": null,
       "object_fit": null,
       "object_position": null,
       "order": null,
       "overflow": null,
       "overflow_x": null,
       "overflow_y": null,
       "padding": null,
       "right": null,
       "top": null,
       "visibility": null,
       "width": null
      }
     },
     "fd6f38a2a0ce4b458790e762b5a6e0b8": {
      "model_module": "@jupyter-widgets/controls",
      "model_module_version": "1.5.0",
      "model_name": "ProgressStyleModel",
      "state": {
       "_model_module": "@jupyter-widgets/controls",
       "_model_module_version": "1.5.0",
       "_model_name": "ProgressStyleModel",
       "_view_count": null,
       "_view_module": "@jupyter-widgets/base",
       "_view_module_version": "1.2.0",
       "_view_name": "StyleView",
       "bar_color": null,
       "description_width": ""
      }
     },
     "ff77075c9d8d438a9ba97f00da8f8b4a": {
      "model_module": "@jupyter-widgets/controls",
      "model_module_version": "1.5.0",
      "model_name": "DescriptionStyleModel",
      "state": {
       "_model_module": "@jupyter-widgets/controls",
       "_model_module_version": "1.5.0",
       "_model_name": "DescriptionStyleModel",
       "_view_count": null,
       "_view_module": "@jupyter-widgets/base",
       "_view_module_version": "1.2.0",
       "_view_name": "StyleView",
       "description_width": ""
      }
     }
    },
    "version_major": 2,
    "version_minor": 0
   }
  }
 },
 "nbformat": 4,
 "nbformat_minor": 5
}
