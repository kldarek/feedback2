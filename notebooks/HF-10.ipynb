{
 "cells": [
  {
   "cell_type": "code",
   "execution_count": 1,
   "id": "3313401c",
   "metadata": {},
   "outputs": [],
   "source": [
    "# HF-3, lr = 1.5e-5, 2 epochs\n",
    "exp_name = \"HF-10\""
   ]
  },
  {
   "cell_type": "code",
   "execution_count": 2,
   "id": "f4d4f5dc-27fc-4f33-901a-5cbb2e6e5255",
   "metadata": {},
   "outputs": [
    {
     "name": "stdout",
     "output_type": "stream",
     "text": [
      "env: WANDB_PROJECT=fbck\n",
      "env: WANDB_SILENT=true\n"
     ]
    }
   ],
   "source": [
    "%env WANDB_PROJECT=fbck\n",
    "%env WANDB_SILENT=true"
   ]
  },
  {
   "cell_type": "code",
   "execution_count": 3,
   "id": "50b9e284-8eba-461a-90aa-850b47769502",
   "metadata": {},
   "outputs": [],
   "source": [
    "DEBUG = False\n",
    "k_folds = 2 if DEBUG else 5\n",
    "n_epochs = 1 if DEBUG else 2"
   ]
  },
  {
   "cell_type": "code",
   "execution_count": 4,
   "id": "9d726ae4",
   "metadata": {},
   "outputs": [],
   "source": [
    "cfg = {\n",
    "    \"num_proc\": 2,\n",
    "    \"k_folds\": k_folds,\n",
    "    \"max_length\": 2048,\n",
    "    \"padding\": False,\n",
    "    \"stride\": 0,\n",
    "    \"data_dir\": \"../input/feedback-prize-effectiveness\",\n",
    "    \"load_from_disk\": None,\n",
    "    \"pad_multiple\": 8,\n",
    "    \"model_name_or_path\": \"microsoft/deberta-v3-large\",\n",
    "    \"dropout\": 0.1,\n",
    "    \"trainingargs\": {\n",
    "        \"output_dir\": f\"../output/{exp_name}\",\n",
    "        \"do_train\": True,\n",
    "        \"do_eval\": True,\n",
    "        \"per_device_train_batch_size\": 8,\n",
    "        \"per_device_eval_batch_size\": 1,\n",
    "        \"learning_rate\": 1.5e-5,\n",
    "        \"weight_decay\": 0.01,\n",
    "        \"num_train_epochs\": n_epochs,\n",
    "        \"warmup_ratio\": 0.1,\n",
    "        \"optim\": 'adamw_torch',\n",
    "        \"logging_steps\": 50,\n",
    "        \"save_strategy\": \"epoch\",\n",
    "        \"evaluation_strategy\": \"epoch\",\n",
    "        \"report_to\": \"wandb\",\n",
    "        \"group_by_length\": True,\n",
    "        \"save_total_limit\": 1,\n",
    "        \"metric_for_best_model\": \"loss\",\n",
    "        \"greater_is_better\": False,\n",
    "        \"seed\": 42,\n",
    "        \"fp16\": True,\n",
    "        \"gradient_checkpointing\": True,\n",
    "        \"gradient_accumulation_steps\": 1,\n",
    "    }\n",
    "}"
   ]
  },
  {
   "cell_type": "code",
   "execution_count": 5,
   "id": "f0ab1da7",
   "metadata": {},
   "outputs": [
    {
     "name": "stderr",
     "output_type": "stream",
     "text": [
      "/home/darek/mambaforge/envs/ml/lib/python3.8/site-packages/tqdm/auto.py:22: TqdmWarning: IProgress not found. Please update jupyter and ipywidgets. See https://ipywidgets.readthedocs.io/en/stable/user_install.html\n",
      "  from .autonotebook import tqdm as notebook_tqdm\n"
     ]
    }
   ],
   "source": [
    "import re\n",
    "import pickle\n",
    "import codecs\n",
    "import warnings\n",
    "import logging\n",
    "from functools import partial\n",
    "from pathlib import Path\n",
    "from itertools import chain\n",
    "from text_unidecode import unidecode\n",
    "from typing import Any, Optional, Tuple\n",
    "\n",
    "import pandas as pd\n",
    "from sklearn.model_selection import KFold\n",
    "from transformers import AutoTokenizer, set_seed\n",
    "\n",
    "from datasets import Dataset, load_from_disk\n",
    "\n",
    "def replace_encoding_with_utf8(error: UnicodeError) -> Tuple[bytes, int]:\n",
    "    return error.object[error.start : error.end].encode(\"utf-8\"), error.end\n",
    "\n",
    "def replace_decoding_with_cp1252(error: UnicodeError) -> Tuple[str, int]:\n",
    "    return error.object[error.start : error.end].decode(\"cp1252\"), error.end\n",
    "\n",
    "codecs.register_error(\"replace_encoding_with_utf8\", replace_encoding_with_utf8)\n",
    "codecs.register_error(\"replace_decoding_with_cp1252\", replace_decoding_with_cp1252)\n",
    "\n",
    "def resolve_encodings_and_normalize(text: str) -> str:\n",
    "    text = (\n",
    "        text.encode(\"raw_unicode_escape\")\n",
    "        .decode(\"utf-8\", errors=\"replace_decoding_with_cp1252\")\n",
    "        .encode(\"cp1252\", errors=\"replace_encoding_with_utf8\")\n",
    "        .decode(\"utf-8\", errors=\"replace_decoding_with_cp1252\")\n",
    "    )\n",
    "    text = unidecode(text)\n",
    "    return text\n",
    "\n",
    "def read_text_files(example, data_dir):\n",
    "    \n",
    "    id_ = example[\"essay_id\"]\n",
    "    \n",
    "    with open(data_dir / \"train\" / f\"{id_}.txt\", \"r\") as fp:\n",
    "        example[\"text\"] = resolve_encodings_and_normalize(fp.read())\n",
    "    \n",
    "    return example\n",
    "\n",
    "set_seed(cfg[\"trainingargs\"][\"seed\"])\n",
    "\n",
    "warnings.simplefilter('ignore')\n",
    "logging.disable(logging.WARNING)"
   ]
  },
  {
   "cell_type": "code",
   "execution_count": 6,
   "id": "5fed6561-cbbb-413f-9df4-383ce02b3869",
   "metadata": {},
   "outputs": [],
   "source": [
    "essay_folds = pd.read_csv('../input/feedback-effective-folds/essay_scores.csv')\n",
    "essay_folds.head()\n",
    "essay_folds_dict = {x:y for x,y in zip(essay_folds.essay_id.values.tolist(), essay_folds.fold.values.tolist())}"
   ]
  },
  {
   "cell_type": "code",
   "execution_count": 7,
   "id": "e162fb9a",
   "metadata": {},
   "outputs": [
    {
     "name": "stderr",
     "output_type": "stream",
     "text": [
      "Loading text files #0:   0%|                                                | 0/2096 [00:00<?, ?ex/s]\n",
      "Loading text files #0:  10%|███▋                                | 216/2096 [00:00<00:00, 2157.61ex/s]\u001b[A\n",
      "Loading text files #0:  21%|███████▍                            | 432/2096 [00:00<00:00, 2135.18ex/s]\u001b[A\n",
      "Loading text files #0:  31%|███████████▏                        | 654/2096 [00:00<00:00, 2172.42ex/s]\u001b[A\n",
      "Loading text files #1:  30%|██████████▉                         | 635/2095 [00:00<00:00, 2127.61ex/s]\u001b[A\n",
      "Loading text files #0:  52%|██████████████████                 | 1083/2096 [00:00<00:00, 2080.35ex/s]\u001b[A\n",
      "Loading text files #0:  63%|█████████████████████▉             | 1313/2096 [00:00<00:00, 2151.01ex/s]\u001b[A\n",
      "Loading text files #0:  74%|█████████████████████████▉         | 1555/2096 [00:00<00:00, 2235.19ex/s]\u001b[A\n",
      "Loading text files #0:  85%|█████████████████████████████▊     | 1787/2096 [00:00<00:00, 2259.82ex/s]\u001b[A\n",
      "Loading text files #0: 100%|███████████████████████████████████| 2096/2096 [00:00<00:00, 2208.59ex/s]\u001b[A\n",
      "\n",
      "Loading text files #1: 100%|███████████████████████████████████| 2095/2095 [00:01<00:00, 1951.04ex/s]\u001b[A\n"
     ]
    }
   ],
   "source": [
    "data_dir = Path(cfg[\"data_dir\"])\n",
    "\n",
    "if cfg[\"load_from_disk\"]:\n",
    "    if not cfg[\"load_from_disk\"].endswith(\".dataset\"):\n",
    "        cfg[\"load_from_disk\"] += \".dataset\"\n",
    "    ds = load_from_disk(cfg[\"load_from_disk\"])\n",
    "    \n",
    "    pkl_file = f\"{cfg['load_from_disk'][:-len('.dataset')]}_pkl\"\n",
    "    with open(pkl_file, \"rb\") as fp: \n",
    "        grouped = pickle.load(fp)\n",
    "        \n",
    "    print(\"loading from saved files\")\n",
    "else:\n",
    "    train_df = pd.read_csv(data_dir / \"train.csv\")\n",
    "    \n",
    "    if DEBUG: train_df = train_df.sample(n=100).reset_index(drop=True)\n",
    "    \n",
    "    text_ds = Dataset.from_dict({\"essay_id\": train_df.essay_id.unique()})\n",
    "    \n",
    "    text_ds = text_ds.map(\n",
    "        partial(read_text_files, data_dir=data_dir),\n",
    "        num_proc=cfg[\"num_proc\"],\n",
    "        batched=False,\n",
    "        desc=\"Loading text files\",\n",
    "    )\n",
    "    \n",
    "    text_df = text_ds.to_pandas()\n",
    "    \n",
    "    train_df[\"discourse_text\"] = [\n",
    "        resolve_encodings_and_normalize(x) for x in train_df[\"discourse_text\"]\n",
    "    ]\n",
    "    \n",
    "    train_df = train_df.merge(text_df, on=\"essay_id\", how=\"left\")\n",
    "    \n",
    "disc_types = [\n",
    "    \"Claim\",\n",
    "    \"Concluding Statement\",\n",
    "    \"Counterclaim\",\n",
    "    \"Evidence\",\n",
    "    \"Lead\",\n",
    "    \"Position\",\n",
    "    \"Rebuttal\",\n",
    "]\n",
    "\n",
    "cls_tokens_map = {label: f\"[CLS_{label.upper()}]\" for label in disc_types}\n",
    "end_tokens_map = {label: f\"[END_{label.upper()}]\" for label in disc_types}\n",
    "\n",
    "label2id = {\n",
    "    \"Adequate\": 0,\n",
    "    \"Effective\": 1,\n",
    "    \"Ineffective\": 2,\n",
    "}\n",
    "\n",
    "tokenizer = AutoTokenizer.from_pretrained(cfg[\"model_name_or_path\"])\n",
    "tokenizer.add_special_tokens(\n",
    "    {\"additional_special_tokens\": list(cls_tokens_map.values())+list(end_tokens_map.values())}\n",
    ")\n",
    "\n",
    "cls_id_map = {\n",
    "    label: tokenizer.encode(tkn)[1]\n",
    "    for label, tkn in cls_tokens_map.items()\n",
    "}\n"
   ]
  },
  {
   "cell_type": "code",
   "execution_count": 8,
   "id": "b7eac95d",
   "metadata": {},
   "outputs": [],
   "source": [
    "def find_positions(example):\n",
    "\n",
    "    text = example[\"text\"][0]\n",
    "    \n",
    "    # keeps track of what has already\n",
    "    # been located\n",
    "    min_idx = 0\n",
    "    \n",
    "    # stores start and end indexes of discourse_texts\n",
    "    idxs = []\n",
    "    \n",
    "    for dt in example[\"discourse_text\"]:\n",
    "        # calling strip is essential\n",
    "        matches = list(re.finditer(re.escape(dt.strip()), text))\n",
    "        \n",
    "        # If there are multiple matches, take the first one\n",
    "        # that is past the previous discourse texts.\n",
    "        if len(matches) > 1:\n",
    "            for m in matches:\n",
    "                if m.start() >= min_idx:\n",
    "                    break\n",
    "        # If no matches are found\n",
    "        elif len(matches) == 0:\n",
    "            idxs.append([-1]) # will filter out later\n",
    "            continue  \n",
    "        # If one match is found\n",
    "        else:\n",
    "            m = matches[0]\n",
    "            \n",
    "        idxs.append([m.start(), m.end()])\n",
    "\n",
    "        min_idx = m.start()\n",
    "\n",
    "    return idxs\n",
    "\n",
    "def tokenize(example):\n",
    "    example[\"idxs\"] = find_positions(example)\n",
    "\n",
    "    text = example[\"text\"][0]\n",
    "    chunks = []\n",
    "    labels = []\n",
    "    prev = 0\n",
    "\n",
    "    zipped = zip(\n",
    "        example[\"idxs\"],\n",
    "        example[\"discourse_type\"],\n",
    "        example[\"discourse_effectiveness\"],\n",
    "    )\n",
    "    for idxs, disc_type, disc_effect in zipped:\n",
    "        # when the discourse_text wasn't found\n",
    "        if idxs == [-1]:\n",
    "            continue\n",
    "\n",
    "        s, e = idxs\n",
    "\n",
    "        # if the start of the current discourse_text is not \n",
    "        # at the end of the previous one.\n",
    "        # (text in between discourse_texts)\n",
    "        if s != prev:\n",
    "            chunks.append(text[prev:s])\n",
    "            prev = s\n",
    "\n",
    "        # if the start of the current discourse_text is \n",
    "        # the same as the end of the previous discourse_text\n",
    "        if s == prev:\n",
    "            chunks.append(cls_tokens_map[disc_type])\n",
    "            chunks.append(text[s:e])\n",
    "            chunks.append(end_tokens_map[disc_type])\n",
    "        \n",
    "        prev = e\n",
    "\n",
    "        labels.append(label2id[disc_effect])\n",
    "\n",
    "    tokenized = tokenizer(\n",
    "        \" \".join(chunks),\n",
    "        padding=False,\n",
    "        truncation=True,\n",
    "        max_length=cfg[\"max_length\"],\n",
    "        add_special_tokens=True,\n",
    "    )\n",
    "    \n",
    "    # at this point, labels is not the same shape as input_ids.\n",
    "    # The following loop will add -100 so that the loss function\n",
    "    # ignores all tokens except CLS tokens\n",
    "\n",
    "    # idx for labels list\n",
    "    idx = 0\n",
    "    final_labels = []\n",
    "    for id_ in tokenized[\"input_ids\"]:\n",
    "        # if this id belongs to a CLS token\n",
    "        if id_ in cls_id_map.values():\n",
    "            final_labels.append(labels[idx])\n",
    "            idx += 1\n",
    "        else:\n",
    "            # -100 will be ignored by loss function\n",
    "            final_labels.append(-100)\n",
    "    \n",
    "    tokenized[\"labels\"] = final_labels\n",
    "\n",
    "    return tokenized"
   ]
  },
  {
   "cell_type": "code",
   "execution_count": 9,
   "id": "aa086e9f-253d-49bf-a277-db3a7d4df72c",
   "metadata": {},
   "outputs": [],
   "source": [
    "def add_fold(example):\n",
    "    example[\"fold\"] = essay_folds_dict[example[\"essay_id\"]]\n",
    "    return example"
   ]
  },
  {
   "cell_type": "code",
   "execution_count": 10,
   "id": "1666ad3e",
   "metadata": {},
   "outputs": [
    {
     "name": "stderr",
     "output_type": "stream",
     "text": [
      "Tokenizing #0:   5%|██▍                                          | 112/2096 [00:00<00:14, 138.21ex/s]\n",
      "Tokenizing #0:   6%|██▋                                          | 126/2096 [00:00<00:14, 135.12ex/s]\u001b[A\n",
      "Tokenizing #0:   7%|███▏                                         | 146/2096 [00:01<00:13, 149.32ex/s]\u001b[A\n",
      "Tokenizing #0:   8%|███▌                                         | 166/2096 [00:01<00:12, 160.34ex/s]\u001b[A\n",
      "Tokenizing #0:   9%|███▉                                         | 183/2096 [00:01<00:11, 161.08ex/s]\u001b[A\n",
      "Tokenizing #0:  10%|████▎                                        | 200/2096 [00:01<00:12, 157.59ex/s]\u001b[A\n",
      "Tokenizing #1:   4%|█▋                                            | 75/2095 [00:00<00:13, 148.88ex/s]\u001b[A\n",
      "Tokenizing #0:  10%|████▋                                        | 216/2096 [00:01<00:15, 120.26ex/s]\u001b[A\n",
      "Tokenizing #0:  11%|█████                                        | 234/2096 [00:01<00:13, 133.53ex/s]\u001b[A\n",
      "Tokenizing #0:  12%|█████▍                                       | 252/2096 [00:01<00:13, 141.78ex/s]\u001b[A\n",
      "Tokenizing #0:  13%|█████▊                                       | 268/2096 [00:01<00:12, 146.31ex/s]\u001b[A\n",
      "Tokenizing #0:  14%|██████                                       | 284/2096 [00:01<00:12, 147.22ex/s]\u001b[A\n",
      "Tokenizing #0:  15%|██████▊                                      | 317/2096 [00:02<00:12, 145.64ex/s]\u001b[A\n",
      "Tokenizing #0:  16%|███████▏                                     | 334/2096 [00:02<00:11, 152.01ex/s]\u001b[A\n",
      "Tokenizing #0:  17%|███████▌                                     | 350/2096 [00:02<00:11, 154.16ex/s]\u001b[A\n",
      "Tokenizing #0:  17%|███████▊                                     | 366/2096 [00:02<00:11, 155.60ex/s]\u001b[A\n",
      "Tokenizing #0:  18%|████████▏                                    | 384/2096 [00:02<00:10, 162.07ex/s]\u001b[A\n",
      "Tokenizing #0:  19%|████████▌                                    | 401/2096 [00:02<00:10, 162.93ex/s]\u001b[A\n",
      "Tokenizing #0:  20%|████████▉                                    | 418/2096 [00:02<00:10, 161.33ex/s]\u001b[A\n",
      "Tokenizing #0:  21%|█████████▎                                   | 435/2096 [00:02<00:10, 163.67ex/s]\u001b[A\n",
      "Tokenizing #0:  22%|█████████▊                                   | 455/2096 [00:03<00:09, 172.48ex/s]\u001b[A\n",
      "Tokenizing #0:  23%|██████████▏                                  | 473/2096 [00:03<00:10, 160.82ex/s]\u001b[A\n",
      "Tokenizing #0:  23%|██████████▌                                  | 490/2096 [00:03<00:09, 162.92ex/s]\u001b[A\n",
      "Tokenizing #0:  24%|██████████▉                                  | 508/2096 [00:03<00:09, 167.07ex/s]\u001b[A\n",
      "Tokenizing #0:  25%|███████████▎                                 | 525/2096 [00:03<00:09, 163.81ex/s]\u001b[A\n",
      "Tokenizing #0:  26%|███████████▋                                 | 542/2096 [00:03<00:10, 154.23ex/s]\u001b[A\n",
      "Tokenizing #0:  27%|████████████                                 | 559/2096 [00:03<00:09, 154.48ex/s]\u001b[A\n",
      "Tokenizing #0:  27%|████████████▎                                | 575/2096 [00:03<00:09, 153.16ex/s]\u001b[A\n",
      "Tokenizing #0:  28%|████████████▋                                | 592/2096 [00:03<00:09, 156.79ex/s]\u001b[A\n",
      "Tokenizing #0:  29%|█████████████                                | 608/2096 [00:03<00:09, 156.99ex/s]\u001b[A\n",
      "Tokenizing #0:  30%|█████████████▍                               | 624/2096 [00:04<00:09, 148.93ex/s]\u001b[A\n",
      "Tokenizing #0:  31%|█████████████▊                               | 641/2096 [00:04<00:09, 154.29ex/s]\u001b[A\n",
      "Tokenizing #0:  31%|██████████████▏                              | 658/2096 [00:04<00:09, 157.73ex/s]\u001b[A\n",
      "Tokenizing #0:  32%|██████████████▍                              | 675/2096 [00:04<00:08, 157.90ex/s]\u001b[A\n",
      "Tokenizing #0:  33%|██████████████▊                              | 691/2096 [00:04<00:09, 152.61ex/s]\u001b[A\n",
      "Tokenizing #0:  34%|███████████████▏                             | 709/2096 [00:04<00:08, 159.20ex/s]\u001b[A\n",
      "Tokenizing #0:  35%|███████████████▌                             | 725/2096 [00:04<00:08, 158.44ex/s]\u001b[A\n",
      "Tokenizing #0:  35%|███████████████▉                             | 741/2096 [00:04<00:08, 154.60ex/s]\u001b[A\n",
      "Tokenizing #0:  36%|████████████████▎                            | 759/2096 [00:04<00:08, 159.78ex/s]\u001b[A\n",
      "Tokenizing #0:  38%|█████████████████                            | 794/2096 [00:05<00:07, 165.32ex/s]\u001b[A\n",
      "Tokenizing #0:  39%|█████████████████▍                           | 812/2096 [00:05<00:07, 166.59ex/s]\u001b[A\n",
      "Tokenizing #1:  32%|██████████████▏                              | 663/2095 [00:04<00:08, 160.44ex/s]\u001b[A\n",
      "Tokenizing #0:  40%|█████████████████▊                           | 829/2096 [00:05<00:08, 154.63ex/s]\u001b[A\n",
      "Tokenizing #0:  40%|██████████████████▏                          | 847/2096 [00:05<00:07, 160.29ex/s]\u001b[A\n",
      "Tokenizing #0:  41%|██████████████████▌                          | 864/2096 [00:05<00:07, 155.35ex/s]\u001b[A\n",
      "Tokenizing #0:  42%|██████████████████▉                          | 880/2096 [00:05<00:07, 153.77ex/s]\u001b[A\n",
      "Tokenizing #0:  43%|███████████████████▏                         | 896/2096 [00:05<00:07, 154.13ex/s]\u001b[A\n",
      "Tokenizing #0:  44%|███████████████████▌                         | 912/2096 [00:05<00:07, 152.80ex/s]\u001b[A\n",
      "Tokenizing #0:  45%|████████████████████▎                        | 945/2096 [00:06<00:07, 151.87ex/s]\u001b[A\n",
      "Tokenizing #0:  46%|████████████████████▋                        | 961/2096 [00:06<00:07, 149.97ex/s]\u001b[A\n",
      "Tokenizing #0:  47%|████████████████████▉                        | 977/2096 [00:06<00:07, 151.42ex/s]\u001b[A\n",
      "Tokenizing #0:  47%|█████████████████████▎                       | 994/2096 [00:06<00:07, 155.62ex/s]\u001b[A\n",
      "Tokenizing #1:  40%|██████████████████                           | 841/2095 [00:05<00:08, 146.45ex/s]\u001b[A\n",
      "Tokenizing #1:  41%|██████████████████▍                          | 856/2095 [00:05<00:08, 144.50ex/s]\u001b[A\n",
      "Tokenizing #1:  42%|██████████████████▋                          | 871/2095 [00:05<00:08, 143.97ex/s]\u001b[A\n",
      "Tokenizing #0:  48%|█████████████████████▋                       | 1010/2096 [00:06<00:13, 83.17ex/s]\u001b[A\n",
      "Tokenizing #0:  49%|██████████████████████                       | 1026/2096 [00:06<00:11, 96.08ex/s]\u001b[A\n",
      "Tokenizing #0:  50%|█████████████████████▊                      | 1042/2096 [00:07<00:09, 108.27ex/s]\u001b[A\n",
      "Tokenizing #0:  51%|██████████████████████▏                     | 1059/2096 [00:07<00:08, 120.86ex/s]\u001b[A\n",
      "Tokenizing #0:  51%|██████████████████████▌                     | 1074/2096 [00:07<00:08, 121.62ex/s]\u001b[A\n",
      "Tokenizing #0:  52%|██████████████████████▉                     | 1092/2096 [00:07<00:07, 131.05ex/s]\u001b[A\n",
      "Tokenizing #0:  55%|████████████████████████                    | 1146/2096 [00:07<00:06, 153.34ex/s]\u001b[A\n",
      "Tokenizing #0:  55%|████████████████████████▍                   | 1162/2096 [00:07<00:06, 148.03ex/s]\u001b[A\n",
      "Tokenizing #0:  56%|████████████████████████▊                   | 1181/2096 [00:07<00:05, 158.89ex/s]\u001b[A\n",
      "Tokenizing #0:  57%|█████████████████████████▏                  | 1198/2096 [00:08<00:05, 151.53ex/s]\u001b[A\n",
      "Tokenizing #0:  58%|█████████████████████████▍                  | 1214/2096 [00:08<00:05, 147.78ex/s]\u001b[A\n",
      "Tokenizing #0:  59%|█████████████████████████▊                  | 1230/2096 [00:08<00:05, 150.86ex/s]\u001b[A\n",
      "Tokenizing #0:  59%|██████████████████████████▏                 | 1247/2096 [00:08<00:05, 154.59ex/s]\u001b[A\n",
      "Tokenizing #0:  60%|██████████████████████████▌                 | 1264/2096 [00:08<00:05, 158.60ex/s]\u001b[A\n",
      "Tokenizing #0:  61%|██████████████████████████▉                 | 1283/2096 [00:08<00:05, 161.21ex/s]\u001b[A\n",
      "Tokenizing #0:  62%|███████████████████████████▎                | 1302/2096 [00:08<00:04, 168.36ex/s]\u001b[A\n",
      "Tokenizing #0:  63%|███████████████████████████▋                | 1319/2096 [00:08<00:04, 167.40ex/s]\u001b[A\n",
      "Tokenizing #0:  64%|████████████████████████████                | 1336/2096 [00:08<00:04, 164.67ex/s]\u001b[A\n",
      "Tokenizing #0:  66%|████████████████████████████▊               | 1374/2096 [00:09<00:04, 175.20ex/s]\u001b[A\n",
      "Tokenizing #0:  66%|█████████████████████████████▏              | 1392/2096 [00:09<00:04, 174.87ex/s]\u001b[A\n",
      "Tokenizing #0:  67%|█████████████████████████████▌              | 1410/2096 [00:09<00:03, 176.05ex/s]\u001b[A\n",
      "Tokenizing #1:  59%|██████████████████████████                  | 1241/2095 [00:08<00:05, 165.97ex/s]\u001b[A\n",
      "Tokenizing #0:  68%|█████████████████████████████▉              | 1428/2096 [00:09<00:04, 161.59ex/s]\u001b[A\n",
      "Tokenizing #0:  69%|██████████████████████████████▎             | 1445/2096 [00:09<00:04, 152.43ex/s]\u001b[A\n",
      "Tokenizing #0:  70%|██████████████████████████████▋             | 1462/2096 [00:09<00:04, 156.89ex/s]\u001b[A\n",
      "Tokenizing #0:  71%|███████████████████████████████             | 1478/2096 [00:09<00:03, 156.17ex/s]\u001b[A\n",
      "Tokenizing #0:  71%|███████████████████████████████▎            | 1494/2096 [00:09<00:03, 153.21ex/s]\u001b[A\n",
      "Tokenizing #0:  73%|████████████████████████████████            | 1526/2096 [00:10<00:03, 151.89ex/s]\u001b[A\n",
      "Tokenizing #1:  65%|████████████████████████████▌               | 1358/2095 [00:09<00:04, 151.70ex/s]\u001b[A\n",
      "Tokenizing #0:  74%|████████████████████████████████▎           | 1542/2096 [00:10<00:03, 147.41ex/s]\u001b[A\n",
      "Tokenizing #0:  74%|████████████████████████████████▋           | 1557/2096 [00:10<00:03, 145.31ex/s]\u001b[A\n",
      "Tokenizing #0:  75%|█████████████████████████████████           | 1573/2096 [00:10<00:03, 147.74ex/s]\u001b[A\n",
      "Tokenizing #0:  77%|█████████████████████████████████▊          | 1609/2096 [00:10<00:03, 161.09ex/s]\u001b[A\n",
      "Tokenizing #1:  69%|██████████████████████████████▏             | 1438/2095 [00:09<00:04, 147.66ex/s]\u001b[A\n",
      "Tokenizing #0:  78%|██████████████████████████████████▏         | 1626/2096 [00:10<00:03, 153.88ex/s]\u001b[A\n",
      "Tokenizing #0:  78%|██████████████████████████████████▍         | 1642/2096 [00:10<00:02, 151.38ex/s]\u001b[A\n",
      "Tokenizing #0:  79%|██████████████████████████████████▊         | 1660/2096 [00:11<00:02, 157.68ex/s]\u001b[A\n",
      "Tokenizing #0:  80%|███████████████████████████████████▏        | 1678/2096 [00:11<00:02, 163.44ex/s]\u001b[A\n",
      "Tokenizing #0:  81%|███████████████████████████████████▌        | 1695/2096 [00:11<00:02, 156.86ex/s]\u001b[A\n",
      "Tokenizing #0:  82%|███████████████████████████████████▉        | 1711/2096 [00:11<00:02, 152.45ex/s]\u001b[A\n",
      "Tokenizing #0:  82%|████████████████████████████████████▎       | 1728/2096 [00:11<00:02, 150.44ex/s]\u001b[A\n",
      "Tokenizing #0:  83%|████████████████████████████████████▌       | 1744/2096 [00:11<00:02, 146.63ex/s]\u001b[A\n",
      "Tokenizing #0:  84%|████████████████████████████████████▉       | 1759/2096 [00:11<00:02, 143.74ex/s]\u001b[A\n",
      "Tokenizing #0:  85%|█████████████████████████████████████▎      | 1775/2096 [00:11<00:02, 147.14ex/s]\u001b[A\n",
      "Tokenizing #0:  85%|█████████████████████████████████████▌      | 1790/2096 [00:11<00:02, 147.45ex/s]\u001b[A\n",
      "Tokenizing #0:  86%|█████████████████████████████████████▉      | 1806/2096 [00:11<00:01, 149.49ex/s]\u001b[A\n",
      "Tokenizing #0:  87%|██████████████████████████████████████▏     | 1822/2096 [00:12<00:01, 150.58ex/s]\u001b[A\n",
      "Tokenizing #0:  88%|██████████████████████████████████████▌     | 1838/2096 [00:12<00:01, 148.34ex/s]\u001b[A\n",
      "Tokenizing #0:  89%|███████████████████████████████████████▎    | 1870/2096 [00:12<00:01, 153.56ex/s]\u001b[A\n",
      "Tokenizing #0:  90%|███████████████████████████████████████▋    | 1888/2096 [00:12<00:01, 160.87ex/s]\u001b[A\n",
      "Tokenizing #0:  91%|████████████████████████████████████████    | 1906/2096 [00:12<00:01, 165.82ex/s]\u001b[A\n",
      "Tokenizing #0:  92%|████████████████████████████████████████▎   | 1923/2096 [00:12<00:01, 161.21ex/s]\u001b[A\n",
      "Tokenizing #0:  93%|████████████████████████████████████████▋   | 1940/2096 [00:12<00:00, 156.57ex/s]\u001b[A\n",
      "Tokenizing #0:  93%|█████████████████████████████████████████   | 1956/2096 [00:12<00:00, 151.08ex/s]\u001b[A\n",
      "Tokenizing #0:  94%|█████████████████████████████████████████▍  | 1973/2096 [00:13<00:00, 152.33ex/s]\u001b[A\n",
      "Tokenizing #0:  95%|█████████████████████████████████████████▊  | 1990/2096 [00:13<00:00, 157.11ex/s]\u001b[A\n",
      "Tokenizing #1:  87%|██████████████████████████████████████▎     | 1825/2095 [00:12<00:01, 149.17ex/s]\u001b[A\n",
      "Tokenizing #1:  88%|██████████████████████████████████████▋     | 1840/2095 [00:12<00:01, 143.63ex/s]\u001b[A\n",
      "Tokenizing #1:  89%|███████████████████████████████████████     | 1857/2095 [00:12<00:01, 148.74ex/s]\u001b[A\n",
      "Tokenizing #0:  96%|███████████████████████████████████████████  | 2006/2096 [00:13<00:01, 82.68ex/s]\u001b[A\n",
      "Tokenizing #0:  97%|███████████████████████████████████████████▍ | 2023/2096 [00:13<00:00, 97.86ex/s]\u001b[A\n",
      "Tokenizing #0:  97%|██████████████████████████████████████████▊ | 2040/2096 [00:13<00:00, 111.86ex/s]\u001b[A\n",
      "Tokenizing #0:  98%|███████████████████████████████████████████▏| 2055/2096 [00:13<00:00, 119.33ex/s]\u001b[A\n",
      "Tokenizing #0:  99%|███████████████████████████████████████████▍| 2071/2096 [00:13<00:00, 127.26ex/s]\u001b[A\n",
      "Tokenizing #0: 100%|████████████████████████████████████████████| 2096/2096 [00:14<00:00, 148.14ex/s]\u001b[A\n",
      "\n",
      "Tokenizing #1:  94%|█████████████████████████████████████████▍  | 1971/2095 [00:13<00:00, 151.46ex/s]\u001b[A\n",
      "Tokenizing #1:  95%|█████████████████████████████████████████▋  | 1987/2095 [00:13<00:00, 147.32ex/s]\u001b[A\n",
      "Tokenizing #1:  96%|███████████████████████████████████████████  | 2002/2095 [00:13<00:01, 83.74ex/s]\u001b[A\n",
      "Tokenizing #1:  96%|███████████████████████████████████████████▎ | 2017/2095 [00:13<00:00, 95.32ex/s]\u001b[A\n",
      "Tokenizing #1:  97%|██████████████████████████████████████████▋ | 2034/2095 [00:14<00:00, 110.26ex/s]\u001b[A\n",
      "Tokenizing #1:  98%|███████████████████████████████████████████ | 2052/2095 [00:14<00:00, 125.58ex/s]\u001b[A\n",
      "Tokenizing #1:  99%|███████████████████████████████████████████▍| 2067/2095 [00:14<00:00, 130.91ex/s]\u001b[A\n",
      "Tokenizing #1: 100%|████████████████████████████████████████████| 2095/2095 [00:14<00:00, 145.80ex/s]\u001b[A\n"
     ]
    },
    {
     "name": "stdout",
     "output_type": "stream",
     "text": [
      "Saving dataset to disk: ../output/HF-10\n"
     ]
    }
   ],
   "source": [
    "# I frequently restart my notebook, so to reduce time\n",
    "# you can set this to just load the tokenized dataset from disk.\n",
    "# It gets loaded in the 3rd code cell, but a check is done here\n",
    "# to skip tokenizing\n",
    "if cfg[\"load_from_disk\"] is None:\n",
    "\n",
    "    # make lists of discourse_text, discourse_effectiveness\n",
    "    # for each essay\n",
    "    grouped = train_df.groupby([\"essay_id\"]).agg(list)\n",
    "\n",
    "    ds = Dataset.from_pandas(grouped)\n",
    "\n",
    "    ds = ds.map(\n",
    "        tokenize,\n",
    "        batched=False,\n",
    "        num_proc=cfg[\"num_proc\"],\n",
    "        desc=\"Tokenizing\",\n",
    "    )\n",
    "\n",
    "    save_dir = f\"{cfg['trainingargs']['output_dir']}\"\n",
    "    ds.save_to_disk(f\"{save_dir}.dataset\")\n",
    "    with open(f\"{save_dir}_pkl\", \"wb\") as fp:\n",
    "        pickle.dump(grouped, fp)\n",
    "    print(\"Saving dataset to disk:\", cfg['trainingargs']['output_dir'])\n",
    "    \n",
    "\n",
    "\n",
    "# # basic kfold \n",
    "# def get_folds(df, k_folds=5):\n",
    "\n",
    "#     kf = KFold(n_splits=k_folds)\n",
    "#     return [\n",
    "#         val_idx\n",
    "#         for _, val_idx in kf.split(df)\n",
    "#     ]\n",
    "\n",
    "# fold_idxs = get_folds(ds[\"labels\"], cfg[\"k_folds\"])"
   ]
  },
  {
   "cell_type": "code",
   "execution_count": 11,
   "id": "17ee608d-08aa-4097-bea6-ff76c5f261c4",
   "metadata": {},
   "outputs": [
    {
     "name": "stderr",
     "output_type": "stream",
     "text": [
      "100%|███████████████████████████████████████████████████████████| 4191/4191 [00:05<00:00, 802.31ex/s]\n"
     ]
    }
   ],
   "source": [
    "ds = ds.map(add_fold)"
   ]
  },
  {
   "cell_type": "code",
   "execution_count": 12,
   "id": "13d2e9bf",
   "metadata": {},
   "outputs": [
    {
     "name": "stdout",
     "output_type": "stream",
     "text": [
      "Num bad matches 1\n"
     ]
    }
   ],
   "source": [
    "bad_matches = []\n",
    "cls_ids = set(list(cls_id_map.values()))\n",
    "for id_, l, ids, dt in zip(ds[\"essay_id\"], ds[\"labels\"], ds[\"input_ids\"], grouped.discourse_text):\n",
    "    \n",
    "    # count number of labels (ignoring -100)\n",
    "    num_cls_label = sum([x!=-100 for x in l])\n",
    "    # count number of cls ids\n",
    "    num_cls_id = sum([x in cls_ids for x in ids])\n",
    "    # true number of discourse_texts\n",
    "    num_dt = len(dt)\n",
    "    \n",
    "    if num_cls_label != num_dt or num_cls_id != num_dt:\n",
    "        bad_matches.append((id_, l, ids, dt))\n",
    "        \n",
    "print(\"Num bad matches\", len(bad_matches))\n",
    "# temp = train_df[train_df[\"essay_id\"]==bad_matches[0][0]]\n",
    "# temp_txt = temp.text.values[0]\n",
    "# print(temp_txt)\n",
    "# print(\"*\"*100)\n",
    "# print([x for x in temp.discourse_text if x.strip() not in temp_txt])"
   ]
  },
  {
   "cell_type": "code",
   "execution_count": 13,
   "id": "b37ecf8c",
   "metadata": {},
   "outputs": [
    {
     "name": "stdout",
     "output_type": "stream",
     "text": [
      "Driverless cars are exaclty what you would expect them to be. Cars that will drive without a person actually behind the wheel controlling the actions of the vehicle. The idea of driverless cars going in to developement shows the amount of technological increase that the wolrd has made. The leader of this idea of driverless cars are the automobiles they call Google cars. The arduous task of creating safe driverless cars has not been fully mastered yet.  \n",
      "\n",
      "The developement of these cars should be stopped immediately because there are too many hazardous and dangerous events that could occur.  \n",
      "\n",
      "the driver will be alerted when they will need to take over the driving responsibilites of the car.  \n",
      "\n",
      "This is such a dangerous thing because we all know that whenever humans get their attention drawn in on something interesting it is hard to draw their focus somewhere else. The article explains that companies are trying to implement vibrations when the car is in trouble. Their are some people out there who do not feel vibrations and therefore would not be able to take control of the car when needed. The article also states that companies are trying to put in-car entertainment into the car while it is being driven. This is just another thing that will distract the person who is supposed to be ready at all times to take over driving when asked to do so.  \n",
      "\n",
      "Another thing that can go wrong with these cars is any type of techological malfucntion.  \n",
      "\n",
      "Every person with any kind of technological device has experienced some sort of error. Now imagine if your car has an error technologically and it takes the life of one your loved ones. The article talks about sensors around the car that read the surroundings of the car and that is what helps he car to drive without a true driver behind the wheel. Those sensors could have a malfunctions and be sensing something that is that even there and make a left turn into a 100 foot deep lake. The vibrations that cause the driver to be notified to drive could malfunction and now the driver has no way of knowing that the car is in trouble and now you, the driver, and the rest of your passengers are being buried in your local cemetery.  \n",
      "\n",
      "who to blame for the wreck if there were possibly some sort of technological malfunciton or even some sort of human error when taking over the driving aspect.  \n",
      "\n",
      "Should the manufacturer of the car be blamed or should it be the driver? No one knows because there is so many different factors that attribute to who to assign the blame to. Some of what will have to be made is a judgement call. When it comes to insurance and having to pay for any damages you do not want someone to have to make some sort of judgement call. What if that judgement call that was made was the wrong call? Now there are going to be even more lawsuits today in our courts than there already are. This problem alone will just lead to many more issues today in the world that should not have to be dealt with.  \n",
      "\n",
      "With all these things that could possibly go wrong with these driverless cars there is no way that the developement of them should continue any further. In today's society if something bad COULD happen or something COULD go wrong, it WILL happen, and it WILL go wrong. There are just way too many safety hazards that come along with these driverless cars. Becuase of all of these problems that arise with the cars it is just a gargantuan risk to implement these cars into our lifestyles.  \n",
      "\n",
      "****************************************************************************************************\n",
      "[CLS][CLS_LEAD] Driverless cars are exaclty what you would expect them to be. Cars that will drive without a person actually behind the wheel controlling the actions of the vehicle. The idea of driverless cars going in to developement shows the amount of technological increase that the wolrd has made. The leader of this idea of driverless cars are the automobiles they call Google cars. The arduous task of creating safe driverless cars has not been fully mastered yet.[END_LEAD][CLS_POSITION] The developement of these cars should be stopped immediately because there are too many hazardous and dangerous events that could occur.[END_POSITION] One thing that the article mentions is that[CLS_CLAIM] the driver will be alerted when they will need to take over the driving responsibilites of the car.[END_CLAIM][CLS_EVIDENCE] This is such a dangerous thing because we all know that whenever humans get their attention drawn in on something interesting it is hard to draw their focus somewhere else. The article explains that companies are trying to implement vibrations when the car is in trouble. Their are some people out there who do not feel vibrations and therefore would not be able to take control of the car when needed. The article also states that companies are trying to put in-car entertainment into the car while it is being driven. This is just another thing that will distract the person who is supposed to be ready at all times to take over driving when asked to do so.[END_EVIDENCE][CLS_CLAIM] Another thing that can go wrong with these cars is any type of techological malfucntion.[END_CLAIM][CLS_EVIDENCE] Every person with any kind of technological device has experienced some sort of error. Now imagine if your car has an error technologically and it takes the life of one your loved ones. The article talks about sensors around the car that read the surroundings of the car and that is what helps he car to drive without a true driver behind the wheel. Those sensors could have a malfunctions and be sensing something that is that even there and make a left turn into a 100 foot deep lake. The vibrations that cause the driver to be notified to drive could malfunction and now the driver has no way of knowing that the car is in trouble and now you, the driver, and the rest of your passengers are being buried in your local cemetery.[END_EVIDENCE] One last thing that the article mentions is negative about the developement of driverless cars is[CLS_CLAIM] who to blame for the wreck if there were possibly some sort of technological malfunciton or even some sort of human error when taking over the driving aspect.[END_CLAIM][CLS_EVIDENCE] Should the manufacturer of the car be blamed or should it be the driver? No one knows because there is so many different factors that attribute to who to assign the blame to. Some of what will have to be made is a judgement call. When it comes to insurance and having to pay for any damages you do not want someone to have to make some sort of judgement call. What if that judgement call that was made was the wrong call? Now there are going to be even more lawsuits today in our courts than there already are. This problem alone will just lead to many more issues today in the world that should not have to be dealt with.[END_EVIDENCE][CLS_CONCLUDING STATEMENT] With all these things that could possibly go wrong with these driverless cars there is no way that the developement of them should continue any further. In today's society if something bad COULD happen or something COULD go wrong, it WILL happen, and it WILL go wrong. There are just way too many safety hazards that come along with these driverless cars. Becuase of all of these problems that arise with the cars it is just a gargantuan risk to implement these cars into our lifestyles.[END_CONCLUDING STATEMENT][SEP]\n",
      "****************************************************************************************************\n",
      "Driverless cars are exaclty what you would expect them to be. Cars that will drive without a person actually behind the wheel controlling the actions of the vehicle. The idea of driverless cars going in to developement shows the amount of technological increase that the wolrd has made. The leader of this idea of driverless cars are the automobiles they call Google cars. The arduous task of creating safe driverless cars has not been fully mastered yet. The developement of these cars should be stopped immediately because there are too many hazardous and dangerous events that could occur.\n",
      "\n",
      "One thing that the article mentions is that the driver will be alerted when they will need to take over the driving responsibilites of the car. This is such a dangerous thing because we all know that whenever humans get their attention drawn in on something interesting it is hard to draw their focus somewhere else. The article explains that companies are trying to implement vibrations when the car is in trouble. Their are some people out there who do not feel vibrations and therefore would not be able to take control of the car when needed. The article also states that companies are trying to put in-car entertainment into the car while it is being driven. This is just another thing that will distract the person who is supposed to be ready at all times to take over driving when asked to do so.\n",
      "\n",
      "Another thing that can go wrong with these cars is any type of techological malfucntion. Every person with any kind of technological device has experienced some sort of error. Now imagine if your car has an error technologically and it takes the life of one your loved ones. The article talks about sensors around the car that read the surroundings of the car and that is what helps he car to drive without a true driver behind the wheel. Those sensors could have a malfunctions and be sensing something that is that even there and make a left turn into a 100 foot deep lake. The vibrations that cause the driver to be notified to drive could malfunction and now the driver has no way of knowing that the car is in trouble and now you, the driver, and the rest of your passengers are being buried in your local cemetery.\n",
      "\n",
      "One last thing that the article mentions is negative about the developement of driverless cars is who to blame for the wreck if there were possibly some sort of technological malfunciton or even some sort of human error when taking over the driving aspect. Should the manufacturer of the car be blamed or should it be the driver? No one knows because there is so many different factors that attribute to who to assign the blame to. Some of what will have to be made is a judgement call. When it comes to insurance and having to pay for any damages you do not want someone to have to make some sort of judgement call. What if that judgement call that was made was the wrong call? Now there are going to be even more lawsuits today in our courts than there already are. This problem alone will just lead to many more issues today in the world that should not have to be dealt with.\n",
      "\n",
      "With all these things that could possibly go wrong with these driverless cars there is no way that the developement of them should continue any further. In today's society if something bad COULD happen or something COULD go wrong, it WILL happen, and it WILL go wrong. There are just way too many safety hazards that come along with these driverless cars. Becuase of all of these problems that arise with the cars it is just a gargantuan risk to implement these cars into our lifestyles. \n"
     ]
    }
   ],
   "source": [
    "for t in ds[0][\"discourse_text\"]:\n",
    "    print(t, \"\\n\")\n",
    "print(\"*\"*100)\n",
    "print(tokenizer.decode(ds[0][\"input_ids\"]))\n",
    "print(\"*\"*100)\n",
    "print(ds[0][\"text\"][0])"
   ]
  },
  {
   "cell_type": "code",
   "execution_count": 14,
   "id": "1f39a4d1",
   "metadata": {},
   "outputs": [
    {
     "name": "stderr",
     "output_type": "stream",
     "text": [
      "100%|██████████████████████████████████████████████████████████████████| 5/5 [00:03<00:00,  1.49ba/s]\n",
      "100%|██████████████████████████████████████████████████████████████████| 5/5 [00:03<00:00,  1.50ba/s]\n"
     ]
    },
    {
     "data": {
      "text/html": [
       "\n",
       "    <div>\n",
       "      \n",
       "      <progress value='838' max='838' style='width:300px; height:20px; vertical-align: middle;'></progress>\n",
       "      [838/838 10:37, Epoch 2/2]\n",
       "    </div>\n",
       "    <table border=\"1\" class=\"dataframe\">\n",
       "  <thead>\n",
       " <tr style=\"text-align: left;\">\n",
       "      <th>Epoch</th>\n",
       "      <th>Training Loss</th>\n",
       "      <th>Validation Loss</th>\n",
       "    </tr>\n",
       "  </thead>\n",
       "  <tbody>\n",
       "    <tr>\n",
       "      <td>1</td>\n",
       "      <td>0.747700</td>\n",
       "      <td>0.677213</td>\n",
       "    </tr>\n",
       "    <tr>\n",
       "      <td>2</td>\n",
       "      <td>0.617800</td>\n",
       "      <td>0.613505</td>\n",
       "    </tr>\n",
       "  </tbody>\n",
       "</table><p>"
      ],
      "text/plain": [
       "<IPython.core.display.HTML object>"
      ]
     },
     "metadata": {},
     "output_type": "display_data"
    },
    {
     "name": "stderr",
     "output_type": "stream",
     "text": [
      "100%|██████████████████████████████████████████████████████████████████| 5/5 [00:03<00:00,  1.55ba/s]\n",
      "100%|██████████████████████████████████████████████████████████████████| 5/5 [00:03<00:00,  1.52ba/s]\n"
     ]
    },
    {
     "data": {
      "text/html": [
       "\n",
       "    <div>\n",
       "      \n",
       "      <progress value='840' max='840' style='width:300px; height:20px; vertical-align: middle;'></progress>\n",
       "      [840/840 10:38, Epoch 2/2]\n",
       "    </div>\n",
       "    <table border=\"1\" class=\"dataframe\">\n",
       "  <thead>\n",
       " <tr style=\"text-align: left;\">\n",
       "      <th>Epoch</th>\n",
       "      <th>Training Loss</th>\n",
       "      <th>Validation Loss</th>\n",
       "    </tr>\n",
       "  </thead>\n",
       "  <tbody>\n",
       "    <tr>\n",
       "      <td>1</td>\n",
       "      <td>0.825800</td>\n",
       "      <td>0.989129</td>\n",
       "    </tr>\n",
       "    <tr>\n",
       "      <td>2</td>\n",
       "      <td>0.677600</td>\n",
       "      <td>0.662647</td>\n",
       "    </tr>\n",
       "  </tbody>\n",
       "</table><p>"
      ],
      "text/plain": [
       "<IPython.core.display.HTML object>"
      ]
     },
     "metadata": {},
     "output_type": "display_data"
    },
    {
     "name": "stderr",
     "output_type": "stream",
     "text": [
      "100%|██████████████████████████████████████████████████████████████████| 5/5 [00:03<00:00,  1.57ba/s]\n",
      "100%|██████████████████████████████████████████████████████████████████| 5/5 [00:03<00:00,  1.52ba/s]\n"
     ]
    },
    {
     "data": {
      "text/html": [
       "\n",
       "    <div>\n",
       "      \n",
       "      <progress value='840' max='840' style='width:300px; height:20px; vertical-align: middle;'></progress>\n",
       "      [840/840 10:37, Epoch 2/2]\n",
       "    </div>\n",
       "    <table border=\"1\" class=\"dataframe\">\n",
       "  <thead>\n",
       " <tr style=\"text-align: left;\">\n",
       "      <th>Epoch</th>\n",
       "      <th>Training Loss</th>\n",
       "      <th>Validation Loss</th>\n",
       "    </tr>\n",
       "  </thead>\n",
       "  <tbody>\n",
       "    <tr>\n",
       "      <td>1</td>\n",
       "      <td>0.719900</td>\n",
       "      <td>0.695632</td>\n",
       "    </tr>\n",
       "    <tr>\n",
       "      <td>2</td>\n",
       "      <td>0.612700</td>\n",
       "      <td>0.613257</td>\n",
       "    </tr>\n",
       "  </tbody>\n",
       "</table><p>"
      ],
      "text/plain": [
       "<IPython.core.display.HTML object>"
      ]
     },
     "metadata": {},
     "output_type": "display_data"
    },
    {
     "name": "stderr",
     "output_type": "stream",
     "text": [
      "100%|██████████████████████████████████████████████████████████████████| 5/5 [00:03<00:00,  1.56ba/s]\n",
      "100%|██████████████████████████████████████████████████████████████████| 5/5 [00:03<00:00,  1.51ba/s]\n"
     ]
    },
    {
     "data": {
      "text/html": [
       "\n",
       "    <div>\n",
       "      \n",
       "      <progress value='840' max='840' style='width:300px; height:20px; vertical-align: middle;'></progress>\n",
       "      [840/840 10:40, Epoch 2/2]\n",
       "    </div>\n",
       "    <table border=\"1\" class=\"dataframe\">\n",
       "  <thead>\n",
       " <tr style=\"text-align: left;\">\n",
       "      <th>Epoch</th>\n",
       "      <th>Training Loss</th>\n",
       "      <th>Validation Loss</th>\n",
       "    </tr>\n",
       "  </thead>\n",
       "  <tbody>\n",
       "    <tr>\n",
       "      <td>1</td>\n",
       "      <td>0.747800</td>\n",
       "      <td>0.729862</td>\n",
       "    </tr>\n",
       "    <tr>\n",
       "      <td>2</td>\n",
       "      <td>0.603900</td>\n",
       "      <td>0.641138</td>\n",
       "    </tr>\n",
       "  </tbody>\n",
       "</table><p>"
      ],
      "text/plain": [
       "<IPython.core.display.HTML object>"
      ]
     },
     "metadata": {},
     "output_type": "display_data"
    },
    {
     "name": "stderr",
     "output_type": "stream",
     "text": [
      "100%|██████████████████████████████████████████████████████████████████| 5/5 [00:03<00:00,  1.57ba/s]\n",
      "100%|██████████████████████████████████████████████████████████████████| 5/5 [00:03<00:00,  1.52ba/s]\n"
     ]
    },
    {
     "data": {
      "text/html": [
       "\n",
       "    <div>\n",
       "      \n",
       "      <progress value='840' max='840' style='width:300px; height:20px; vertical-align: middle;'></progress>\n",
       "      [840/840 10:41, Epoch 2/2]\n",
       "    </div>\n",
       "    <table border=\"1\" class=\"dataframe\">\n",
       "  <thead>\n",
       " <tr style=\"text-align: left;\">\n",
       "      <th>Epoch</th>\n",
       "      <th>Training Loss</th>\n",
       "      <th>Validation Loss</th>\n",
       "    </tr>\n",
       "  </thead>\n",
       "  <tbody>\n",
       "    <tr>\n",
       "      <td>1</td>\n",
       "      <td>0.745300</td>\n",
       "      <td>0.675448</td>\n",
       "    </tr>\n",
       "    <tr>\n",
       "      <td>2</td>\n",
       "      <td>0.632000</td>\n",
       "      <td>0.605332</td>\n",
       "    </tr>\n",
       "  </tbody>\n",
       "</table><p>"
      ],
      "text/plain": [
       "<IPython.core.display.HTML object>"
      ]
     },
     "metadata": {},
     "output_type": "display_data"
    }
   ],
   "source": [
    "import gc\n",
    "import torch\n",
    "from transformers import Trainer, TrainingArguments, AutoConfig, AutoModelForTokenClassification, DataCollatorForTokenClassification\n",
    "from torch.utils.checkpoint import checkpoint\n",
    "import wandb\n",
    "\n",
    "args = TrainingArguments(**cfg[\"trainingargs\"])\n",
    "\n",
    "# if using longformer pad to multiple of 512\n",
    "# for others pad to multiple of 8\n",
    "\n",
    "collator = DataCollatorForTokenClassification(\n",
    "    tokenizer=tokenizer, pad_to_multiple_of=cfg[\"pad_multiple\"], padding=True\n",
    ")\n",
    "\n",
    "output = args.output_dir\n",
    "for fold in range(cfg[\"k_folds\"]):\n",
    "    \n",
    "    args.output_dir = f\"{output}-fold{fold}\"\n",
    "    \n",
    "    model_config = AutoConfig.from_pretrained(\n",
    "        cfg[\"model_name_or_path\"],\n",
    "    )\n",
    "    model_config.update(\n",
    "        {\n",
    "            \"num_labels\": 3,\n",
    "            \"cls_tokens\": list(cls_id_map.values()),\n",
    "            \"label2id\": label2id,\n",
    "            \"id2label\": {v:k for k, v in label2id.items()},\n",
    "        }\n",
    "    )\n",
    "    \n",
    "    model = AutoModelForTokenClassification.from_pretrained(cfg[\"model_name_or_path\"], config=model_config)\n",
    "    \n",
    "    # need to resize embeddings because of added tokens\n",
    "    model.resize_token_embeddings(len(tokenizer))\n",
    "    \n",
    "    # split dataset to train and eval\n",
    "    keep_cols = {\"input_ids\", \"attention_mask\", \"labels\"}\n",
    "    train_dataset = ds.filter(lambda example: example[\"fold\"] != fold).remove_columns([c for c in ds.column_names if c not in keep_cols])\n",
    "    eval_dataset = ds.filter(lambda example: example[\"fold\"] == fold).remove_columns([c for c in ds.column_names if c not in keep_cols])\n",
    "        \n",
    "    wandb.init(project=\"fbck\", \n",
    "           name=f\"{exp_name}_fold_{fold}\",\n",
    "           tags=[\"HF\", f\"fold_{fold}\"],\n",
    "           group=f\"{exp_name}\")\n",
    "    \n",
    "    trainer = Trainer(\n",
    "        model=model,\n",
    "        args=args,\n",
    "        train_dataset=train_dataset,\n",
    "        eval_dataset=eval_dataset,\n",
    "        tokenizer=tokenizer,\n",
    "        data_collator=collator,\n",
    "    )\n",
    "    \n",
    "    trainer.train()\n",
    "    wandb.finish()\n",
    "    \n",
    "    del model\n",
    "    gc.collect()\n",
    "    torch.cuda.empty_cache()"
   ]
  },
  {
   "cell_type": "code",
   "execution_count": 15,
   "id": "196bbcd6",
   "metadata": {},
   "outputs": [
    {
     "name": "stdout",
     "output_type": "stream",
     "text": [
      "[0.6135048866271973, 0.6626468896865845, 0.6132573485374451, 0.6411377787590027, 0.6053323149681091]\n"
     ]
    },
    {
     "data": {
      "text/plain": [
       "0.6271758437156677"
      ]
     },
     "execution_count": 15,
     "metadata": {},
     "output_type": "execute_result"
    }
   ],
   "source": [
    "import json\n",
    "best_metrics = []\n",
    "\n",
    "for fold in range(cfg[\"k_folds\"]):\n",
    "    folder = Path(f\"../output/{exp_name}-fold{fold}\")\n",
    "    checkpoint = sorted(list(folder.glob(\"checkpoint*\")))[-1]\n",
    "    with open(checkpoint/\"trainer_state.json\", \"r\") as fp:\n",
    "        data = json.load(fp)\n",
    "        best_metrics.append(data[\"best_metric\"])\n",
    "        \n",
    "print(best_metrics)\n",
    "average = sum(best_metrics)/len(best_metrics)\n",
    "average"
   ]
  },
  {
   "cell_type": "code",
   "execution_count": 7,
   "id": "15f054df-814b-4103-bc51-e34623a51112",
   "metadata": {},
   "outputs": [
    {
     "name": "stdout",
     "output_type": "stream",
     "text": [
      "[0.6135048866271973, 0.6626468896865845, 0.6132573485374451, 0.6411377787590027, 0.6053323149681091]\n"
     ]
    },
    {
     "data": {
      "text/plain": [
       "0.6271758437156677"
      ]
     },
     "execution_count": 7,
     "metadata": {},
     "output_type": "execute_result"
    }
   ],
   "source": [
    "import json\n",
    "from pathlib import Path\n",
    "best_metrics = []\n",
    "best_checkpoints = []\n",
    "\n",
    "for fold in range(5):\n",
    "    folder = Path(f\"../output/HF-10-fold{fold}\")\n",
    "    checkpoint = sorted(list(folder.glob(\"checkpoint*\")))[-1]\n",
    "    with open(checkpoint/\"trainer_state.json\", \"r\") as fp:\n",
    "        data = json.load(fp)\n",
    "        best_metrics.append(data[\"best_metric\"])\n",
    "        best_checkpoints.append(data[\"best_model_checkpoint\"])\n",
    "        \n",
    "print(best_metrics)\n",
    "average = sum(best_metrics)/len(best_metrics)\n",
    "average"
   ]
  },
  {
   "cell_type": "code",
   "execution_count": 8,
   "id": "22edb870-b9e5-4881-8670-3cede525f694",
   "metadata": {},
   "outputs": [
    {
     "data": {
      "text/plain": [
       "['../output/HF-10-fold0/checkpoint-838',\n",
       " '../output/HF-10-fold1/checkpoint-840',\n",
       " '../output/HF-10-fold2/checkpoint-840',\n",
       " '../output/HF-10-fold3/checkpoint-840',\n",
       " '../output/HF-10-fold4/checkpoint-840']"
      ]
     },
     "execution_count": 8,
     "metadata": {},
     "output_type": "execute_result"
    }
   ],
   "source": [
    "best_checkpoints"
   ]
  },
  {
   "cell_type": "code",
   "execution_count": 9,
   "id": "cd6bc8ae-3017-48b2-8c31-d94dc6e3ee7c",
   "metadata": {},
   "outputs": [
    {
     "name": "stdout",
     "output_type": "stream",
     "text": [
      "Uploading ../output/HF-10-fold0/checkpoint-838/pytorch_model.bin\n",
      "Uploaded 1eHVg67hgz3HNb6t9zzmaXQhqqJ4LH5H0 at 27.2 MB/s, total 1.7 GB\n",
      "Uploading ../output/HF-10-fold1/checkpoint-840/pytorch_model.bin\n",
      "Uploaded 1KwA586sTQyYggBaSKoiqz_AUoK1eVoxA at 26.2 MB/s, total 1.7 GB\n",
      "Uploading ../output/HF-10-fold2/checkpoint-840/pytorch_model.bin\n",
      "Uploaded 1qfb9YEngXrFxSIKBxvlGBG5RJSdzM7fh at 27.7 MB/s, total 1.7 GB\n",
      "Uploading ../output/HF-10-fold3/checkpoint-840/pytorch_model.bin\n",
      "Uploaded 1sFiLTPeJCcXOHNZwGqZL6B-R-vcbC2oU at 26.8 MB/s, total 1.7 GB\n",
      "Uploading ../output/HF-10-fold4/checkpoint-840/pytorch_model.bin\n",
      "Uploaded 1a5xhguuCD8KuHfgQZ8ryZ8PMt8gWy2Vz at 26.4 MB/s, total 1.7 GB\n"
     ]
    }
   ],
   "source": [
    "for fold in range(5):\n",
    "    folder = best_checkpoints[fold]\n",
    "    !~/gdrive upload {folder}/pytorch_model.bin --name pytorch_model_{fold}.bin"
   ]
  },
  {
   "cell_type": "code",
   "execution_count": null,
   "id": "e70fef14-4fe9-4603-a9ed-e6e26bf7360c",
   "metadata": {},
   "outputs": [],
   "source": []
  }
 ],
 "metadata": {
  "kernelspec": {
   "display_name": "Python 3 (ipykernel)",
   "language": "python",
   "name": "python3"
  },
  "language_info": {
   "codemirror_mode": {
    "name": "ipython",
    "version": 3
   },
   "file_extension": ".py",
   "mimetype": "text/x-python",
   "name": "python",
   "nbconvert_exporter": "python",
   "pygments_lexer": "ipython3",
   "version": "3.8.13"
  }
 },
 "nbformat": 4,
 "nbformat_minor": 5
}
