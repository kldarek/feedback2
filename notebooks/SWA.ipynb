{
 "cells": [
  {
   "cell_type": "code",
   "execution_count": 36,
   "id": "7d5a3d4e-eb19-420c-8c74-e719ff5c65df",
   "metadata": {},
   "outputs": [],
   "source": [
    "exp_name = 'HF-43pseudo3all-fold0'\n",
    "\n",
    "checkpoints = [\n",
    "    f'../output/{exp_name}/checkpoint-1800',\n",
    "    f'../output/{exp_name}/checkpoint-1900',\n",
    "    f'../output/{exp_name}/checkpoint-2000',\n",
    "]"
   ]
  },
  {
   "cell_type": "code",
   "execution_count": 37,
   "id": "64ce328e-a91c-469d-9e96-071a805f7725",
   "metadata": {},
   "outputs": [],
   "source": [
    "import torch\n",
    "from transformers import AutoConfig, AutoModelForTokenClassification"
   ]
  },
  {
   "cell_type": "code",
   "execution_count": 38,
   "id": "baf7a2ef-da3c-4974-be52-dcee324c55f2",
   "metadata": {},
   "outputs": [],
   "source": [
    "model_config = AutoConfig.from_pretrained(checkpoints[0])\n",
    "model_config.update(\n",
    "    {\n",
    "        \"num_labels\": 3,\n",
    "    }\n",
    ")\n",
    "sds = []\n",
    "\n",
    "model = AutoModelForTokenClassification.from_pretrained(checkpoints[0], config=model_config)\n",
    "master_sd = model.state_dict()\n",
    "\n",
    "for checkpoint in checkpoints:\n",
    "    model = AutoModelForTokenClassification.from_pretrained(checkpoint, config=model_config)\n",
    "    sd = model.state_dict()\n",
    "    sds.append(sd)\n",
    "    \n",
    "# Average all parameters\n",
    "for key in master_sd:\n",
    "    master_sd[key] = 0\n",
    "    for sd in sds:\n",
    "        master_sd[key] += sd[key]\n",
    "    master_sd[key] = master_sd[key] / len(sds)"
   ]
  },
  {
   "cell_type": "code",
   "execution_count": 39,
   "id": "9b629a1c-e262-4462-b99e-e2ae8edd1510",
   "metadata": {},
   "outputs": [
    {
     "data": {
      "text/plain": [
       "<All keys matched successfully>"
      ]
     },
     "execution_count": 39,
     "metadata": {},
     "output_type": "execute_result"
    }
   ],
   "source": [
    "model = AutoModelForTokenClassification.from_pretrained(checkpoints[0], config=model_config)\n",
    "model.load_state_dict(master_sd)"
   ]
  },
  {
   "cell_type": "code",
   "execution_count": 40,
   "id": "f2118db5-8ca8-45a1-88cd-93296188756d",
   "metadata": {},
   "outputs": [],
   "source": [
    "model.save_pretrained(f'../output/{exp_name}/swa')"
   ]
  },
  {
   "cell_type": "code",
   "execution_count": 41,
   "id": "94aee96c-ce19-47b3-84b4-1429d63a44bd",
   "metadata": {},
   "outputs": [],
   "source": [
    "# best_checkpoints = [\n",
    "#     '../output/HF-52-all/swa',\n",
    "#     '../output/HF-52-fold0/checkpoint-4900',\n",
    "#     '../output/HF-52-fold0/checkpoint-5000',\n",
    "#     '../output/HF-52-fold0/checkpoint-5100',\n",
    "#     '../output/HF-52-fold0/checkpoint-5200',\n",
    "# ]"
   ]
  },
  {
   "cell_type": "code",
   "execution_count": 42,
   "id": "bd99f300-4c60-4a19-b78c-56d90a1df266",
   "metadata": {},
   "outputs": [],
   "source": [
    "best_checkpoints = [\n",
    "    '',\n",
    "    f'../output/{exp_name}/swa'\n",
    "]"
   ]
  },
  {
   "cell_type": "code",
   "execution_count": 43,
   "id": "7f7a3a29-e12f-4883-a6a8-341d4116f882",
   "metadata": {},
   "outputs": [],
   "source": [
    "# for fold in range(5):\n",
    "#     folder = best_checkpoints[fold]\n",
    "#     !~/gdrive upload {folder}/pytorch_model.bin --name pytorch_model_{fold}.bin"
   ]
  },
  {
   "cell_type": "code",
   "execution_count": 44,
   "id": "e9c53f5f-5bb9-4820-9277-19ef1cc956e9",
   "metadata": {},
   "outputs": [
    {
     "name": "stdout",
     "output_type": "stream",
     "text": [
      "Uploading ../output/HF-43pseudo3all-fold0/swa/pytorch_model.bin\n",
      "Uploaded 1cjlO0oXzMxvMW6Uvzm28KOYtGrrrzQs5 at 28.2 MB/s, total 1.7 GB\n"
     ]
    }
   ],
   "source": [
    "for fold in range(1,2):\n",
    "    folder = best_checkpoints[fold]\n",
    "    !~/gdrive upload {folder}/pytorch_model.bin --name pytorch_model_{fold}.bin"
   ]
  },
  {
   "cell_type": "code",
   "execution_count": 45,
   "id": "851e8d63-7a07-4e1d-8e1b-db644abf552d",
   "metadata": {},
   "outputs": [
    {
     "data": {
      "text/plain": [
       "['', '../output/HF-43pseudo3all-fold0/swa']"
      ]
     },
     "execution_count": 45,
     "metadata": {},
     "output_type": "execute_result"
    }
   ],
   "source": [
    "best_checkpoints"
   ]
  },
  {
   "cell_type": "code",
   "execution_count": null,
   "id": "82450caa-1864-4bc3-bb68-b7622cab6534",
   "metadata": {},
   "outputs": [],
   "source": []
  }
 ],
 "metadata": {
  "kernelspec": {
   "display_name": "Python 3 (ipykernel)",
   "language": "python",
   "name": "python3"
  },
  "language_info": {
   "codemirror_mode": {
    "name": "ipython",
    "version": 3
   },
   "file_extension": ".py",
   "mimetype": "text/x-python",
   "name": "python",
   "nbconvert_exporter": "python",
   "pygments_lexer": "ipython3",
   "version": "3.8.13"
  }
 },
 "nbformat": 4,
 "nbformat_minor": 5
}
