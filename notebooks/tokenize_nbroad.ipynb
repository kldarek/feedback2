{
 "cells": [
  {
   "cell_type": "code",
   "execution_count": 1,
   "id": "77775c9f-7a1e-4099-a442-6e1ba8dafb33",
   "metadata": {},
   "outputs": [],
   "source": [
    "DEBUG = False"
   ]
  },
  {
   "cell_type": "code",
   "execution_count": 2,
   "id": "9d726ae4",
   "metadata": {},
   "outputs": [],
   "source": [
    "cfg = {\n",
    "    \"num_proc\": 2,\n",
    "    \"model_name_or_path\": \"microsoft/deberta-v3-large\",\n",
    "    \"data_dir\": \"../input/feedback-prize-effectiveness\",\n",
    "    \"trainingargs\": {\n",
    "        \"seed\": 42,\n",
    "    }\n",
    "}"
   ]
  },
  {
   "cell_type": "code",
   "execution_count": 3,
   "id": "f0ab1da7",
   "metadata": {},
   "outputs": [
    {
     "name": "stderr",
     "output_type": "stream",
     "text": [
      "/home/darek/mambaforge/envs/ml/lib/python3.8/site-packages/tqdm/auto.py:22: TqdmWarning: IProgress not found. Please update jupyter and ipywidgets. See https://ipywidgets.readthedocs.io/en/stable/user_install.html\n",
      "  from .autonotebook import tqdm as notebook_tqdm\n"
     ]
    }
   ],
   "source": [
    "import re\n",
    "import pickle\n",
    "import codecs\n",
    "import warnings\n",
    "import logging\n",
    "from functools import partial\n",
    "from pathlib import Path\n",
    "from itertools import chain\n",
    "from text_unidecode import unidecode\n",
    "from typing import Any, Optional, Tuple\n",
    "\n",
    "import pandas as pd\n",
    "from sklearn.model_selection import KFold\n",
    "from transformers import AutoTokenizer, set_seed\n",
    "\n",
    "from datasets import Dataset, load_from_disk\n",
    "\n",
    "def replace_encoding_with_utf8(error: UnicodeError) -> Tuple[bytes, int]:\n",
    "    return error.object[error.start : error.end].encode(\"utf-8\"), error.end\n",
    "\n",
    "def replace_decoding_with_cp1252(error: UnicodeError) -> Tuple[str, int]:\n",
    "    return error.object[error.start : error.end].decode(\"cp1252\"), error.end\n",
    "\n",
    "codecs.register_error(\"replace_encoding_with_utf8\", replace_encoding_with_utf8)\n",
    "codecs.register_error(\"replace_decoding_with_cp1252\", replace_decoding_with_cp1252)\n",
    "\n",
    "def resolve_encodings_and_normalize(text: str) -> str:\n",
    "    text = (\n",
    "        text.encode(\"raw_unicode_escape\")\n",
    "        .decode(\"utf-8\", errors=\"replace_decoding_with_cp1252\")\n",
    "        .encode(\"cp1252\", errors=\"replace_encoding_with_utf8\")\n",
    "        .decode(\"utf-8\", errors=\"replace_decoding_with_cp1252\")\n",
    "    )\n",
    "    text = unidecode(text)\n",
    "    return text\n",
    "\n",
    "def read_text_files(example, data_dir):\n",
    "    \n",
    "    id_ = example[\"essay_id\"]\n",
    "    \n",
    "    with open(data_dir / \"train\" / f\"{id_}.txt\", \"r\") as fp:\n",
    "        example[\"text\"] = resolve_encodings_and_normalize(fp.read())\n",
    "    \n",
    "    return example\n",
    "\n",
    "set_seed(cfg[\"trainingargs\"][\"seed\"])\n",
    "\n",
    "warnings.simplefilter('ignore')\n",
    "logging.disable(logging.WARNING)"
   ]
  },
  {
   "cell_type": "code",
   "execution_count": 4,
   "id": "e162fb9a",
   "metadata": {},
   "outputs": [
    {
     "name": "stderr",
     "output_type": "stream",
     "text": [
      "Loading text files #0:   0%|                                                | 0/2096 [00:00<?, ?ex/s]\n",
      "Loading text files #0:  11%|███▊                                | 221/2096 [00:00<00:00, 2198.06ex/s]\u001b[A\n",
      "Loading text files #0:  21%|███████▌                            | 442/2096 [00:00<00:00, 2203.35ex/s]\u001b[A\n",
      "Loading text files #0:  32%|███████████▍                        | 669/2096 [00:00<00:00, 2232.01ex/s]\u001b[A\n",
      "Loading text files #0:  43%|███████████████▎                    | 893/2096 [00:00<00:00, 2183.60ex/s]\u001b[A\n",
      "Loading text files #1:  42%|██████████████▉                     | 870/2095 [00:00<00:00, 2153.03ex/s]\u001b[A\n",
      "Loading text files #0:  53%|██████████████████▌                | 1112/2096 [00:00<00:00, 2132.73ex/s]\u001b[A\n",
      "Loading text files #0:  76%|██████████████████████████▍        | 1584/2096 [00:00<00:00, 2252.79ex/s]\u001b[A\n",
      "Loading text files #0:  87%|██████████████████████████████▌    | 1832/2096 [00:00<00:00, 2323.19ex/s]\u001b[A\n",
      "Loading text files #0: 100%|███████████████████████████████████| 2096/2096 [00:00<00:00, 2268.52ex/s]\u001b[A\n",
      "\n",
      "Loading text files #1: 100%|███████████████████████████████████| 2095/2095 [00:01<00:00, 1999.54ex/s]\u001b[A\n"
     ]
    }
   ],
   "source": [
    "data_dir = Path(cfg[\"data_dir\"])\n",
    "\n",
    "train_df = pd.read_csv(data_dir / \"train.csv\")\n",
    "\n",
    "if DEBUG: train_df = train_df[:100]\n",
    "\n",
    "text_ds = Dataset.from_dict({\"essay_id\": train_df.essay_id.unique()})\n",
    "\n",
    "text_ds = text_ds.map(\n",
    "    partial(read_text_files, data_dir=data_dir),\n",
    "    num_proc=cfg[\"num_proc\"],\n",
    "    batched=False,\n",
    "    desc=\"Loading text files\",\n",
    ")\n",
    "\n",
    "text_df = text_ds.to_pandas()\n",
    "\n",
    "train_df[\"discourse_text\"] = [\n",
    "    resolve_encodings_and_normalize(x) for x in train_df[\"discourse_text\"]\n",
    "]\n",
    "\n",
    "train_df = train_df.merge(text_df, on=\"essay_id\", how=\"left\")\n",
    "    \n",
    "disc_types = [\n",
    "    \"Claim\",\n",
    "    \"Concluding Statement\",\n",
    "    \"Counterclaim\",\n",
    "    \"Evidence\",\n",
    "    \"Lead\",\n",
    "    \"Position\",\n",
    "    \"Rebuttal\",\n",
    "]\n",
    "\n",
    "type2id = {'Lead': 0,\n",
    " 'Position': 1,\n",
    " 'Claim': 2,\n",
    " 'Evidence': 3,\n",
    " 'Counterclaim': 4,\n",
    " 'Rebuttal': 5,\n",
    " 'Concluding Statement': 6,\n",
    " 'Other': 7}\n",
    "\n",
    "label2id = {\n",
    "    \"Ineffective\": 0,\n",
    "    \"Adequate\": 1,\n",
    "    \"Effective\": 2,\n",
    "}\n",
    "\n",
    "tokenizer = AutoTokenizer.from_pretrained(cfg[\"model_name_or_path\"])"
   ]
  },
  {
   "cell_type": "code",
   "execution_count": 5,
   "id": "b7eac95d",
   "metadata": {},
   "outputs": [],
   "source": [
    "def find_positions(example):\n",
    "\n",
    "    text = example[\"text\"][0]\n",
    "    \n",
    "    # keeps track of what has already\n",
    "    # been located\n",
    "    min_idx = 0\n",
    "    \n",
    "    # stores start and end indexes of discourse_texts\n",
    "    idxs = []\n",
    "    \n",
    "    for dt in example[\"discourse_text\"]:\n",
    "        # calling strip is essential\n",
    "        matches = list(re.finditer(re.escape(dt.strip()), text))\n",
    "        \n",
    "        # If there are multiple matches, take the first one\n",
    "        # that is past the previous discourse texts.\n",
    "        if len(matches) > 1:\n",
    "            for m in matches:\n",
    "                if m.start() >= min_idx:\n",
    "                    break\n",
    "        # If no matches are found\n",
    "        elif len(matches) == 0:\n",
    "            idxs.append([-1]) # will filter out later\n",
    "            print('!!!! MISS !!!')\n",
    "            print(dt.strip())\n",
    "            print('!!here!!')\n",
    "            print(text)\n",
    "            print()\n",
    "            continue  \n",
    "        # If one match is found\n",
    "        else:\n",
    "            m = matches[0]\n",
    "            \n",
    "        idxs.append([m.start(), m.end()])\n",
    "\n",
    "        min_idx = m.start()\n",
    "\n",
    "    return idxs\n",
    "\n",
    "def tokenize(example):\n",
    "    example[\"idxs\"] = find_positions(example)\n",
    "    \n",
    "    # print(\"New example\")\n",
    "    # print(example[\"idxs\"])\n",
    "    # print()\n",
    "\n",
    "    text = example[\"text\"][0]\n",
    "    text = text.replace('\\n', '|')\n",
    "    chunks = []\n",
    "    chunk_example = []\n",
    "    chunk_idxs = []\n",
    "    examples_classes = [type2id[disc_type] for disc_type in example[\"discourse_type\"]]\n",
    "    examples_scores = [label2id[disc_effect] for disc_effect in example[\"discourse_effectiveness\"]]\n",
    "    \n",
    "    prev = 0\n",
    "\n",
    "    zipped = zip(\n",
    "        example[\"idxs\"],\n",
    "        example[\"discourse_type\"],\n",
    "        example[\"discourse_effectiveness\"],\n",
    "    )\n",
    "    \n",
    "    for idxs, disc_type, disc_effect in zipped:\n",
    "        # when the discourse_text wasn't found\n",
    "        if idxs == [-1]:\n",
    "            chunk_idxs.append([-1])\n",
    "            chunk_example.append(-1)\n",
    "            chunks.append('')\n",
    "            continue\n",
    "\n",
    "        s, e = idxs\n",
    "\n",
    "        # if the start of the current discourse_text is not \n",
    "        # at the end of the previous one.\n",
    "        # (text in between discourse_texts)\n",
    "        if s != prev:\n",
    "            chunk_idxs.append([prev,s])\n",
    "            chunk_example.append(-1)\n",
    "            chunks.append(text[prev:s])\n",
    "            prev = s\n",
    "\n",
    "        # if the start of the current discourse_text is \n",
    "        # the same as the end of the previous discourse_text\n",
    "        if s == prev:\n",
    "            chunk_idxs.append([s,e])\n",
    "            chunks.append(text[s:e])\n",
    "            chunk_example.append(1)\n",
    "        \n",
    "        prev = e\n",
    "        \n",
    "    input_ids = [tokenizer.cls_token_id]\n",
    "    token_class_labels = [-100]\n",
    "    token_scores_labels = [-100]\n",
    "    token_examples_mapping = [-100]\n",
    "    \n",
    "    assert len(examples_classes) == len(examples_scores) \n",
    "    assert len(chunks) == len(chunk_idxs) \n",
    "    assert len(examples_classes) == len(example[\"discourse_effectiveness\"])\n",
    "\n",
    "    i = 0\n",
    "    \n",
    "    for j, chunk in enumerate(chunks):\n",
    "        chunk_ids = tokenizer(chunk, padding=False, truncation=False, add_special_tokens=False)\n",
    "        chunk_ids = chunk_ids['input_ids']\n",
    "        if len(chunk_ids) == 0: \n",
    "            assert chunk_example[j] == -1\n",
    "            continue\n",
    "            \n",
    "        if chunk_example[j] == -1:\n",
    "            input_ids.extend(chunk_ids)\n",
    "            token_class_labels += [-100] * len(chunk_ids)\n",
    "            token_scores_labels += [-100] * len(chunk_ids)\n",
    "            token_examples_mapping += [-100] * len(chunk_ids)\n",
    "        if chunk_example[j] == 1: \n",
    "            input_ids.extend(chunk_ids)\n",
    "            token_class_labels += [examples_classes[i]] * len(chunk_ids)\n",
    "            token_scores_labels += [examples_scores[i]] * len(chunk_ids)\n",
    "            token_examples_mapping += [i] * len(chunk_ids)\n",
    "\n",
    "            # DEBUG\n",
    "            # print(i)\n",
    "            # print('class', examples_classes[i])\n",
    "            # print('score', examples_scores[i])\n",
    "            # ss,ee = example[\"idxs\"][i]\n",
    "            # print(text[ss:ee])\n",
    "            # print('***********************')\n",
    "            # print(tokenizer.decode(chunk_ids))\n",
    "            # print('***********************')\n",
    "            # print()            \n",
    "            # DEBUG\n",
    "            \n",
    "            i += 1\n",
    "            \n",
    "              \n",
    "    # print(example[\"idxs\"])\n",
    "        \n",
    "    # if (i+1 < len(example[\"idxs\"])):\n",
    "    #     print('ouch!!!!')\n",
    "    #     for sss,eee in example[\"idxs\"]:\n",
    "    #           print(text[sss:eee])\n",
    "        \n",
    "    input_ids += [tokenizer.sep_token_id]\n",
    "    token_class_labels += [-100]\n",
    "    token_scores_labels += [-100]\n",
    "    token_examples_mapping += [-100]\n",
    "    attention_mask = [1] * len(input_ids)\n",
    "\n",
    "    example['input_ids'] = input_ids\n",
    "    example['attention_mask'] = attention_mask\n",
    "    example['token_class_labels'] = token_class_labels\n",
    "    example['token_scores_labels'] = token_scores_labels\n",
    "    example['token_examples_mapping'] = token_examples_mapping\n",
    "    example['examples_scores'] = examples_scores\n",
    "    example['examples_classes'] = examples_classes\n",
    "    \n",
    "    return example"
   ]
  },
  {
   "cell_type": "code",
   "execution_count": 6,
   "id": "1666ad3e",
   "metadata": {},
   "outputs": [
    {
     "name": "stderr",
     "output_type": "stream",
     "text": [
      " 98%|█████████████████████████████████████████████████████████▋ | 4097/4191 [00:27<00:00, 133.62ex/s]"
     ]
    },
    {
     "name": "stdout",
     "output_type": "stream",
     "text": [
      "!!!! MISS !!!\n",
      "This whole thing is point less how they have us in here for two days im missing my education. We could have finished this in one day and had the rest of the week to get back on the track of learning. I've missed both days of weight lifting, algebra, and my world history that i do not want to fail again! If their are any people actually gonna sit down and take the time to read this then\n",
      "\n",
      "DO NOT DO THIS NEXT YEAR\n",
      "\n",
      ".\n",
      "\n",
      "They are giving us cold lunches. ham and cheese and an apple, I am 16 years old and my body needs proper food. I wouldnt be complaining if they served actual breakfast. but because of Michelle Obama and her healthy diet rule they surve us 1 poptart in the moring. How does the school board expect us to last from 7:05-12:15 on a pop tart? then expect us to get A's, we are more focused on lunch than anything else. I am about done so if you have the time to read this even though this does not count. Bring PROPER_NAME a big Mac from mc donalds, SCHOOL_NAME, (idk area code but its in florida)\n",
      "!!here!!\n",
      "If we limit our car usage throughout the year we can cut the rate of carbon dioxiod we produce by 1/2! That will save uor trees, animals, and even our own lifes in the future. Also the ablity to save as many fossil fuels we have remaining cause everyone knows we are starting to run completly out and can not creat any more. By doing this we save time and energy and creat a healthy envirnment.\n",
      "\n",
      "If we slowly progress the fact that we are only using our automobiles 345/360 days a year will cut back our usage for fossile fuels by 15%. This whole thing is point less how they have us in here for two days im missing my education. We could have finished this in one day and had the rest of the week to get back on the track of learning. I've missed both days of weight lifting, algebra, and my world history that i do not want to fail again! If their are any people actually gonna sit down and take the time to read this then\n",
      "\n",
      "DO NOT DO THIS NEXT YEAR\n",
      "\n",
      ".\n",
      "\n",
      "They are giving us cold lunches. ham and cheese and an apple, I am 16 years old and my body needs proper food. I wouldnt be complaining if they served actual breakfast. but because of Michelle Obama and her healthy diet rule they surve us 1 poptart in the moring. How does the school board expect us to last from 7:05-12:15 on a pop tart? then expect us to get A's, we are more focused on lunch than anything else. I am about done so if you have the time to read this even though this does not count. Bring PROPER_NAME a big Mac from mc donalds, SCHOOL_NAME, (idk area code but its in LOCATION_NAME)            \n",
      "\n"
     ]
    },
    {
     "name": "stderr",
     "output_type": "stream",
     "text": [
      "100%|███████████████████████████████████████████████████████████| 4191/4191 [00:27<00:00, 150.21ex/s]\n"
     ]
    }
   ],
   "source": [
    "\n",
    "# make lists of discourse_text, discourse_effectiveness\n",
    "# for each essay\n",
    "grouped = train_df.groupby([\"essay_id\"]).agg(list)\n",
    "\n",
    "ds = Dataset.from_pandas(grouped)\n",
    "\n",
    "ds = ds.map(\n",
    "    tokenize,\n",
    "    batched=False,\n",
    "    \n",
    ")   "
   ]
  },
  {
   "cell_type": "code",
   "execution_count": 7,
   "id": "4519180c-30ed-4214-b81d-68ece5291cef",
   "metadata": {},
   "outputs": [
    {
     "data": {
      "text/plain": [
       "Dataset({\n",
       "    features: ['discourse_id', 'discourse_text', 'discourse_type', 'discourse_effectiveness', 'text', 'essay_id', 'idxs', 'input_ids', 'attention_mask', 'token_class_labels', 'token_scores_labels', 'token_examples_mapping', 'examples_scores', 'examples_classes'],\n",
       "    num_rows: 4191\n",
       "})"
      ]
     },
     "execution_count": 7,
     "metadata": {},
     "output_type": "execute_result"
    }
   ],
   "source": [
    "ds"
   ]
  },
  {
   "cell_type": "code",
   "execution_count": 8,
   "id": "13d2e9bf",
   "metadata": {},
   "outputs": [
    {
     "name": "stdout",
     "output_type": "stream",
     "text": [
      "Num bad matches 1\n"
     ]
    }
   ],
   "source": [
    "bad_matches = []\n",
    "for id_, l, ids, dt, tem in zip(ds[\"essay_id\"], ds[\"examples_scores\"], ds[\"input_ids\"], grouped.discourse_text,\n",
    "                               ds[\"token_examples_mapping\"]):\n",
    "    \n",
    "    # count number of labels (ignoring -100)\n",
    "    num_cls_label = len(set(tem)) - 1\n",
    "    # count number of cls ids\n",
    "    num_cls_id = max(tem) + 1\n",
    "    # true number of discourse_texts\n",
    "    num_dt = len(dt)\n",
    "    # print(num_cls_label, num_cls_id, num_dt)\n",
    "    \n",
    "    if num_cls_label != num_dt or num_cls_id != num_dt:\n",
    "        bad_matches.append((id_, l, ids, dt))\n",
    "        \n",
    "print(\"Num bad matches\", len(bad_matches))\n",
    "# temp = train_df[train_df[\"essay_id\"]==bad_matches[0][0]]\n",
    "# temp_txt = temp.text.values[0]\n",
    "# print(temp_txt)\n",
    "# print(\"*\"*100)\n",
    "# print([x for x in temp.discourse_text if x.strip() not in temp_txt])"
   ]
  },
  {
   "cell_type": "code",
   "execution_count": 14,
   "id": "b37ecf8c",
   "metadata": {},
   "outputs": [
    {
     "name": "stdout",
     "output_type": "stream",
     "text": [
      "Driverless cars are exaclty what you would expect them to be. Cars that will drive without a person actually behind the wheel controlling the actions of the vehicle. The idea of driverless cars going in to developement shows the amount of technological increase that the wolrd has made. The leader of this idea of driverless cars are the automobiles they call Google cars. The arduous task of creating safe driverless cars has not been fully mastered yet.  \n",
      "\n",
      "The developement of these cars should be stopped immediately because there are too many hazardous and dangerous events that could occur.  \n",
      "\n",
      "the driver will be alerted when they will need to take over the driving responsibilites of the car.  \n",
      "\n",
      "This is such a dangerous thing because we all know that whenever humans get their attention drawn in on something interesting it is hard to draw their focus somewhere else. The article explains that companies are trying to implement vibrations when the car is in trouble. Their are some people out there who do not feel vibrations and therefore would not be able to take control of the car when needed. The article also states that companies are trying to put in-car entertainment into the car while it is being driven. This is just another thing that will distract the person who is supposed to be ready at all times to take over driving when asked to do so.  \n",
      "\n",
      "Another thing that can go wrong with these cars is any type of techological malfucntion.  \n",
      "\n",
      "Every person with any kind of technological device has experienced some sort of error. Now imagine if your car has an error technologically and it takes the life of one your loved ones. The article talks about sensors around the car that read the surroundings of the car and that is what helps he car to drive without a true driver behind the wheel. Those sensors could have a malfunctions and be sensing something that is that even there and make a left turn into a 100 foot deep lake. The vibrations that cause the driver to be notified to drive could malfunction and now the driver has no way of knowing that the car is in trouble and now you, the driver, and the rest of your passengers are being buried in your local cemetery.  \n",
      "\n",
      "who to blame for the wreck if there were possibly some sort of technological malfunciton or even some sort of human error when taking over the driving aspect.  \n",
      "\n",
      "Should the manufacturer of the car be blamed or should it be the driver? No one knows because there is so many different factors that attribute to who to assign the blame to. Some of what will have to be made is a judgement call. When it comes to insurance and having to pay for any damages you do not want someone to have to make some sort of judgement call. What if that judgement call that was made was the wrong call? Now there are going to be even more lawsuits today in our courts than there already are. This problem alone will just lead to many more issues today in the world that should not have to be dealt with.  \n",
      "\n",
      "With all these things that could possibly go wrong with these driverless cars there is no way that the developement of them should continue any further. In today's society if something bad COULD happen or something COULD go wrong, it WILL happen, and it WILL go wrong. There are just way too many safety hazards that come along with these driverless cars. Becuase of all of these problems that arise with the cars it is just a gargantuan risk to implement these cars into our lifestyles.  \n",
      "\n",
      "****************************************************************************************************\n",
      "[CLS] Driverless cars are exaclty what you would expect them to be. Cars that will drive without a person actually behind the wheel controlling the actions of the vehicle. The idea of driverless cars going in to developement shows the amount of technological increase that the wolrd has made. The leader of this idea of driverless cars are the automobiles they call Google cars. The arduous task of creating safe driverless cars has not been fully mastered yet. The developement of these cars should be stopped immediately because there are too many hazardous and dangerous events that could occur. ||One thing that the article mentions is that the driver will be alerted when they will need to take over the driving responsibilites of the car. This is such a dangerous thing because we all know that whenever humans get their attention drawn in on something interesting it is hard to draw their focus somewhere else. The article explains that companies are trying to implement vibrations when the car is in trouble. Their are some people out there who do not feel vibrations and therefore would not be able to take control of the car when needed. The article also states that companies are trying to put in-car entertainment into the car while it is being driven. This is just another thing that will distract the person who is supposed to be ready at all times to take over driving when asked to do so. || Another thing that can go wrong with these cars is any type of techological malfucntion. Every person with any kind of technological device has experienced some sort of error. Now imagine if your car has an error technologically and it takes the life of one your loved ones. The article talks about sensors around the car that read the surroundings of the car and that is what helps he car to drive without a true driver behind the wheel. Those sensors could have a malfunctions and be sensing something that is that even there and make a left turn into a 100 foot deep lake. The vibrations that cause the driver to be notified to drive could malfunction and now the driver has no way of knowing that the car is in trouble and now you, the driver, and the rest of your passengers are being buried in your local cemetery. ||One last thing that the article mentions is negative about the developement of driverless cars is who to blame for the wreck if there were possibly some sort of technological malfunciton or even some sort of human error when taking over the driving aspect. Should the manufacturer of the car be blamed or should it be the driver? No one knows because there is so many different factors that attribute to who to assign the blame to. Some of what will have to be made is a judgement call. When it comes to insurance and having to pay for any damages you do not want someone to have to make some sort of judgement call. What if that judgement call that was made was the wrong call? Now there are going to be even more lawsuits today in our courts than there already are. This problem alone will just lead to many more issues today in the world that should not have to be dealt with. || With all these things that could possibly go wrong with these driverless cars there is no way that the developement of them should continue any further. In today's society if something bad COULD happen or something COULD go wrong, it WILL happen, and it WILL go wrong. There are just way too many safety hazards that come along with these driverless cars. Becuase of all of these problems that arise with the cars it is just a gargantuan risk to implement these cars into our lifestyles.[SEP]\n",
      "****************************************************************************************************\n",
      "Driverless cars are exaclty what you would expect them to be. Cars that will drive without a person actually behind the wheel controlling the actions of the vehicle. The idea of driverless cars going in to developement shows the amount of technological increase that the wolrd has made. The leader of this idea of driverless cars are the automobiles they call Google cars. The arduous task of creating safe driverless cars has not been fully mastered yet. The developement of these cars should be stopped immediately because there are too many hazardous and dangerous events that could occur.\n",
      "\n",
      "One thing that the article mentions is that the driver will be alerted when they will need to take over the driving responsibilites of the car. This is such a dangerous thing because we all know that whenever humans get their attention drawn in on something interesting it is hard to draw their focus somewhere else. The article explains that companies are trying to implement vibrations when the car is in trouble. Their are some people out there who do not feel vibrations and therefore would not be able to take control of the car when needed. The article also states that companies are trying to put in-car entertainment into the car while it is being driven. This is just another thing that will distract the person who is supposed to be ready at all times to take over driving when asked to do so.\n",
      "\n",
      "Another thing that can go wrong with these cars is any type of techological malfucntion. Every person with any kind of technological device has experienced some sort of error. Now imagine if your car has an error technologically and it takes the life of one your loved ones. The article talks about sensors around the car that read the surroundings of the car and that is what helps he car to drive without a true driver behind the wheel. Those sensors could have a malfunctions and be sensing something that is that even there and make a left turn into a 100 foot deep lake. The vibrations that cause the driver to be notified to drive could malfunction and now the driver has no way of knowing that the car is in trouble and now you, the driver, and the rest of your passengers are being buried in your local cemetery.\n",
      "\n",
      "One last thing that the article mentions is negative about the developement of driverless cars is who to blame for the wreck if there were possibly some sort of technological malfunciton or even some sort of human error when taking over the driving aspect. Should the manufacturer of the car be blamed or should it be the driver? No one knows because there is so many different factors that attribute to who to assign the blame to. Some of what will have to be made is a judgement call. When it comes to insurance and having to pay for any damages you do not want someone to have to make some sort of judgement call. What if that judgement call that was made was the wrong call? Now there are going to be even more lawsuits today in our courts than there already are. This problem alone will just lead to many more issues today in the world that should not have to be dealt with.\n",
      "\n",
      "With all these things that could possibly go wrong with these driverless cars there is no way that the developement of them should continue any further. In today's society if something bad COULD happen or something COULD go wrong, it WILL happen, and it WILL go wrong. There are just way too many safety hazards that come along with these driverless cars. Becuase of all of these problems that arise with the cars it is just a gargantuan risk to implement these cars into our lifestyles. \n"
     ]
    }
   ],
   "source": [
    "for t in ds[0][\"discourse_text\"]:\n",
    "    print(t, \"\\n\")\n",
    "print(\"*\"*100)\n",
    "print(tokenizer.decode(ds[0][\"input_ids\"]))\n",
    "print(\"*\"*100)\n",
    "print(ds[0][\"text\"][0])"
   ]
  },
  {
   "cell_type": "code",
   "execution_count": 18,
   "id": "8ba70caf-8ecc-4e7f-8d47-1c5c56c56712",
   "metadata": {},
   "outputs": [
    {
     "data": {
      "text/html": [
       "<div>\n",
       "<style scoped>\n",
       "    .dataframe tbody tr th:only-of-type {\n",
       "        vertical-align: middle;\n",
       "    }\n",
       "\n",
       "    .dataframe tbody tr th {\n",
       "        vertical-align: top;\n",
       "    }\n",
       "\n",
       "    .dataframe thead th {\n",
       "        text-align: right;\n",
       "    }\n",
       "</style>\n",
       "<table border=\"1\" class=\"dataframe\">\n",
       "  <thead>\n",
       "    <tr style=\"text-align: right;\">\n",
       "      <th></th>\n",
       "      <th>essay_id</th>\n",
       "      <th>fold</th>\n",
       "    </tr>\n",
       "  </thead>\n",
       "  <tbody>\n",
       "    <tr>\n",
       "      <th>0</th>\n",
       "      <td>F98E8D4EA700</td>\n",
       "      <td>0</td>\n",
       "    </tr>\n",
       "    <tr>\n",
       "      <th>1</th>\n",
       "      <td>66BB82BD76B2</td>\n",
       "      <td>0</td>\n",
       "    </tr>\n",
       "    <tr>\n",
       "      <th>2</th>\n",
       "      <td>85F4C57672EA</td>\n",
       "      <td>0</td>\n",
       "    </tr>\n",
       "    <tr>\n",
       "      <th>3</th>\n",
       "      <td>06936C8AA35D</td>\n",
       "      <td>0</td>\n",
       "    </tr>\n",
       "    <tr>\n",
       "      <th>4</th>\n",
       "      <td>61C3ADEA1DD5</td>\n",
       "      <td>0</td>\n",
       "    </tr>\n",
       "  </tbody>\n",
       "</table>\n",
       "</div>"
      ],
      "text/plain": [
       "       essay_id  fold\n",
       "0  F98E8D4EA700     0\n",
       "1  66BB82BD76B2     0\n",
       "2  85F4C57672EA     0\n",
       "3  06936C8AA35D     0\n",
       "4  61C3ADEA1DD5     0"
      ]
     },
     "execution_count": 18,
     "metadata": {},
     "output_type": "execute_result"
    }
   ],
   "source": [
    "pdf = ds.to_pandas()\n",
    "essays = pd.read_csv('../input/feedback-effective-folds/essay_scores.csv')\n",
    "essays = essays[['essay_id', 'fold']]\n",
    "essays.head()"
   ]
  },
  {
   "cell_type": "code",
   "execution_count": 19,
   "id": "edef5e3a-b671-4b8f-b369-2503199c9164",
   "metadata": {},
   "outputs": [],
   "source": [
    "pdfm = pd.merge(pdf, essays, on='essay_id', how='left')"
   ]
  },
  {
   "cell_type": "code",
   "execution_count": 20,
   "id": "3457c473-765d-4149-94a0-8741c9ebd317",
   "metadata": {},
   "outputs": [
    {
     "data": {
      "text/plain": [
       "(4191, 4191, 4191)"
      ]
     },
     "execution_count": 20,
     "metadata": {},
     "output_type": "execute_result"
    }
   ],
   "source": [
    "len(pdf), len(pdfm), len(essays)"
   ]
  },
  {
   "cell_type": "code",
   "execution_count": 33,
   "id": "8c8d30be-e09a-40da-945c-3bf7bb1545fb",
   "metadata": {},
   "outputs": [
    {
     "data": {
      "text/plain": [
       "True"
      ]
     },
     "execution_count": 33,
     "metadata": {},
     "output_type": "execute_result"
    }
   ],
   "source": [
    "all([len(x) > 0 for x in pdfm.token_class_labels.values])"
   ]
  },
  {
   "cell_type": "code",
   "execution_count": 34,
   "id": "c2a55db5-aeca-45c4-99e8-c196f99978af",
   "metadata": {},
   "outputs": [
    {
     "name": "stdout",
     "output_type": "stream",
     "text": [
      "Create_MLM_dataset.ipynb  PL-16-all.ipynb\n",
      "HF-0.ipynb                PL-16.ipynb\n",
      "HF-1.ipynb                PL-17-all.ipynb\n",
      "HF-10.ipynb               PL-2.ipynb\n",
      "HF-11.ipynb               PL-3.ipynb\n",
      "HF-12.ipynb               PL-4.ipynb\n",
      "HF-13.ipynb               PL-5.ipynb\n",
      "HF-14.ipynb               PL-6.ipynb\n",
      "HF-2.ipynb                PL-7.ipynb\n",
      "HF-3.ipynb                PL-8.ipynb\n",
      "HF-4.ipynb                PL-9.ipynb\n",
      "HF-5.ipynb                deb619.py\n",
      "HF-6.ipynb                feedback-effective-baseline-3.ipynb\n",
      "HF-7.ipynb                feedback-effective-create-labels-deb-v3-1024.ipynb\n",
      "HF-8.ipynb                feedback-effective-create-labels-deb-v3-all.ipynb\n",
      "HF-9.ipynb                feedback-effective-create-labels.ipynb\n",
      "PL-1.ipynb                hf3infer.py\n",
      "PL-10.ipynb               processed-deberta-v3-large-all.pickle\n",
      "PL-11.ipynb               processed-deberta-v3-large-nbroad.pickle\n",
      "PL-12.ipynb               processed-deberta-v3-large.pickle\n",
      "PL-13.ipynb               tokenize_nbroad.ipynb\n",
      "PL-14.ipynb               \u001b[0m\u001b[01;34mwandb\u001b[0m/\n",
      "PL-15.ipynb\n"
     ]
    }
   ],
   "source": [
    "ls"
   ]
  },
  {
   "cell_type": "code",
   "execution_count": 27,
   "id": "2b9e59fc-dc7c-44e7-a010-0c288a3efbb3",
   "metadata": {},
   "outputs": [
    {
     "data": {
      "text/plain": [
       "0    839\n",
       "1    838\n",
       "4    838\n",
       "2    838\n",
       "3    838\n",
       "Name: fold, dtype: int64"
      ]
     },
     "execution_count": 27,
     "metadata": {},
     "output_type": "execute_result"
    }
   ],
   "source": [
    "pdfm.fold.value_counts()"
   ]
  },
  {
   "cell_type": "code",
   "execution_count": 42,
   "id": "55ce9f1c-0982-414d-9405-c284e3b90fda",
   "metadata": {},
   "outputs": [],
   "source": [
    "# pdfm.input_ids.loc[313]"
   ]
  },
  {
   "cell_type": "code",
   "execution_count": 38,
   "id": "d132d4fe-bf6d-4ce5-8a9f-871f5d8f3897",
   "metadata": {},
   "outputs": [],
   "source": [
    "list_cols = ['input_ids',\n",
    "       'attention_mask', 'token_class_labels', 'token_scores_labels',\n",
    "       'token_examples_mapping', 'examples_scores', 'examples_classes']"
   ]
  },
  {
   "cell_type": "code",
   "execution_count": 40,
   "id": "e3c583bd-52fc-4fc3-ad7b-457798d532f1",
   "metadata": {},
   "outputs": [],
   "source": [
    "for c in list_cols:\n",
    "    pdfm[c] = [x.tolist() for x in pdfm[c].values]"
   ]
  },
  {
   "cell_type": "code",
   "execution_count": 43,
   "id": "8a43e508-fe5a-459f-8642-62bf9eb40df8",
   "metadata": {},
   "outputs": [],
   "source": [
    "import pickle\n",
    "with open(f'processed-{cfg[\"model_name_or_path\"].split(\"/\")[1]}-nbroad.pickle', 'wb') as handle:\n",
    "    pickle.dump(pdfm, handle, protocol=pickle.HIGHEST_PROTOCOL)"
   ]
  },
  {
   "cell_type": "code",
   "execution_count": null,
   "id": "e19de636-b764-4daf-86c2-cee886fa398f",
   "metadata": {},
   "outputs": [],
   "source": []
  }
 ],
 "metadata": {
  "kernelspec": {
   "display_name": "Python 3 (ipykernel)",
   "language": "python",
   "name": "python3"
  },
  "language_info": {
   "codemirror_mode": {
    "name": "ipython",
    "version": 3
   },
   "file_extension": ".py",
   "mimetype": "text/x-python",
   "name": "python",
   "nbconvert_exporter": "python",
   "pygments_lexer": "ipython3",
   "version": "3.8.13"
  }
 },
 "nbformat": 4,
 "nbformat_minor": 5
}
