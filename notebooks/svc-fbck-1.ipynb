{
 "cells": [
  {
   "cell_type": "code",
   "execution_count": 1,
   "metadata": {
    "_cell_guid": "b1076dfc-b9ad-4769-8c92-a6c4dae69d19",
    "_uuid": "8f2839f25d086af736a60e9eeb907d3b93b6e0e5",
    "tags": []
   },
   "outputs": [],
   "source": [
    "import numpy as np\n",
    "import pandas as pd\n",
    "# import sys"
   ]
  },
  {
   "cell_type": "code",
   "execution_count": 2,
   "metadata": {
    "tags": []
   },
   "outputs": [],
   "source": [
    "train = pd.read_csv('../input/feedback-prize-effectiveness/train.csv')"
   ]
  },
  {
   "cell_type": "code",
   "execution_count": 3,
   "metadata": {
    "tags": []
   },
   "outputs": [
    {
     "data": {
      "text/html": [
       "<div>\n",
       "<style scoped>\n",
       "    .dataframe tbody tr th:only-of-type {\n",
       "        vertical-align: middle;\n",
       "    }\n",
       "\n",
       "    .dataframe tbody tr th {\n",
       "        vertical-align: top;\n",
       "    }\n",
       "\n",
       "    .dataframe thead th {\n",
       "        text-align: right;\n",
       "    }\n",
       "</style>\n",
       "<table border=\"1\" class=\"dataframe\">\n",
       "  <thead>\n",
       "    <tr style=\"text-align: right;\">\n",
       "      <th></th>\n",
       "      <th>discourse_id</th>\n",
       "      <th>essay_id</th>\n",
       "      <th>discourse_text</th>\n",
       "      <th>discourse_type</th>\n",
       "      <th>discourse_effectiveness</th>\n",
       "    </tr>\n",
       "  </thead>\n",
       "  <tbody>\n",
       "    <tr>\n",
       "      <th>0</th>\n",
       "      <td>0013cc385424</td>\n",
       "      <td>007ACE74B050</td>\n",
       "      <td>Hi, i'm Isaac, i'm going to be writing about h...</td>\n",
       "      <td>Lead</td>\n",
       "      <td>Adequate</td>\n",
       "    </tr>\n",
       "    <tr>\n",
       "      <th>1</th>\n",
       "      <td>9704a709b505</td>\n",
       "      <td>007ACE74B050</td>\n",
       "      <td>On my perspective, I think that the face is a ...</td>\n",
       "      <td>Position</td>\n",
       "      <td>Adequate</td>\n",
       "    </tr>\n",
       "    <tr>\n",
       "      <th>2</th>\n",
       "      <td>c22adee811b6</td>\n",
       "      <td>007ACE74B050</td>\n",
       "      <td>I think that the face is a natural landform be...</td>\n",
       "      <td>Claim</td>\n",
       "      <td>Adequate</td>\n",
       "    </tr>\n",
       "    <tr>\n",
       "      <th>3</th>\n",
       "      <td>a10d361e54e4</td>\n",
       "      <td>007ACE74B050</td>\n",
       "      <td>If life was on Mars, we would know by now. The...</td>\n",
       "      <td>Evidence</td>\n",
       "      <td>Adequate</td>\n",
       "    </tr>\n",
       "    <tr>\n",
       "      <th>4</th>\n",
       "      <td>db3e453ec4e2</td>\n",
       "      <td>007ACE74B050</td>\n",
       "      <td>People thought that the face was formed by ali...</td>\n",
       "      <td>Counterclaim</td>\n",
       "      <td>Adequate</td>\n",
       "    </tr>\n",
       "  </tbody>\n",
       "</table>\n",
       "</div>"
      ],
      "text/plain": [
       "   discourse_id      essay_id  \\\n",
       "0  0013cc385424  007ACE74B050   \n",
       "1  9704a709b505  007ACE74B050   \n",
       "2  c22adee811b6  007ACE74B050   \n",
       "3  a10d361e54e4  007ACE74B050   \n",
       "4  db3e453ec4e2  007ACE74B050   \n",
       "\n",
       "                                      discourse_text discourse_type  \\\n",
       "0  Hi, i'm Isaac, i'm going to be writing about h...           Lead   \n",
       "1  On my perspective, I think that the face is a ...       Position   \n",
       "2  I think that the face is a natural landform be...          Claim   \n",
       "3  If life was on Mars, we would know by now. The...       Evidence   \n",
       "4  People thought that the face was formed by ali...   Counterclaim   \n",
       "\n",
       "  discourse_effectiveness  \n",
       "0                Adequate  \n",
       "1                Adequate  \n",
       "2                Adequate  \n",
       "3                Adequate  \n",
       "4                Adequate  "
      ]
     },
     "execution_count": 3,
     "metadata": {},
     "output_type": "execute_result"
    }
   ],
   "source": [
    "train.head()"
   ]
  },
  {
   "cell_type": "code",
   "execution_count": 4,
   "metadata": {
    "tags": []
   },
   "outputs": [
    {
     "data": {
      "text/html": [
       "<div>\n",
       "<style scoped>\n",
       "    .dataframe tbody tr th:only-of-type {\n",
       "        vertical-align: middle;\n",
       "    }\n",
       "\n",
       "    .dataframe tbody tr th {\n",
       "        vertical-align: top;\n",
       "    }\n",
       "\n",
       "    .dataframe thead th {\n",
       "        text-align: right;\n",
       "    }\n",
       "</style>\n",
       "<table border=\"1\" class=\"dataframe\">\n",
       "  <thead>\n",
       "    <tr style=\"text-align: right;\">\n",
       "      <th></th>\n",
       "      <th>discourse_id</th>\n",
       "      <th>essay_id</th>\n",
       "      <th>discourse_text</th>\n",
       "      <th>discourse_type</th>\n",
       "      <th>discourse_effectiveness</th>\n",
       "      <th>target</th>\n",
       "    </tr>\n",
       "  </thead>\n",
       "  <tbody>\n",
       "    <tr>\n",
       "      <th>0</th>\n",
       "      <td>0013cc385424</td>\n",
       "      <td>007ACE74B050</td>\n",
       "      <td>Hi, i'm Isaac, i'm going to be writing about h...</td>\n",
       "      <td>Lead</td>\n",
       "      <td>Adequate</td>\n",
       "      <td>1</td>\n",
       "    </tr>\n",
       "    <tr>\n",
       "      <th>1</th>\n",
       "      <td>9704a709b505</td>\n",
       "      <td>007ACE74B050</td>\n",
       "      <td>On my perspective, I think that the face is a ...</td>\n",
       "      <td>Position</td>\n",
       "      <td>Adequate</td>\n",
       "      <td>1</td>\n",
       "    </tr>\n",
       "    <tr>\n",
       "      <th>2</th>\n",
       "      <td>c22adee811b6</td>\n",
       "      <td>007ACE74B050</td>\n",
       "      <td>I think that the face is a natural landform be...</td>\n",
       "      <td>Claim</td>\n",
       "      <td>Adequate</td>\n",
       "      <td>1</td>\n",
       "    </tr>\n",
       "    <tr>\n",
       "      <th>3</th>\n",
       "      <td>a10d361e54e4</td>\n",
       "      <td>007ACE74B050</td>\n",
       "      <td>If life was on Mars, we would know by now. The...</td>\n",
       "      <td>Evidence</td>\n",
       "      <td>Adequate</td>\n",
       "      <td>1</td>\n",
       "    </tr>\n",
       "    <tr>\n",
       "      <th>4</th>\n",
       "      <td>db3e453ec4e2</td>\n",
       "      <td>007ACE74B050</td>\n",
       "      <td>People thought that the face was formed by ali...</td>\n",
       "      <td>Counterclaim</td>\n",
       "      <td>Adequate</td>\n",
       "      <td>1</td>\n",
       "    </tr>\n",
       "  </tbody>\n",
       "</table>\n",
       "</div>"
      ],
      "text/plain": [
       "   discourse_id      essay_id  \\\n",
       "0  0013cc385424  007ACE74B050   \n",
       "1  9704a709b505  007ACE74B050   \n",
       "2  c22adee811b6  007ACE74B050   \n",
       "3  a10d361e54e4  007ACE74B050   \n",
       "4  db3e453ec4e2  007ACE74B050   \n",
       "\n",
       "                                      discourse_text discourse_type  \\\n",
       "0  Hi, i'm Isaac, i'm going to be writing about h...           Lead   \n",
       "1  On my perspective, I think that the face is a ...       Position   \n",
       "2  I think that the face is a natural landform be...          Claim   \n",
       "3  If life was on Mars, we would know by now. The...       Evidence   \n",
       "4  People thought that the face was formed by ali...   Counterclaim   \n",
       "\n",
       "  discourse_effectiveness  target  \n",
       "0                Adequate       1  \n",
       "1                Adequate       1  \n",
       "2                Adequate       1  \n",
       "3                Adequate       1  \n",
       "4                Adequate       1  "
      ]
     },
     "execution_count": 4,
     "metadata": {},
     "output_type": "execute_result"
    }
   ],
   "source": [
    "label2id = {'Ineffective': 0, 'Adequate': 1, 'Effective': 2}\n",
    "train['target'] = [label2id[x] for x in train.discourse_effectiveness.values]\n",
    "train.head()"
   ]
  },
  {
   "cell_type": "code",
   "execution_count": 5,
   "metadata": {
    "tags": []
   },
   "outputs": [
    {
     "name": "stderr",
     "output_type": "stream",
     "text": [
      "/home/darek/mambaforge/envs/ml/lib/python3.8/site-packages/tqdm/auto.py:22: TqdmWarning: IProgress not found. Please update jupyter and ipywidgets. See https://ipywidgets.readthedocs.io/en/stable/user_install.html\n",
      "  from .autonotebook import tqdm as notebook_tqdm\n"
     ]
    }
   ],
   "source": [
    "from sentence_transformers import SentenceTransformer\n",
    "model = SentenceTransformer('all-MiniLM-L6-v2')"
   ]
  },
  {
   "cell_type": "code",
   "execution_count": 6,
   "metadata": {
    "tags": []
   },
   "outputs": [
    {
     "data": {
      "text/html": [
       "<div>\n",
       "<style scoped>\n",
       "    .dataframe tbody tr th:only-of-type {\n",
       "        vertical-align: middle;\n",
       "    }\n",
       "\n",
       "    .dataframe tbody tr th {\n",
       "        vertical-align: top;\n",
       "    }\n",
       "\n",
       "    .dataframe thead th {\n",
       "        text-align: right;\n",
       "    }\n",
       "</style>\n",
       "<table border=\"1\" class=\"dataframe\">\n",
       "  <thead>\n",
       "    <tr style=\"text-align: right;\">\n",
       "      <th></th>\n",
       "      <th>essay_id</th>\n",
       "      <th>fold_k_5_seed_42</th>\n",
       "      <th>fold_k_5_seed_2020</th>\n",
       "      <th>fold_k_8_seed_42</th>\n",
       "      <th>fold_k_8_seed_2020</th>\n",
       "      <th>fold_k_10_seed_42</th>\n",
       "      <th>fold_k_10_seed_2020</th>\n",
       "    </tr>\n",
       "  </thead>\n",
       "  <tbody>\n",
       "    <tr>\n",
       "      <th>0</th>\n",
       "      <td>00066EA9880D</td>\n",
       "      <td>2</td>\n",
       "      <td>3</td>\n",
       "      <td>0</td>\n",
       "      <td>6</td>\n",
       "      <td>4</td>\n",
       "      <td>8</td>\n",
       "    </tr>\n",
       "    <tr>\n",
       "      <th>1</th>\n",
       "      <td>000E6DE9E817</td>\n",
       "      <td>2</td>\n",
       "      <td>1</td>\n",
       "      <td>5</td>\n",
       "      <td>3</td>\n",
       "      <td>4</td>\n",
       "      <td>9</td>\n",
       "    </tr>\n",
       "    <tr>\n",
       "      <th>2</th>\n",
       "      <td>0016926B079C</td>\n",
       "      <td>3</td>\n",
       "      <td>3</td>\n",
       "      <td>2</td>\n",
       "      <td>2</td>\n",
       "      <td>0</td>\n",
       "      <td>2</td>\n",
       "    </tr>\n",
       "    <tr>\n",
       "      <th>3</th>\n",
       "      <td>00203C45FC55</td>\n",
       "      <td>3</td>\n",
       "      <td>2</td>\n",
       "      <td>7</td>\n",
       "      <td>5</td>\n",
       "      <td>9</td>\n",
       "      <td>5</td>\n",
       "    </tr>\n",
       "    <tr>\n",
       "      <th>4</th>\n",
       "      <td>0029F4D19C3F</td>\n",
       "      <td>3</td>\n",
       "      <td>2</td>\n",
       "      <td>1</td>\n",
       "      <td>6</td>\n",
       "      <td>3</td>\n",
       "      <td>2</td>\n",
       "    </tr>\n",
       "  </tbody>\n",
       "</table>\n",
       "</div>"
      ],
      "text/plain": [
       "       essay_id  fold_k_5_seed_42  fold_k_5_seed_2020  fold_k_8_seed_42  \\\n",
       "0  00066EA9880D                 2                   3                 0   \n",
       "1  000E6DE9E817                 2                   1                 5   \n",
       "2  0016926B079C                 3                   3                 2   \n",
       "3  00203C45FC55                 3                   2                 7   \n",
       "4  0029F4D19C3F                 3                   2                 1   \n",
       "\n",
       "   fold_k_8_seed_2020  fold_k_10_seed_42  fold_k_10_seed_2020  \n",
       "0                   6                  4                    8  \n",
       "1                   3                  4                    9  \n",
       "2                   2                  0                    2  \n",
       "3                   5                  9                    5  \n",
       "4                   6                  3                    2  "
      ]
     },
     "execution_count": 6,
     "metadata": {},
     "output_type": "execute_result"
    }
   ],
   "source": [
    "folds = pd.read_csv('../input/feedback-folds/df_folds.csv')\n",
    "folds.head()"
   ]
  },
  {
   "cell_type": "code",
   "execution_count": 7,
   "metadata": {
    "tags": []
   },
   "outputs": [],
   "source": [
    "essay2fold = {i:f for i,f in zip(folds.essay_id.values.tolist(), folds.fold_k_5_seed_42.values.tolist())}"
   ]
  },
  {
   "cell_type": "code",
   "execution_count": 8,
   "metadata": {
    "tags": []
   },
   "outputs": [],
   "source": [
    "train['fold'] = [essay2fold[x] for x in train.essay_id.values.tolist()]"
   ]
  },
  {
   "cell_type": "code",
   "execution_count": 9,
   "metadata": {
    "tags": []
   },
   "outputs": [],
   "source": [
    "# train = train.sample(n=100, random_state=42)"
   ]
  },
  {
   "cell_type": "code",
   "execution_count": 10,
   "metadata": {
    "tags": []
   },
   "outputs": [],
   "source": [
    "train = train.reset_index(drop=True)"
   ]
  },
  {
   "cell_type": "code",
   "execution_count": 11,
   "metadata": {},
   "outputs": [],
   "source": [
    "models = [\n",
    "    'all-mpnet-base-v2', \n",
    "    'all-MiniLM-L6-v2',\n",
    "    'all-distilroberta-v1'\n",
    "]"
   ]
  },
  {
   "cell_type": "code",
   "execution_count": 12,
   "metadata": {
    "tags": []
   },
   "outputs": [
    {
     "name": "stderr",
     "output_type": "stream",
     "text": [
      "  0%|                                                                          | 0/3 [00:00<?, ?it/s]\n",
      "Downloading: 100%|██████████████████████████████████████████████| 1.18k/1.18k [00:00<00:00, 1.47MB/s]\u001b[A\n",
      "\n",
      "Downloading: 100%|███████████████████████████████████████████████████| 190/190 [00:00<00:00, 256kB/s]\u001b[A\n",
      "\n",
      "Downloading: 100%|██████████████████████████████████████████████| 10.6k/10.6k [00:00<00:00, 8.70MB/s]\u001b[A\n",
      "\n",
      "Downloading: 100%|███████████████████████████████████████████████████| 571/571 [00:00<00:00, 588kB/s]\u001b[A\n",
      "\n",
      "Downloading: 100%|███████████████████████████████████████████████████| 116/116 [00:00<00:00, 101kB/s]\u001b[A\n",
      "\n",
      "Downloading: 100%|██████████████████████████████████████████████| 39.3k/39.3k [00:00<00:00, 1.40MB/s]\u001b[A\n",
      "\n",
      "Downloading:   0%|                                                        | 0.00/438M [00:00<?, ?B/s]\u001b[A\n",
      "Downloading:   1%|▋                                              | 6.38M/438M [00:00<00:06, 63.8MB/s]\u001b[A\n",
      "Downloading:   4%|█▊                                             | 16.8M/438M [00:00<00:04, 87.9MB/s]\u001b[A\n",
      "Downloading:   6%|██▉                                            | 27.4M/438M [00:00<00:04, 96.1MB/s]\u001b[A\n",
      "Downloading:   9%|████▏                                           | 38.1M/438M [00:00<00:03, 100MB/s]\u001b[A\n",
      "Downloading:  11%|█████▎                                          | 48.7M/438M [00:00<00:03, 102MB/s]\u001b[A\n",
      "Downloading:  14%|██████▍                                         | 59.2M/438M [00:00<00:03, 103MB/s]\u001b[A\n",
      "Downloading:  16%|███████▋                                        | 69.8M/438M [00:00<00:03, 104MB/s]\u001b[A\n",
      "Downloading:  18%|████████▊                                       | 80.3M/438M [00:00<00:03, 105MB/s]\u001b[A\n",
      "Downloading:  21%|█████████▉                                      | 90.8M/438M [00:00<00:03, 103MB/s]\u001b[A\n",
      "Downloading:  23%|███████████▎                                     | 101M/438M [00:01<00:03, 104MB/s]\u001b[A\n",
      "Downloading:  26%|████████████▌                                    | 112M/438M [00:01<00:03, 105MB/s]\u001b[A\n",
      "Downloading:  28%|█████████████▋                                   | 123M/438M [00:01<00:02, 105MB/s]\u001b[A\n",
      "Downloading:  30%|██████████████▉                                  | 133M/438M [00:01<00:02, 105MB/s]\u001b[A\n",
      "Downloading:  33%|████████████████                                 | 144M/438M [00:01<00:02, 105MB/s]\u001b[A\n",
      "Downloading:  35%|█████████████████▎                               | 154M/438M [00:01<00:02, 106MB/s]\u001b[A\n",
      "Downloading:  38%|██████████████████▍                              | 165M/438M [00:01<00:02, 106MB/s]\u001b[A\n",
      "Downloading:  40%|███████████████████▋                             | 175M/438M [00:01<00:02, 106MB/s]\u001b[A\n",
      "Downloading:  42%|████████████████████▊                            | 186M/438M [00:01<00:02, 106MB/s]\u001b[A\n",
      "Downloading:  45%|██████████████████████                           | 197M/438M [00:01<00:02, 106MB/s]\u001b[A\n",
      "Downloading:  47%|███████████████████████▏                         | 207M/438M [00:02<00:02, 106MB/s]\u001b[A\n",
      "Downloading:  50%|████████████████████████▍                        | 218M/438M [00:02<00:02, 106MB/s]\u001b[A\n",
      "Downloading:  52%|█████████████████████████▌                       | 229M/438M [00:02<00:01, 106MB/s]\u001b[A\n",
      "Downloading:  55%|██████████████████████████▊                      | 239M/438M [00:02<00:01, 106MB/s]\u001b[A\n",
      "Downloading:  57%|███████████████████████████▉                     | 250M/438M [00:02<00:01, 106MB/s]\u001b[A\n",
      "Downloading:  59%|█████████████████████████████▏                   | 260M/438M [00:02<00:01, 106MB/s]\u001b[A\n",
      "Downloading:  62%|██████████████████████████████▎                  | 271M/438M [00:02<00:01, 106MB/s]\u001b[A\n",
      "Downloading:  64%|███████████████████████████████▍                 | 282M/438M [00:02<00:01, 106MB/s]\u001b[A\n",
      "Downloading:  67%|████████████████████████████████▋                | 292M/438M [00:02<00:01, 106MB/s]\u001b[A\n",
      "Downloading:  69%|█████████████████████████████████▊               | 303M/438M [00:02<00:01, 106MB/s]\u001b[A\n",
      "Downloading:  72%|███████████████████████████████████              | 313M/438M [00:03<00:01, 106MB/s]\u001b[A\n",
      "Downloading:  74%|████████████████████████████████████▏            | 324M/438M [00:03<00:01, 106MB/s]\u001b[A\n",
      "Downloading:  76%|█████████████████████████████████████▍           | 335M/438M [00:03<00:00, 105MB/s]\u001b[A\n",
      "Downloading:  79%|██████████████████████████████████████▌          | 345M/438M [00:03<00:00, 105MB/s]\u001b[A\n",
      "Downloading:  81%|███████████████████████████████████████▊         | 356M/438M [00:03<00:00, 105MB/s]\u001b[A\n",
      "Downloading:  84%|████████████████████████████████████████▉        | 366M/438M [00:03<00:00, 105MB/s]\u001b[A\n",
      "Downloading:  86%|██████████████████████████████████████████▏      | 377M/438M [00:03<00:00, 105MB/s]\u001b[A\n",
      "Downloading:  88%|███████████████████████████████████████████▎     | 387M/438M [00:03<00:00, 105MB/s]\u001b[A\n",
      "Downloading:  91%|████████████████████████████████████████████▍    | 398M/438M [00:03<00:00, 105MB/s]\u001b[A\n",
      "Downloading:  93%|█████████████████████████████████████████████▋   | 408M/438M [00:03<00:00, 104MB/s]\u001b[A\n",
      "Downloading:  96%|██████████████████████████████████████████████▊  | 419M/438M [00:04<00:00, 104MB/s]\u001b[A\n",
      "Downloading: 100%|█████████████████████████████████████████████████| 438M/438M [00:04<00:00, 104MB/s]\u001b[A\n",
      "\n",
      "Downloading: 100%|████████████████████████████████████████████████| 53.0/53.0 [00:00<00:00, 44.1kB/s]\u001b[A\n",
      "\n",
      "Downloading: 100%|███████████████████████████████████████████████████| 239/239 [00:00<00:00, 320kB/s]\u001b[A\n",
      "\n",
      "Downloading:   0%|                                                        | 0.00/466k [00:00<?, ?B/s]\u001b[A\n",
      "Downloading: 100%|████████████████████████████████████████████████| 466k/466k [00:00<00:00, 3.41MB/s]\u001b[A\n",
      "\n",
      "Downloading: 100%|███████████████████████████████████████████████████| 363/363 [00:00<00:00, 307kB/s]\u001b[A\n",
      "\n",
      "Downloading: 100%|███████████████████████████████████████████████| 13.1k/13.1k [00:00<00:00, 487kB/s]\u001b[A\n",
      "\n",
      "Downloading:   0%|                                                        | 0.00/232k [00:00<?, ?B/s]\u001b[A\n",
      "Downloading: 100%|████████████████████████████████████████████████| 232k/232k [00:00<00:00, 2.04MB/s]\u001b[A\n",
      "\n",
      "Downloading: 100%|███████████████████████████████████████████████████| 349/349 [00:00<00:00, 288kB/s]\u001b[A\n",
      " 33%|██████████████████████                                            | 1/3 [00:47<01:34, 47.39s/it]"
     ]
    },
    {
     "name": "stdout",
     "output_type": "stream",
     "text": [
      "all-mpnet-base-v2\n",
      "(36765, 768)\n"
     ]
    },
    {
     "name": "stderr",
     "output_type": "stream",
     "text": [
      " 67%|████████████████████████████████████████████                      | 2/3 [00:59<00:26, 26.44s/it]"
     ]
    },
    {
     "name": "stdout",
     "output_type": "stream",
     "text": [
      "all-MiniLM-L6-v2\n",
      "(36765, 384)\n"
     ]
    },
    {
     "name": "stderr",
     "output_type": "stream",
     "text": [
      "\n",
      "Downloading: 100%|███████████████████████████████████████████████████| 737/737 [00:00<00:00, 608kB/s]\u001b[A\n",
      "\n",
      "Downloading: 100%|███████████████████████████████████████████████████| 190/190 [00:00<00:00, 214kB/s]\u001b[A\n",
      "\n",
      "Downloading: 100%|██████████████████████████████████████████████| 10.3k/10.3k [00:00<00:00, 10.7MB/s]\u001b[A\n",
      "\n",
      "Downloading: 100%|███████████████████████████████████████████████████| 653/653 [00:00<00:00, 925kB/s]\u001b[A\n",
      "\n",
      "Downloading: 100%|███████████████████████████████████████████████████| 116/116 [00:00<00:00, 106kB/s]\u001b[A\n",
      "\n",
      "Downloading: 100%|███████████████████████████████████████████████| 15.7k/15.7k [00:00<00:00, 625kB/s]\u001b[A\n",
      "\n",
      "Downloading:   0%|                                                        | 0.00/456k [00:00<?, ?B/s]\u001b[A\n",
      "Downloading: 100%|████████████████████████████████████████████████| 456k/456k [00:00<00:00, 3.47MB/s]\u001b[A\n",
      "\n",
      "Downloading:   0%|                                                        | 0.00/329M [00:00<?, ?B/s]\u001b[A\n",
      "Downloading:   0%|▏                                              | 1.54M/329M [00:00<00:21, 15.4MB/s]\u001b[A\n",
      "Downloading:   1%|▌                                              | 4.32M/329M [00:00<00:14, 22.5MB/s]\u001b[A\n",
      "Downloading:   3%|█▏                                             | 8.73M/329M [00:00<00:09, 32.3MB/s]\u001b[A\n",
      "Downloading:   5%|██▏                                            | 15.6M/329M [00:00<00:06, 46.6MB/s]\u001b[A\n",
      "Downloading:   7%|███▍                                           | 24.1M/329M [00:00<00:05, 60.3MB/s]\u001b[A\n",
      "Downloading:  10%|████▋                                          | 32.6M/329M [00:00<00:04, 68.8MB/s]\u001b[A\n",
      "Downloading:  13%|█████▉                                         | 41.1M/329M [00:00<00:03, 74.1MB/s]\u001b[A\n",
      "Downloading:  15%|███████                                        | 49.2M/329M [00:00<00:03, 76.3MB/s]\u001b[A\n",
      "Downloading:  18%|████████▎                                      | 57.7M/329M [00:00<00:03, 79.1MB/s]\u001b[A\n",
      "Downloading:  21%|█████████▋                                     | 68.1M/329M [00:01<00:03, 86.8MB/s]\u001b[A\n",
      "Downloading:  24%|███████████▏                                   | 78.5M/329M [00:01<00:02, 92.0MB/s]\u001b[A\n",
      "Downloading:  27%|████████████▋                                  | 89.0M/329M [00:01<00:02, 96.0MB/s]\u001b[A\n",
      "Downloading:  30%|██████████████▏                                | 99.6M/329M [00:01<00:02, 98.9MB/s]\u001b[A\n",
      "Downloading:  33%|████████████████▍                                | 110M/329M [00:01<00:02, 101MB/s]\u001b[A\n",
      "Downloading:  37%|█████████████████▉                               | 121M/329M [00:01<00:02, 102MB/s]\u001b[A\n",
      "Downloading:  40%|███████████████████▌                             | 131M/329M [00:01<00:01, 103MB/s]\u001b[A\n",
      "Downloading:  43%|█████████████████████▏                           | 142M/329M [00:01<00:01, 104MB/s]\u001b[A\n",
      "Downloading:  46%|██████████████████████▋                          | 152M/329M [00:01<00:01, 104MB/s]\u001b[A\n",
      "Downloading:  49%|████████████████████████▏                        | 163M/329M [00:01<00:01, 104MB/s]\u001b[A\n",
      "Downloading:  53%|█████████████████████████▊                       | 173M/329M [00:02<00:01, 104MB/s]\u001b[A\n",
      "Downloading:  56%|███████████████████████████▎                     | 184M/329M [00:02<00:01, 104MB/s]\u001b[A\n",
      "Downloading:  59%|████████████████████████████▉                    | 194M/329M [00:02<00:01, 105MB/s]\u001b[A\n",
      "Downloading:  62%|██████████████████████████████▌                  | 205M/329M [00:02<00:01, 105MB/s]\u001b[A\n",
      "Downloading:  66%|████████████████████████████████                 | 215M/329M [00:02<00:01, 105MB/s]\u001b[A\n",
      "Downloading:  69%|█████████████████████████████████▋               | 226M/329M [00:02<00:00, 105MB/s]\u001b[A\n",
      "Downloading:  72%|███████████████████████████████████▏             | 236M/329M [00:02<00:00, 105MB/s]\u001b[A\n",
      "Downloading:  75%|████████████████████████████████████▊            | 247M/329M [00:02<00:00, 105MB/s]\u001b[A\n",
      "Downloading:  78%|██████████████████████████████████████▍          | 257M/329M [00:02<00:00, 105MB/s]\u001b[A\n",
      "Downloading:  82%|███████████████████████████████████████▉         | 268M/329M [00:02<00:00, 105MB/s]\u001b[A\n",
      "Downloading:  85%|█████████████████████████████████████████▌       | 278M/329M [00:03<00:00, 105MB/s]\u001b[A\n",
      "Downloading:  88%|███████████████████████████████████████████      | 289M/329M [00:03<00:00, 105MB/s]\u001b[A\n",
      "Downloading:  91%|████████████████████████████████████████████▋    | 300M/329M [00:03<00:00, 105MB/s]\u001b[A\n",
      "Downloading:  94%|██████████████████████████████████████████████▎  | 310M/329M [00:03<00:00, 105MB/s]\u001b[A\n",
      "Downloading: 100%|████████████████████████████████████████████████| 329M/329M [00:03<00:00, 94.4MB/s]\u001b[A\n",
      "\n",
      "Downloading: 100%|████████████████████████████████████████████████| 53.0/53.0 [00:00<00:00, 58.9kB/s]\u001b[A\n",
      "\n",
      "Downloading: 100%|███████████████████████████████████████████████████| 239/239 [00:00<00:00, 273kB/s]\u001b[A\n",
      "\n",
      "Downloading:   0%|                                                       | 0.00/1.36M [00:00<?, ?B/s]\u001b[A\n",
      "Downloading: 100%|██████████████████████████████████████████████| 1.36M/1.36M [00:00<00:00, 7.58MB/s]\u001b[A\n",
      "\n",
      "Downloading: 100%|███████████████████████████████████████████████████| 333/333 [00:00<00:00, 385kB/s]\u001b[A\n",
      "\n",
      "Downloading: 100%|██████████████████████████████████████████████| 13.1k/13.1k [00:00<00:00, 8.08MB/s]\u001b[A\n",
      "\n",
      "Downloading:   0%|                                                        | 0.00/798k [00:00<?, ?B/s]\u001b[A\n",
      "Downloading: 100%|████████████████████████████████████████████████| 798k/798k [00:00<00:00, 5.53MB/s]\u001b[A\n",
      "\n",
      "Downloading: 100%|███████████████████████████████████████████████████| 349/349 [00:00<00:00, 324kB/s]\u001b[A\n",
      "100%|██████████████████████████████████████████████████████████████████| 3/3 [01:27<00:00, 29.27s/it]"
     ]
    },
    {
     "name": "stdout",
     "output_type": "stream",
     "text": [
      "all-distilroberta-v1\n",
      "(36765, 768)\n"
     ]
    },
    {
     "name": "stderr",
     "output_type": "stream",
     "text": [
      "\n"
     ]
    }
   ],
   "source": [
    "from tqdm.auto import tqdm\n",
    "\n",
    "#Our sentences we like to encode\n",
    "sentences = train.discourse_text.values.tolist()\n",
    "\n",
    "#Sentences are encoded by calling model.encode()\n",
    "all_embeddings = []\n",
    "\n",
    "for checkpoint in tqdm(models):\n",
    "    model = SentenceTransformer(checkpoint)\n",
    "    embeddings = model.encode(sentences)\n",
    "    all_embeddings.append(embeddings)\n",
    "    print(checkpoint)\n",
    "    print(embeddings.shape)"
   ]
  },
  {
   "cell_type": "code",
   "execution_count": 13,
   "metadata": {},
   "outputs": [
    {
     "data": {
      "text/plain": [
       "(36765, 1920)"
      ]
     },
     "execution_count": 13,
     "metadata": {},
     "output_type": "execute_result"
    }
   ],
   "source": [
    "embeddings = np.concatenate(all_embeddings, axis=1)\n",
    "embeddings.shape"
   ]
  },
  {
   "cell_type": "code",
   "execution_count": 14,
   "metadata": {
    "tags": []
   },
   "outputs": [],
   "source": [
    "# from cuml.svm import SVC\n",
    "# from sklearn.preprocessing import StandardScaler\n",
    "# import gc\n",
    "# from tqdm.auto import tqdm\n",
    "\n",
    "# num_labels = 3\n",
    "\n",
    "# def fit_gpu_svc(TRAIN, kfoldcol='fold'):\n",
    "    \n",
    "#     ypredtrain_ = np.zeros((train.shape[0], num_labels))\n",
    "\n",
    "#     for fold in tqdm(range(train[kfoldcol].max()+1)):\n",
    "#         ind_train = train[kfoldcol] != fold\n",
    "#         ind_valid = train[kfoldcol] == fold\n",
    "\n",
    "#         model = SVC(C=16.0, kernel='rbf', degree=3, max_iter=4000, output_type='numpy', probability=True)\n",
    "#         model.fit(TRAIN[ind_train], train.target[ind_train])\n",
    "\n",
    "#         ypredtrain_[ind_valid] = model.predict_proba(TRAIN[ind_valid])\n",
    "        \n",
    "#         del model\n",
    "#         gc.collect()\n",
    "\n",
    "#     return ypredtrain_"
   ]
  },
  {
   "cell_type": "code",
   "execution_count": 18,
   "metadata": {
    "tags": []
   },
   "outputs": [
    {
     "data": {
      "text/plain": [
       "[array(['Claim', 'Concluding Statement', 'Counterclaim', 'Evidence',\n",
       "        'Lead', 'Position', 'Rebuttal'], dtype=object)]"
      ]
     },
     "execution_count": 18,
     "metadata": {},
     "output_type": "execute_result"
    }
   ],
   "source": [
    "from sklearn.preprocessing import OneHotEncoder\n",
    "enc = OneHotEncoder(handle_unknown='ignore')\n",
    "X = train.discourse_type.values.reshape(-1,1)\n",
    "enc.fit(X)\n",
    "enc.categories_"
   ]
  },
  {
   "cell_type": "code",
   "execution_count": 19,
   "metadata": {
    "tags": []
   },
   "outputs": [],
   "source": [
    "labels = enc.transform(train.discourse_type.values.reshape(-1,1)).toarray()"
   ]
  },
  {
   "cell_type": "code",
   "execution_count": 20,
   "metadata": {
    "tags": []
   },
   "outputs": [
    {
     "data": {
      "text/plain": [
       "((36765, 1927), (36765, 7), (36765, 1920))"
      ]
     },
     "execution_count": 20,
     "metadata": {},
     "output_type": "execute_result"
    }
   ],
   "source": [
    "features = np.concatenate([labels, embeddings], axis=-1)\n",
    "features.shape, labels.shape, embeddings.shape"
   ]
  },
  {
   "cell_type": "code",
   "execution_count": 21,
   "metadata": {},
   "outputs": [],
   "source": [
    "import pickle\n",
    "with open('features.pkl', 'wb') as file:\n",
    "    pickle.dump(features, file)"
   ]
  },
  {
   "cell_type": "code",
   "execution_count": 55,
   "metadata": {
    "execution": {
     "iopub.execute_input": "2022-08-10T23:36:48.709988Z",
     "iopub.status.busy": "2022-08-10T23:36:48.709598Z",
     "iopub.status.idle": "2022-08-10T23:39:49.139561Z",
     "shell.execute_reply": "2022-08-10T23:39:49.138334Z",
     "shell.execute_reply.started": "2022-08-10T23:36:48.709956Z"
    }
   },
   "outputs": [
    {
     "data": {
      "application/vnd.jupyter.widget-view+json": {
       "model_id": "46ae188e481d474e980c0b942569f95f",
       "version_major": 2,
       "version_minor": 0
      },
      "text/plain": [
       "  0%|          | 0/5 [00:00<?, ?it/s]"
      ]
     },
     "metadata": {},
     "output_type": "display_data"
    },
    {
     "name": "stdout",
     "output_type": "stream",
     "text": [
      "0.7944317400865349\n"
     ]
    }
   ],
   "source": [
    "from sklearn.metrics import log_loss\n",
    "TRAIN = features\n",
    "\n",
    "ypredtrain = fit_gpu_svc(TRAIN, 'fold')\n",
    "print(log_loss(train.target,ypredtrain)) "
   ]
  },
  {
   "cell_type": "code",
   "execution_count": 66,
   "metadata": {
    "execution": {
     "iopub.execute_input": "2022-08-10T23:46:55.237790Z",
     "iopub.status.busy": "2022-08-10T23:46:55.237032Z",
     "iopub.status.idle": "2022-08-10T23:46:55.242512Z",
     "shell.execute_reply": "2022-08-10T23:46:55.241405Z",
     "shell.execute_reply.started": "2022-08-10T23:46:55.237751Z"
    }
   },
   "outputs": [],
   "source": [
    "# is it better than naive baseline? seems yes, see below. "
   ]
  },
  {
   "cell_type": "code",
   "execution_count": 61,
   "metadata": {
    "execution": {
     "iopub.execute_input": "2022-08-10T23:41:11.348684Z",
     "iopub.status.busy": "2022-08-10T23:41:11.348006Z",
     "iopub.status.idle": "2022-08-10T23:41:11.361388Z",
     "shell.execute_reply": "2022-08-10T23:41:11.359908Z",
     "shell.execute_reply.started": "2022-08-10T23:41:11.348645Z"
    }
   },
   "outputs": [
    {
     "data": {
      "text/plain": [
       "Adequate       0.570570\n",
       "Effective      0.253665\n",
       "Ineffective    0.175765\n",
       "Name: discourse_effectiveness, dtype: float64"
      ]
     },
     "execution_count": 61,
     "metadata": {},
     "output_type": "execute_result"
    }
   ],
   "source": [
    "train.discourse_effectiveness.value_counts()/len(train)"
   ]
  },
  {
   "cell_type": "code",
   "execution_count": 62,
   "metadata": {
    "execution": {
     "iopub.execute_input": "2022-08-10T23:42:17.231049Z",
     "iopub.status.busy": "2022-08-10T23:42:17.230144Z",
     "iopub.status.idle": "2022-08-10T23:42:17.244940Z",
     "shell.execute_reply": "2022-08-10T23:42:17.243499Z",
     "shell.execute_reply.started": "2022-08-10T23:42:17.231008Z"
    }
   },
   "outputs": [],
   "source": [
    "baseline = np.array([0.175765, 0.570570, 0.253665]*len(train)).reshape(len(train), 3)"
   ]
  },
  {
   "cell_type": "code",
   "execution_count": 63,
   "metadata": {
    "execution": {
     "iopub.execute_input": "2022-08-10T23:42:20.074238Z",
     "iopub.status.busy": "2022-08-10T23:42:20.073311Z",
     "iopub.status.idle": "2022-08-10T23:42:20.083618Z",
     "shell.execute_reply": "2022-08-10T23:42:20.082305Z",
     "shell.execute_reply.started": "2022-08-10T23:42:20.074190Z"
    }
   },
   "outputs": [
    {
     "data": {
      "text/plain": [
       "(36765, 3)"
      ]
     },
     "execution_count": 63,
     "metadata": {},
     "output_type": "execute_result"
    }
   ],
   "source": [
    "baseline.shape"
   ]
  },
  {
   "cell_type": "code",
   "execution_count": 65,
   "metadata": {
    "execution": {
     "iopub.execute_input": "2022-08-10T23:42:37.962256Z",
     "iopub.status.busy": "2022-08-10T23:42:37.961726Z",
     "iopub.status.idle": "2022-08-10T23:42:37.997324Z",
     "shell.execute_reply": "2022-08-10T23:42:37.995871Z",
     "shell.execute_reply.started": "2022-08-10T23:42:37.962212Z"
    }
   },
   "outputs": [
    {
     "name": "stdout",
     "output_type": "stream",
     "text": [
      "0.9737069926259393\n"
     ]
    }
   ],
   "source": [
    "print(log_loss(train.target,baseline)) "
   ]
  },
  {
   "cell_type": "code",
   "execution_count": null,
   "metadata": {},
   "outputs": [],
   "source": [
    "model = 'sentence-transformers/all-mpnet-base-v2'"
   ]
  }
 ],
 "metadata": {
  "kernelspec": {
   "display_name": "Python 3 (ipykernel)",
   "language": "python",
   "name": "python3"
  },
  "language_info": {
   "codemirror_mode": {
    "name": "ipython",
    "version": 3
   },
   "file_extension": ".py",
   "mimetype": "text/x-python",
   "name": "python",
   "nbconvert_exporter": "python",
   "pygments_lexer": "ipython3",
   "version": "3.8.13"
  }
 },
 "nbformat": 4,
 "nbformat_minor": 4
}
